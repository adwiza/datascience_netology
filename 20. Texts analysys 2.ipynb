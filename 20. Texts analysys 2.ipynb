{
 "cells": [
  {
   "cell_type": "markdown",
   "id": "7634f884",
   "metadata": {},
   "source": [
    "## Синтаксический анализ"
   ]
  },
  {
   "cell_type": "code",
   "execution_count": 1,
   "id": "eacf8882",
   "metadata": {},
   "outputs": [
    {
     "name": "stderr",
     "output_type": "stream",
     "text": [
      "[nltk_data] Downloading package punkt to D:\\nltk_data...\n",
      "[nltk_data]   Package punkt is already up-to-date!\n",
      "[nltk_data] Downloading package stopwords to D:\\nltk_data...\n",
      "[nltk_data]   Package stopwords is already up-to-date!\n"
     ]
    }
   ],
   "source": [
    "# NLP libs dependence\n",
    "import pandas as pd\n",
    "import matplotlib.pyplot as plt\n",
    "import numpy as np\n",
    "import codecs\n",
    "import nltk\n",
    "from nltk import DependencyGraph\n",
    "nltk.download('punkt')\n",
    "nltk.download('stopwords')\n",
    "from pymorphy2 import MorphAnalyzer\n",
    "from pymystem3 import Mystem\n"
   ]
  },
  {
   "cell_type": "code",
   "execution_count": 2,
   "id": "c539291d",
   "metadata": {},
   "outputs": [],
   "source": [
    "text = ' '.join([line.strip() for line in open('datasets/nlp/task5.txt', encoding='utf8')])"
   ]
  },
  {
   "cell_type": "code",
   "execution_count": 3,
   "id": "ef726f7e",
   "metadata": {},
   "outputs": [
    {
     "data": {
      "text/plain": [
       "'Собянин открыл новый парк и детскую площадку .  Артисты театра посетят  Германию и Швейцарию .  РЖД начнет продавать билеты за 90 дней до отправления поезда .  Минтранс запретил провозить через Крымский мост оружие и взрывчатку .  Дональд Трамп едет в Польшу  Ургант в образе принцессы спел о допинговом скандале '"
      ]
     },
     "execution_count": 3,
     "metadata": {},
     "output_type": "execute_result"
    }
   ],
   "source": [
    "text"
   ]
  },
  {
   "cell_type": "code",
   "execution_count": 4,
   "id": "e2b112f9",
   "metadata": {},
   "outputs": [],
   "source": [
    "processed_sentences = []\n",
    "sentence = []\n",
    "for line in codecs.open('sentences2.conll', 'r', 'utf-8'):\n",
    "    if len(line) == 1:\n",
    "        processed_sentences.append(sentence)\n",
    "        sentence = []\n",
    "    else:\n",
    "        word = line.split('\\t')\n",
    "        sentence.append(word)\n",
    "\n",
    "deps = []\n",
    "for sentence in processed_sentences:\n",
    "    s = u\"\"\n",
    "    for line in sentence:\n",
    "        s += u\"\\t\".join(line) + u\"\\n\"\n",
    "    deps.append(s)"
   ]
  },
  {
   "cell_type": "markdown",
   "id": "ffcc21d8",
   "metadata": {},
   "source": [
    "##### Синтаксические деревья "
   ]
  },
  {
   "cell_type": "code",
   "execution_count": 5,
   "id": "3f88b2c7",
   "metadata": {},
   "outputs": [],
   "source": [
    "for sent_dep in deps:\n",
    "    graph = DependencyGraph(tree_str=sent_dep)\n",
    "    tree = graph.tree()\n",
    "    print(tree.pretty_print())"
   ]
  },
  {
   "cell_type": "code",
   "execution_count": null,
   "id": "88ea8b14",
   "metadata": {},
   "outputs": [],
   "source": []
  }
 ],
 "metadata": {
  "kernelspec": {
   "display_name": "Python 3 (ipykernel)",
   "language": "python",
   "name": "python3"
  },
  "language_info": {
   "codemirror_mode": {
    "name": "ipython",
    "version": 3
   },
   "file_extension": ".py",
   "mimetype": "text/x-python",
   "name": "python",
   "nbconvert_exporter": "python",
   "pygments_lexer": "ipython3",
   "version": "3.8.8"
  },
  "toc": {
   "base_numbering": 1,
   "nav_menu": {},
   "number_sections": false,
   "sideBar": true,
   "skip_h1_title": false,
   "title_cell": "Table of Contents",
   "title_sidebar": "Contents",
   "toc_cell": false,
   "toc_position": {},
   "toc_section_display": true,
   "toc_window_display": false
  }
 },
 "nbformat": 4,
 "nbformat_minor": 5
}
