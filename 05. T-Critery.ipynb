{
 "cells": [
  {
   "cell_type": "markdown",
   "id": "cbb699f7",
   "metadata": {},
   "source": [
    "# Сравнение средних"
   ]
  },
  {
   "cell_type": "code",
   "execution_count": 1,
   "id": "41ede399",
   "metadata": {},
   "outputs": [],
   "source": [
    "from scipy import stats\n",
    "import pandas as pd\n",
    "import numpy as np\n",
    "import matplotlib.pyplot as plt"
   ]
  },
  {
   "cell_type": "markdown",
   "id": "6825e51e",
   "metadata": {},
   "source": [
    "$H_0$ : среднее значение X равно некоторому известному значению m\n",
    "\n",
    "t-статистика\n",
    "\n",
    "\\begin{equation*}\n",
    "\\LARGE\n",
    "t = \\frac{\\overline{X} - m}{S_X / \\sqrt{n}}\n",
    "\\end{equation*}"
   ]
  },
  {
   "cell_type": "markdown",
   "id": "782b6072",
   "metadata": {},
   "source": [
    "\\begin{equation*}\n",
    "\\LARGE\n",
    "s^2_X = \\frac{ \\sum_{t=1}^n (X_t - \\overline{X})^2 }{(n - 1)}\n",
    "\\end{equation*}"
   ]
  },
  {
   "cell_type": "markdown",
   "id": "56e88552",
   "metadata": {},
   "source": [
    "### Одновыборочный критерий"
   ]
  },
  {
   "cell_type": "code",
   "execution_count": 4,
   "id": "0339f000",
   "metadata": {},
   "outputs": [
    {
     "data": {
      "text/html": [
       "<div>\n",
       "<style scoped>\n",
       "    .dataframe tbody tr th:only-of-type {\n",
       "        vertical-align: middle;\n",
       "    }\n",
       "\n",
       "    .dataframe tbody tr th {\n",
       "        vertical-align: top;\n",
       "    }\n",
       "\n",
       "    .dataframe thead th {\n",
       "        text-align: right;\n",
       "    }\n",
       "</style>\n",
       "<table border=\"1\" class=\"dataframe\">\n",
       "  <thead>\n",
       "    <tr style=\"text-align: right;\">\n",
       "      <th></th>\n",
       "      <th>index</th>\n",
       "      <th>height_inches</th>\n",
       "      <th>weight_pounds</th>\n",
       "      <th>height</th>\n",
       "    </tr>\n",
       "  </thead>\n",
       "  <tbody>\n",
       "    <tr>\n",
       "      <th>0</th>\n",
       "      <td>1</td>\n",
       "      <td>65.78331</td>\n",
       "      <td>112.9925</td>\n",
       "      <td>167.089607</td>\n",
       "    </tr>\n",
       "    <tr>\n",
       "      <th>1</th>\n",
       "      <td>2</td>\n",
       "      <td>71.51521</td>\n",
       "      <td>136.4873</td>\n",
       "      <td>181.648633</td>\n",
       "    </tr>\n",
       "    <tr>\n",
       "      <th>2</th>\n",
       "      <td>3</td>\n",
       "      <td>69.39874</td>\n",
       "      <td>153.0269</td>\n",
       "      <td>176.272800</td>\n",
       "    </tr>\n",
       "    <tr>\n",
       "      <th>3</th>\n",
       "      <td>4</td>\n",
       "      <td>68.21660</td>\n",
       "      <td>142.3354</td>\n",
       "      <td>173.270164</td>\n",
       "    </tr>\n",
       "    <tr>\n",
       "      <th>4</th>\n",
       "      <td>5</td>\n",
       "      <td>67.78781</td>\n",
       "      <td>144.2971</td>\n",
       "      <td>172.181037</td>\n",
       "    </tr>\n",
       "  </tbody>\n",
       "</table>\n",
       "</div>"
      ],
      "text/plain": [
       "   index  height_inches  weight_pounds      height\n",
       "0      1       65.78331       112.9925  167.089607\n",
       "1      2       71.51521       136.4873  181.648633\n",
       "2      3       69.39874       153.0269  176.272800\n",
       "3      4       68.21660       142.3354  173.270164\n",
       "4      5       67.78781       144.2971  172.181037"
      ]
     },
     "execution_count": 4,
     "metadata": {},
     "output_type": "execute_result"
    }
   ],
   "source": [
    "data = pd.read_csv('datasets/hw_25000.csv', names=['index', 'height_inches', 'weight_pounds'], header=0)\n",
    "data['height'] = data['height_inches'] * 2.54\n",
    "data.head()"
   ]
  },
  {
   "cell_type": "code",
   "execution_count": null,
   "id": "46003f71",
   "metadata": {},
   "outputs": [],
   "source": []
  }
 ],
 "metadata": {
  "kernelspec": {
   "display_name": "Python 3",
   "language": "python",
   "name": "python3"
  },
  "language_info": {
   "codemirror_mode": {
    "name": "ipython",
    "version": 3
   },
   "file_extension": ".py",
   "mimetype": "text/x-python",
   "name": "python",
   "nbconvert_exporter": "python",
   "pygments_lexer": "ipython3",
   "version": "3.8.8"
  }
 },
 "nbformat": 4,
 "nbformat_minor": 5
}
