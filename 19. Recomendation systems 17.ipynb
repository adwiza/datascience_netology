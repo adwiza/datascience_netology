{
 "cells": [
  {
   "cell_type": "code",
   "execution_count": 1,
   "id": "828d35b0",
   "metadata": {},
   "outputs": [],
   "source": [
    "import pandas as pd\n",
    "\n",
    "movies = pd.read_csv('C:/Users/adwiz/Documents/Courses/datascience_netology/datasets/ml-data/movies.csv')"
   ]
  },
  {
   "cell_type": "code",
   "execution_count": 2,
   "id": "c442cd3b",
   "metadata": {},
   "outputs": [
    {
     "data": {
      "text/html": [
       "<div>\n",
       "<style scoped>\n",
       "    .dataframe tbody tr th:only-of-type {\n",
       "        vertical-align: middle;\n",
       "    }\n",
       "\n",
       "    .dataframe tbody tr th {\n",
       "        vertical-align: top;\n",
       "    }\n",
       "\n",
       "    .dataframe thead th {\n",
       "        text-align: right;\n",
       "    }\n",
       "</style>\n",
       "<table border=\"1\" class=\"dataframe\">\n",
       "  <thead>\n",
       "    <tr style=\"text-align: right;\">\n",
       "      <th></th>\n",
       "      <th>genre</th>\n",
       "      <th>movieId</th>\n",
       "      <th>genre_id</th>\n",
       "    </tr>\n",
       "  </thead>\n",
       "  <tbody>\n",
       "    <tr>\n",
       "      <th>0</th>\n",
       "      <td>Adventure</td>\n",
       "      <td>1</td>\n",
       "      <td>2</td>\n",
       "    </tr>\n",
       "    <tr>\n",
       "      <th>1</th>\n",
       "      <td>Animation</td>\n",
       "      <td>1</td>\n",
       "      <td>3</td>\n",
       "    </tr>\n",
       "    <tr>\n",
       "      <th>2</th>\n",
       "      <td>Children</td>\n",
       "      <td>1</td>\n",
       "      <td>4</td>\n",
       "    </tr>\n",
       "    <tr>\n",
       "      <th>3</th>\n",
       "      <td>Comedy</td>\n",
       "      <td>1</td>\n",
       "      <td>5</td>\n",
       "    </tr>\n",
       "    <tr>\n",
       "      <th>4</th>\n",
       "      <td>Fantasy</td>\n",
       "      <td>1</td>\n",
       "      <td>9</td>\n",
       "    </tr>\n",
       "  </tbody>\n",
       "</table>\n",
       "</div>"
      ],
      "text/plain": [
       "       genre  movieId  genre_id\n",
       "0  Adventure        1         2\n",
       "1  Animation        1         3\n",
       "2   Children        1         4\n",
       "3     Comedy        1         5\n",
       "4    Fantasy        1         9"
      ]
     },
     "execution_count": 2,
     "metadata": {},
     "output_type": "execute_result"
    }
   ],
   "source": [
    "rows = []\n",
    "for _, row in movies.iterrows():\n",
    "    for genre in row['genres'].split('|'):\n",
    "        rows.append([genre, row['movieId']])\n",
    "\n",
    "movies_genres = pd.DataFrame(rows, columns=['genre', 'movieId'])\n",
    "movies_genres['genre_id'] = movies_genres['genre'].astype('category').cat.codes.copy()\n",
    "movies_genres.head()"
   ]
  },
  {
   "cell_type": "code",
   "execution_count": 3,
   "id": "2c6e20c7",
   "metadata": {},
   "outputs": [],
   "source": [
    "ratings = pd.read_csv('C:/Users/adwiz/Documents/Courses/datascience_netology/datasets/ml-data/ratings.csv')"
   ]
  },
  {
   "cell_type": "code",
   "execution_count": 4,
   "id": "c7a22dbf",
   "metadata": {},
   "outputs": [],
   "source": [
    "from scipy.sparse import coo_matrix\n",
    "import numpy as np\n",
    "\n",
    "user_item_matrix = coo_matrix(\n",
    "    ((ratings['rating'] >= 4).astype(np.float32),\n",
    "     (ratings['userId'], ratings['movieId'])),\n",
    "    shape = (\n",
    "        ratings['userId'].unique().max() + 1,\n",
    "        movies['movieId'].unique().max() + 1\n",
    "    )\n",
    ")\n",
    "user_item_matrix.eliminate_zeros() # удалить нулевые записи из матрицы"
   ]
  },
  {
   "cell_type": "code",
   "execution_count": 5,
   "id": "79709a71",
   "metadata": {},
   "outputs": [],
   "source": [
    "# делим разреженную матрицу на обучающую и тестовую\n",
    "total_len = user_item_matrix.data.size\n",
    "train_len = int(total_len * .8)\n",
    "all_indices = np.arange(total_len)\n",
    "np.random.seed(42)\n",
    "train_indices = np.random.choice(all_indices, train_len, replace=False)\n",
    "train_mask = np.in1d(all_indices, train_indices)"
   ]
  },
  {
   "cell_type": "code",
   "execution_count": 6,
   "id": "79fbcd87",
   "metadata": {},
   "outputs": [],
   "source": [
    "def get_masked(arr, mask):\n",
    "    return coo_matrix(\n",
    "        (\n",
    "            [np.float32(item) for item in arr.data[mask]],\n",
    "            (arr.row[mask], arr.col[mask])\n",
    "        ),\n",
    "        arr.shape\n",
    "    )"
   ]
  },
  {
   "cell_type": "code",
   "execution_count": 7,
   "id": "d4a9c5c0",
   "metadata": {},
   "outputs": [],
   "source": [
    "train = get_masked(user_item_matrix, train_mask)\n",
    "test = get_masked(user_item_matrix, ~train_mask)"
   ]
  },
  {
   "cell_type": "code",
   "execution_count": 8,
   "id": "75f43c7f",
   "metadata": {},
   "outputs": [],
   "source": [
    "from scipy.sparse import save_npz\n",
    "\n",
    "save_npz('C:/Users/adwiz/Documents/Courses/datascience_netology/other/lightfm_train.npz', train)\n",
    "save_npz('C:/Users/adwiz/Documents/Courses/datascience_netology/other/lightfm_test.npz', test)"
   ]
  },
  {
   "cell_type": "code",
   "execution_count": 9,
   "id": "69dd426a",
   "metadata": {},
   "outputs": [
    {
     "name": "stderr",
     "output_type": "stream",
     "text": [
      "C:\\Users\\adwiz\\anaconda3\\lib\\site-packages\\lightfm\\_lightfm_fast.py:9: UserWarning: LightFM was compiled without OpenMP support. Only a single thread will be used.\n",
      "  warnings.warn(\n"
     ]
    }
   ],
   "source": [
    "from lightfm import LightFM\n",
    "\n",
    "fm = LightFM()"
   ]
  },
  {
   "cell_type": "code",
   "execution_count": 10,
   "id": "51aae6a0",
   "metadata": {},
   "outputs": [
    {
     "name": "stderr",
     "output_type": "stream",
     "text": [
      "Epoch: 100%|█████████████████████████████████████████████████████████████████████████| 100/100 [52:54<00:00, 31.75s/it]"
     ]
    },
    {
     "name": "stdout",
     "output_type": "stream",
     "text": [
      "CPU times: total: 52min 54s\n",
      "Wall time: 52min 55s\n"
     ]
    },
    {
     "name": "stderr",
     "output_type": "stream",
     "text": [
      "\n"
     ]
    },
    {
     "data": {
      "text/plain": [
       "<lightfm.lightfm.LightFM at 0x26610e3fd90>"
      ]
     },
     "execution_count": 10,
     "metadata": {},
     "output_type": "execute_result"
    }
   ],
   "source": [
    "%%time\n",
    "fm.fit(\n",
    "    interactions=train,\n",
    "    epochs=100,\n",
    "    num_threads=12,\n",
    "    verbose=True\n",
    ")"
   ]
  },
  {
   "cell_type": "code",
   "execution_count": 11,
   "id": "f421c560",
   "metadata": {},
   "outputs": [
    {
     "data": {
      "text/plain": [
       "{'loss': 'logistic',\n",
       " 'learning_schedule': 'adagrad',\n",
       " 'no_components': 10,\n",
       " 'learning_rate': 0.05,\n",
       " 'k': 5,\n",
       " 'n': 10,\n",
       " 'rho': 0.95,\n",
       " 'epsilon': 1e-06,\n",
       " 'max_sampled': 10,\n",
       " 'item_alpha': 0.0,\n",
       " 'user_alpha': 0.0,\n",
       " 'random_state': RandomState(MT19937) at 0x26610DB9840}"
      ]
     },
     "execution_count": 11,
     "metadata": {},
     "output_type": "execute_result"
    }
   ],
   "source": [
    "fm.get_params()"
   ]
  },
  {
   "cell_type": "code",
   "execution_count": 12,
   "id": "c15d4eb0",
   "metadata": {},
   "outputs": [
    {
     "name": "stdout",
     "output_type": "stream",
     "text": [
      "CPU times: total: 1h 18min 58s\n",
      "Wall time: 1h 18min 58s\n"
     ]
    }
   ],
   "source": [
    "%%time\n",
    "from lightfm.evaluation import reciprocal_rank\n",
    "\n",
    "rr = reciprocal_rank(\n",
    "    model=fm,\n",
    "    test_interactions=test,\n",
    "    train_interactions=train,\n",
    "    num_threads=12\n",
    ")"
   ]
  },
  {
   "cell_type": "code",
   "execution_count": 13,
   "id": "fa3969be",
   "metadata": {},
   "outputs": [
    {
     "data": {
      "text/plain": [
       "0.22738948"
      ]
     },
     "execution_count": 13,
     "metadata": {},
     "output_type": "execute_result"
    }
   ],
   "source": [
    "rr.mean()"
   ]
  },
  {
   "cell_type": "code",
   "execution_count": 15,
   "id": "18225e52",
   "metadata": {},
   "outputs": [
    {
     "name": "stderr",
     "output_type": "stream",
     "text": [
      "Epoch: 100%|█████████████████████████████████████████████████████████████████████████| 100/100 [52:50<00:00, 31.71s/it]"
     ]
    },
    {
     "name": "stdout",
     "output_type": "stream",
     "text": [
      "CPU times: total: 52min 50s\n",
      "Wall time: 52min 50s\n"
     ]
    },
    {
     "name": "stderr",
     "output_type": "stream",
     "text": [
      "\n"
     ]
    },
    {
     "data": {
      "text/plain": [
       "<lightfm.lightfm.LightFM at 0x26610e3fd90>"
      ]
     },
     "execution_count": 15,
     "metadata": {},
     "output_type": "execute_result"
    }
   ],
   "source": [
    "%%time\n",
    "fm.fit_partial(\n",
    "    interactions=train,\n",
    "    epochs=100,\n",
    "    num_threads=12,\n",
    "    verbose=True\n",
    ")"
   ]
  },
  {
   "cell_type": "code",
   "execution_count": 17,
   "id": "3447da61",
   "metadata": {},
   "outputs": [
    {
     "name": "stdout",
     "output_type": "stream",
     "text": [
      "(array([0.        , 0.14927335, 0.13578227, ..., 0.        , 0.3737401 ,\n",
      "       1.0511205 ], dtype=float32), array([[ 0.03066379, -0.02371882,  0.04632885, ...,  0.01933927,\n",
      "        -0.0109182 ,  0.00576386],\n",
      "       [-0.05892237,  0.07533388, -0.00120902, ...,  0.0160636 ,\n",
      "         0.0413982 ,  0.02173831],\n",
      "       [ 0.01491145,  0.07681484,  0.04461513, ..., -0.05397052,\n",
      "        -0.01886121,  0.0549685 ],\n",
      "       ...,\n",
      "       [ 0.03172434,  0.01704092,  0.00813045, ..., -0.00870013,\n",
      "        -0.02654032,  0.01924318],\n",
      "       [-0.1136448 ,  0.17010255,  0.05548843, ..., -0.06930283,\n",
      "         0.05069719,  0.09762739],\n",
      "       [-0.14724341,  0.2842345 ,  0.22940426, ..., -0.29796836,\n",
      "         0.02811358,  0.50113076]], dtype=float32))\n"
     ]
    }
   ],
   "source": [
    "user_factors = fm.get_user_representations()\n",
    "print(user_factors)"
   ]
  },
  {
   "cell_type": "code",
   "execution_count": 18,
   "id": "c5628437",
   "metadata": {},
   "outputs": [
    {
     "name": "stdout",
     "output_type": "stream",
     "text": [
      "283229\n",
      "(283229, 10)\n"
     ]
    }
   ],
   "source": [
    "print(len(user_factors[0]))\n",
    "print(user_factors[1].shape)"
   ]
  },
  {
   "cell_type": "code",
   "execution_count": 19,
   "id": "f3e1cdf7",
   "metadata": {},
   "outputs": [
    {
     "name": "stdout",
     "output_type": "stream",
     "text": [
      "(array([0.       , 9.511578 , 8.276478 , ..., 0.       , 0.       ,\n",
      "       0.5709119], dtype=float32), array([[ 0.0075431 , -0.04835035,  0.01449538, ...,  0.04319308,\n",
      "        -0.01159711, -0.04510246],\n",
      "       [-0.5281699 ,  0.85698104,  0.51154953, ..., -0.48383096,\n",
      "         0.27811605,  1.0483782 ],\n",
      "       [-0.45236868,  0.8806588 ,  0.36627984, ..., -0.36334985,\n",
      "         0.28542385,  0.99988455],\n",
      "       ...,\n",
      "       [-0.00898536, -0.01118005,  0.02242933, ..., -0.03251198,\n",
      "         0.04870926, -0.00577138],\n",
      "       [ 0.01391027, -0.02967813,  0.04648434, ..., -0.00573243,\n",
      "        -0.01182511, -0.01617796],\n",
      "       [-0.15064882,  0.22714819, -0.01595487, ..., -0.03417111,\n",
      "        -0.0020113 ,  0.12847221]], dtype=float32))\n"
     ]
    }
   ],
   "source": [
    "item_factors = fm.get_item_representations()\n",
    "print(item_factors)"
   ]
  },
  {
   "cell_type": "code",
   "execution_count": 22,
   "id": "e58541a4",
   "metadata": {},
   "outputs": [
    {
     "data": {
      "text/plain": [
       "(193887, 193907)"
      ]
     },
     "execution_count": 22,
     "metadata": {},
     "output_type": "execute_result"
    }
   ],
   "source": [
    "from scipy.sparse import identity, hstack # конкатинирует 2 матрицы\n",
    "\n",
    "item_feature_matrix = hstack([\n",
    "    coo_matrix(\n",
    "        (np.ones(movies_genres.count()[0], dtype=np.float32),\n",
    "        (movies_genres['movieId'], movies_genres['genre_id'])),\n",
    "        shape=(user_item_matrix.shape[1], movies_genres['genre_id'].unique().size)\n",
    "    ),\n",
    "    identity(user_item_matrix.shape[1])\n",
    "])\n",
    "item_feature_matrix.shape"
   ]
  },
  {
   "cell_type": "code",
   "execution_count": 24,
   "id": "fb07bd6a",
   "metadata": {},
   "outputs": [
    {
     "name": "stderr",
     "output_type": "stream",
     "text": [
      "Epoch: 100%|███████████████████████████████████████████████████████████████████████| 100/100 [1:05:08<00:00, 39.08s/it]"
     ]
    },
    {
     "name": "stdout",
     "output_type": "stream",
     "text": [
      "CPU times: total: 1h 5min 8s\n",
      "Wall time: 1h 5min 8s\n"
     ]
    },
    {
     "name": "stderr",
     "output_type": "stream",
     "text": [
      "\n"
     ]
    },
    {
     "data": {
      "text/plain": [
       "<lightfm.lightfm.LightFM at 0x26610e3fd90>"
      ]
     },
     "execution_count": 24,
     "metadata": {},
     "output_type": "execute_result"
    }
   ],
   "source": [
    "%%time\n",
    "fm.fit(\n",
    "    interactions=train,\n",
    "    epochs=100,\n",
    "    item_features=item_feature_matrix,\n",
    "    num_threads=12,\n",
    "    verbose=True\n",
    ")"
   ]
  },
  {
   "cell_type": "code",
   "execution_count": 25,
   "id": "bd66adca",
   "metadata": {},
   "outputs": [
    {
     "name": "stdout",
     "output_type": "stream",
     "text": [
      "(array([7.818739e+00, 8.747635e+00, 6.981470e+00, ..., 0.000000e+00,\n",
      "       0.000000e+00, 4.172325e-08], dtype=float32), array([[ 0.00799013,  0.11062282,  0.03665303, ...,  0.10267024,\n",
      "         0.07506839,  0.19684379],\n",
      "       [ 0.02109262,  0.01427401,  0.00129043, ..., -0.0263094 ,\n",
      "         0.05165055,  0.05366145],\n",
      "       [-0.03750359,  0.02375157,  0.04617911, ..., -0.01067868,\n",
      "         0.02542773, -0.01425616],\n",
      "       ...,\n",
      "       [ 0.03673305,  0.04718608,  0.0454399 , ..., -0.04488411,\n",
      "         0.00085725,  0.03290394],\n",
      "       [-0.01459847,  0.01758425, -0.01163472, ..., -0.00642719,\n",
      "        -0.0169201 ,  0.01033426],\n",
      "       [ 0.0042342 ,  0.04146232, -0.02030915, ...,  0.01934129,\n",
      "         0.04723404, -0.04406389]], dtype=float32))\n"
     ]
    }
   ],
   "source": [
    "new_item_factors = fm.get_item_representations()\n",
    "print(new_item_factors)"
   ]
  },
  {
   "cell_type": "code",
   "execution_count": 26,
   "id": "dc2055b0",
   "metadata": {},
   "outputs": [
    {
     "name": "stdout",
     "output_type": "stream",
     "text": [
      "193907\n",
      "(193907, 10)\n"
     ]
    }
   ],
   "source": [
    "print(len(new_item_factors[0]))\n",
    "print(new_item_factors[1].shape)"
   ]
  },
  {
   "cell_type": "code",
   "execution_count": 27,
   "id": "661d3eee",
   "metadata": {},
   "outputs": [],
   "source": [
    "rr = reciprocal_rank(\n",
    "    model=fm,\n",
    "    test_interactions=test,\n",
    "    train_interactions=train,\n",
    "    item_features=item_feature_matrix,\n",
    "    num_threads=12\n",
    ")"
   ]
  },
  {
   "cell_type": "code",
   "execution_count": 28,
   "id": "b538c1d3",
   "metadata": {},
   "outputs": [
    {
     "data": {
      "text/plain": [
       "0.0029796464"
      ]
     },
     "execution_count": 28,
     "metadata": {},
     "output_type": "execute_result"
    }
   ],
   "source": [
    "rr.mean()"
   ]
  },
  {
   "cell_type": "code",
   "execution_count": null,
   "id": "7cb90371",
   "metadata": {},
   "outputs": [],
   "source": [
    "from lightfm import LightFM\n",
    "\n",
    "fm = LightFM(loss='bpr')"
   ]
  },
  {
   "cell_type": "code",
   "execution_count": null,
   "id": "e3c79f94",
   "metadata": {},
   "outputs": [],
   "source": [
    "%%time\n",
    "fm.fit(\n",
    "    interactions=train,\n",
    "    epochs=100,\n",
    "    num_threads=12,\n",
    ")"
   ]
  },
  {
   "cell_type": "code",
   "execution_count": null,
   "id": "7dd902fe",
   "metadata": {},
   "outputs": [],
   "source": [
    "fm.get_params()"
   ]
  },
  {
   "cell_type": "code",
   "execution_count": null,
   "id": "c1972651",
   "metadata": {},
   "outputs": [],
   "source": [
    "%%time\n",
    "from lightfm.evaluation import reciprocal_rank\n",
    "\n",
    "rr = reciprocal_rank(\n",
    "    model=fm,\n",
    "    test_interactions=test,\n",
    "    train_interactions=train,\n",
    "    num_threads=12\n",
    ")"
   ]
  },
  {
   "cell_type": "code",
   "execution_count": null,
   "id": "8db51a09",
   "metadata": {},
   "outputs": [],
   "source": [
    "rr.mean()"
   ]
  },
  {
   "cell_type": "code",
   "execution_count": null,
   "id": "c69831a8",
   "metadata": {},
   "outputs": [],
   "source": [
    "fm = LightFM(loss='bpr')"
   ]
  },
  {
   "cell_type": "code",
   "execution_count": null,
   "id": "497b777b",
   "metadata": {},
   "outputs": [],
   "source": [
    "%%time\n",
    "fm.fit(\n",
    "    interactions=train,\n",
    "    epochs=100,\n",
    "    num_threads=12,\n",
    ")"
   ]
  },
  {
   "cell_type": "code",
   "execution_count": null,
   "id": "c7d19677",
   "metadata": {},
   "outputs": [],
   "source": [
    "fm.get_params()"
   ]
  },
  {
   "cell_type": "code",
   "execution_count": null,
   "id": "bcb397ae",
   "metadata": {},
   "outputs": [],
   "source": [
    "rr = reciprocal_rank(\n",
    "    model=fm,\n",
    "    test_interactions=test,\n",
    "    train_interactions=train,\n",
    "    num_threads=12\n",
    ")"
   ]
  },
  {
   "cell_type": "code",
   "execution_count": null,
   "id": "f3c8f7f1",
   "metadata": {},
   "outputs": [],
   "source": [
    "rr.mean()"
   ]
  },
  {
   "cell_type": "code",
   "execution_count": null,
   "id": "57cde934",
   "metadata": {},
   "outputs": [],
   "source": [
    "/fm = LightFM(loss='warp'),ю"
   ]
  },
  {
   "cell_type": "code",
   "execution_count": null,
   "id": "db7fb091",
   "metadata": {},
   "outputs": [],
   "source": [
    "%%time\n",
    "fm.fit(\n",
    "    interactions=train,\n",
    "    epochs=100,\n",
    "    num_threads=12,\n",
    ")"
   ]
  },
  {
   "cell_type": "code",
   "execution_count": null,
   "id": "e4343d27",
   "metadata": {},
   "outputs": [],
   "source": [
    "fm.get_params()"
   ]
  },
  {
   "cell_type": "code",
   "execution_count": null,
   "id": "1890e0ae",
   "metadata": {},
   "outputs": [],
   "source": [
    "rr = reciprocal_rank(\n",
    "    model=fm,\n",
    "    test_interactions=test,\n",
    "    train_interactions=train,\n",
    "    num_threads=12\n",
    ")"
   ]
  },
  {
   "cell_type": "code",
   "execution_count": null,
   "id": "0a48772b",
   "metadata": {},
   "outputs": [],
   "source": [
    "rr.mean()"
   ]
  },
  {
   "cell_type": "code",
   "execution_count": null,
   "id": "53d16aad",
   "metadata": {},
   "outputs": [],
   "source": [
    "fm = LightFM(loss='warp-kos', k=5, n=10)"
   ]
  },
  {
   "cell_type": "code",
   "execution_count": null,
   "id": "cc0944c4",
   "metadata": {},
   "outputs": [],
   "source": [
    "%%time\n",
    "fm.fit(\n",
    "    interactions=train,\n",
    "    epochs=100,\n",
    "    num_threads=12,\n",
    ")"
   ]
  },
  {
   "cell_type": "code",
   "execution_count": null,
   "id": "80ab21fc",
   "metadata": {},
   "outputs": [],
   "source": [
    "fm.get_params()"
   ]
  },
  {
   "cell_type": "code",
   "execution_count": null,
   "id": "bd15b066",
   "metadata": {},
   "outputs": [],
   "source": [
    "rr = reciprocal_rank(\n",
    "    model=fm,\n",
    "    test_interactions=test,\n",
    "    train_interactions=train,\n",
    "    num_threads=12\n",
    ")"
   ]
  },
  {
   "cell_type": "code",
   "execution_count": null,
   "id": "20bd0778",
   "metadata": {},
   "outputs": [],
   "source": [
    "rr.mean()"
   ]
  },
  {
   "cell_type": "code",
   "execution_count": null,
   "id": "403c31f9",
   "metadata": {},
   "outputs": [],
   "source": []
  }
 ],
 "metadata": {
  "kernelspec": {
   "display_name": "Python 3 (ipykernel)",
   "language": "python",
   "name": "python3"
  },
  "language_info": {
   "codemirror_mode": {
    "name": "ipython",
    "version": 3
   },
   "file_extension": ".py",
   "mimetype": "text/x-python",
   "name": "python",
   "nbconvert_exporter": "python",
   "pygments_lexer": "ipython3",
   "version": "3.8.8"
  },
  "toc": {
   "base_numbering": 1,
   "nav_menu": {},
   "number_sections": true,
   "sideBar": true,
   "skip_h1_title": false,
   "title_cell": "Table of Contents",
   "title_sidebar": "Contents",
   "toc_cell": false,
   "toc_position": {},
   "toc_section_display": true,
   "toc_window_display": false
  }
 },
 "nbformat": 4,
 "nbformat_minor": 5
}
