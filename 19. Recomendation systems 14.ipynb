{
 "cells": [
  {
   "cell_type": "code",
   "execution_count": 1,
   "id": "da603643",
   "metadata": {},
   "outputs": [],
   "source": [
    "import matplotlib.pyplot as plt\n",
    "import seaborn as sns\n",
    "\n",
    "%matplotlib inline\n"
   ]
  },
  {
   "cell_type": "code",
   "execution_count": 2,
   "id": "6f2b915e",
   "metadata": {},
   "outputs": [],
   "source": [
    "DATA_DIR = 'datasets/lastfm-dataset-360K/'"
   ]
  },
  {
   "cell_type": "code",
   "execution_count": 3,
   "id": "bfa6b0a5",
   "metadata": {},
   "outputs": [
    {
     "name": "stdout",
     "output_type": "stream",
     "text": [
      "README.txt\n",
      "mbox_sha1sum.py\n",
      "usersha1-artmbid-artname-plays.tsv\n",
      "usersha1-profile.tsv\n"
     ]
    }
   ],
   "source": [
    "!ls {DATA_DIR}"
   ]
  },
  {
   "cell_type": "code",
   "execution_count": 4,
   "id": "d7e6d204",
   "metadata": {},
   "outputs": [
    {
     "name": "stdout",
     "output_type": "stream",
     "text": [
      "00000c289a1829a808ac09c00daf10bc3c4e223b\t3bd73256-3905-4f3a-97e2-8b341527f805\tbetty blowtorch\t2137\n",
      "00000c289a1829a808ac09c00daf10bc3c4e223b\tf2fb0ff0-5679-42ec-a55c-15109ce6e320\tdie Г„rzte\t1099\n",
      "00000c289a1829a808ac09c00daf10bc3c4e223b\tb3ae82c2-e60b-4551-a76d-6620f1b456aa\tmelissa etheridge\t897\n",
      "00000c289a1829a808ac09c00daf10bc3c4e223b\t3d6bbeb7-f90e-4d10-b440-e153c0d10b53\telvenking\t717\n",
      "00000c289a1829a808ac09c00daf10bc3c4e223b\tbbd2ffd7-17f4-4506-8572-c1ea58c3f9a8\tjuliette & the licks\t706\n",
      "00000c289a1829a808ac09c00daf10bc3c4e223b\t8bfac288-ccc5-448d-9573-c33ea2aa5c30\tred hot chili peppers\t691\n",
      "00000c289a1829a808ac09c00daf10bc3c4e223b\t6531c8b1-76ea-4141-b270-eb1ac5b41375\tmagica\t545\n",
      "00000c289a1829a808ac09c00daf10bc3c4e223b\t21f3573f-10cf-44b3-aeaa-26cccd8448b5\tthe black dahlia murder\t507\n",
      "00000c289a1829a808ac09c00daf10bc3c4e223b\tc5db90c4-580d-4f33-b364-fbaa5a3a58b5\tthe murmurs\t424\n",
      "00000c289a1829a808ac09c00daf10bc3c4e223b\t0639533a-0402-40ba-b6e0-18b067198b73\tlunachicks\t403\n"
     ]
    }
   ],
   "source": [
    "!head {DATA_DIR}/usersha1-artmbid-artname-plays.tsv"
   ]
  },
  {
   "cell_type": "code",
   "execution_count": null,
   "id": "807d8e91",
   "metadata": {},
   "outputs": [],
   "source": []
  }
 ],
 "metadata": {
  "kernelspec": {
   "display_name": "Python 3",
   "language": "python",
   "name": "python3"
  },
  "language_info": {
   "codemirror_mode": {
    "name": "ipython",
    "version": 3
   },
   "file_extension": ".py",
   "mimetype": "text/x-python",
   "name": "python",
   "nbconvert_exporter": "python",
   "pygments_lexer": "ipython3",
   "version": "3.8.8"
  },
  "toc": {
   "base_numbering": 1,
   "nav_menu": {},
   "number_sections": true,
   "sideBar": true,
   "skip_h1_title": false,
   "title_cell": "Table of Contents",
   "title_sidebar": "Contents",
   "toc_cell": false,
   "toc_position": {},
   "toc_section_display": true,
   "toc_window_display": false
  }
 },
 "nbformat": 4,
 "nbformat_minor": 5
}
