{
 "cells": [
  {
   "cell_type": "code",
   "execution_count": 1,
   "id": "2bbdb0b3",
   "metadata": {},
   "outputs": [],
   "source": [
    " # Создаем spark сессию\n",
    "import findspark\n",
    "findspark.init()\n",
    "from pyspark.sql import SparkSession\n",
    "\n",
    "spark = (\n",
    "    SparkSession\n",
    "    .builder\n",
    "    .config('spark.driver.memory', '16G')\n",
    "    .config('spark.sql.analyzer.failAmbiguousSelfJoin', 'False')\n",
    "    .master(\"local[*]\")\n",
    "    .getOrCreate()\n",
    ")\n",
    "spark.sparkContext.setCheckpointDir(\"/temp/checkpoints\")"
   ]
  },
  {
   "cell_type": "code",
   "execution_count": 2,
   "id": "fdeee138",
   "metadata": {},
   "outputs": [],
   "source": [
    "from surprise.dataset import Dataset\n",
    "data = Dataset.load_builtin(name=\"ml-1m\")"
   ]
  },
  {
   "cell_type": "code",
   "execution_count": 3,
   "id": "db7a5f12",
   "metadata": {},
   "outputs": [
    {
     "name": "stdout",
     "output_type": "stream",
     "text": [
      "1,1193,5,978300760\n",
      "1,661,3,978302109\n",
      "1,914,3,978301968\n",
      "1,3408,4,978300275\n",
      "1,2355,5,978824291\n",
      "1,1197,3,978302268\n",
      "1,1287,5,978302039\n",
      "1,2804,5,978300719\n",
      "1,594,4,978302268\n",
      "1,919,4,978301368\n"
     ]
    }
   ],
   "source": [
    "DATA_DIR = 'c:/Users/adwiz/.surprise_data/ml-1m/ml-1m/'\n",
    "!sed 's/::/,/g' {DATA_DIR}/ratings.dat > {DATA_DIR}/ratings.csv\n",
    "!head {DATA_DIR}/ratings.csv"
   ]
  },
  {
   "cell_type": "code",
   "execution_count": 4,
   "id": "04aa367c",
   "metadata": {},
   "outputs": [],
   "source": [
    "import os\n",
    "import pyspark.sql.functions as sql_func\n",
    "\n",
    "# читаем файл с оценками (26 млн)\n",
    "ratings = (\n",
    "    spark\n",
    "    .read\n",
    "    .csv(\n",
    "        os.path.join(DATA_DIR, \"ratings.csv\"),\n",
    "        header = False,\n",
    "        inferSchema = True\n",
    "    )\n",
    "    .toDF(\"userId\", \"movieId\", \"rating\", \"timestamp\")\n",
    "    .select(\"userId\", \"movieId\", \"rating\")\n",
    ")"
   ]
  },
  {
   "cell_type": "code",
   "execution_count": 5,
   "id": "2f93d913",
   "metadata": {},
   "outputs": [
    {
     "name": "stdout",
     "output_type": "stream",
     "text": [
      "+------+-------+------+\n",
      "|userId|movieId|rating|\n",
      "+------+-------+------+\n",
      "|     1|   1193|     5|\n",
      "|     1|    661|     3|\n",
      "|     1|    914|     3|\n",
      "|     1|   3408|     4|\n",
      "|     1|   2355|     5|\n",
      "|     1|   1197|     3|\n",
      "|     1|   1287|     5|\n",
      "|     1|   2804|     5|\n",
      "|     1|    594|     4|\n",
      "|     1|    919|     4|\n",
      "|     1|    595|     5|\n",
      "|     1|    938|     4|\n",
      "|     1|   2398|     4|\n",
      "|     1|   2918|     4|\n",
      "|     1|   1035|     5|\n",
      "|     1|   2791|     4|\n",
      "|     1|   2687|     3|\n",
      "|     1|   2018|     4|\n",
      "|     1|   3105|     5|\n",
      "|     1|   2797|     4|\n",
      "+------+-------+------+\n",
      "only showing top 20 rows\n",
      "\n"
     ]
    }
   ],
   "source": [
    "ratings.show()"
   ]
  },
  {
   "cell_type": "code",
   "execution_count": 6,
   "id": "2d03278b",
   "metadata": {},
   "outputs": [
    {
     "data": {
      "text/plain": [
       "DataFrame[userId: int, movieId: int, rating: int]"
      ]
     },
     "execution_count": 6,
     "metadata": {},
     "output_type": "execute_result"
    }
   ],
   "source": [
    "# разбиваем на tarain test\n",
    "train, test = ratings.randomSplit([.8, .2], seed=42)\n",
    "train.cache()\n",
    "test.cache()"
   ]
  },
  {
   "cell_type": "code",
   "execution_count": 7,
   "id": "107f5dcf",
   "metadata": {},
   "outputs": [],
   "source": [
    "# %%time\n",
    "# from pyspark.ml.recommendation import ALS\n",
    "\n",
    "# # обучаем модель с базовыми настройками\n",
    "# als = ALS(\n",
    "#     userCol=\"userId\",\n",
    "#     itemCol=\"movieId\",\n",
    "#     ratingCol=\"rating\",\n",
    "#     # если в тестовой выборке будет встречаться неизвестный фильм\n",
    "#     # или неизвестный пользователь, они будут игнорироваься\n",
    "#     coldStartStrategy=\"drop\",\n",
    "#     seed=42\n",
    "# ).fit(train)"
   ]
  },
  {
   "cell_type": "code",
   "execution_count": 8,
   "id": "4c705107",
   "metadata": {},
   "outputs": [
    {
     "name": "stdout",
     "output_type": "stream",
     "text": [
      "Wall time: 2min 6s\n"
     ]
    }
   ],
   "source": [
    "%%time\n",
    "from pyspark.ml.recommendation import ALS\n",
    "\n",
    "# обучаем модель с настройками аналогичными surprise\n",
    "als = ALS(\n",
    "    rank=100,\n",
    "    maxIter=40,\n",
    "    checkpointInterval=5,\n",
    "    userCol=\"userId\",\n",
    "    itemCol=\"movieId\",\n",
    "    ratingCol=\"rating\",\n",
    "    # если в тестовой выборке будет встречаться неизвестный фильм\n",
    "    # или неизвестный пользователь, они будут игнорироваься\n",
    "    coldStartStrategy=\"drop\",\n",
    "    seed=42\n",
    ").fit(train)"
   ]
  },
  {
   "cell_type": "code",
   "execution_count": 9,
   "id": "35ecc87f",
   "metadata": {},
   "outputs": [
    {
     "name": "stdout",
     "output_type": "stream",
     "text": [
      "RMSE на тестовой выборке:  0.8585006953935764\n",
      "Wall time: 22.2 s\n"
     ]
    }
   ],
   "source": [
    "%%time\n",
    "from pyspark.ml.evaluation import RegressionEvaluator\n",
    "\n",
    "# Оцениваем RMSE\n",
    "predictions = als.transform(test)\n",
    "rmse = evaluator = RegressionEvaluator(\n",
    "    metricName=\"rmse\",\n",
    "    labelCol=\"rating\",\n",
    "    predictionCol=\"prediction\"\n",
    ").evaluate(predictions)\n",
    "print(\"RMSE на тестовой выборке: \", rmse)"
   ]
  },
  {
   "cell_type": "code",
   "execution_count": null,
   "id": "e2ea0337",
   "metadata": {},
   "outputs": [],
   "source": []
  }
 ],
 "metadata": {
  "kernelspec": {
   "display_name": "Python 3",
   "language": "python",
   "name": "python3"
  },
  "language_info": {
   "codemirror_mode": {
    "name": "ipython",
    "version": 3
   },
   "file_extension": ".py",
   "mimetype": "text/x-python",
   "name": "python",
   "nbconvert_exporter": "python",
   "pygments_lexer": "ipython3",
   "version": "3.8.8"
  },
  "toc": {
   "base_numbering": 1,
   "nav_menu": {},
   "number_sections": true,
   "sideBar": true,
   "skip_h1_title": false,
   "title_cell": "Table of Contents",
   "title_sidebar": "Contents",
   "toc_cell": false,
   "toc_position": {},
   "toc_section_display": true,
   "toc_window_display": false
  }
 },
 "nbformat": 4,
 "nbformat_minor": 5
}
