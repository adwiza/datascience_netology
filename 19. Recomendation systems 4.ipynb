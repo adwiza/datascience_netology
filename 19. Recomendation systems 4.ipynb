{
 "cells": [
  {
   "cell_type": "code",
   "execution_count": 1,
   "id": "606760f7",
   "metadata": {},
   "outputs": [],
   "source": [
    "%matplotlib inline\n",
    "import matplotlib.pyplot as plt\n",
    "import seaborn as sns\n",
    "import pandas as pd"
   ]
  },
  {
   "cell_type": "code",
   "execution_count": 2,
   "id": "cd68e2d5",
   "metadata": {},
   "outputs": [],
   "source": [
    "DATA_DIR = 'datasets/ml-data/'"
   ]
  },
  {
   "cell_type": "code",
   "execution_count": 3,
   "id": "06e6dc25",
   "metadata": {},
   "outputs": [],
   "source": [
    "df = pd.read_csv(DATA_DIR + 'ratings.csv')"
   ]
  },
  {
   "cell_type": "code",
   "execution_count": 4,
   "id": "8b24e655",
   "metadata": {},
   "outputs": [
    {
     "data": {
      "text/html": [
       "<div>\n",
       "<style scoped>\n",
       "    .dataframe tbody tr th:only-of-type {\n",
       "        vertical-align: middle;\n",
       "    }\n",
       "\n",
       "    .dataframe tbody tr th {\n",
       "        vertical-align: top;\n",
       "    }\n",
       "\n",
       "    .dataframe thead th {\n",
       "        text-align: right;\n",
       "    }\n",
       "</style>\n",
       "<table border=\"1\" class=\"dataframe\">\n",
       "  <thead>\n",
       "    <tr style=\"text-align: right;\">\n",
       "      <th></th>\n",
       "      <th>userId</th>\n",
       "      <th>movieId</th>\n",
       "      <th>rating</th>\n",
       "      <th>timestamp</th>\n",
       "    </tr>\n",
       "  </thead>\n",
       "  <tbody>\n",
       "    <tr>\n",
       "      <th>0</th>\n",
       "      <td>1</td>\n",
       "      <td>307</td>\n",
       "      <td>3.5</td>\n",
       "      <td>1256677221</td>\n",
       "    </tr>\n",
       "    <tr>\n",
       "      <th>1</th>\n",
       "      <td>1</td>\n",
       "      <td>481</td>\n",
       "      <td>3.5</td>\n",
       "      <td>1256677456</td>\n",
       "    </tr>\n",
       "    <tr>\n",
       "      <th>2</th>\n",
       "      <td>1</td>\n",
       "      <td>1091</td>\n",
       "      <td>1.5</td>\n",
       "      <td>1256677471</td>\n",
       "    </tr>\n",
       "    <tr>\n",
       "      <th>3</th>\n",
       "      <td>1</td>\n",
       "      <td>1257</td>\n",
       "      <td>4.5</td>\n",
       "      <td>1256677460</td>\n",
       "    </tr>\n",
       "    <tr>\n",
       "      <th>4</th>\n",
       "      <td>1</td>\n",
       "      <td>1449</td>\n",
       "      <td>4.5</td>\n",
       "      <td>1256677264</td>\n",
       "    </tr>\n",
       "  </tbody>\n",
       "</table>\n",
       "</div>"
      ],
      "text/plain": [
       "   userId  movieId  rating   timestamp\n",
       "0       1      307     3.5  1256677221\n",
       "1       1      481     3.5  1256677456\n",
       "2       1     1091     1.5  1256677471\n",
       "3       1     1257     4.5  1256677460\n",
       "4       1     1449     4.5  1256677264"
      ]
     },
     "execution_count": 4,
     "metadata": {},
     "output_type": "execute_result"
    }
   ],
   "source": [
    "df.head()"
   ]
  },
  {
   "cell_type": "code",
   "execution_count": 5,
   "id": "4129626b",
   "metadata": {},
   "outputs": [],
   "source": [
    "import findspark\n",
    "findspark.init()\n",
    "from pyspark.sql import SparkSession\n",
    "\n",
    "spark = (\n",
    "    SparkSession\n",
    "    .builder\n",
    "    .config('spark.driver.memory', '8G')\n",
    "    .config('spark.sql.analyzer.failAmbiguousSelfJoin', 'False')\n",
    "    .master(\"local[*]\")\n",
    "    .getOrCreate()\n",
    ")"
   ]
  },
  {
   "cell_type": "code",
   "execution_count": 6,
   "id": "176297ea",
   "metadata": {},
   "outputs": [],
   "source": [
    "# считываем данные из CSV\n",
    "# и преобразуем времяпроставления оценки из целого числа в дату мл временем\n",
    "import os\n",
    "import pyspark.sql.functions as sql_func\n",
    "\n",
    "ratings = (\n",
    "    spark\n",
    "    .read\n",
    "    .csv(\n",
    "        os.path.join(DATA_DIR, 'ratings.csv'),\n",
    "        header=True,\n",
    "        inferSchema=True\n",
    "    )\n",
    "    # если используется меньше памяти,\n",
    "    # то здесь можно взять не все данные, а небольшую выборку\n",
    "    # даже при fraction=.01 качественная картина не меняеся\n",
    "    .sample(withReplacement=False, fraction=1.0, seed=0)\n",
    "    .withColumn('rating_datetime', sql_func.from_unixtime('timestamp'))\n",
    "    .drop('timestamp')\n",
    "    .cache()\n",
    ")"
   ]
  },
  {
   "cell_type": "code",
   "execution_count": 7,
   "id": "4d1a93bb",
   "metadata": {},
   "outputs": [
    {
     "name": "stdout",
     "output_type": "stream",
     "text": [
      "+------+-------+------+-------------------+\n",
      "|userId|movieId|rating|    rating_datetime|\n",
      "+------+-------+------+-------------------+\n",
      "|     1|    307|   3.5|2009-10-28 00:00:21|\n",
      "|     1|    481|   3.5|2009-10-28 00:04:16|\n",
      "|     1|   1091|   1.5|2009-10-28 00:04:31|\n",
      "|     1|   1257|   4.5|2009-10-28 00:04:20|\n",
      "|     1|   1449|   4.5|2009-10-28 00:01:04|\n",
      "|     1|   1590|   2.5|2009-10-28 00:00:36|\n",
      "|     1|   1591|   1.5|2009-10-28 00:04:35|\n",
      "|     1|   2134|   4.5|2009-10-28 00:04:24|\n",
      "|     1|   2478|   4.0|2009-10-28 00:00:39|\n",
      "|     1|   2840|   3.0|2009-10-28 00:05:00|\n",
      "|     1|   2986|   2.5|2009-10-28 00:04:56|\n",
      "|     1|   3020|   4.0|2009-10-28 00:01:00|\n",
      "|     1|   3424|   4.5|2009-10-28 00:04:04|\n",
      "|     1|   3698|   3.5|2009-10-28 00:00:43|\n",
      "|     1|   3826|   2.0|2009-10-28 00:00:10|\n",
      "|     1|   3893|   3.5|2009-10-28 00:04:46|\n",
      "|     2|    170|   3.5|2007-10-21 00:53:01|\n",
      "|     2|    849|   3.5|2007-10-21 00:52:17|\n",
      "|     2|   1186|   3.5|2007-10-21 00:53:31|\n",
      "|     2|   1235|   3.0|2007-10-21 00:53:05|\n",
      "+------+-------+------+-------------------+\n",
      "only showing top 20 rows\n",
      "\n"
     ]
    }
   ],
   "source": [
    "ratings.show()"
   ]
  },
  {
   "cell_type": "code",
   "execution_count": 8,
   "id": "08e743b0",
   "metadata": {},
   "outputs": [
    {
     "name": "stdout",
     "output_type": "stream",
     "text": [
      "всего пользователей 283228\n",
      "всего фильмов 53889\n",
      "всего оценок 27753444\n"
     ]
    }
   ],
   "source": [
    "# оцениваем размеры данных\n",
    "print('всего пользователей', ratings.select('userId').distinct().count())\n",
    "print('всего фильмов', ratings.select('movieId').distinct().count())\n",
    "print('всего оценок', ratings.count())"
   ]
  },
  {
   "cell_type": "code",
   "execution_count": 23,
   "id": "20b2b2e7",
   "metadata": {},
   "outputs": [
    {
     "name": "stdout",
     "output_type": "stream",
     "text": [
      "+------+-------+------+-------------------+\n",
      "|userId|movieId|rating|    rating_datetime|\n",
      "+------+-------+------+-------------------+\n",
      "|     1|    307|   3.5|2009-10-28 00:00:21|\n",
      "|     1|    481|   3.5|2009-10-28 00:04:16|\n",
      "|     1|   1091|   1.5|2009-10-28 00:04:31|\n",
      "|     1|   1257|   4.5|2009-10-28 00:04:20|\n",
      "|     1|   1449|   4.5|2009-10-28 00:01:04|\n",
      "|     1|   1590|   2.5|2009-10-28 00:00:36|\n",
      "|     1|   1591|   1.5|2009-10-28 00:04:35|\n",
      "|     1|   2134|   4.5|2009-10-28 00:04:24|\n",
      "|     1|   2478|   4.0|2009-10-28 00:00:39|\n",
      "|     1|   2840|   3.0|2009-10-28 00:05:00|\n",
      "|     1|   2986|   2.5|2009-10-28 00:04:56|\n",
      "|     1|   3020|   4.0|2009-10-28 00:01:00|\n",
      "|     1|   3424|   4.5|2009-10-28 00:04:04|\n",
      "|     1|   3698|   3.5|2009-10-28 00:00:43|\n",
      "|     1|   3826|   2.0|2009-10-28 00:00:10|\n",
      "|     1|   3893|   3.5|2009-10-28 00:04:46|\n",
      "|     2|    170|   3.5|2007-10-21 00:53:01|\n",
      "|     2|    849|   3.5|2007-10-21 00:52:17|\n",
      "|     2|   1186|   3.5|2007-10-21 00:53:31|\n",
      "|     2|   1235|   3.0|2007-10-21 00:53:05|\n",
      "+------+-------+------+-------------------+\n",
      "only showing top 20 rows\n",
      "\n",
      "None\n"
     ]
    }
   ],
   "source": [
    "print(ratings.select('*').show())"
   ]
  },
  {
   "cell_type": "code",
   "execution_count": 26,
   "id": "e4839ff4",
   "metadata": {},
   "outputs": [],
   "source": [
    "data = (\n",
    "    ratings\n",
    "    .select(\n",
    "        'userId',\n",
    "        sql_func.year('rating_datetime').alias('year'),\n",
    "        sql_func.month('rating_datetime').alias('month')\n",
    "    )\n",
    "    .groupBy('year', 'month')\n",
    "    .agg(sql_func.countDistinct('userId'))\n",
    "    .orderBy('year', 'month')\n",
    "    .toPandas()\n",
    ")"
   ]
  },
  {
   "cell_type": "code",
   "execution_count": 27,
   "id": "2df24f8a",
   "metadata": {},
   "outputs": [
    {
     "data": {
      "text/html": [
       "<div>\n",
       "<style scoped>\n",
       "    .dataframe tbody tr th:only-of-type {\n",
       "        vertical-align: middle;\n",
       "    }\n",
       "\n",
       "    .dataframe tbody tr th {\n",
       "        vertical-align: top;\n",
       "    }\n",
       "\n",
       "    .dataframe thead th {\n",
       "        text-align: right;\n",
       "    }\n",
       "</style>\n",
       "<table border=\"1\" class=\"dataframe\">\n",
       "  <thead>\n",
       "    <tr style=\"text-align: right;\">\n",
       "      <th></th>\n",
       "      <th>year</th>\n",
       "      <th>month</th>\n",
       "      <th>count(userId)</th>\n",
       "    </tr>\n",
       "  </thead>\n",
       "  <tbody>\n",
       "    <tr>\n",
       "      <th>0</th>\n",
       "      <td>1995</td>\n",
       "      <td>1</td>\n",
       "      <td>2</td>\n",
       "    </tr>\n",
       "    <tr>\n",
       "      <th>1</th>\n",
       "      <td>1996</td>\n",
       "      <td>1</td>\n",
       "      <td>8</td>\n",
       "    </tr>\n",
       "    <tr>\n",
       "      <th>2</th>\n",
       "      <td>1996</td>\n",
       "      <td>2</td>\n",
       "      <td>36</td>\n",
       "    </tr>\n",
       "    <tr>\n",
       "      <th>3</th>\n",
       "      <td>1996</td>\n",
       "      <td>3</td>\n",
       "      <td>347</td>\n",
       "    </tr>\n",
       "    <tr>\n",
       "      <th>4</th>\n",
       "      <td>1996</td>\n",
       "      <td>4</td>\n",
       "      <td>1755</td>\n",
       "    </tr>\n",
       "    <tr>\n",
       "      <th>...</th>\n",
       "      <td>...</td>\n",
       "      <td>...</td>\n",
       "      <td>...</td>\n",
       "    </tr>\n",
       "    <tr>\n",
       "      <th>268</th>\n",
       "      <td>2018</td>\n",
       "      <td>5</td>\n",
       "      <td>3191</td>\n",
       "    </tr>\n",
       "    <tr>\n",
       "      <th>269</th>\n",
       "      <td>2018</td>\n",
       "      <td>6</td>\n",
       "      <td>3113</td>\n",
       "    </tr>\n",
       "    <tr>\n",
       "      <th>270</th>\n",
       "      <td>2018</td>\n",
       "      <td>7</td>\n",
       "      <td>3285</td>\n",
       "    </tr>\n",
       "    <tr>\n",
       "      <th>271</th>\n",
       "      <td>2018</td>\n",
       "      <td>8</td>\n",
       "      <td>3257</td>\n",
       "    </tr>\n",
       "    <tr>\n",
       "      <th>272</th>\n",
       "      <td>2018</td>\n",
       "      <td>9</td>\n",
       "      <td>2895</td>\n",
       "    </tr>\n",
       "  </tbody>\n",
       "</table>\n",
       "<p>273 rows × 3 columns</p>\n",
       "</div>"
      ],
      "text/plain": [
       "     year  month  count(userId)\n",
       "0    1995      1              2\n",
       "1    1996      1              8\n",
       "2    1996      2             36\n",
       "3    1996      3            347\n",
       "4    1996      4           1755\n",
       "..    ...    ...            ...\n",
       "268  2018      5           3191\n",
       "269  2018      6           3113\n",
       "270  2018      7           3285\n",
       "271  2018      8           3257\n",
       "272  2018      9           2895\n",
       "\n",
       "[273 rows x 3 columns]"
      ]
     },
     "execution_count": 27,
     "metadata": {},
     "output_type": "execute_result"
    }
   ],
   "source": [
    "data"
   ]
  },
  {
   "cell_type": "code",
   "execution_count": null,
   "id": "08aeb511",
   "metadata": {},
   "outputs": [],
   "source": []
  }
 ],
 "metadata": {
  "kernelspec": {
   "display_name": "Python 3",
   "language": "python",
   "name": "python3"
  },
  "language_info": {
   "codemirror_mode": {
    "name": "ipython",
    "version": 3
   },
   "file_extension": ".py",
   "mimetype": "text/x-python",
   "name": "python",
   "nbconvert_exporter": "python",
   "pygments_lexer": "ipython3",
   "version": "3.8.8"
  },
  "toc": {
   "base_numbering": 1,
   "nav_menu": {},
   "number_sections": true,
   "sideBar": true,
   "skip_h1_title": false,
   "title_cell": "Table of Contents",
   "title_sidebar": "Contents",
   "toc_cell": false,
   "toc_position": {},
   "toc_section_display": true,
   "toc_window_display": false
  }
 },
 "nbformat": 4,
 "nbformat_minor": 5
}
