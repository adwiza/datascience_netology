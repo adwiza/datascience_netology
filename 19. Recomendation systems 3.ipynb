{
 "cells": [
  {
   "cell_type": "code",
   "execution_count": 1,
   "id": "d897ecec",
   "metadata": {},
   "outputs": [],
   "source": [
    "%matplotlib inline\n",
    "import matplotlib.pyplot as plt\n",
    "import seaborn as sns\n",
    "import pandas as pd\n",
    "import pyarrow as pa"
   ]
  },
  {
   "cell_type": "code",
   "execution_count": 2,
   "id": "85c23be4",
   "metadata": {},
   "outputs": [],
   "source": [
    "DATA_DIR = 'datasets/lastfm-dataset-360K/'"
   ]
  },
  {
   "cell_type": "code",
   "execution_count": 3,
   "id": "3f80463f",
   "metadata": {},
   "outputs": [],
   "source": [
    "df = pd.read_csv(DATA_DIR + 'usersha1-artmbid-artname-plays.tsv', sep='\\t', header=None)"
   ]
  },
  {
   "cell_type": "code",
   "execution_count": 4,
   "id": "435591b1",
   "metadata": {},
   "outputs": [
    {
     "data": {
      "text/html": [
       "<div>\n",
       "<style scoped>\n",
       "    .dataframe tbody tr th:only-of-type {\n",
       "        vertical-align: middle;\n",
       "    }\n",
       "\n",
       "    .dataframe tbody tr th {\n",
       "        vertical-align: top;\n",
       "    }\n",
       "\n",
       "    .dataframe thead th {\n",
       "        text-align: right;\n",
       "    }\n",
       "</style>\n",
       "<table border=\"1\" class=\"dataframe\">\n",
       "  <thead>\n",
       "    <tr style=\"text-align: right;\">\n",
       "      <th></th>\n",
       "      <th>0</th>\n",
       "      <th>1</th>\n",
       "      <th>2</th>\n",
       "      <th>3</th>\n",
       "    </tr>\n",
       "  </thead>\n",
       "  <tbody>\n",
       "    <tr>\n",
       "      <th>0</th>\n",
       "      <td>00000c289a1829a808ac09c00daf10bc3c4e223b</td>\n",
       "      <td>3bd73256-3905-4f3a-97e2-8b341527f805</td>\n",
       "      <td>betty blowtorch</td>\n",
       "      <td>2137</td>\n",
       "    </tr>\n",
       "    <tr>\n",
       "      <th>1</th>\n",
       "      <td>00000c289a1829a808ac09c00daf10bc3c4e223b</td>\n",
       "      <td>f2fb0ff0-5679-42ec-a55c-15109ce6e320</td>\n",
       "      <td>die Ärzte</td>\n",
       "      <td>1099</td>\n",
       "    </tr>\n",
       "    <tr>\n",
       "      <th>2</th>\n",
       "      <td>00000c289a1829a808ac09c00daf10bc3c4e223b</td>\n",
       "      <td>b3ae82c2-e60b-4551-a76d-6620f1b456aa</td>\n",
       "      <td>melissa etheridge</td>\n",
       "      <td>897</td>\n",
       "    </tr>\n",
       "    <tr>\n",
       "      <th>3</th>\n",
       "      <td>00000c289a1829a808ac09c00daf10bc3c4e223b</td>\n",
       "      <td>3d6bbeb7-f90e-4d10-b440-e153c0d10b53</td>\n",
       "      <td>elvenking</td>\n",
       "      <td>717</td>\n",
       "    </tr>\n",
       "    <tr>\n",
       "      <th>4</th>\n",
       "      <td>00000c289a1829a808ac09c00daf10bc3c4e223b</td>\n",
       "      <td>bbd2ffd7-17f4-4506-8572-c1ea58c3f9a8</td>\n",
       "      <td>juliette &amp; the licks</td>\n",
       "      <td>706</td>\n",
       "    </tr>\n",
       "  </tbody>\n",
       "</table>\n",
       "</div>"
      ],
      "text/plain": [
       "                                          0  \\\n",
       "0  00000c289a1829a808ac09c00daf10bc3c4e223b   \n",
       "1  00000c289a1829a808ac09c00daf10bc3c4e223b   \n",
       "2  00000c289a1829a808ac09c00daf10bc3c4e223b   \n",
       "3  00000c289a1829a808ac09c00daf10bc3c4e223b   \n",
       "4  00000c289a1829a808ac09c00daf10bc3c4e223b   \n",
       "\n",
       "                                      1                     2     3  \n",
       "0  3bd73256-3905-4f3a-97e2-8b341527f805       betty blowtorch  2137  \n",
       "1  f2fb0ff0-5679-42ec-a55c-15109ce6e320             die Ärzte  1099  \n",
       "2  b3ae82c2-e60b-4551-a76d-6620f1b456aa     melissa etheridge   897  \n",
       "3  3d6bbeb7-f90e-4d10-b440-e153c0d10b53             elvenking   717  \n",
       "4  bbd2ffd7-17f4-4506-8572-c1ea58c3f9a8  juliette & the licks   706  "
      ]
     },
     "execution_count": 4,
     "metadata": {},
     "output_type": "execute_result"
    }
   ],
   "source": [
    "df.head()"
   ]
  },
  {
   "cell_type": "code",
   "execution_count": 5,
   "id": "318f699a",
   "metadata": {},
   "outputs": [],
   "source": [
    "import findspark\n",
    "findspark.init() "
   ]
  },
  {
   "cell_type": "code",
   "execution_count": 6,
   "id": "e41fa4b5",
   "metadata": {},
   "outputs": [],
   "source": [
    "from pyspark.sql import SparkSession\n",
    "\n",
    "spark = (\n",
    "    SparkSession\n",
    "    .builder\n",
    "    .config('spark.driver.memory', '8G')\n",
    "    .config('spark.sql.analyzer.failAmbiguousSelfJoin', 'False')\n",
    "    .master('local[*]')\n",
    "    .getOrCreate()\n",
    ")"
   ]
  },
  {
   "cell_type": "code",
   "execution_count": 7,
   "id": "df421aac",
   "metadata": {},
   "outputs": [],
   "source": [
    "import os\n",
    "import pyspark.sql.functions as sql_func\n",
    "\n",
    "plays = (\n",
    "    spark\n",
    "    .read\n",
    "    .csv(\n",
    "        os.path.join(DATA_DIR, 'usersha1-artmbid-artname-plays.tsv'),\n",
    "        header=False,\n",
    "        inferSchema=True,\n",
    "        sep='\\t'\n",
    "    )\n",
    "    .sample(withReplacement=False, fraction=1.0, seed=42)\n",
    "    # имена колонкам можно узнать из файла README.txt\n",
    "    .toDF('user', 'artist', 'artist_name', 'plays')\n",
    "    .where('LENGTH(artist) >= 35')\n",
    "    .where('LENGTH(user) == 40')\n",
    "    .where('plays IS NOT NULL')\n",
    "    .drop('artist_name')\n",
    ")"
   ]
  },
  {
   "cell_type": "code",
   "execution_count": 8,
   "id": "d2795488",
   "metadata": {},
   "outputs": [],
   "source": [
    "# построим индексы пользователей и исполнителей\n",
    "user_index = (\n",
    "    plays\n",
    "    .select('user')\n",
    "    .distinct()\n",
    "    .coalesce(1)\n",
    "    .select(\n",
    "        'user',\n",
    "        sql_func.monotonically_increasing_id().alias('user_id')\n",
    "    )\n",
    ")\n",
    "artist_index = (\n",
    "    plays\n",
    "    .select('artist')\n",
    "    .distinct()\n",
    "    .coalesce(1)\n",
    "    .select(\n",
    "        'artist',\n",
    "        sql_func.monotonically_increasing_id().alias('artist_id')\n",
    "    )\n",
    ")"
   ]
  },
  {
   "cell_type": "code",
   "execution_count": 9,
   "id": "c0d066cc",
   "metadata": {},
   "outputs": [
    {
     "name": "stdout",
     "output_type": "stream",
     "text": [
      "+-------+---------+-----------------+\n",
      "|user_id|artist_id|            plays|\n",
      "+-------+---------+-----------------+\n",
      "|   3932|      221|5.303304908059076|\n",
      "|   9048|      221|4.543294782270004|\n",
      "|  15430|      221|5.049856007249537|\n",
      "|  16664|      221|6.037870919922137|\n",
      "|  22832|      221|4.990432586778736|\n",
      "+-------+---------+-----------------+\n",
      "only showing top 5 rows\n",
      "\n"
     ]
    }
   ],
   "source": [
    "# перекодируем наш набор данных с использованием\n",
    "# числовых инлексов вместо строчных\n",
    "triples = (\n",
    "    plays\n",
    "    .join(user_index, 'user')\n",
    "    .join(artist_index, 'artist')\n",
    "    .select(\n",
    "        'user_id',\n",
    "        'artist_id',\n",
    "        sql_func.log(\n",
    "            1 + sql_func.col('plays')\n",
    "        ).alias('plays')\n",
    "    )\n",
    "    .cache()\n",
    ")\n",
    "triples.show(n=5)"
   ]
  },
  {
   "cell_type": "code",
   "execution_count": 10,
   "id": "8f280244",
   "metadata": {},
   "outputs": [],
   "source": [
    "# сох раняем тройки на диск для дальнейшего использования\n",
    "(\n",
    "    triples\n",
    "    .write\n",
    "    .mode('overwrite')\n",
    "    .parquet('models/user_item_lastfm.parquet')\n",
    ")"
   ]
  },
  {
   "cell_type": "code",
   "execution_count": 11,
   "id": "da3a88ec",
   "metadata": {},
   "outputs": [],
   "source": [
    "# соебрем индексы в виде python объектов\n",
    "i = triples.select('user_id').rdd.map(lambda row: row.user_id).collect()\n",
    "j = triples.select('artist_id').rdd.map(lambda row: row.artist_id).collect()\n",
    "data = triples.select('plays').rdd.map(lambda row: row.plays).collect()\n",
    "# больше Spark не нужен\n",
    "spark.stop()"
   ]
  },
  {
   "cell_type": "code",
   "execution_count": 12,
   "id": "7477a3ec",
   "metadata": {},
   "outputs": [
    {
     "name": "stdout",
     "output_type": "stream",
     "text": [
      "номера строк [индексы пользователей]: [3932, 9048, 15430, 16664, 22832]\n",
      "номера столбцов [индексы исполнителей]: [221, 221, 221, 221, 221]\n",
      "Элементы матрицы [количество прослушиваний]: [5.303304908059076, 4.543294782270004, 5.049856007249537, 6.037870919922137, 4.990432586778736]\n"
     ]
    }
   ],
   "source": [
    "print('номера строк [индексы пользователей]:', i[:5])\n",
    "print('номера столбцов [индексы исполнителей]:', j[:5])\n",
    "print('Элементы матрицы [количество прослушиваний]:', data[:5])"
   ]
  },
  {
   "cell_type": "code",
   "execution_count": 13,
   "id": "12c523c9",
   "metadata": {},
   "outputs": [],
   "source": [
    "from scipy.sparse import coo_matrix\n",
    "import numpy as np\n",
    "import gc"
   ]
  },
  {
   "cell_type": "code",
   "execution_count": 14,
   "id": "a4040bf4",
   "metadata": {},
   "outputs": [
    {
     "data": {
      "text/plain": [
       "298"
      ]
     },
     "execution_count": 14,
     "metadata": {},
     "output_type": "execute_result"
    }
   ],
   "source": [
    "# соберем разреженную матрицу из полученных значений\n",
    "user_item_matrix = coo_matrix((data, (i, j)), dtype=np.float16)\n",
    "# от самых данных мы освободимся, чтобы не занимать лишнюю память\n",
    "del i, j, data\n",
    "gc.collect()"
   ]
  },
  {
   "cell_type": "code",
   "execution_count": 15,
   "id": "8982365e",
   "metadata": {},
   "outputs": [
    {
     "name": "stdout",
     "output_type": "stream",
     "text": [
      "размерность матрицы (359337, 160163)\n",
      "количество ненудевых элементов 17332977\n",
      "доля ненулевых элементов: 0.00030116814091700147\n"
     ]
    }
   ],
   "source": [
    "# разреженные матрицы долстаточно удобный объект\n",
    "print('размерность матрицы', user_item_matrix.shape)\n",
    "print('количество ненудевых элементов', user_item_matrix.nnz)\n",
    "print('доля ненулевых элементов:',\n",
    "      user_item_matrix.nnz / user_item_matrix.shape[0] / user_item_matrix.shape[1])"
   ]
  },
  {
   "cell_type": "code",
   "execution_count": null,
   "id": "0005749a",
   "metadata": {},
   "outputs": [],
   "source": []
  }
 ],
 "metadata": {
  "kernelspec": {
   "display_name": "Python 3",
   "language": "python",
   "name": "python3"
  },
  "language_info": {
   "codemirror_mode": {
    "name": "ipython",
    "version": 3
   },
   "file_extension": ".py",
   "mimetype": "text/x-python",
   "name": "python",
   "nbconvert_exporter": "python",
   "pygments_lexer": "ipython3",
   "version": "3.8.8"
  },
  "toc": {
   "base_numbering": 1,
   "nav_menu": {},
   "number_sections": true,
   "sideBar": true,
   "skip_h1_title": false,
   "title_cell": "Table of Contents",
   "title_sidebar": "Contents",
   "toc_cell": false,
   "toc_position": {},
   "toc_section_display": true,
   "toc_window_display": false
  }
 },
 "nbformat": 4,
 "nbformat_minor": 5
}
