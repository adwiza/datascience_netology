{
 "cells": [
  {
   "cell_type": "markdown",
   "id": "0a25b126",
   "metadata": {},
   "source": [
    "# Метод k ближайших соседей"
   ]
  },
  {
   "cell_type": "markdown",
   "id": "a6451138",
   "metadata": {},
   "source": [
    "### Сформируем данные"
   ]
  },
  {
   "cell_type": "code",
   "execution_count": 1,
   "id": "58a25bf5",
   "metadata": {},
   "outputs": [],
   "source": [
    "import random\n",
    "import numpy as np\n",
    "import matplotlib.pyplot as plt\n",
    "from matplotlib.colors import ListedColormap\n",
    "\n",
    "%matplotlib inline\n",
    "plt.rcParams['pcolor.shading'] = 'auto'"
   ]
  },
  {
   "cell_type": "code",
   "execution_count": 2,
   "id": "30075727",
   "metadata": {},
   "outputs": [],
   "source": [
    "def generateRandomCluster(xCenter, yCenter, pointsInCluster, sugma, clusterNumber):\n",
    "    \"\"\"\n",
    "    Функция формирует набор случайных pointsInCluster точек вокруг центра xCenter, yCenter со стандартным отклонением sigma\n",
    "    Для удобства сразу приписываем номер кластера clusterNumber\n",
    "    \n",
    "    Пример\n",
    "    generateRandomCluster(50, 50, 5, 1, 1)\n",
    "    [ (49.4383741073746, 50.759631072447775, 1),\n",
    "     (50.382663637239496, 51.958511415275346, 1),\n",
    "     (51.35861614413671, 50.14508008851586, 1),\n",
    "     (49.99654565817289, 48.868625830102836, 1),\n",
    "     (48.90429842105296, 50.30684883451077, 1) ]\n",
    "    \"\"\"\n",
    "    clusterData = []\n",
    "    for point in range(pointsInCluster):\n",
    "        clusterData.append((random.gauss(xCenter, sigma), random.gauss(yCenter, sigma), clusterNumber))\n",
    "        \n",
    "    return clusterData"
   ]
  },
  {
   "cell_type": "code",
   "execution_count": 3,
   "id": "fb87ba53",
   "metadata": {},
   "outputs": [],
   "source": [
    "def generateNClusters(clustersNumber, minCoordinate, maxLength, pointsInCluster, sigma):\n",
    "    \"\"\"\n",
    "    Функция генерит clustersNumber кластеров в прелелах (x, y) координат от minCoordinate до minCoordinate + maxLength\n",
    "        \n",
    "    Пример\n",
    "    generateNClusters( 3, 0, 100, 5, 1 )\n",
    "    \n",
    "    [\n",
    "        [ (30.101595428493244, 97.81846577317793, 0),\n",
    "          (30.982265309141784, 94.85561016707207, 0),\n",
    "          (29.324361801401345, 96.13225349356063, 0),\n",
    "          (28.55314432177591, 97.71789084567285, 0),\n",
    "          (30.925804186398505, 97.73651238892455, 0)],\n",
    "        [ (35.42172429469604, 62.868371107151994, 1),\n",
    "          (36.36575870693403, 60.81612414265114, 1),\n",
    "          (36.3958015730347, 60.845554677754464, 1),\n",
    "          (35.29157575130411, 63.179905869433654, 1),\n",
    "          (38.19703749175945, 61.839734328145795, 1)],\n",
    "        [ (92.22845587073014, 40.18055397530009, 2),\n",
    "          (90.7642755825596, 40.68519067128221, 2),\n",
    "          (92.27913966714033, 39.604710170714505, 2),\n",
    "          (93.57420210013105, 40.20564381974239, 2),\n",
    "          (92.33724850339567, 40.261922276131735, 2)]\n",
    "    ]\n",
    "    \"\"\"\n",
    "    clustersData = []\n",
    "    for cluster in range(clustersNumber):\n",
    "        clustersData.append(generateRandomCluster(minCoordinate + maxLength * random.random(),\n",
    "                                                  minCoordinate + maxLength * random.random(),\n",
    "                                                  pointsInCluster,\n",
    "                                                  sigma, cluster))\n",
    "    return clustersData"
   ]
  },
  {
   "cell_type": "code",
   "execution_count": 4,
   "id": "14beac8a",
   "metadata": {},
   "outputs": [],
   "source": [
    "def drawClusters(clustersData):\n",
    "    \"\"\"\n",
    "    Функция рисует набор кластеров по данным clustersData\n",
    "    \"\"\"\n",
    "    \n",
    "    for cluster in clustersData:\n",
    "        xData = []\n",
    "        yData = []\n",
    "        colors = []\n",
    "        \n",
    "        for point in cluster:\n",
    "            xData.append(point[0])\n",
    "            yData.append(point[1])\n",
    "            colors.append(point[2])\n",
    "        \n",
    "        plt.scatter(xData, yData, label = colors[0])\n",
    "        \n",
    "    plt.legend(loc='upper right')\n",
    "    plt.show()"
   ]
  },
  {
   "cell_type": "code",
   "execution_count": 5,
   "id": "79b95f6c",
   "metadata": {},
   "outputs": [],
   "source": [
    "clustersNumber = 3\n",
    "minCoordinate = 0\n",
    "maxLength = 100\n",
    "pointsInCluster = 15\n",
    "sigma = 5"
   ]
  },
  {
   "cell_type": "code",
   "execution_count": 6,
   "id": "0cc5a554",
   "metadata": {},
   "outputs": [
    {
     "data": {
      "image/png": "[encoded data removed]",
      "text/plain": [
       "<Figure size 432x288 with 1 Axes>"
      ]
     },
     "metadata": {
      "needs_background": "light"
     },
     "output_type": "display_data"
    }
   ],
   "source": [
    "data = generateNClusters(clustersNumber, minCoordinate, maxLength, pointsInCluster, sigma)\n",
    "drawClusters(data)"
   ]
  },
  {
   "cell_type": "markdown",
   "id": "c578cfe2",
   "metadata": {},
   "source": [
    "### Строим модель"
   ]
  },
  {
   "cell_type": "code",
   "execution_count": 7,
   "id": "dc2f5021",
   "metadata": {},
   "outputs": [],
   "source": [
    "from sklearn.neighbors import KNeighborsClassifier"
   ]
  },
  {
   "cell_type": "code",
   "execution_count": 8,
   "id": "bb8166e1",
   "metadata": {},
   "outputs": [],
   "source": [
    "# http://scikit-learn.org/stable/modules/generated/sklearn.neighbors.KNeighborsClassifier.html\n",
    "model = KNeighborsClassifier(n_neighbors=3)"
   ]
  },
  {
   "cell_type": "code",
   "execution_count": 9,
   "id": "0d6cead4",
   "metadata": {},
   "outputs": [],
   "source": [
    "X = []\n",
    "Y = []\n",
    "\n",
    "for cluster in data:\n",
    "    for point in cluster:\n",
    "        X.append([point[0], point[1]])\n",
    "        Y.append(point[2])"
   ]
  },
  {
   "cell_type": "code",
   "execution_count": 10,
   "id": "ac3e0295",
   "metadata": {},
   "outputs": [
    {
     "data": {
      "text/plain": [
       "KNeighborsClassifier(n_neighbors=3)"
      ]
     },
     "execution_count": 10,
     "metadata": {},
     "output_type": "execute_result"
    }
   ],
   "source": [
    "model.fit(X, Y)"
   ]
  },
  {
   "cell_type": "code",
   "execution_count": 11,
   "id": "0811dddb",
   "metadata": {},
   "outputs": [],
   "source": [
    "def KNeighbors(clustersData, model):\n",
    "    \"\"\"\n",
    "    Визуализация результатов классификации\n",
    "    \"\"\"\n",
    "    step = 1\n",
    "    xx, yy = np.meshgrid(np.arange(minCoordinate, minCoordinate + maxLength, step),\n",
    "                         np.arange(minCoordinate, minCoordinate + maxLength, step))\n",
    "    Z = model.predict(np.c_[xx.ravel(), yy.ravel()])\n",
    "    Z = Z.reshape(xx.shape)\n",
    "    \n",
    "    cmap_light = ListedColormap(['#FFAAAA', '#AAFFAA', '#AAAAFF'])\n",
    "    plt.pcolormesh(xx, yy, Z, cmap = cmap_light)\n",
    "    \n",
    "    for cluster in clustersData:\n",
    "        xData = []\n",
    "        yData = []\n",
    "        colors = []\n",
    "        \n",
    "        for point in cluster:\n",
    "            xData.append(point[0])\n",
    "            yData.append(point[1])\n",
    "            colors.append(point[2])\n",
    "        \n",
    "        plt.scatter(xData, yData, label = colors[0])\n",
    "    plt.legend(loc='best')\n",
    "    \n",
    "    plt.show()"
   ]
  },
  {
   "cell_type": "code",
   "execution_count": 12,
   "id": "d0a186ab",
   "metadata": {},
   "outputs": [
    {
     "data": {
      "image/png": "[encoded data removed]",
      "text/plain": [
       "<Figure size 432x288 with 1 Axes>"
      ]
     },
     "metadata": {
      "needs_background": "light"
     },
     "output_type": "display_data"
    }
   ],
   "source": [
    "data = generateNClusters(clustersNumber, minCoordinate, maxLength, pointsInCluster, sigma)\n",
    "\n",
    "X = []\n",
    "Y = []\n",
    "\n",
    "for cluster in data:\n",
    "    for point in cluster:\n",
    "        X.append([point[0], point[1]])\n",
    "        Y.append(point[2])\n",
    "        \n",
    "model.fit(X, Y)\n",
    "\n",
    "KNeighbors(data, model)"
   ]
  },
  {
   "cell_type": "markdown",
   "id": "2f5b077e",
   "metadata": {},
   "source": [
    " ## Подсчет манхэттенского расстояния в игре \"Пятнашки\""
   ]
  },
  {
   "cell_type": "code",
   "execution_count": 13,
   "id": "efab450e",
   "metadata": {},
   "outputs": [],
   "source": [
    "correct_position = [\n",
    "    [1, 2, 3, 4],\n",
    "    [5, 6, 7, 8],\n",
    "    [9, 10, 11, 12],\n",
    "    [13, 14, 15, 0],\n",
    "]"
   ]
  },
  {
   "cell_type": "code",
   "execution_count": 14,
   "id": "a9602804",
   "metadata": {},
   "outputs": [],
   "source": [
    "current_position = [\n",
    "    [1, 2, 3, 4],\n",
    "    [5, 6, 7, 8],\n",
    "    [9, 10, 11, 12],\n",
    "    [13, 0, 14, 15],\n",
    "]"
   ]
  },
  {
   "cell_type": "code",
   "execution_count": 15,
   "id": "eab651eb",
   "metadata": {},
   "outputs": [],
   "source": [
    "def make_positions_dict(position):\n",
    "    \"\"\"\n",
    "    Формирование словаря координат чисел.\n",
    "    \n",
    "    Пример\n",
    "    make_position_dict(correct_position)\n",
    "    {\n",
    "        1: [1, 1],\n",
    "        2: [1, 2],\n",
    "        ...\n",
    "        14: [4, 2],\n",
    "        15: [4, 3]\n",
    "    }\n",
    "    \"\"\"\n",
    "    position_dict = {}\n",
    "    \n",
    "    row_number = 1\n",
    "    for row_list in position:\n",
    "            \n",
    "        column_number =1\n",
    "        for column in row_list:\n",
    "            if column != 0:\n",
    "                position_dict[column] = [row_number, column_number]\n",
    "                \n",
    "            column_number += 1\n",
    "            \n",
    "        row_number += 1\n",
    "        \n",
    "    return position_dict"
   ]
  },
  {
   "cell_type": "code",
   "execution_count": 16,
   "id": "1b4a0253",
   "metadata": {},
   "outputs": [
    {
     "data": {
      "text/plain": [
       "{1: [1, 1],\n",
       " 2: [1, 2],\n",
       " 3: [1, 3],\n",
       " 4: [1, 4],\n",
       " 5: [2, 1],\n",
       " 6: [2, 2],\n",
       " 7: [2, 3],\n",
       " 8: [2, 4],\n",
       " 9: [3, 1],\n",
       " 10: [3, 2],\n",
       " 11: [3, 3],\n",
       " 12: [3, 4],\n",
       " 13: [4, 1],\n",
       " 14: [4, 2],\n",
       " 15: [4, 3]}"
      ]
     },
     "execution_count": 16,
     "metadata": {},
     "output_type": "execute_result"
    }
   ],
   "source": [
    "correct_dict = make_positions_dict(correct_position)\n",
    "correct_dict"
   ]
  },
  {
   "cell_type": "code",
   "execution_count": 17,
   "id": "9f5c525b",
   "metadata": {},
   "outputs": [
    {
     "data": {
      "text/plain": [
       "{1: [1, 1],\n",
       " 2: [1, 2],\n",
       " 3: [1, 3],\n",
       " 4: [1, 4],\n",
       " 5: [2, 1],\n",
       " 6: [2, 2],\n",
       " 7: [2, 3],\n",
       " 8: [2, 4],\n",
       " 9: [3, 1],\n",
       " 10: [3, 2],\n",
       " 11: [3, 3],\n",
       " 12: [3, 4],\n",
       " 13: [4, 1],\n",
       " 14: [4, 3],\n",
       " 15: [4, 4]}"
      ]
     },
     "execution_count": 17,
     "metadata": {},
     "output_type": "execute_result"
    }
   ],
   "source": [
    "current_dict = make_positions_dict(current_position)\n",
    "current_dict"
   ]
  },
  {
   "cell_type": "code",
   "execution_count": 18,
   "id": "f2412551",
   "metadata": {},
   "outputs": [
    {
     "name": "stdout",
     "output_type": "stream",
     "text": [
      "1 [1, 1] [1, 1] 0 0\n",
      "2 [1, 2] [1, 2] 0 0\n",
      "3 [1, 3] [1, 3] 0 0\n",
      "4 [1, 4] [1, 4] 0 0\n",
      "5 [2, 1] [2, 1] 0 0\n",
      "6 [2, 2] [2, 2] 0 0\n",
      "7 [2, 3] [2, 3] 0 0\n",
      "8 [2, 4] [2, 4] 0 0\n",
      "9 [3, 1] [3, 1] 0 0\n",
      "10 [3, 2] [3, 2] 0 0\n",
      "11 [3, 3] [3, 3] 0 0\n",
      "12 [3, 4] [3, 4] 0 0\n",
      "13 [4, 1] [4, 1] 0 0\n",
      "14 [4, 2] [4, 3] 0 1\n",
      "15 [4, 3] [4, 4] 0 1\n"
     ]
    }
   ],
   "source": [
    "dist = 0\n",
    "for key, coord in correct_dict.items():\n",
    "    print(key, coord, current_dict[key], np.abs(coord[0] - current_dict[key][0]), abs(coord[1] - current_dict[key][1]))\n",
    "    dist += abs(coord[0] - current_dict[key][0]) + np.abs(coord[1] - current_dict[key][1])"
   ]
  },
  {
   "cell_type": "code",
   "execution_count": 19,
   "id": "7581f954",
   "metadata": {},
   "outputs": [
    {
     "data": {
      "text/plain": [
       "2"
      ]
     },
     "execution_count": 19,
     "metadata": {},
     "output_type": "execute_result"
    }
   ],
   "source": [
    "dist"
   ]
  },
  {
   "cell_type": "markdown",
   "id": "60e2df7c",
   "metadata": {},
   "source": [
    "# Поиск наиболее близкого имени участника\n",
    "\n",
    "## Расстояние Левенштейна"
   ]
  },
  {
   "cell_type": "code",
   "execution_count": 20,
   "id": "48cbd3f6",
   "metadata": {},
   "outputs": [],
   "source": [
    "# conda install -c conda-forge python-levenshtein\n",
    "# или pip install python-levenshtein\n",
    "\n",
    "import Levenshtein"
   ]
  },
  {
   "cell_type": "code",
   "execution_count": 21,
   "id": "063ca168",
   "metadata": {},
   "outputs": [],
   "source": [
    "# что было написано в заявке\n",
    "\n",
    "claim_list = [\n",
    "    'Шехавцова Анна',\n",
    "    'Гречихина Наталья',\n",
    "    'Козлова Алена',\n",
    "    'Груздева Алина',\n",
    "    'Кущенко Анна',\n",
    "    'Чистякова Анастасия'\n",
    "]"
   ]
  },
  {
   "cell_type": "code",
   "execution_count": 22,
   "id": "375c9775",
   "metadata": {},
   "outputs": [],
   "source": [
    "# результат расшифровки речи диктора\n",
    "\n",
    "speech_recognition = [\n",
    "    'кучменко она',\n",
    "    'кущенко оксана',\n",
    "    'груздь алина',\n",
    "    'рычихина наталья',\n",
    "    'шиховцева на',\n",
    "    'чистова анастасия'\n",
    "]"
   ]
  },
  {
   "cell_type": "markdown",
   "id": "47626b2e",
   "metadata": {},
   "source": [
    "### С библиотекой Levenshtein"
   ]
  },
  {
   "cell_type": "code",
   "execution_count": 23,
   "id": "466c954c",
   "metadata": {},
   "outputs": [
    {
     "data": {
      "text/plain": [
       "4"
      ]
     },
     "execution_count": 23,
     "metadata": {},
     "output_type": "execute_result"
    }
   ],
   "source": [
    "Levenshtein.distance('Оксана', 'Анна')"
   ]
  },
  {
   "cell_type": "code",
   "execution_count": 24,
   "id": "dbf2dcb5",
   "metadata": {},
   "outputs": [
    {
     "name": "stdout",
     "output_type": "stream",
     "text": [
      "{'Шехавцова Анна': 11, 'Гречихина Наталья': 14, 'Козлова Алена': 11, 'Груздева Алина': 10, 'Кущенко Анна': 5, 'Чистякова Анастасия': 15}\n"
     ]
    }
   ],
   "source": [
    "for recognized_name in speech_recognition:\n",
    "    for real_name in claim_list:\n",
    "        result = {real_name: Levenshtein.distance(recognized_name, real_name) for real_name in claim_list}\n",
    "    print(result)\n",
    "    \n",
    "    break"
   ]
  },
  {
   "cell_type": "code",
   "execution_count": 25,
   "id": "3e1f3144",
   "metadata": {},
   "outputs": [
    {
     "data": {
      "text/plain": [
       "[('Кущенко Анна', 5),\n",
       " ('Груздева Алина', 10),\n",
       " ('Шехавцова Анна', 11),\n",
       " ('Козлова Алена', 11),\n",
       " ('Гречихина Наталья', 14),\n",
       " ('Чистякова Анастасия', 15)]"
      ]
     },
     "execution_count": 25,
     "metadata": {},
     "output_type": "execute_result"
    }
   ],
   "source": [
    "# x[1] - сортировка по значениям словаря по возрастанию (если надо по убыванию - добавляем минус перед x[1])\n",
    "# x[0] - сортировка по ключам\n",
    "sorted(result.items(), key=lambda x: x[1])"
   ]
  },
  {
   "cell_type": "markdown",
   "id": "1974ea9c",
   "metadata": {},
   "source": [
    "# Пример использования коэффициента Жаккара"
   ]
  },
  {
   "cell_type": "code",
   "execution_count": 26,
   "id": "66ef228b",
   "metadata": {},
   "outputs": [],
   "source": [
    "import pandas as pd"
   ]
  },
  {
   "cell_type": "markdown",
   "id": "cad600e6",
   "metadata": {},
   "source": [
    "Данные по ценам на товары"
   ]
  },
  {
   "cell_type": "code",
   "execution_count": 27,
   "id": "5a9b7ce2",
   "metadata": {},
   "outputs": [
    {
     "data": {
      "text/html": [
       "<div>\n",
       "<style scoped>\n",
       "    .dataframe tbody tr th:only-of-type {\n",
       "        vertical-align: middle;\n",
       "    }\n",
       "\n",
       "    .dataframe tbody tr th {\n",
       "        vertical-align: top;\n",
       "    }\n",
       "\n",
       "    .dataframe thead th {\n",
       "        text-align: right;\n",
       "    }\n",
       "</style>\n",
       "<table border=\"1\" class=\"dataframe\">\n",
       "  <thead>\n",
       "    <tr style=\"text-align: right;\">\n",
       "      <th></th>\n",
       "      <th>id</th>\n",
       "      <th>price</th>\n",
       "    </tr>\n",
       "  </thead>\n",
       "  <tbody>\n",
       "    <tr>\n",
       "      <th>0</th>\n",
       "      <td>b000jz4hqo</td>\n",
       "      <td>0.00</td>\n",
       "    </tr>\n",
       "    <tr>\n",
       "      <th>1</th>\n",
       "      <td>b0006zf55o</td>\n",
       "      <td>0.00</td>\n",
       "    </tr>\n",
       "    <tr>\n",
       "      <th>2</th>\n",
       "      <td>b00004tkvy</td>\n",
       "      <td>0.00</td>\n",
       "    </tr>\n",
       "    <tr>\n",
       "      <th>3</th>\n",
       "      <td>b000g80lqo</td>\n",
       "      <td>599.99</td>\n",
       "    </tr>\n",
       "    <tr>\n",
       "      <th>4</th>\n",
       "      <td>b0006se5bq</td>\n",
       "      <td>99.99</td>\n",
       "    </tr>\n",
       "  </tbody>\n",
       "</table>\n",
       "</div>"
      ],
      "text/plain": [
       "           id   price\n",
       "0  b000jz4hqo    0.00\n",
       "1  b0006zf55o    0.00\n",
       "2  b00004tkvy    0.00\n",
       "3  b000g80lqo  599.99\n",
       "4  b0006se5bq   99.99"
      ]
     },
     "execution_count": 27,
     "metadata": {},
     "output_type": "execute_result"
    }
   ],
   "source": [
    "prices = pd.read_csv('datasets/ids_and_prices.csv')\n",
    "prices.head()"
   ]
  },
  {
   "cell_type": "code",
   "execution_count": 28,
   "id": "60168f53",
   "metadata": {},
   "outputs": [
    {
     "data": {
      "text/html": [
       "<div>\n",
       "<style scoped>\n",
       "    .dataframe tbody tr th:only-of-type {\n",
       "        vertical-align: middle;\n",
       "    }\n",
       "\n",
       "    .dataframe tbody tr th {\n",
       "        vertical-align: top;\n",
       "    }\n",
       "\n",
       "    .dataframe thead th {\n",
       "        text-align: right;\n",
       "    }\n",
       "</style>\n",
       "<table border=\"1\" class=\"dataframe\">\n",
       "  <thead>\n",
       "    <tr style=\"text-align: right;\">\n",
       "      <th></th>\n",
       "      <th>id</th>\n",
       "      <th>name</th>\n",
       "      <th>description</th>\n",
       "      <th>manufacturer</th>\n",
       "    </tr>\n",
       "  </thead>\n",
       "  <tbody>\n",
       "    <tr>\n",
       "      <th>0</th>\n",
       "      <td>b000jz4hqo</td>\n",
       "      <td>clickart 950000 - premier image pack (dvd-rom)</td>\n",
       "      <td>massive collection of images &amp; fonts for all y...</td>\n",
       "      <td>NaN</td>\n",
       "    </tr>\n",
       "    <tr>\n",
       "      <th>1</th>\n",
       "      <td>b00004tkvy</td>\n",
       "      <td>the beginners bible: noah's ark activity cente...</td>\n",
       "      <td>NaN</td>\n",
       "      <td>NaN</td>\n",
       "    </tr>\n",
       "    <tr>\n",
       "      <th>2</th>\n",
       "      <td>b000g80lqo</td>\n",
       "      <td>sage (ptree) - vernfp2007rt - premium accounti...</td>\n",
       "      <td>if you're like most nonprofit organizations yo...</td>\n",
       "      <td>NaN</td>\n",
       "    </tr>\n",
       "    <tr>\n",
       "      <th>3</th>\n",
       "      <td>b0006se5bq</td>\n",
       "      <td>singing coach unlimited - electronic learning ...</td>\n",
       "      <td>learn to sing with the help of a patented real...</td>\n",
       "      <td>NaN</td>\n",
       "    </tr>\n",
       "    <tr>\n",
       "      <th>4</th>\n",
       "      <td>b00021xhzw</td>\n",
       "      <td>adobe software 22070152 after effects 6.5 pbupgrd</td>\n",
       "      <td>adobe after effects pb 6.5 win upgrade.standar...</td>\n",
       "      <td>NaN</td>\n",
       "    </tr>\n",
       "  </tbody>\n",
       "</table>\n",
       "</div>"
      ],
      "text/plain": [
       "           id                                               name  \\\n",
       "0  b000jz4hqo     clickart 950000 - premier image pack (dvd-rom)   \n",
       "1  b00004tkvy  the beginners bible: noah's ark activity cente...   \n",
       "2  b000g80lqo  sage (ptree) - vernfp2007rt - premium accounti...   \n",
       "3  b0006se5bq  singing coach unlimited - electronic learning ...   \n",
       "4  b00021xhzw  adobe software 22070152 after effects 6.5 pbupgrd   \n",
       "\n",
       "                                         description manufacturer  \n",
       "0  massive collection of images & fonts for all y...          NaN  \n",
       "1                                                NaN          NaN  \n",
       "2  if you're like most nonprofit organizations yo...          NaN  \n",
       "3  learn to sing with the help of a patented real...          NaN  \n",
       "4  adobe after effects pb 6.5 win upgrade.standar...          NaN  "
      ]
     },
     "execution_count": 28,
     "metadata": {},
     "output_type": "execute_result"
    }
   ],
   "source": [
    "details = pd.read_csv('datasets/ids_and_details.csv')\n",
    "details.head()"
   ]
  },
  {
   "cell_type": "markdown",
   "id": "aa07fbe0",
   "metadata": {},
   "source": [
    "Проверим на наличие дубликатов\n",
    "\n",
    "Они есть"
   ]
  },
  {
   "cell_type": "code",
   "execution_count": 29,
   "id": "855d42cb",
   "metadata": {},
   "outputs": [
    {
     "data": {
      "text/plain": [
       "b00006jo4g    5\n",
       "b0009i5sgy    4\n",
       "b00002s5ig    4\n",
       "b000067fk7    4\n",
       "b0009hj5ve    4\n",
       "Name: id, dtype: int64"
      ]
     },
     "execution_count": 29,
     "metadata": {},
     "output_type": "execute_result"
    }
   ],
   "source": [
    "details['id'].value_counts().sort_values(ascending=False).head()"
   ]
  },
  {
   "cell_type": "code",
   "execution_count": 30,
   "id": "b5e654ce",
   "metadata": {},
   "outputs": [],
   "source": [
    "details.drop_duplicates(subset='id', keep='first', inplace=True)"
   ]
  },
  {
   "cell_type": "code",
   "execution_count": 31,
   "id": "c0c5e105",
   "metadata": {},
   "outputs": [
    {
     "data": {
      "text/plain": [
       "b000jz4hqo    1\n",
       "b000i82j80    1\n",
       "b0006se5bq    1\n",
       "b00021xhzw    1\n",
       "b0000dbykm    1\n",
       "Name: id, dtype: int64"
      ]
     },
     "execution_count": 31,
     "metadata": {},
     "output_type": "execute_result"
    }
   ],
   "source": [
    "# Проверим, что дубликатов нет\n",
    "details['id'].value_counts().sort_values(ascending=False).head()"
   ]
  },
  {
   "cell_type": "code",
   "execution_count": 32,
   "id": "4b17f0c0",
   "metadata": {},
   "outputs": [
    {
     "data": {
      "text/html": [
       "<div>\n",
       "<style scoped>\n",
       "    .dataframe tbody tr th:only-of-type {\n",
       "        vertical-align: middle;\n",
       "    }\n",
       "\n",
       "    .dataframe tbody tr th {\n",
       "        vertical-align: top;\n",
       "    }\n",
       "\n",
       "    .dataframe thead th {\n",
       "        text-align: right;\n",
       "    }\n",
       "</style>\n",
       "<table border=\"1\" class=\"dataframe\">\n",
       "  <thead>\n",
       "    <tr style=\"text-align: right;\">\n",
       "      <th></th>\n",
       "      <th>id</th>\n",
       "      <th>name</th>\n",
       "      <th>description</th>\n",
       "      <th>manufacturer</th>\n",
       "    </tr>\n",
       "  </thead>\n",
       "  <tbody>\n",
       "    <tr>\n",
       "      <th>0</th>\n",
       "      <td>b000jz4hqo</td>\n",
       "      <td>clickart 950000 - premier image pack (dvd-rom)</td>\n",
       "      <td>massive collection of images &amp; fonts for all y...</td>\n",
       "      <td>NaN</td>\n",
       "    </tr>\n",
       "    <tr>\n",
       "      <th>1</th>\n",
       "      <td>b00004tkvy</td>\n",
       "      <td>the beginners bible: noah's ark activity cente...</td>\n",
       "      <td></td>\n",
       "      <td>NaN</td>\n",
       "    </tr>\n",
       "    <tr>\n",
       "      <th>2</th>\n",
       "      <td>b000g80lqo</td>\n",
       "      <td>sage (ptree) - vernfp2007rt - premium accounti...</td>\n",
       "      <td>if you're like most nonprofit organizations yo...</td>\n",
       "      <td>NaN</td>\n",
       "    </tr>\n",
       "    <tr>\n",
       "      <th>3</th>\n",
       "      <td>b0006se5bq</td>\n",
       "      <td>singing coach unlimited - electronic learning ...</td>\n",
       "      <td>learn to sing with the help of a patented real...</td>\n",
       "      <td>NaN</td>\n",
       "    </tr>\n",
       "    <tr>\n",
       "      <th>4</th>\n",
       "      <td>b00021xhzw</td>\n",
       "      <td>adobe software 22070152 after effects 6.5 pbupgrd</td>\n",
       "      <td>adobe after effects pb 6.5 win upgrade.standar...</td>\n",
       "      <td>NaN</td>\n",
       "    </tr>\n",
       "  </tbody>\n",
       "</table>\n",
       "</div>"
      ],
      "text/plain": [
       "           id                                               name  \\\n",
       "0  b000jz4hqo     clickart 950000 - premier image pack (dvd-rom)   \n",
       "1  b00004tkvy  the beginners bible: noah's ark activity cente...   \n",
       "2  b000g80lqo  sage (ptree) - vernfp2007rt - premium accounti...   \n",
       "3  b0006se5bq  singing coach unlimited - electronic learning ...   \n",
       "4  b00021xhzw  adobe software 22070152 after effects 6.5 pbupgrd   \n",
       "\n",
       "                                         description manufacturer  \n",
       "0  massive collection of images & fonts for all y...          NaN  \n",
       "1                                                             NaN  \n",
       "2  if you're like most nonprofit organizations yo...          NaN  \n",
       "3  learn to sing with the help of a patented real...          NaN  \n",
       "4  adobe after effects pb 6.5 win upgrade.standar...          NaN  "
      ]
     },
     "execution_count": 32,
     "metadata": {},
     "output_type": "execute_result"
    }
   ],
   "source": [
    "# для пустых описаний NaN подставим пустую строку\n",
    "# это изменит тип ячейки (с числовой на строковую) и позволит избежать в дальнейшем ошибки\n",
    "\n",
    "details['description'].fillna('', inplace=True)\n",
    "details.head()"
   ]
  },
  {
   "cell_type": "code",
   "execution_count": 33,
   "id": "3ff01e8c",
   "metadata": {},
   "outputs": [
    {
     "data": {
      "text/html": [
       "<div>\n",
       "<style scoped>\n",
       "    .dataframe tbody tr th:only-of-type {\n",
       "        vertical-align: middle;\n",
       "    }\n",
       "\n",
       "    .dataframe tbody tr th {\n",
       "        vertical-align: top;\n",
       "    }\n",
       "\n",
       "    .dataframe thead th {\n",
       "        text-align: right;\n",
       "    }\n",
       "</style>\n",
       "<table border=\"1\" class=\"dataframe\">\n",
       "  <thead>\n",
       "    <tr style=\"text-align: right;\">\n",
       "      <th></th>\n",
       "      <th>id</th>\n",
       "      <th>name</th>\n",
       "      <th>description</th>\n",
       "      <th>manufacturer</th>\n",
       "      <th>price</th>\n",
       "    </tr>\n",
       "  </thead>\n",
       "  <tbody>\n",
       "    <tr>\n",
       "      <th>0</th>\n",
       "      <td>b000jz4hqo</td>\n",
       "      <td>clickart 950000 - premier image pack (dvd-rom)</td>\n",
       "      <td>massive collection of images &amp; fonts for all y...</td>\n",
       "      <td>NaN</td>\n",
       "      <td>0.00</td>\n",
       "    </tr>\n",
       "    <tr>\n",
       "      <th>1</th>\n",
       "      <td>b00004tkvy</td>\n",
       "      <td>the beginners bible: noah's ark activity cente...</td>\n",
       "      <td></td>\n",
       "      <td>NaN</td>\n",
       "      <td>0.00</td>\n",
       "    </tr>\n",
       "    <tr>\n",
       "      <th>2</th>\n",
       "      <td>b000g80lqo</td>\n",
       "      <td>sage (ptree) - vernfp2007rt - premium accounti...</td>\n",
       "      <td>if you're like most nonprofit organizations yo...</td>\n",
       "      <td>NaN</td>\n",
       "      <td>599.99</td>\n",
       "    </tr>\n",
       "    <tr>\n",
       "      <th>3</th>\n",
       "      <td>b0006se5bq</td>\n",
       "      <td>singing coach unlimited - electronic learning ...</td>\n",
       "      <td>learn to sing with the help of a patented real...</td>\n",
       "      <td>NaN</td>\n",
       "      <td>99.99</td>\n",
       "    </tr>\n",
       "    <tr>\n",
       "      <th>4</th>\n",
       "      <td>b00021xhzw</td>\n",
       "      <td>adobe software 22070152 after effects 6.5 pbupgrd</td>\n",
       "      <td>adobe after effects pb 6.5 win upgrade.standar...</td>\n",
       "      <td>NaN</td>\n",
       "      <td>499.99</td>\n",
       "    </tr>\n",
       "  </tbody>\n",
       "</table>\n",
       "</div>"
      ],
      "text/plain": [
       "           id                                               name  \\\n",
       "0  b000jz4hqo     clickart 950000 - premier image pack (dvd-rom)   \n",
       "1  b00004tkvy  the beginners bible: noah's ark activity cente...   \n",
       "2  b000g80lqo  sage (ptree) - vernfp2007rt - premium accounti...   \n",
       "3  b0006se5bq  singing coach unlimited - electronic learning ...   \n",
       "4  b00021xhzw  adobe software 22070152 after effects 6.5 pbupgrd   \n",
       "\n",
       "                                         description manufacturer   price  \n",
       "0  massive collection of images & fonts for all y...          NaN    0.00  \n",
       "1                                                             NaN    0.00  \n",
       "2  if you're like most nonprofit organizations yo...          NaN  599.99  \n",
       "3  learn to sing with the help of a patented real...          NaN   99.99  \n",
       "4  adobe after effects pb 6.5 win upgrade.standar...          NaN  499.99  "
      ]
     },
     "execution_count": 33,
     "metadata": {},
     "output_type": "execute_result"
    }
   ],
   "source": [
    "data = details.merge(prices, on='id', how='left')\n",
    "data.head()"
   ]
  },
  {
   "cell_type": "markdown",
   "id": "f49eb79c",
   "metadata": {},
   "source": [
    "### Поиск близких описаний"
   ]
  },
  {
   "cell_type": "markdown",
   "id": "09929ffc",
   "metadata": {},
   "source": [
    "Допустим, мы добавили к нашей таблице новый товар с описанием. Как проверить, что добавленный товар имеет более менее \"уникальное описание\"? \n",
    "\n",
    "Например, мы можем для описания каждого товара из таблицы посчитать количество слов, совпадающих с описанием нового товара. Для удобства для каждого описания из таблицы будем брать долю одинаковых слов от количества слов в описании нового товара.\n",
    "\n",
    "Таким образом, если описания товаров сильно близки, то наша доля будет приближаться к 100%. Если описание товара из таблицы не имеет общих слов с новым, то доля будет равна 0. Для удобства отсортируем конечную таблицу по убыванию нашей метрики близости."
   ]
  },
  {
   "cell_type": "code",
   "execution_count": 34,
   "id": "90d05720",
   "metadata": {},
   "outputs": [
    {
     "data": {
      "text/plain": [
       "True"
      ]
     },
     "execution_count": 34,
     "metadata": {},
     "output_type": "execute_result"
    }
   ],
   "source": [
    "len(data) == len(details)"
   ]
  },
  {
   "cell_type": "code",
   "execution_count": 35,
   "id": "fd109ee3",
   "metadata": {},
   "outputs": [
    {
     "data": {
      "text/plain": [
       "'encore software 10741 : new! the print shop 22 deluxe offers the best in total personal creativity. 350000+ images & graphics plus 20000+ project templates! packed with new features and tools you have everything you need for satisfy your creative ...'"
      ]
     },
     "execution_count": 35,
     "metadata": {},
     "output_type": "execute_result"
    }
   ],
   "source": [
    "# пусть \"новым товаром\" будет один из товаров в нашей таблице\n",
    "\n",
    "newText = 'encore software 10741 : new! the print shop 22 deluxe offers the best in total personal creativity. 350000+ images & graphics plus 20000+ project templates! packed with new features and tools you have everything you need for satisfy your creative ...'\n",
    "newText"
   ]
  },
  {
   "cell_type": "code",
   "execution_count": 36,
   "id": "ce3e8d10",
   "metadata": {},
   "outputs": [
    {
     "data": {
      "text/plain": [
       "{'&',\n",
       " '...',\n",
       " '10741',\n",
       " '20000+',\n",
       " '22',\n",
       " '350000+',\n",
       " ':',\n",
       " 'and',\n",
       " 'best',\n",
       " 'creative',\n",
       " 'creativity.',\n",
       " 'deluxe',\n",
       " 'encore',\n",
       " 'everything',\n",
       " 'features',\n",
       " 'for',\n",
       " 'graphics',\n",
       " 'have',\n",
       " 'images',\n",
       " 'in',\n",
       " 'need',\n",
       " 'new',\n",
       " 'new!',\n",
       " 'offers',\n",
       " 'packed',\n",
       " 'personal',\n",
       " 'plus',\n",
       " 'print',\n",
       " 'project',\n",
       " 'satisfy',\n",
       " 'shop',\n",
       " 'software',\n",
       " 'templates!',\n",
       " 'the',\n",
       " 'tools',\n",
       " 'total',\n",
       " 'with',\n",
       " 'you',\n",
       " 'your'}"
      ]
     },
     "execution_count": 36,
     "metadata": {},
     "output_type": "execute_result"
    }
   ],
   "source": [
    "# для сравнения описаний пословно разобьем наш текст на слова\n",
    "newTextSplit = set(newText.split(' '))\n",
    "newTextSplit"
   ]
  },
  {
   "cell_type": "code",
   "execution_count": 37,
   "id": "3be0a78b",
   "metadata": {},
   "outputs": [
    {
     "data": {
      "text/plain": [
       "39"
      ]
     },
     "execution_count": 37,
     "metadata": {},
     "output_type": "execute_result"
    }
   ],
   "source": [
    "# мы хотим в итоге считать отношение общих слов двух описаний к количеству слов в описании нового товара text\n",
    "# в нашем примере 39 слов\n",
    "\n",
    "len(newTextSplit)"
   ]
  },
  {
   "cell_type": "markdown",
   "id": "38d3f50a",
   "metadata": {},
   "source": [
    "Для каждой строки нашей исходной таблицы посчитаем новый столбец similarity. \n",
    "\n",
    "Т. е. для каждого описания из столбца description (data['description']) мы применяем делаем определенное вычисление. Для этого используется метод apply:\n",
    "\n",
    "1. Для каждого описания (назовем его descr) мы получаем список слов в нем - set( descr.split(' ') )\n",
    "2. Затем получаем список общих слов с описанием нового товара - list( set( descr.split(' ') ) & textSplit )\n",
    "3. Считаем длину получившегося пересечения len( list( set( descr.split(' ') ) & textSplit ) )\n",
    "4. Наконец, считаем отношение пересечения к количеству слов в новом описании"
   ]
  },
  {
   "cell_type": "code",
   "execution_count": 38,
   "id": "ac2f30c4",
   "metadata": {},
   "outputs": [],
   "source": [
    "def countCrossWords(row, newTextSplit):\n",
    "    \"\"\"\n",
    "    Считаем общее количество слов в описании нового товара newTextSplit и описания текущего товара row['description'].\n",
    "    \n",
    "    newTextSplit имеет вид:\n",
    "    {\n",
    "        '&',\n",
    "        '...',\n",
    "        '10741',\n",
    "        ...\n",
    "        'you',\n",
    "        'your'\n",
    "    }\n",
    "    \n",
    "    row['description'] - просто текст описания очередного товара    \n",
    "    \"\"\"\n",
    "    \n",
    "    # список слов в описании очередного товара\n",
    "    currentDescriptionWordsSet = set(row['description'].split(' '))\n",
    "    \n",
    "    # список общих слов в описании текущего (row['description']) и нового (newTextSplit) товара\n",
    "    commonWords = currentDescriptionWordsSet & newTextSplit\n",
    "    \n",
    "    return len(commonWords) / len(newTextSplit)"
   ]
  },
  {
   "cell_type": "markdown",
   "id": "7bb9a15b",
   "metadata": {},
   "source": [
    "Считаем близовать описания к новому товару"
   ]
  },
  {
   "cell_type": "code",
   "execution_count": 39,
   "id": "2b29e1e5",
   "metadata": {},
   "outputs": [
    {
     "data": {
      "text/html": [
       "<div>\n",
       "<style scoped>\n",
       "    .dataframe tbody tr th:only-of-type {\n",
       "        vertical-align: middle;\n",
       "    }\n",
       "\n",
       "    .dataframe tbody tr th {\n",
       "        vertical-align: top;\n",
       "    }\n",
       "\n",
       "    .dataframe thead th {\n",
       "        text-align: right;\n",
       "    }\n",
       "</style>\n",
       "<table border=\"1\" class=\"dataframe\">\n",
       "  <thead>\n",
       "    <tr style=\"text-align: right;\">\n",
       "      <th></th>\n",
       "      <th>id</th>\n",
       "      <th>name</th>\n",
       "      <th>description</th>\n",
       "      <th>manufacturer</th>\n",
       "      <th>price</th>\n",
       "      <th>similarity</th>\n",
       "    </tr>\n",
       "  </thead>\n",
       "  <tbody>\n",
       "    <tr>\n",
       "      <th>0</th>\n",
       "      <td>b000jz4hqo</td>\n",
       "      <td>clickart 950000 - premier image pack (dvd-rom)</td>\n",
       "      <td>massive collection of images &amp; fonts for all y...</td>\n",
       "      <td>NaN</td>\n",
       "      <td>0.00</td>\n",
       "      <td>0.282051</td>\n",
       "    </tr>\n",
       "    <tr>\n",
       "      <th>1</th>\n",
       "      <td>b00004tkvy</td>\n",
       "      <td>the beginners bible: noah's ark activity cente...</td>\n",
       "      <td></td>\n",
       "      <td>NaN</td>\n",
       "      <td>0.00</td>\n",
       "      <td>0.000000</td>\n",
       "    </tr>\n",
       "    <tr>\n",
       "      <th>2</th>\n",
       "      <td>b000g80lqo</td>\n",
       "      <td>sage (ptree) - vernfp2007rt - premium accounti...</td>\n",
       "      <td>if you're like most nonprofit organizations yo...</td>\n",
       "      <td>NaN</td>\n",
       "      <td>599.99</td>\n",
       "      <td>0.102564</td>\n",
       "    </tr>\n",
       "    <tr>\n",
       "      <th>3</th>\n",
       "      <td>b0006se5bq</td>\n",
       "      <td>singing coach unlimited - electronic learning ...</td>\n",
       "      <td>learn to sing with the help of a patented real...</td>\n",
       "      <td>NaN</td>\n",
       "      <td>99.99</td>\n",
       "      <td>0.102564</td>\n",
       "    </tr>\n",
       "    <tr>\n",
       "      <th>4</th>\n",
       "      <td>b00021xhzw</td>\n",
       "      <td>adobe software 22070152 after effects 6.5 pbupgrd</td>\n",
       "      <td>adobe after effects pb 6.5 win upgrade.standar...</td>\n",
       "      <td>NaN</td>\n",
       "      <td>499.99</td>\n",
       "      <td>0.102564</td>\n",
       "    </tr>\n",
       "  </tbody>\n",
       "</table>\n",
       "</div>"
      ],
      "text/plain": [
       "           id                                               name  \\\n",
       "0  b000jz4hqo     clickart 950000 - premier image pack (dvd-rom)   \n",
       "1  b00004tkvy  the beginners bible: noah's ark activity cente...   \n",
       "2  b000g80lqo  sage (ptree) - vernfp2007rt - premium accounti...   \n",
       "3  b0006se5bq  singing coach unlimited - electronic learning ...   \n",
       "4  b00021xhzw  adobe software 22070152 after effects 6.5 pbupgrd   \n",
       "\n",
       "                                         description manufacturer   price  \\\n",
       "0  massive collection of images & fonts for all y...          NaN    0.00   \n",
       "1                                                             NaN    0.00   \n",
       "2  if you're like most nonprofit organizations yo...          NaN  599.99   \n",
       "3  learn to sing with the help of a patented real...          NaN   99.99   \n",
       "4  adobe after effects pb 6.5 win upgrade.standar...          NaN  499.99   \n",
       "\n",
       "   similarity  \n",
       "0    0.282051  \n",
       "1    0.000000  \n",
       "2    0.102564  \n",
       "3    0.102564  \n",
       "4    0.102564  "
      ]
     },
     "execution_count": 39,
     "metadata": {},
     "output_type": "execute_result"
    }
   ],
   "source": [
    "data['similarity'] = data.apply(countCrossWords, axis=1, args=(newTextSplit,)) # similarity - близость\n",
    "data.head()"
   ]
  },
  {
   "cell_type": "markdown",
   "id": "edbf7095",
   "metadata": {},
   "source": [
    "Посмотрим список товаров с самим близким описанием"
   ]
  },
  {
   "cell_type": "code",
   "execution_count": 40,
   "id": "e2c0c192",
   "metadata": {},
   "outputs": [
    {
     "data": {
      "text/html": [
       "<div>\n",
       "<style scoped>\n",
       "    .dataframe tbody tr th:only-of-type {\n",
       "        vertical-align: middle;\n",
       "    }\n",
       "\n",
       "    .dataframe tbody tr th {\n",
       "        vertical-align: top;\n",
       "    }\n",
       "\n",
       "    .dataframe thead th {\n",
       "        text-align: right;\n",
       "    }\n",
       "</style>\n",
       "<table border=\"1\" class=\"dataframe\">\n",
       "  <thead>\n",
       "    <tr style=\"text-align: right;\">\n",
       "      <th></th>\n",
       "      <th>id</th>\n",
       "      <th>name</th>\n",
       "      <th>description</th>\n",
       "      <th>manufacturer</th>\n",
       "      <th>price</th>\n",
       "      <th>similarity</th>\n",
       "    </tr>\n",
       "  </thead>\n",
       "  <tbody>\n",
       "    <tr>\n",
       "      <th>652</th>\n",
       "      <td>b000hed3fi</td>\n",
       "      <td>encore software 10741 - the print shop 22 delu...</td>\n",
       "      <td>encore software 10741 : new! the print shop 22...</td>\n",
       "      <td>NaN</td>\n",
       "      <td>49.95</td>\n",
       "      <td>1.000000</td>\n",
       "    </tr>\n",
       "    <tr>\n",
       "      <th>714</th>\n",
       "      <td>b000b57k4s</td>\n",
       "      <td>encore software 10038 - encore the print shop ...</td>\n",
       "      <td>encore software 10038 : the print shop 21 delu...</td>\n",
       "      <td>NaN</td>\n",
       "      <td>0.00</td>\n",
       "      <td>0.871795</td>\n",
       "    </tr>\n",
       "    <tr>\n",
       "      <th>391</th>\n",
       "      <td>b000aa87go</td>\n",
       "      <td>print shop deluxe 21</td>\n",
       "      <td>overview when you're ready to add a creative t...</td>\n",
       "      <td>NaN</td>\n",
       "      <td>49.99</td>\n",
       "      <td>0.384615</td>\n",
       "    </tr>\n",
       "    <tr>\n",
       "      <th>33</th>\n",
       "      <td>b000h22rbg</td>\n",
       "      <td>the printshop v22 deluxe</td>\n",
       "      <td>overview create professional projects with all...</td>\n",
       "      <td>NaN</td>\n",
       "      <td>49.99</td>\n",
       "      <td>0.333333</td>\n",
       "    </tr>\n",
       "    <tr>\n",
       "      <th>28</th>\n",
       "      <td>b000h22pg8</td>\n",
       "      <td>the printshop pro publisher v22 deluxe dvd-rom</td>\n",
       "      <td>overview create professional projects with all...</td>\n",
       "      <td>NaN</td>\n",
       "      <td>99.99</td>\n",
       "      <td>0.333333</td>\n",
       "    </tr>\n",
       "  </tbody>\n",
       "</table>\n",
       "</div>"
      ],
      "text/plain": [
       "             id                                               name  \\\n",
       "652  b000hed3fi  encore software 10741 - the print shop 22 delu...   \n",
       "714  b000b57k4s  encore software 10038 - encore the print shop ...   \n",
       "391  b000aa87go                               print shop deluxe 21   \n",
       "33   b000h22rbg                           the printshop v22 deluxe   \n",
       "28   b000h22pg8     the printshop pro publisher v22 deluxe dvd-rom   \n",
       "\n",
       "                                           description manufacturer  price  \\\n",
       "652  encore software 10741 : new! the print shop 22...          NaN  49.95   \n",
       "714  encore software 10038 : the print shop 21 delu...          NaN   0.00   \n",
       "391  overview when you're ready to add a creative t...          NaN  49.99   \n",
       "33   overview create professional projects with all...          NaN  49.99   \n",
       "28   overview create professional projects with all...          NaN  99.99   \n",
       "\n",
       "     similarity  \n",
       "652    1.000000  \n",
       "714    0.871795  \n",
       "391    0.384615  \n",
       "33     0.333333  \n",
       "28     0.333333  "
      ]
     },
     "execution_count": 40,
     "metadata": {},
     "output_type": "execute_result"
    }
   ],
   "source": [
    "result = data.sort_values(by='similarity', ascending=False)\n",
    "result.head()"
   ]
  },
  {
   "cell_type": "markdown",
   "id": "fd0b9d1e",
   "metadata": {},
   "source": [
    "Средняя цена для этих товаров"
   ]
  },
  {
   "cell_type": "code",
   "execution_count": 41,
   "id": "0078f7ce",
   "metadata": {},
   "outputs": [
    {
     "data": {
      "text/plain": [
       "43.992000000000004"
      ]
     },
     "execution_count": 41,
     "metadata": {},
     "output_type": "execute_result"
    }
   ],
   "source": [
    "result.iloc[1:6]['price'].mean()"
   ]
  },
  {
   "cell_type": "markdown",
   "id": "024ea8a3",
   "metadata": {},
   "source": [
    "# kNN для произвольных метрик близости"
   ]
  },
  {
   "cell_type": "markdown",
   "id": "4a43bda2",
   "metadata": {},
   "source": [
    "### Сколько очков наберет игрок в сезоне?"
   ]
  },
  {
   "cell_type": "markdown",
   "id": "087e507d",
   "metadata": {},
   "source": [
    "- player – имя игрока\n",
    "- pos – роль игрока на поле\n",
    "- g – количество матчей, в которых участвовал игрок\n",
    "- gs – количество матчей, в которых игрок был на поле с самого начала\n",
    "- pts – общее количество очков"
   ]
  },
  {
   "cell_type": "markdown",
   "id": "e5656ed6",
   "metadata": {},
   "source": [
    "pos:\n",
    "- SF small forward\n",
    "- C center\n",
    "- PF power forward\n",
    "- SG shooting guard\n",
    "- PG point guard\n",
    "- G guard\n",
    "- F forward"
   ]
  },
  {
   "cell_type": "code",
   "execution_count": 42,
   "id": "01e09ff1",
   "metadata": {},
   "outputs": [
    {
     "data": {
      "text/html": [
       "<div>\n",
       "<style scoped>\n",
       "    .dataframe tbody tr th:only-of-type {\n",
       "        vertical-align: middle;\n",
       "    }\n",
       "\n",
       "    .dataframe tbody tr th {\n",
       "        vertical-align: top;\n",
       "    }\n",
       "\n",
       "    .dataframe thead th {\n",
       "        text-align: right;\n",
       "    }\n",
       "</style>\n",
       "<table border=\"1\" class=\"dataframe\">\n",
       "  <thead>\n",
       "    <tr style=\"text-align: right;\">\n",
       "      <th></th>\n",
       "      <th>player</th>\n",
       "      <th>pos</th>\n",
       "      <th>age</th>\n",
       "      <th>bref_team_id</th>\n",
       "      <th>g</th>\n",
       "      <th>gs</th>\n",
       "      <th>mp</th>\n",
       "      <th>fg</th>\n",
       "      <th>fga</th>\n",
       "      <th>fg.</th>\n",
       "      <th>...</th>\n",
       "      <th>drb</th>\n",
       "      <th>trb</th>\n",
       "      <th>ast</th>\n",
       "      <th>stl</th>\n",
       "      <th>blk</th>\n",
       "      <th>tov</th>\n",
       "      <th>pf</th>\n",
       "      <th>pts</th>\n",
       "      <th>season</th>\n",
       "      <th>season_end</th>\n",
       "    </tr>\n",
       "  </thead>\n",
       "  <tbody>\n",
       "    <tr>\n",
       "      <th>0</th>\n",
       "      <td>Quincy Acy</td>\n",
       "      <td>SF</td>\n",
       "      <td>23</td>\n",
       "      <td>TOT</td>\n",
       "      <td>63</td>\n",
       "      <td>0</td>\n",
       "      <td>847</td>\n",
       "      <td>66</td>\n",
       "      <td>141</td>\n",
       "      <td>0.468</td>\n",
       "      <td>...</td>\n",
       "      <td>144</td>\n",
       "      <td>216</td>\n",
       "      <td>28</td>\n",
       "      <td>23</td>\n",
       "      <td>26</td>\n",
       "      <td>30</td>\n",
       "      <td>122</td>\n",
       "      <td>171</td>\n",
       "      <td>2013-2014</td>\n",
       "      <td>2013</td>\n",
       "    </tr>\n",
       "    <tr>\n",
       "      <th>1</th>\n",
       "      <td>Steven Adams</td>\n",
       "      <td>C</td>\n",
       "      <td>20</td>\n",
       "      <td>OKC</td>\n",
       "      <td>81</td>\n",
       "      <td>20</td>\n",
       "      <td>1197</td>\n",
       "      <td>93</td>\n",
       "      <td>185</td>\n",
       "      <td>0.503</td>\n",
       "      <td>...</td>\n",
       "      <td>190</td>\n",
       "      <td>332</td>\n",
       "      <td>43</td>\n",
       "      <td>40</td>\n",
       "      <td>57</td>\n",
       "      <td>71</td>\n",
       "      <td>203</td>\n",
       "      <td>265</td>\n",
       "      <td>2013-2014</td>\n",
       "      <td>2013</td>\n",
       "    </tr>\n",
       "    <tr>\n",
       "      <th>2</th>\n",
       "      <td>Jeff Adrien</td>\n",
       "      <td>PF</td>\n",
       "      <td>27</td>\n",
       "      <td>TOT</td>\n",
       "      <td>53</td>\n",
       "      <td>12</td>\n",
       "      <td>961</td>\n",
       "      <td>143</td>\n",
       "      <td>275</td>\n",
       "      <td>0.520</td>\n",
       "      <td>...</td>\n",
       "      <td>204</td>\n",
       "      <td>306</td>\n",
       "      <td>38</td>\n",
       "      <td>24</td>\n",
       "      <td>36</td>\n",
       "      <td>39</td>\n",
       "      <td>108</td>\n",
       "      <td>362</td>\n",
       "      <td>2013-2014</td>\n",
       "      <td>2013</td>\n",
       "    </tr>\n",
       "    <tr>\n",
       "      <th>3</th>\n",
       "      <td>Arron Afflalo</td>\n",
       "      <td>SG</td>\n",
       "      <td>28</td>\n",
       "      <td>ORL</td>\n",
       "      <td>73</td>\n",
       "      <td>73</td>\n",
       "      <td>2552</td>\n",
       "      <td>464</td>\n",
       "      <td>1011</td>\n",
       "      <td>0.459</td>\n",
       "      <td>...</td>\n",
       "      <td>230</td>\n",
       "      <td>262</td>\n",
       "      <td>248</td>\n",
       "      <td>35</td>\n",
       "      <td>3</td>\n",
       "      <td>146</td>\n",
       "      <td>136</td>\n",
       "      <td>1330</td>\n",
       "      <td>2013-2014</td>\n",
       "      <td>2013</td>\n",
       "    </tr>\n",
       "    <tr>\n",
       "      <th>4</th>\n",
       "      <td>Alexis Ajinca</td>\n",
       "      <td>C</td>\n",
       "      <td>25</td>\n",
       "      <td>NOP</td>\n",
       "      <td>56</td>\n",
       "      <td>30</td>\n",
       "      <td>951</td>\n",
       "      <td>136</td>\n",
       "      <td>249</td>\n",
       "      <td>0.546</td>\n",
       "      <td>...</td>\n",
       "      <td>183</td>\n",
       "      <td>277</td>\n",
       "      <td>40</td>\n",
       "      <td>23</td>\n",
       "      <td>46</td>\n",
       "      <td>63</td>\n",
       "      <td>187</td>\n",
       "      <td>328</td>\n",
       "      <td>2013-2014</td>\n",
       "      <td>2013</td>\n",
       "    </tr>\n",
       "  </tbody>\n",
       "</table>\n",
       "<p>5 rows × 31 columns</p>\n",
       "</div>"
      ],
      "text/plain": [
       "          player pos  age bref_team_id   g  gs    mp   fg   fga    fg.  ...  \\\n",
       "0     Quincy Acy  SF   23          TOT  63   0   847   66   141  0.468  ...   \n",
       "1   Steven Adams   C   20          OKC  81  20  1197   93   185  0.503  ...   \n",
       "2    Jeff Adrien  PF   27          TOT  53  12   961  143   275  0.520  ...   \n",
       "3  Arron Afflalo  SG   28          ORL  73  73  2552  464  1011  0.459  ...   \n",
       "4  Alexis Ajinca   C   25          NOP  56  30   951  136   249  0.546  ...   \n",
       "\n",
       "   drb  trb  ast  stl  blk  tov   pf   pts     season  season_end  \n",
       "0  144  216   28   23   26   30  122   171  2013-2014        2013  \n",
       "1  190  332   43   40   57   71  203   265  2013-2014        2013  \n",
       "2  204  306   38   24   36   39  108   362  2013-2014        2013  \n",
       "3  230  262  248   35    3  146  136  1330  2013-2014        2013  \n",
       "4  183  277   40   23   46   63  187   328  2013-2014        2013  \n",
       "\n",
       "[5 rows x 31 columns]"
      ]
     },
     "execution_count": 42,
     "metadata": {},
     "output_type": "execute_result"
    }
   ],
   "source": [
    "data = pd.read_csv('datasets/nba_2013.csv')\n",
    "data.head()"
   ]
  },
  {
   "cell_type": "markdown",
   "id": "0dcf1a7b",
   "metadata": {},
   "source": [
    "Для построения модели возьмем несколько столбцов"
   ]
  },
  {
   "cell_type": "code",
   "execution_count": 43,
   "id": "3c994896",
   "metadata": {},
   "outputs": [],
   "source": [
    "predictionColumns = ['pos', 'age', 'g', 'gs']"
   ]
  },
  {
   "cell_type": "code",
   "execution_count": 44,
   "id": "b467d73a",
   "metadata": {},
   "outputs": [
    {
     "data": {
      "text/html": [
       "<div>\n",
       "<style scoped>\n",
       "    .dataframe tbody tr th:only-of-type {\n",
       "        vertical-align: middle;\n",
       "    }\n",
       "\n",
       "    .dataframe tbody tr th {\n",
       "        vertical-align: top;\n",
       "    }\n",
       "\n",
       "    .dataframe thead th {\n",
       "        text-align: right;\n",
       "    }\n",
       "</style>\n",
       "<table border=\"1\" class=\"dataframe\">\n",
       "  <thead>\n",
       "    <tr style=\"text-align: right;\">\n",
       "      <th></th>\n",
       "      <th>pos</th>\n",
       "      <th>age</th>\n",
       "      <th>g</th>\n",
       "      <th>gs</th>\n",
       "    </tr>\n",
       "  </thead>\n",
       "  <tbody>\n",
       "    <tr>\n",
       "      <th>0</th>\n",
       "      <td>SF</td>\n",
       "      <td>23</td>\n",
       "      <td>63</td>\n",
       "      <td>0</td>\n",
       "    </tr>\n",
       "    <tr>\n",
       "      <th>1</th>\n",
       "      <td>C</td>\n",
       "      <td>20</td>\n",
       "      <td>81</td>\n",
       "      <td>20</td>\n",
       "    </tr>\n",
       "    <tr>\n",
       "      <th>2</th>\n",
       "      <td>PF</td>\n",
       "      <td>27</td>\n",
       "      <td>53</td>\n",
       "      <td>12</td>\n",
       "    </tr>\n",
       "    <tr>\n",
       "      <th>3</th>\n",
       "      <td>SG</td>\n",
       "      <td>28</td>\n",
       "      <td>73</td>\n",
       "      <td>73</td>\n",
       "    </tr>\n",
       "    <tr>\n",
       "      <th>4</th>\n",
       "      <td>C</td>\n",
       "      <td>25</td>\n",
       "      <td>56</td>\n",
       "      <td>30</td>\n",
       "    </tr>\n",
       "  </tbody>\n",
       "</table>\n",
       "</div>"
      ],
      "text/plain": [
       "  pos  age   g  gs\n",
       "0  SF   23  63   0\n",
       "1   C   20  81  20\n",
       "2  PF   27  53  12\n",
       "3  SG   28  73  73\n",
       "4   C   25  56  30"
      ]
     },
     "execution_count": 44,
     "metadata": {},
     "output_type": "execute_result"
    }
   ],
   "source": [
    "dataForPrediction = data[predictionColumns]\n",
    "dataForPrediction.head()"
   ]
  },
  {
   "cell_type": "code",
   "execution_count": 45,
   "id": "ab527d91",
   "metadata": {},
   "outputs": [
    {
     "data": {
      "text/html": [
       "<div>\n",
       "<style scoped>\n",
       "    .dataframe tbody tr th:only-of-type {\n",
       "        vertical-align: middle;\n",
       "    }\n",
       "\n",
       "    .dataframe tbody tr th {\n",
       "        vertical-align: top;\n",
       "    }\n",
       "\n",
       "    .dataframe thead th {\n",
       "        text-align: right;\n",
       "    }\n",
       "</style>\n",
       "<table border=\"1\" class=\"dataframe\">\n",
       "  <thead>\n",
       "    <tr style=\"text-align: right;\">\n",
       "      <th></th>\n",
       "      <th>age</th>\n",
       "      <th>g</th>\n",
       "      <th>gs</th>\n",
       "      <th>pos_C</th>\n",
       "      <th>pos_F</th>\n",
       "      <th>pos_G</th>\n",
       "      <th>pos_PF</th>\n",
       "      <th>pos_PG</th>\n",
       "      <th>pos_SF</th>\n",
       "      <th>pos_SG</th>\n",
       "    </tr>\n",
       "  </thead>\n",
       "  <tbody>\n",
       "    <tr>\n",
       "      <th>0</th>\n",
       "      <td>23</td>\n",
       "      <td>63</td>\n",
       "      <td>0</td>\n",
       "      <td>0</td>\n",
       "      <td>0</td>\n",
       "      <td>0</td>\n",
       "      <td>0</td>\n",
       "      <td>0</td>\n",
       "      <td>1</td>\n",
       "      <td>0</td>\n",
       "    </tr>\n",
       "    <tr>\n",
       "      <th>1</th>\n",
       "      <td>20</td>\n",
       "      <td>81</td>\n",
       "      <td>20</td>\n",
       "      <td>1</td>\n",
       "      <td>0</td>\n",
       "      <td>0</td>\n",
       "      <td>0</td>\n",
       "      <td>0</td>\n",
       "      <td>0</td>\n",
       "      <td>0</td>\n",
       "    </tr>\n",
       "    <tr>\n",
       "      <th>2</th>\n",
       "      <td>27</td>\n",
       "      <td>53</td>\n",
       "      <td>12</td>\n",
       "      <td>0</td>\n",
       "      <td>0</td>\n",
       "      <td>0</td>\n",
       "      <td>1</td>\n",
       "      <td>0</td>\n",
       "      <td>0</td>\n",
       "      <td>0</td>\n",
       "    </tr>\n",
       "    <tr>\n",
       "      <th>3</th>\n",
       "      <td>28</td>\n",
       "      <td>73</td>\n",
       "      <td>73</td>\n",
       "      <td>0</td>\n",
       "      <td>0</td>\n",
       "      <td>0</td>\n",
       "      <td>0</td>\n",
       "      <td>0</td>\n",
       "      <td>0</td>\n",
       "      <td>1</td>\n",
       "    </tr>\n",
       "    <tr>\n",
       "      <th>4</th>\n",
       "      <td>25</td>\n",
       "      <td>56</td>\n",
       "      <td>30</td>\n",
       "      <td>1</td>\n",
       "      <td>0</td>\n",
       "      <td>0</td>\n",
       "      <td>0</td>\n",
       "      <td>0</td>\n",
       "      <td>0</td>\n",
       "      <td>0</td>\n",
       "    </tr>\n",
       "  </tbody>\n",
       "</table>\n",
       "</div>"
      ],
      "text/plain": [
       "   age   g  gs  pos_C  pos_F  pos_G  pos_PF  pos_PG  pos_SF  pos_SG\n",
       "0   23  63   0      0      0      0       0       0       1       0\n",
       "1   20  81  20      1      0      0       0       0       0       0\n",
       "2   27  53  12      0      0      0       1       0       0       0\n",
       "3   28  73  73      0      0      0       0       0       0       1\n",
       "4   25  56  30      1      0      0       0       0       0       0"
      ]
     },
     "execution_count": 45,
     "metadata": {},
     "output_type": "execute_result"
    }
   ],
   "source": [
    "dataForPrediction = pd.get_dummies(dataForPrediction)\n",
    "dataForPrediction.head()"
   ]
  },
  {
   "cell_type": "markdown",
   "id": "1918e644",
   "metadata": {},
   "source": [
    "Заместим, что названия колонок нашего датафрейма изменились"
   ]
  },
  {
   "cell_type": "code",
   "execution_count": 46,
   "id": "cb6997a4",
   "metadata": {},
   "outputs": [
    {
     "data": {
      "text/plain": [
       "array(['age', 'g', 'gs', 'pos_C', 'pos_F', 'pos_G', 'pos_PF', 'pos_PG',\n",
       "       'pos_SF', 'pos_SG'], dtype=object)"
      ]
     },
     "execution_count": 46,
     "metadata": {},
     "output_type": "execute_result"
    }
   ],
   "source": [
    "predictionColumns = dataForPrediction.columns.values\n",
    "predictionColumns"
   ]
  },
  {
   "cell_type": "markdown",
   "id": "408a9774",
   "metadata": {},
   "source": [
    "Проведем нормализацию данных"
   ]
  },
  {
   "cell_type": "code",
   "execution_count": 47,
   "id": "32f1754c",
   "metadata": {},
   "outputs": [
    {
     "data": {
      "text/html": [
       "<div>\n",
       "<style scoped>\n",
       "    .dataframe tbody tr th:only-of-type {\n",
       "        vertical-align: middle;\n",
       "    }\n",
       "\n",
       "    .dataframe tbody tr th {\n",
       "        vertical-align: top;\n",
       "    }\n",
       "\n",
       "    .dataframe thead th {\n",
       "        text-align: right;\n",
       "    }\n",
       "</style>\n",
       "<table border=\"1\" class=\"dataframe\">\n",
       "  <thead>\n",
       "    <tr style=\"text-align: right;\">\n",
       "      <th></th>\n",
       "      <th>age</th>\n",
       "      <th>g</th>\n",
       "      <th>gs</th>\n",
       "      <th>pos_C</th>\n",
       "      <th>pos_F</th>\n",
       "      <th>pos_G</th>\n",
       "      <th>pos_PF</th>\n",
       "      <th>pos_PG</th>\n",
       "      <th>pos_SF</th>\n",
       "      <th>pos_SG</th>\n",
       "    </tr>\n",
       "  </thead>\n",
       "  <tbody>\n",
       "    <tr>\n",
       "      <th>0</th>\n",
       "      <td>-0.835906</td>\n",
       "      <td>0.384886</td>\n",
       "      <td>-0.862207</td>\n",
       "      <td>-0.479271</td>\n",
       "      <td>-0.045596</td>\n",
       "      <td>-0.045596</td>\n",
       "      <td>-0.498831</td>\n",
       "      <td>-0.462818</td>\n",
       "      <td>1.962285</td>\n",
       "      <td>-0.540742</td>\n",
       "    </tr>\n",
       "    <tr>\n",
       "      <th>1</th>\n",
       "      <td>-1.550487</td>\n",
       "      <td>1.095711</td>\n",
       "      <td>-0.187863</td>\n",
       "      <td>2.082165</td>\n",
       "      <td>-0.045596</td>\n",
       "      <td>-0.045596</td>\n",
       "      <td>-0.498831</td>\n",
       "      <td>-0.462818</td>\n",
       "      <td>-0.508550</td>\n",
       "      <td>-0.540742</td>\n",
       "    </tr>\n",
       "    <tr>\n",
       "      <th>2</th>\n",
       "      <td>0.116868</td>\n",
       "      <td>-0.010016</td>\n",
       "      <td>-0.457600</td>\n",
       "      <td>-0.479271</td>\n",
       "      <td>-0.045596</td>\n",
       "      <td>-0.045596</td>\n",
       "      <td>2.000520</td>\n",
       "      <td>-0.462818</td>\n",
       "      <td>-0.508550</td>\n",
       "      <td>-0.540742</td>\n",
       "    </tr>\n",
       "    <tr>\n",
       "      <th>3</th>\n",
       "      <td>0.355062</td>\n",
       "      <td>0.779789</td>\n",
       "      <td>1.599148</td>\n",
       "      <td>-0.479271</td>\n",
       "      <td>-0.045596</td>\n",
       "      <td>-0.045596</td>\n",
       "      <td>-0.498831</td>\n",
       "      <td>-0.462818</td>\n",
       "      <td>-0.508550</td>\n",
       "      <td>1.845467</td>\n",
       "    </tr>\n",
       "    <tr>\n",
       "      <th>4</th>\n",
       "      <td>-0.359519</td>\n",
       "      <td>0.108454</td>\n",
       "      <td>0.149309</td>\n",
       "      <td>2.082165</td>\n",
       "      <td>-0.045596</td>\n",
       "      <td>-0.045596</td>\n",
       "      <td>-0.498831</td>\n",
       "      <td>-0.462818</td>\n",
       "      <td>-0.508550</td>\n",
       "      <td>-0.540742</td>\n",
       "    </tr>\n",
       "  </tbody>\n",
       "</table>\n",
       "</div>"
      ],
      "text/plain": [
       "        age         g        gs     pos_C     pos_F     pos_G    pos_PF  \\\n",
       "0 -0.835906  0.384886 -0.862207 -0.479271 -0.045596 -0.045596 -0.498831   \n",
       "1 -1.550487  1.095711 -0.187863  2.082165 -0.045596 -0.045596 -0.498831   \n",
       "2  0.116868 -0.010016 -0.457600 -0.479271 -0.045596 -0.045596  2.000520   \n",
       "3  0.355062  0.779789  1.599148 -0.479271 -0.045596 -0.045596 -0.498831   \n",
       "4 -0.359519  0.108454  0.149309  2.082165 -0.045596 -0.045596 -0.498831   \n",
       "\n",
       "     pos_PG    pos_SF    pos_SG  \n",
       "0 -0.462818  1.962285 -0.540742  \n",
       "1 -0.462818 -0.508550 -0.540742  \n",
       "2 -0.462818 -0.508550 -0.540742  \n",
       "3 -0.462818 -0.508550  1.845467  \n",
       "4 -0.462818 -0.508550 -0.540742  "
      ]
     },
     "execution_count": 47,
     "metadata": {},
     "output_type": "execute_result"
    }
   ],
   "source": [
    "dataNormalized = (dataForPrediction - dataForPrediction.mean())/ dataForPrediction.std()\n",
    "dataNormalized.head()"
   ]
  },
  {
   "cell_type": "markdown",
   "id": "af46d1ac",
   "metadata": {},
   "source": [
    "Проверим, что у всех столбцов среднее 0 и среднеквадратичное отклонение 1"
   ]
  },
  {
   "cell_type": "code",
   "execution_count": 48,
   "id": "6429607c",
   "metadata": {},
   "outputs": [
    {
     "data": {
      "text/html": [
       "<div>\n",
       "<style scoped>\n",
       "    .dataframe tbody tr th:only-of-type {\n",
       "        vertical-align: middle;\n",
       "    }\n",
       "\n",
       "    .dataframe tbody tr th {\n",
       "        vertical-align: top;\n",
       "    }\n",
       "\n",
       "    .dataframe thead th {\n",
       "        text-align: right;\n",
       "    }\n",
       "</style>\n",
       "<table border=\"1\" class=\"dataframe\">\n",
       "  <thead>\n",
       "    <tr style=\"text-align: right;\">\n",
       "      <th></th>\n",
       "      <th>age</th>\n",
       "      <th>g</th>\n",
       "      <th>gs</th>\n",
       "      <th>pos_C</th>\n",
       "      <th>pos_F</th>\n",
       "      <th>pos_G</th>\n",
       "      <th>pos_PF</th>\n",
       "      <th>pos_PG</th>\n",
       "      <th>pos_SF</th>\n",
       "      <th>pos_SG</th>\n",
       "    </tr>\n",
       "  </thead>\n",
       "  <tbody>\n",
       "    <tr>\n",
       "      <th>count</th>\n",
       "      <td>4.810000e+02</td>\n",
       "      <td>4.810000e+02</td>\n",
       "      <td>4.810000e+02</td>\n",
       "      <td>4.810000e+02</td>\n",
       "      <td>481.000000</td>\n",
       "      <td>4.810000e+02</td>\n",
       "      <td>4.810000e+02</td>\n",
       "      <td>4.810000e+02</td>\n",
       "      <td>4.810000e+02</td>\n",
       "      <td>4.810000e+02</td>\n",
       "    </tr>\n",
       "    <tr>\n",
       "      <th>mean</th>\n",
       "      <td>2.806718e-16</td>\n",
       "      <td>1.329498e-16</td>\n",
       "      <td>-2.954440e-17</td>\n",
       "      <td>-7.016794e-17</td>\n",
       "      <td>0.000000</td>\n",
       "      <td>7.386099e-18</td>\n",
       "      <td>-3.693050e-17</td>\n",
       "      <td>7.386099e-18</td>\n",
       "      <td>-6.647489e-17</td>\n",
       "      <td>2.215830e-17</td>\n",
       "    </tr>\n",
       "    <tr>\n",
       "      <th>std</th>\n",
       "      <td>1.000000e+00</td>\n",
       "      <td>1.000000e+00</td>\n",
       "      <td>1.000000e+00</td>\n",
       "      <td>1.000000e+00</td>\n",
       "      <td>1.000000</td>\n",
       "      <td>1.000000e+00</td>\n",
       "      <td>1.000000e+00</td>\n",
       "      <td>1.000000e+00</td>\n",
       "      <td>1.000000e+00</td>\n",
       "      <td>1.000000e+00</td>\n",
       "    </tr>\n",
       "    <tr>\n",
       "      <th>min</th>\n",
       "      <td>-1.788680e+00</td>\n",
       "      <td>-2.063509e+00</td>\n",
       "      <td>-8.622067e-01</td>\n",
       "      <td>-4.792708e-01</td>\n",
       "      <td>-0.045596</td>\n",
       "      <td>-4.559608e-02</td>\n",
       "      <td>-4.988309e-01</td>\n",
       "      <td>-4.628177e-01</td>\n",
       "      <td>-5.085504e-01</td>\n",
       "      <td>-5.407417e-01</td>\n",
       "    </tr>\n",
       "    <tr>\n",
       "      <th>25%</th>\n",
       "      <td>-8.359060e-01</td>\n",
       "      <td>-8.393113e-01</td>\n",
       "      <td>-8.622067e-01</td>\n",
       "      <td>-4.792708e-01</td>\n",
       "      <td>-0.045596</td>\n",
       "      <td>-4.559608e-02</td>\n",
       "      <td>-4.988309e-01</td>\n",
       "      <td>-4.628177e-01</td>\n",
       "      <td>-5.085504e-01</td>\n",
       "      <td>-5.407417e-01</td>\n",
       "    </tr>\n",
       "    <tr>\n",
       "      <th>50%</th>\n",
       "      <td>-1.213252e-01</td>\n",
       "      <td>3.059057e-01</td>\n",
       "      <td>-5.250348e-01</td>\n",
       "      <td>-4.792708e-01</td>\n",
       "      <td>-0.045596</td>\n",
       "      <td>-4.559608e-02</td>\n",
       "      <td>-4.988309e-01</td>\n",
       "      <td>-4.628177e-01</td>\n",
       "      <td>-5.085504e-01</td>\n",
       "      <td>-5.407417e-01</td>\n",
       "    </tr>\n",
       "    <tr>\n",
       "      <th>75%</th>\n",
       "      <td>5.932556e-01</td>\n",
       "      <td>8.982593e-01</td>\n",
       "      <td>9.585214e-01</td>\n",
       "      <td>-4.792708e-01</td>\n",
       "      <td>-0.045596</td>\n",
       "      <td>-4.559608e-02</td>\n",
       "      <td>-4.988309e-01</td>\n",
       "      <td>-4.628177e-01</td>\n",
       "      <td>-5.085504e-01</td>\n",
       "      <td>-5.407417e-01</td>\n",
       "    </tr>\n",
       "    <tr>\n",
       "      <th>max</th>\n",
       "      <td>2.975192e+00</td>\n",
       "      <td>1.174691e+00</td>\n",
       "      <td>1.902603e+00</td>\n",
       "      <td>2.082165e+00</td>\n",
       "      <td>21.886116</td>\n",
       "      <td>2.188612e+01</td>\n",
       "      <td>2.000520e+00</td>\n",
       "      <td>2.156186e+00</td>\n",
       "      <td>1.962285e+00</td>\n",
       "      <td>1.845467e+00</td>\n",
       "    </tr>\n",
       "  </tbody>\n",
       "</table>\n",
       "</div>"
      ],
      "text/plain": [
       "                age             g            gs         pos_C       pos_F  \\\n",
       "count  4.810000e+02  4.810000e+02  4.810000e+02  4.810000e+02  481.000000   \n",
       "mean   2.806718e-16  1.329498e-16 -2.954440e-17 -7.016794e-17    0.000000   \n",
       "std    1.000000e+00  1.000000e+00  1.000000e+00  1.000000e+00    1.000000   \n",
       "min   -1.788680e+00 -2.063509e+00 -8.622067e-01 -4.792708e-01   -0.045596   \n",
       "25%   -8.359060e-01 -8.393113e-01 -8.622067e-01 -4.792708e-01   -0.045596   \n",
       "50%   -1.213252e-01  3.059057e-01 -5.250348e-01 -4.792708e-01   -0.045596   \n",
       "75%    5.932556e-01  8.982593e-01  9.585214e-01 -4.792708e-01   -0.045596   \n",
       "max    2.975192e+00  1.174691e+00  1.902603e+00  2.082165e+00   21.886116   \n",
       "\n",
       "              pos_G        pos_PF        pos_PG        pos_SF        pos_SG  \n",
       "count  4.810000e+02  4.810000e+02  4.810000e+02  4.810000e+02  4.810000e+02  \n",
       "mean   7.386099e-18 -3.693050e-17  7.386099e-18 -6.647489e-17  2.215830e-17  \n",
       "std    1.000000e+00  1.000000e+00  1.000000e+00  1.000000e+00  1.000000e+00  \n",
       "min   -4.559608e-02 -4.988309e-01 -4.628177e-01 -5.085504e-01 -5.407417e-01  \n",
       "25%   -4.559608e-02 -4.988309e-01 -4.628177e-01 -5.085504e-01 -5.407417e-01  \n",
       "50%   -4.559608e-02 -4.988309e-01 -4.628177e-01 -5.085504e-01 -5.407417e-01  \n",
       "75%   -4.559608e-02 -4.988309e-01 -4.628177e-01 -5.085504e-01 -5.407417e-01  \n",
       "max    2.188612e+01  2.000520e+00  2.156186e+00  1.962285e+00  1.845467e+00  "
      ]
     },
     "execution_count": 48,
     "metadata": {},
     "output_type": "execute_result"
    }
   ],
   "source": [
    "dataNormalized.describe()"
   ]
  },
  {
   "cell_type": "markdown",
   "id": "a3fdd595",
   "metadata": {},
   "source": [
    "Выберем игрока, для которого будем искать наиболее близких"
   ]
  },
  {
   "cell_type": "code",
   "execution_count": 49,
   "id": "b9a3b23a",
   "metadata": {},
   "outputs": [
    {
     "data": {
      "text/plain": [
       "age      -0.835906\n",
       "g         0.384886\n",
       "gs       -0.862207\n",
       "pos_C    -0.479271\n",
       "pos_F    -0.045596\n",
       "pos_G    -0.045596\n",
       "pos_PF   -0.498831\n",
       "pos_PG   -0.462818\n",
       "pos_SF    1.962285\n",
       "pos_SG   -0.540742\n",
       "Name: 0, dtype: float64"
      ]
     },
     "execution_count": 49,
     "metadata": {},
     "output_type": "execute_result"
    }
   ],
   "source": [
    "selectPlayer = dataNormalized.loc[0]\n",
    "selectPlayer"
   ]
  },
  {
   "cell_type": "code",
   "execution_count": 50,
   "id": "6a47a593",
   "metadata": {},
   "outputs": [],
   "source": [
    "def euclidean_distance(player, selectedPlayer):\n",
    "    \"\"\"\n",
    "    Считаем \"расстояние\" между выбранным игроком selected_player и текущим player.\n",
    "    В нашем случае это обычное евклидово расстояние\n",
    "    \"\"\"\n",
    "\n",
    "    dist = 0\n",
    "    for metricName in predictionColumns:\n",
    "        dist += (player[metricName] - selectedPlayer[metricName]) ** 2\n",
    "    \n",
    "    return dist ** .5"
   ]
  },
  {
   "cell_type": "code",
   "execution_count": 51,
   "id": "8b497b13",
   "metadata": {},
   "outputs": [],
   "source": [
    "def euclidean_distance2(x, y):\n",
    "    \"\"\"\n",
    "    Считаем \"расстояние\" между выбранным игроком selected_player и  текущим player.\n",
    "    Аналогичный расчет для использования в модели KNeighborsRegressor\n",
    "    \"\"\"\n",
    "    return np.sum((x - y ) ** 2) ** .5"
   ]
  },
  {
   "cell_type": "markdown",
   "id": "a6dd6069",
   "metadata": {},
   "source": [
    "Введем новый столбец \"близости\" игроков к выбранному"
   ]
  },
  {
   "cell_type": "code",
   "execution_count": 52,
   "id": "269dbb9e",
   "metadata": {},
   "outputs": [
    {
     "data": {
      "text/html": [
       "<div>\n",
       "<style scoped>\n",
       "    .dataframe tbody tr th:only-of-type {\n",
       "        vertical-align: middle;\n",
       "    }\n",
       "\n",
       "    .dataframe tbody tr th {\n",
       "        vertical-align: top;\n",
       "    }\n",
       "\n",
       "    .dataframe thead th {\n",
       "        text-align: right;\n",
       "    }\n",
       "</style>\n",
       "<table border=\"1\" class=\"dataframe\">\n",
       "  <thead>\n",
       "    <tr style=\"text-align: right;\">\n",
       "      <th></th>\n",
       "      <th>age</th>\n",
       "      <th>g</th>\n",
       "      <th>gs</th>\n",
       "      <th>pos_C</th>\n",
       "      <th>pos_F</th>\n",
       "      <th>pos_G</th>\n",
       "      <th>pos_PF</th>\n",
       "      <th>pos_PG</th>\n",
       "      <th>pos_SF</th>\n",
       "      <th>pos_SG</th>\n",
       "      <th>distance</th>\n",
       "    </tr>\n",
       "  </thead>\n",
       "  <tbody>\n",
       "    <tr>\n",
       "      <th>0</th>\n",
       "      <td>-0.835906</td>\n",
       "      <td>0.384886</td>\n",
       "      <td>-0.862207</td>\n",
       "      <td>-0.479271</td>\n",
       "      <td>-0.045596</td>\n",
       "      <td>-0.045596</td>\n",
       "      <td>-0.498831</td>\n",
       "      <td>-0.462818</td>\n",
       "      <td>1.962285</td>\n",
       "      <td>-0.540742</td>\n",
       "      <td>0.000000</td>\n",
       "    </tr>\n",
       "    <tr>\n",
       "      <th>1</th>\n",
       "      <td>-1.550487</td>\n",
       "      <td>1.095711</td>\n",
       "      <td>-0.187863</td>\n",
       "      <td>2.082165</td>\n",
       "      <td>-0.045596</td>\n",
       "      <td>-0.045596</td>\n",
       "      <td>-0.498831</td>\n",
       "      <td>-0.462818</td>\n",
       "      <td>-0.508550</td>\n",
       "      <td>-0.540742</td>\n",
       "      <td>3.759870</td>\n",
       "    </tr>\n",
       "    <tr>\n",
       "      <th>2</th>\n",
       "      <td>0.116868</td>\n",
       "      <td>-0.010016</td>\n",
       "      <td>-0.457600</td>\n",
       "      <td>-0.479271</td>\n",
       "      <td>-0.045596</td>\n",
       "      <td>-0.045596</td>\n",
       "      <td>2.000520</td>\n",
       "      <td>-0.462818</td>\n",
       "      <td>-0.508550</td>\n",
       "      <td>-0.540742</td>\n",
       "      <td>3.684999</td>\n",
       "    </tr>\n",
       "    <tr>\n",
       "      <th>3</th>\n",
       "      <td>0.355062</td>\n",
       "      <td>0.779789</td>\n",
       "      <td>1.599148</td>\n",
       "      <td>-0.479271</td>\n",
       "      <td>-0.045596</td>\n",
       "      <td>-0.045596</td>\n",
       "      <td>-0.498831</td>\n",
       "      <td>-0.462818</td>\n",
       "      <td>-0.508550</td>\n",
       "      <td>1.845467</td>\n",
       "      <td>4.408134</td>\n",
       "    </tr>\n",
       "    <tr>\n",
       "      <th>4</th>\n",
       "      <td>-0.359519</td>\n",
       "      <td>0.108454</td>\n",
       "      <td>0.149309</td>\n",
       "      <td>2.082165</td>\n",
       "      <td>-0.045596</td>\n",
       "      <td>-0.045596</td>\n",
       "      <td>-0.498831</td>\n",
       "      <td>-0.462818</td>\n",
       "      <td>-0.508550</td>\n",
       "      <td>-0.540742</td>\n",
       "      <td>3.740656</td>\n",
       "    </tr>\n",
       "  </tbody>\n",
       "</table>\n",
       "</div>"
      ],
      "text/plain": [
       "        age         g        gs     pos_C     pos_F     pos_G    pos_PF  \\\n",
       "0 -0.835906  0.384886 -0.862207 -0.479271 -0.045596 -0.045596 -0.498831   \n",
       "1 -1.550487  1.095711 -0.187863  2.082165 -0.045596 -0.045596 -0.498831   \n",
       "2  0.116868 -0.010016 -0.457600 -0.479271 -0.045596 -0.045596  2.000520   \n",
       "3  0.355062  0.779789  1.599148 -0.479271 -0.045596 -0.045596 -0.498831   \n",
       "4 -0.359519  0.108454  0.149309  2.082165 -0.045596 -0.045596 -0.498831   \n",
       "\n",
       "     pos_PG    pos_SF    pos_SG  distance  \n",
       "0 -0.462818  1.962285 -0.540742  0.000000  \n",
       "1 -0.462818 -0.508550 -0.540742  3.759870  \n",
       "2 -0.462818 -0.508550 -0.540742  3.684999  \n",
       "3 -0.462818 -0.508550  1.845467  4.408134  \n",
       "4 -0.462818 -0.508550 -0.540742  3.740656  "
      ]
     },
     "execution_count": 52,
     "metadata": {},
     "output_type": "execute_result"
    }
   ],
   "source": [
    "dataNormalized['distance'] = dataNormalized.apply(euclidean_distance, axis=1, args=(selectPlayer,))\n",
    "dataNormalized.head()"
   ]
  },
  {
   "cell_type": "markdown",
   "id": "bf1d8572",
   "metadata": {},
   "source": [
    "Объединяем вычисления с исходными данными"
   ]
  },
  {
   "cell_type": "code",
   "execution_count": 53,
   "id": "16755d7a",
   "metadata": {},
   "outputs": [
    {
     "data": {
      "text/html": [
       "<div>\n",
       "<style scoped>\n",
       "    .dataframe tbody tr th:only-of-type {\n",
       "        vertical-align: middle;\n",
       "    }\n",
       "\n",
       "    .dataframe tbody tr th {\n",
       "        vertical-align: top;\n",
       "    }\n",
       "\n",
       "    .dataframe thead th {\n",
       "        text-align: right;\n",
       "    }\n",
       "</style>\n",
       "<table border=\"1\" class=\"dataframe\">\n",
       "  <thead>\n",
       "    <tr style=\"text-align: right;\">\n",
       "      <th></th>\n",
       "      <th>player</th>\n",
       "      <th>pos</th>\n",
       "      <th>age</th>\n",
       "      <th>bref_team_id</th>\n",
       "      <th>g</th>\n",
       "      <th>gs</th>\n",
       "      <th>mp</th>\n",
       "      <th>fg</th>\n",
       "      <th>fga</th>\n",
       "      <th>fg.</th>\n",
       "      <th>...</th>\n",
       "      <th>trb</th>\n",
       "      <th>ast</th>\n",
       "      <th>stl</th>\n",
       "      <th>blk</th>\n",
       "      <th>tov</th>\n",
       "      <th>pf</th>\n",
       "      <th>pts</th>\n",
       "      <th>season</th>\n",
       "      <th>season_end</th>\n",
       "      <th>distance</th>\n",
       "    </tr>\n",
       "  </thead>\n",
       "  <tbody>\n",
       "    <tr>\n",
       "      <th>0</th>\n",
       "      <td>Quincy Acy</td>\n",
       "      <td>SF</td>\n",
       "      <td>23</td>\n",
       "      <td>TOT</td>\n",
       "      <td>63</td>\n",
       "      <td>0</td>\n",
       "      <td>847</td>\n",
       "      <td>66</td>\n",
       "      <td>141</td>\n",
       "      <td>0.468</td>\n",
       "      <td>...</td>\n",
       "      <td>216</td>\n",
       "      <td>28</td>\n",
       "      <td>23</td>\n",
       "      <td>26</td>\n",
       "      <td>30</td>\n",
       "      <td>122</td>\n",
       "      <td>171</td>\n",
       "      <td>2013-2014</td>\n",
       "      <td>2013</td>\n",
       "      <td>0.000000</td>\n",
       "    </tr>\n",
       "    <tr>\n",
       "      <th>1</th>\n",
       "      <td>Steven Adams</td>\n",
       "      <td>C</td>\n",
       "      <td>20</td>\n",
       "      <td>OKC</td>\n",
       "      <td>81</td>\n",
       "      <td>20</td>\n",
       "      <td>1197</td>\n",
       "      <td>93</td>\n",
       "      <td>185</td>\n",
       "      <td>0.503</td>\n",
       "      <td>...</td>\n",
       "      <td>332</td>\n",
       "      <td>43</td>\n",
       "      <td>40</td>\n",
       "      <td>57</td>\n",
       "      <td>71</td>\n",
       "      <td>203</td>\n",
       "      <td>265</td>\n",
       "      <td>2013-2014</td>\n",
       "      <td>2013</td>\n",
       "      <td>3.759870</td>\n",
       "    </tr>\n",
       "    <tr>\n",
       "      <th>2</th>\n",
       "      <td>Jeff Adrien</td>\n",
       "      <td>PF</td>\n",
       "      <td>27</td>\n",
       "      <td>TOT</td>\n",
       "      <td>53</td>\n",
       "      <td>12</td>\n",
       "      <td>961</td>\n",
       "      <td>143</td>\n",
       "      <td>275</td>\n",
       "      <td>0.520</td>\n",
       "      <td>...</td>\n",
       "      <td>306</td>\n",
       "      <td>38</td>\n",
       "      <td>24</td>\n",
       "      <td>36</td>\n",
       "      <td>39</td>\n",
       "      <td>108</td>\n",
       "      <td>362</td>\n",
       "      <td>2013-2014</td>\n",
       "      <td>2013</td>\n",
       "      <td>3.684999</td>\n",
       "    </tr>\n",
       "    <tr>\n",
       "      <th>3</th>\n",
       "      <td>Arron Afflalo</td>\n",
       "      <td>SG</td>\n",
       "      <td>28</td>\n",
       "      <td>ORL</td>\n",
       "      <td>73</td>\n",
       "      <td>73</td>\n",
       "      <td>2552</td>\n",
       "      <td>464</td>\n",
       "      <td>1011</td>\n",
       "      <td>0.459</td>\n",
       "      <td>...</td>\n",
       "      <td>262</td>\n",
       "      <td>248</td>\n",
       "      <td>35</td>\n",
       "      <td>3</td>\n",
       "      <td>146</td>\n",
       "      <td>136</td>\n",
       "      <td>1330</td>\n",
       "      <td>2013-2014</td>\n",
       "      <td>2013</td>\n",
       "      <td>4.408134</td>\n",
       "    </tr>\n",
       "    <tr>\n",
       "      <th>4</th>\n",
       "      <td>Alexis Ajinca</td>\n",
       "      <td>C</td>\n",
       "      <td>25</td>\n",
       "      <td>NOP</td>\n",
       "      <td>56</td>\n",
       "      <td>30</td>\n",
       "      <td>951</td>\n",
       "      <td>136</td>\n",
       "      <td>249</td>\n",
       "      <td>0.546</td>\n",
       "      <td>...</td>\n",
       "      <td>277</td>\n",
       "      <td>40</td>\n",
       "      <td>23</td>\n",
       "      <td>46</td>\n",
       "      <td>63</td>\n",
       "      <td>187</td>\n",
       "      <td>328</td>\n",
       "      <td>2013-2014</td>\n",
       "      <td>2013</td>\n",
       "      <td>3.740656</td>\n",
       "    </tr>\n",
       "  </tbody>\n",
       "</table>\n",
       "<p>5 rows × 32 columns</p>\n",
       "</div>"
      ],
      "text/plain": [
       "          player pos  age bref_team_id   g  gs    mp   fg   fga    fg.  ...  \\\n",
       "0     Quincy Acy  SF   23          TOT  63   0   847   66   141  0.468  ...   \n",
       "1   Steven Adams   C   20          OKC  81  20  1197   93   185  0.503  ...   \n",
       "2    Jeff Adrien  PF   27          TOT  53  12   961  143   275  0.520  ...   \n",
       "3  Arron Afflalo  SG   28          ORL  73  73  2552  464  1011  0.459  ...   \n",
       "4  Alexis Ajinca   C   25          NOP  56  30   951  136   249  0.546  ...   \n",
       "\n",
       "   trb  ast  stl  blk  tov   pf   pts     season  season_end  distance  \n",
       "0  216   28   23   26   30  122   171  2013-2014        2013  0.000000  \n",
       "1  332   43   40   57   71  203   265  2013-2014        2013  3.759870  \n",
       "2  306   38   24   36   39  108   362  2013-2014        2013  3.684999  \n",
       "3  262  248   35    3  146  136  1330  2013-2014        2013  4.408134  \n",
       "4  277   40   23   46   63  187   328  2013-2014        2013  3.740656  \n",
       "\n",
       "[5 rows x 32 columns]"
      ]
     },
     "execution_count": 53,
     "metadata": {},
     "output_type": "execute_result"
    }
   ],
   "source": [
    "dataWithDistance = data.join(dataNormalized['distance'])\n",
    "dataWithDistance.head()"
   ]
  },
  {
   "cell_type": "code",
   "execution_count": 54,
   "id": "7e87a31d",
   "metadata": {},
   "outputs": [
    {
     "data": {
      "text/html": [
       "<div>\n",
       "<style scoped>\n",
       "    .dataframe tbody tr th:only-of-type {\n",
       "        vertical-align: middle;\n",
       "    }\n",
       "\n",
       "    .dataframe tbody tr th {\n",
       "        vertical-align: top;\n",
       "    }\n",
       "\n",
       "    .dataframe thead th {\n",
       "        text-align: right;\n",
       "    }\n",
       "</style>\n",
       "<table border=\"1\" class=\"dataframe\">\n",
       "  <thead>\n",
       "    <tr style=\"text-align: right;\">\n",
       "      <th></th>\n",
       "      <th>player</th>\n",
       "      <th>pos</th>\n",
       "      <th>age</th>\n",
       "      <th>bref_team_id</th>\n",
       "      <th>g</th>\n",
       "      <th>gs</th>\n",
       "      <th>mp</th>\n",
       "      <th>fg</th>\n",
       "      <th>fga</th>\n",
       "      <th>fg.</th>\n",
       "      <th>...</th>\n",
       "      <th>trb</th>\n",
       "      <th>ast</th>\n",
       "      <th>stl</th>\n",
       "      <th>blk</th>\n",
       "      <th>tov</th>\n",
       "      <th>pf</th>\n",
       "      <th>pts</th>\n",
       "      <th>season</th>\n",
       "      <th>season_end</th>\n",
       "      <th>distance</th>\n",
       "    </tr>\n",
       "  </thead>\n",
       "  <tbody>\n",
       "    <tr>\n",
       "      <th>0</th>\n",
       "      <td>Quincy Acy</td>\n",
       "      <td>SF</td>\n",
       "      <td>23</td>\n",
       "      <td>TOT</td>\n",
       "      <td>63</td>\n",
       "      <td>0</td>\n",
       "      <td>847</td>\n",
       "      <td>66</td>\n",
       "      <td>141</td>\n",
       "      <td>0.468</td>\n",
       "      <td>...</td>\n",
       "      <td>216</td>\n",
       "      <td>28</td>\n",
       "      <td>23</td>\n",
       "      <td>26</td>\n",
       "      <td>30</td>\n",
       "      <td>122</td>\n",
       "      <td>171</td>\n",
       "      <td>2013-2014</td>\n",
       "      <td>2013</td>\n",
       "      <td>0.000000</td>\n",
       "    </tr>\n",
       "    <tr>\n",
       "      <th>181</th>\n",
       "      <td>Jordan Hamilton</td>\n",
       "      <td>SF</td>\n",
       "      <td>23</td>\n",
       "      <td>TOT</td>\n",
       "      <td>60</td>\n",
       "      <td>12</td>\n",
       "      <td>1019</td>\n",
       "      <td>147</td>\n",
       "      <td>376</td>\n",
       "      <td>0.391</td>\n",
       "      <td>...</td>\n",
       "      <td>194</td>\n",
       "      <td>52</td>\n",
       "      <td>44</td>\n",
       "      <td>20</td>\n",
       "      <td>46</td>\n",
       "      <td>67</td>\n",
       "      <td>404</td>\n",
       "      <td>2013-2014</td>\n",
       "      <td>2013</td>\n",
       "      <td>0.421594</td>\n",
       "    </tr>\n",
       "    <tr>\n",
       "      <th>213</th>\n",
       "      <td>Robbie Hummel</td>\n",
       "      <td>SF</td>\n",
       "      <td>24</td>\n",
       "      <td>MIN</td>\n",
       "      <td>53</td>\n",
       "      <td>5</td>\n",
       "      <td>655</td>\n",
       "      <td>67</td>\n",
       "      <td>177</td>\n",
       "      <td>0.379</td>\n",
       "      <td>...</td>\n",
       "      <td>132</td>\n",
       "      <td>23</td>\n",
       "      <td>16</td>\n",
       "      <td>2</td>\n",
       "      <td>10</td>\n",
       "      <td>57</td>\n",
       "      <td>181</td>\n",
       "      <td>2013-2014</td>\n",
       "      <td>2013</td>\n",
       "      <td>0.491025</td>\n",
       "    </tr>\n",
       "    <tr>\n",
       "      <th>22</th>\n",
       "      <td>Darrell Arthur</td>\n",
       "      <td>SF</td>\n",
       "      <td>25</td>\n",
       "      <td>DEN</td>\n",
       "      <td>68</td>\n",
       "      <td>1</td>\n",
       "      <td>1161</td>\n",
       "      <td>162</td>\n",
       "      <td>410</td>\n",
       "      <td>0.395</td>\n",
       "      <td>...</td>\n",
       "      <td>210</td>\n",
       "      <td>61</td>\n",
       "      <td>39</td>\n",
       "      <td>47</td>\n",
       "      <td>58</td>\n",
       "      <td>185</td>\n",
       "      <td>401</td>\n",
       "      <td>2013-2014</td>\n",
       "      <td>2013</td>\n",
       "      <td>0.516787</td>\n",
       "    </tr>\n",
       "    <tr>\n",
       "      <th>42</th>\n",
       "      <td>Michael Beasley</td>\n",
       "      <td>SF</td>\n",
       "      <td>25</td>\n",
       "      <td>MIA</td>\n",
       "      <td>55</td>\n",
       "      <td>2</td>\n",
       "      <td>831</td>\n",
       "      <td>177</td>\n",
       "      <td>355</td>\n",
       "      <td>0.499</td>\n",
       "      <td>...</td>\n",
       "      <td>172</td>\n",
       "      <td>42</td>\n",
       "      <td>23</td>\n",
       "      <td>21</td>\n",
       "      <td>57</td>\n",
       "      <td>93</td>\n",
       "      <td>436</td>\n",
       "      <td>2013-2014</td>\n",
       "      <td>2013</td>\n",
       "      <td>0.575586</td>\n",
       "    </tr>\n",
       "    <tr>\n",
       "      <th>106</th>\n",
       "      <td>Jae Crowder</td>\n",
       "      <td>SF</td>\n",
       "      <td>23</td>\n",
       "      <td>DAL</td>\n",
       "      <td>78</td>\n",
       "      <td>8</td>\n",
       "      <td>1254</td>\n",
       "      <td>130</td>\n",
       "      <td>296</td>\n",
       "      <td>0.439</td>\n",
       "      <td>...</td>\n",
       "      <td>194</td>\n",
       "      <td>60</td>\n",
       "      <td>59</td>\n",
       "      <td>21</td>\n",
       "      <td>41</td>\n",
       "      <td>100</td>\n",
       "      <td>356</td>\n",
       "      <td>2013-2014</td>\n",
       "      <td>2013</td>\n",
       "      <td>0.650877</td>\n",
       "    </tr>\n",
       "  </tbody>\n",
       "</table>\n",
       "<p>6 rows × 32 columns</p>\n",
       "</div>"
      ],
      "text/plain": [
       "              player pos  age bref_team_id   g  gs    mp   fg  fga    fg.  \\\n",
       "0         Quincy Acy  SF   23          TOT  63   0   847   66  141  0.468   \n",
       "181  Jordan Hamilton  SF   23          TOT  60  12  1019  147  376  0.391   \n",
       "213    Robbie Hummel  SF   24          MIN  53   5   655   67  177  0.379   \n",
       "22    Darrell Arthur  SF   25          DEN  68   1  1161  162  410  0.395   \n",
       "42   Michael Beasley  SF   25          MIA  55   2   831  177  355  0.499   \n",
       "106      Jae Crowder  SF   23          DAL  78   8  1254  130  296  0.439   \n",
       "\n",
       "     ...  trb  ast  stl  blk  tov   pf  pts     season  season_end  distance  \n",
       "0    ...  216   28   23   26   30  122  171  2013-2014        2013  0.000000  \n",
       "181  ...  194   52   44   20   46   67  404  2013-2014        2013  0.421594  \n",
       "213  ...  132   23   16    2   10   57  181  2013-2014        2013  0.491025  \n",
       "22   ...  210   61   39   47   58  185  401  2013-2014        2013  0.516787  \n",
       "42   ...  172   42   23   21   57   93  436  2013-2014        2013  0.575586  \n",
       "106  ...  194   60   59   21   41  100  356  2013-2014        2013  0.650877  \n",
       "\n",
       "[6 rows x 32 columns]"
      ]
     },
     "execution_count": 54,
     "metadata": {},
     "output_type": "execute_result"
    }
   ],
   "source": [
    "dataWithDistance.sort_values(by='distance', ascending=True).head(6)"
   ]
  },
  {
   "cell_type": "markdown",
   "id": "e18493de",
   "metadata": {},
   "source": [
    "Первую строчку не учитываем (это и был selected_player)\n",
    "\n",
    "Считаем среднее для первых пяти игроков самых близких игроков"
   ]
  },
  {
   "cell_type": "code",
   "execution_count": 55,
   "id": "15a7d0a4",
   "metadata": {},
   "outputs": [
    {
     "data": {
      "text/plain": [
       "355.6"
      ]
     },
     "execution_count": 55,
     "metadata": {},
     "output_type": "execute_result"
    }
   ],
   "source": [
    "dataWithDistance.sort_values(by='distance', ascending=True).iloc[1:6]['pts'].mean()"
   ]
  },
  {
   "cell_type": "markdown",
   "id": "934f53ce",
   "metadata": {},
   "source": [
    "### То же самое с помощью KNeighborsRegressor"
   ]
  },
  {
   "cell_type": "code",
   "execution_count": 56,
   "id": "9cca5aaa",
   "metadata": {},
   "outputs": [],
   "source": [
    "from sklearn.neighbors import KNeighborsRegressor"
   ]
  },
  {
   "cell_type": "code",
   "execution_count": 57,
   "id": "ffd7ceeb",
   "metadata": {},
   "outputs": [],
   "source": [
    "knn = KNeighborsRegressor(n_neighbors=5)"
   ]
  },
  {
   "cell_type": "code",
   "execution_count": 58,
   "id": "04d34cb7",
   "metadata": {},
   "outputs": [
    {
     "data": {
      "text/html": [
       "<div>\n",
       "<style scoped>\n",
       "    .dataframe tbody tr th:only-of-type {\n",
       "        vertical-align: middle;\n",
       "    }\n",
       "\n",
       "    .dataframe tbody tr th {\n",
       "        vertical-align: top;\n",
       "    }\n",
       "\n",
       "    .dataframe thead th {\n",
       "        text-align: right;\n",
       "    }\n",
       "</style>\n",
       "<table border=\"1\" class=\"dataframe\">\n",
       "  <thead>\n",
       "    <tr style=\"text-align: right;\">\n",
       "      <th></th>\n",
       "      <th>age</th>\n",
       "      <th>g</th>\n",
       "      <th>gs</th>\n",
       "      <th>pos_C</th>\n",
       "      <th>pos_F</th>\n",
       "      <th>pos_G</th>\n",
       "      <th>pos_PF</th>\n",
       "      <th>pos_PG</th>\n",
       "      <th>pos_SF</th>\n",
       "      <th>pos_SG</th>\n",
       "    </tr>\n",
       "  </thead>\n",
       "  <tbody>\n",
       "    <tr>\n",
       "      <th>1</th>\n",
       "      <td>-1.550487</td>\n",
       "      <td>1.095711</td>\n",
       "      <td>-0.187863</td>\n",
       "      <td>2.082165</td>\n",
       "      <td>-0.045596</td>\n",
       "      <td>-0.045596</td>\n",
       "      <td>-0.498831</td>\n",
       "      <td>-0.462818</td>\n",
       "      <td>-0.50855</td>\n",
       "      <td>-0.540742</td>\n",
       "    </tr>\n",
       "    <tr>\n",
       "      <th>2</th>\n",
       "      <td>0.116868</td>\n",
       "      <td>-0.010016</td>\n",
       "      <td>-0.457600</td>\n",
       "      <td>-0.479271</td>\n",
       "      <td>-0.045596</td>\n",
       "      <td>-0.045596</td>\n",
       "      <td>2.000520</td>\n",
       "      <td>-0.462818</td>\n",
       "      <td>-0.50855</td>\n",
       "      <td>-0.540742</td>\n",
       "    </tr>\n",
       "    <tr>\n",
       "      <th>3</th>\n",
       "      <td>0.355062</td>\n",
       "      <td>0.779789</td>\n",
       "      <td>1.599148</td>\n",
       "      <td>-0.479271</td>\n",
       "      <td>-0.045596</td>\n",
       "      <td>-0.045596</td>\n",
       "      <td>-0.498831</td>\n",
       "      <td>-0.462818</td>\n",
       "      <td>-0.50855</td>\n",
       "      <td>1.845467</td>\n",
       "    </tr>\n",
       "    <tr>\n",
       "      <th>4</th>\n",
       "      <td>-0.359519</td>\n",
       "      <td>0.108454</td>\n",
       "      <td>0.149309</td>\n",
       "      <td>2.082165</td>\n",
       "      <td>-0.045596</td>\n",
       "      <td>-0.045596</td>\n",
       "      <td>-0.498831</td>\n",
       "      <td>-0.462818</td>\n",
       "      <td>-0.50855</td>\n",
       "      <td>-0.540742</td>\n",
       "    </tr>\n",
       "    <tr>\n",
       "      <th>5</th>\n",
       "      <td>-0.359519</td>\n",
       "      <td>-0.286448</td>\n",
       "      <td>-0.794772</td>\n",
       "      <td>2.082165</td>\n",
       "      <td>-0.045596</td>\n",
       "      <td>-0.045596</td>\n",
       "      <td>-0.498831</td>\n",
       "      <td>-0.462818</td>\n",
       "      <td>-0.50855</td>\n",
       "      <td>-0.540742</td>\n",
       "    </tr>\n",
       "  </tbody>\n",
       "</table>\n",
       "</div>"
      ],
      "text/plain": [
       "        age         g        gs     pos_C     pos_F     pos_G    pos_PF  \\\n",
       "1 -1.550487  1.095711 -0.187863  2.082165 -0.045596 -0.045596 -0.498831   \n",
       "2  0.116868 -0.010016 -0.457600 -0.479271 -0.045596 -0.045596  2.000520   \n",
       "3  0.355062  0.779789  1.599148 -0.479271 -0.045596 -0.045596 -0.498831   \n",
       "4 -0.359519  0.108454  0.149309  2.082165 -0.045596 -0.045596 -0.498831   \n",
       "5 -0.359519 -0.286448 -0.794772  2.082165 -0.045596 -0.045596 -0.498831   \n",
       "\n",
       "     pos_PG   pos_SF    pos_SG  \n",
       "1 -0.462818 -0.50855 -0.540742  \n",
       "2 -0.462818 -0.50855 -0.540742  \n",
       "3 -0.462818 -0.50855  1.845467  \n",
       "4 -0.462818 -0.50855 -0.540742  \n",
       "5 -0.462818 -0.50855 -0.540742  "
      ]
     },
     "execution_count": 58,
     "metadata": {},
     "output_type": "execute_result"
    }
   ],
   "source": [
    "dataNormalized.iloc[1:, :-1].head()"
   ]
  },
  {
   "cell_type": "code",
   "execution_count": 59,
   "id": "b9d4ff4b",
   "metadata": {},
   "outputs": [
    {
     "data": {
      "text/plain": [
       "1     265\n",
       "2     362\n",
       "3    1330\n",
       "4     328\n",
       "5      92\n",
       "Name: pts, dtype: int64"
      ]
     },
     "execution_count": 59,
     "metadata": {},
     "output_type": "execute_result"
    }
   ],
   "source": [
    "data.loc[1:, 'pts'].head()"
   ]
  },
  {
   "cell_type": "code",
   "execution_count": 60,
   "id": "2584e8c9",
   "metadata": {},
   "outputs": [
    {
     "data": {
      "text/plain": [
       "KNeighborsRegressor()"
      ]
     },
     "execution_count": 60,
     "metadata": {},
     "output_type": "execute_result"
    }
   ],
   "source": [
    "knn.fit(dataNormalized.iloc[1:, :-1], data.loc[1:, 'pts'])"
   ]
  },
  {
   "cell_type": "markdown",
   "id": "5c1f54b9",
   "metadata": {},
   "source": [
    "Предсказание количества очков для selected_player (без крайнего правого столбца distance)"
   ]
  },
  {
   "cell_type": "code",
   "execution_count": 61,
   "id": "e8ec70c6",
   "metadata": {},
   "outputs": [
    {
     "data": {
      "text/plain": [
       "array([355.6])"
      ]
     },
     "execution_count": 61,
     "metadata": {},
     "output_type": "execute_result"
    }
   ],
   "source": [
    "knn.predict(dataNormalized.iloc[:1, :-1])"
   ]
  },
  {
   "cell_type": "markdown",
   "id": "bd647bfd",
   "metadata": {},
   "source": [
    "### И еще раз с помощью KNeighborsRegressor, передавая метрику как функцию"
   ]
  },
  {
   "cell_type": "code",
   "execution_count": 70,
   "id": "844745cb",
   "metadata": {},
   "outputs": [],
   "source": [
    "knn = KNeighborsRegressor(n_neighbors = 5, metric=euclidean_distance2)"
   ]
  },
  {
   "cell_type": "code",
   "execution_count": 71,
   "id": "cb49383c",
   "metadata": {},
   "outputs": [
    {
     "data": {
      "text/plain": [
       "KNeighborsRegressor(metric=<function euclidean_distance2 at 0x00000194807C7F70>)"
      ]
     },
     "execution_count": 71,
     "metadata": {},
     "output_type": "execute_result"
    }
   ],
   "source": [
    "knn.fit(dataNormalized.iloc[1:, :-1], data.loc[1:, 'pts'] )"
   ]
  },
  {
   "cell_type": "code",
   "execution_count": 72,
   "id": "ad3eddaa",
   "metadata": {},
   "outputs": [
    {
     "data": {
      "text/plain": [
       "array([355.6])"
      ]
     },
     "execution_count": 72,
     "metadata": {},
     "output_type": "execute_result"
    }
   ],
   "source": [
    "knn.predict( dataNormalized.iloc[:1, :-1] )"
   ]
  },
  {
   "cell_type": "markdown",
   "id": "f7d922b8",
   "metadata": {},
   "source": [
    " ## Пример решения задачи регрессии"
   ]
  },
  {
   "cell_type": "code",
   "execution_count": 73,
   "id": "4b128a9d",
   "metadata": {},
   "outputs": [],
   "source": [
    "import numpy as np\n",
    "import matplotlib.pyplot as plt\n",
    "from sklearn import neighbors"
   ]
  },
  {
   "cell_type": "code",
   "execution_count": 74,
   "id": "1a1e520f",
   "metadata": {},
   "outputs": [],
   "source": [
    "# получим столбец чисел, равномерно распределенных на интервале [0, 1) и упорядоченных по возрастанию\n",
    "X = np.sort( 5 * np.random.rand(40, 1), axis = 0 )"
   ]
  },
  {
   "cell_type": "code",
   "execution_count": 76,
   "id": "33a0ffaa",
   "metadata": {},
   "outputs": [
    {
     "data": {
      "text/plain": [
       "array([[0.00754832],\n",
       "       [0.15986867],\n",
       "       [0.22720599],\n",
       "       [0.25736993],\n",
       "       [0.29519642]])"
      ]
     },
     "execution_count": 76,
     "metadata": {},
     "output_type": "execute_result"
    }
   ],
   "source": [
    "X[:5]"
   ]
  },
  {
   "cell_type": "code",
   "execution_count": 78,
   "id": "cf7d1425",
   "metadata": {},
   "outputs": [
    {
     "data": {
      "text/plain": [
       "array([ 0.00754825,  0.15918855,  0.22525621,  0.25453799,  0.29092778,\n",
       "        0.38868848,  0.63248428,  0.6938379 ,  0.75848613,  0.7932163 ,\n",
       "        0.79383316,  0.94831986,  0.95325562,  0.99816642,  0.9995017 ,\n",
       "        0.99990129,  0.99998789,  0.95458579,  0.94321986,  0.37511317,\n",
       "        0.26417299,  0.01836043,  0.01038978, -0.0296339 , -0.11429668,\n",
       "       -0.16631722, -0.17275785, -0.37624147, -0.42899636, -0.48568013,\n",
       "       -0.49157081, -0.64956898, -0.68006869, -0.70851024, -0.76825432,\n",
       "       -0.80679608, -0.82117301, -0.99985478, -0.98057304, -0.96484041])"
      ]
     },
     "execution_count": 78,
     "metadata": {},
     "output_type": "execute_result"
    }
   ],
   "source": [
    "# зададим какую-нибудь функцию\n",
    "# функция ravel() применена, чтобы преобразовать вложенный лист np.sin( X ) в простой массив\n",
    "y = np.sin(X).ravel()\n",
    "y"
   ]
  },
  {
   "cell_type": "code",
   "execution_count": 79,
   "id": "ae3e255e",
   "metadata": {},
   "outputs": [
    {
     "data": {
      "image/png": "[encoded data removed]",
      "text/plain": [
       "<Figure size 432x288 with 1 Axes>"
      ]
     },
     "metadata": {
      "needs_background": "light"
     },
     "output_type": "display_data"
    }
   ],
   "source": [
    "plt.plot(X, y)\n",
    "plt.show()"
   ]
  },
  {
   "cell_type": "code",
   "execution_count": 82,
   "id": "8a5c7d55",
   "metadata": {},
   "outputs": [],
   "source": [
    "# добавим шум к зависимов переменной\n",
    "# к каждому пятому элементу добавляем случайное число\n",
    "y[::5] += 1 * (.5 - np.random.rand(8))"
   ]
  },
  {
   "cell_type": "code",
   "execution_count": 83,
   "id": "42bb7ddf",
   "metadata": {},
   "outputs": [
    {
     "data": {
      "image/png": "[encoded data removed]",
      "text/plain": [
       "<Figure size 432x288 with 1 Axes>"
      ]
     },
     "metadata": {
      "needs_background": "light"
     },
     "output_type": "display_data"
    }
   ],
   "source": [
    "plt.plot(X, y)\n",
    "plt.show()"
   ]
  },
  {
   "cell_type": "code",
   "execution_count": 84,
   "id": "b5434efb",
   "metadata": {},
   "outputs": [],
   "source": [
    "# определим набор значений, на которых надо будет делать предсказания\n",
    "T = np.linspace(0, 5, 500)[:, np.newaxis] # 500 точек в интервале от 0 до 5"
   ]
  },
  {
   "cell_type": "code",
   "execution_count": 85,
   "id": "c94ec102",
   "metadata": {},
   "outputs": [
    {
     "data": {
      "text/plain": [
       "array([[0.        ],\n",
       "       [0.01002004],\n",
       "       [0.02004008],\n",
       "       [0.03006012],\n",
       "       [0.04008016]])"
      ]
     },
     "execution_count": 85,
     "metadata": {},
     "output_type": "execute_result"
    }
   ],
   "source": [
    "T[:5]"
   ]
  },
  {
   "cell_type": "code",
   "execution_count": 86,
   "id": "5ea4ffe4",
   "metadata": {},
   "outputs": [],
   "source": [
    "# Задаём количество соседей, которые будет учитывать KNN\n",
    "n_neighbors = 5"
   ]
  },
  {
   "cell_type": "code",
   "execution_count": 87,
   "id": "89ecc310",
   "metadata": {},
   "outputs": [],
   "source": [
    "knn = neighbors.KNeighborsRegressor(n_neighbors, weights='uniform')\n",
    "y_ = knn.fit(X, y).predict(T)"
   ]
  },
  {
   "cell_type": "code",
   "execution_count": 92,
   "id": "ad14820f",
   "metadata": {},
   "outputs": [
    {
     "data": {
      "image/png": "[encoded data removed]",
      "text/plain": [
       "<Figure size 432x288 with 1 Axes>"
      ]
     },
     "metadata": {
      "needs_background": "light"
     },
     "output_type": "display_data"
    }
   ],
   "source": [
    "plt.scatter(X, y, c='k', label='data')\n",
    "plt.plot(T, y_, c='g', label='prediction')\n",
    "plt.axis('tight')\n",
    "plt.legend()\n",
    "plt.title('KNeighborsRegressor(k=%i, weights=%s)' % (n_neighbors, 'uniform'))\n",
    "plt.show()"
   ]
  },
  {
   "cell_type": "markdown",
   "id": "b3e73ca5",
   "metadata": {},
   "source": [
    "Для варианта с весами видно сильное влияние расстояния"
   ]
  },
  {
   "cell_type": "code",
   "execution_count": 93,
   "id": "7840f896",
   "metadata": {},
   "outputs": [
    {
     "data": {
      "image/png": "[encoded data removed]",
      "text/plain": [
       "<Figure size 432x288 with 1 Axes>"
      ]
     },
     "metadata": {
      "needs_background": "light"
     },
     "output_type": "display_data"
    }
   ],
   "source": [
    "knn = neighbors.KNeighborsRegressor( n_neighbors, weights = 'distance' )\n",
    "y_ = knn.fit( X, y ).predict( T )\n",
    "\n",
    "plt.scatter(X, y, c='k', label='data')\n",
    "plt.plot(T, y_, c='g', label='prediction')\n",
    "plt.axis('tight')\n",
    "plt.legend()\n",
    "plt.title(\"KNeighborsRegressor (k = %i, weights = '%s')\" % (n_neighbors, 'distance'))\n",
    "plt.show()"
   ]
  },
  {
   "cell_type": "markdown",
   "id": "7b893a0f",
   "metadata": {},
   "source": [
    "# Пример с распознаванием цифр"
   ]
  },
  {
   "cell_type": "code",
   "execution_count": 96,
   "id": "a30b0c30",
   "metadata": {},
   "outputs": [],
   "source": [
    "from sklearn import datasets\n",
    "from sklearn.neighbors import KNeighborsClassifier"
   ]
  },
  {
   "cell_type": "markdown",
   "id": "eb654298",
   "metadata": {},
   "source": [
    "Загружаем данные"
   ]
  },
  {
   "cell_type": "code",
   "execution_count": 97,
   "id": "e4006529",
   "metadata": {},
   "outputs": [],
   "source": [
    "digits = datasets.load_digits()"
   ]
  },
  {
   "cell_type": "code",
   "execution_count": 100,
   "id": "13c99641",
   "metadata": {},
   "outputs": [
    {
     "data": {
      "text/plain": [
       "{'data': array([[ 0.,  0.,  5., ...,  0.,  0.,  0.],\n",
       "        [ 0.,  0.,  0., ..., 10.,  0.,  0.],\n",
       "        [ 0.,  0.,  0., ..., 16.,  9.,  0.],\n",
       "        ...,\n",
       "        [ 0.,  0.,  1., ...,  6.,  0.,  0.],\n",
       "        [ 0.,  0.,  2., ..., 12.,  0.,  0.],\n",
       "        [ 0.,  0., 10., ..., 12.,  1.,  0.]]),\n",
       " 'target': array([0, 1, 2, ..., 8, 9, 8]),\n",
       " 'frame': None,\n",
       " 'feature_names': ['pixel_0_0',\n",
       "  'pixel_0_1',\n",
       "  'pixel_0_2',\n",
       "  'pixel_0_3',\n",
       "  'pixel_0_4',\n",
       "  'pixel_0_5',\n",
       "  'pixel_0_6',\n",
       "  'pixel_0_7',\n",
       "  'pixel_1_0',\n",
       "  'pixel_1_1',\n",
       "  'pixel_1_2',\n",
       "  'pixel_1_3',\n",
       "  'pixel_1_4',\n",
       "  'pixel_1_5',\n",
       "  'pixel_1_6',\n",
       "  'pixel_1_7',\n",
       "  'pixel_2_0',\n",
       "  'pixel_2_1',\n",
       "  'pixel_2_2',\n",
       "  'pixel_2_3',\n",
       "  'pixel_2_4',\n",
       "  'pixel_2_5',\n",
       "  'pixel_2_6',\n",
       "  'pixel_2_7',\n",
       "  'pixel_3_0',\n",
       "  'pixel_3_1',\n",
       "  'pixel_3_2',\n",
       "  'pixel_3_3',\n",
       "  'pixel_3_4',\n",
       "  'pixel_3_5',\n",
       "  'pixel_3_6',\n",
       "  'pixel_3_7',\n",
       "  'pixel_4_0',\n",
       "  'pixel_4_1',\n",
       "  'pixel_4_2',\n",
       "  'pixel_4_3',\n",
       "  'pixel_4_4',\n",
       "  'pixel_4_5',\n",
       "  'pixel_4_6',\n",
       "  'pixel_4_7',\n",
       "  'pixel_5_0',\n",
       "  'pixel_5_1',\n",
       "  'pixel_5_2',\n",
       "  'pixel_5_3',\n",
       "  'pixel_5_4',\n",
       "  'pixel_5_5',\n",
       "  'pixel_5_6',\n",
       "  'pixel_5_7',\n",
       "  'pixel_6_0',\n",
       "  'pixel_6_1',\n",
       "  'pixel_6_2',\n",
       "  'pixel_6_3',\n",
       "  'pixel_6_4',\n",
       "  'pixel_6_5',\n",
       "  'pixel_6_6',\n",
       "  'pixel_6_7',\n",
       "  'pixel_7_0',\n",
       "  'pixel_7_1',\n",
       "  'pixel_7_2',\n",
       "  'pixel_7_3',\n",
       "  'pixel_7_4',\n",
       "  'pixel_7_5',\n",
       "  'pixel_7_6',\n",
       "  'pixel_7_7'],\n",
       " 'target_names': array([0, 1, 2, 3, 4, 5, 6, 7, 8, 9]),\n",
       " 'images': array([[[ 0.,  0.,  5., ...,  1.,  0.,  0.],\n",
       "         [ 0.,  0., 13., ..., 15.,  5.,  0.],\n",
       "         [ 0.,  3., 15., ..., 11.,  8.,  0.],\n",
       "         ...,\n",
       "         [ 0.,  4., 11., ..., 12.,  7.,  0.],\n",
       "         [ 0.,  2., 14., ..., 12.,  0.,  0.],\n",
       "         [ 0.,  0.,  6., ...,  0.,  0.,  0.]],\n",
       " \n",
       "        [[ 0.,  0.,  0., ...,  5.,  0.,  0.],\n",
       "         [ 0.,  0.,  0., ...,  9.,  0.,  0.],\n",
       "         [ 0.,  0.,  3., ...,  6.,  0.,  0.],\n",
       "         ...,\n",
       "         [ 0.,  0.,  1., ...,  6.,  0.,  0.],\n",
       "         [ 0.,  0.,  1., ...,  6.,  0.,  0.],\n",
       "         [ 0.,  0.,  0., ..., 10.,  0.,  0.]],\n",
       " \n",
       "        [[ 0.,  0.,  0., ..., 12.,  0.,  0.],\n",
       "         [ 0.,  0.,  3., ..., 14.,  0.,  0.],\n",
       "         [ 0.,  0.,  8., ..., 16.,  0.,  0.],\n",
       "         ...,\n",
       "         [ 0.,  9., 16., ...,  0.,  0.,  0.],\n",
       "         [ 0.,  3., 13., ..., 11.,  5.,  0.],\n",
       "         [ 0.,  0.,  0., ..., 16.,  9.,  0.]],\n",
       " \n",
       "        ...,\n",
       " \n",
       "        [[ 0.,  0.,  1., ...,  1.,  0.,  0.],\n",
       "         [ 0.,  0., 13., ...,  2.,  1.,  0.],\n",
       "         [ 0.,  0., 16., ..., 16.,  5.,  0.],\n",
       "         ...,\n",
       "         [ 0.,  0., 16., ..., 15.,  0.,  0.],\n",
       "         [ 0.,  0., 15., ..., 16.,  0.,  0.],\n",
       "         [ 0.,  0.,  2., ...,  6.,  0.,  0.]],\n",
       " \n",
       "        [[ 0.,  0.,  2., ...,  0.,  0.,  0.],\n",
       "         [ 0.,  0., 14., ..., 15.,  1.,  0.],\n",
       "         [ 0.,  4., 16., ..., 16.,  7.,  0.],\n",
       "         ...,\n",
       "         [ 0.,  0.,  0., ..., 16.,  2.,  0.],\n",
       "         [ 0.,  0.,  4., ..., 16.,  2.,  0.],\n",
       "         [ 0.,  0.,  5., ..., 12.,  0.,  0.]],\n",
       " \n",
       "        [[ 0.,  0., 10., ...,  1.,  0.,  0.],\n",
       "         [ 0.,  2., 16., ...,  1.,  0.,  0.],\n",
       "         [ 0.,  0., 15., ..., 15.,  0.,  0.],\n",
       "         ...,\n",
       "         [ 0.,  4., 16., ..., 16.,  6.,  0.],\n",
       "         [ 0.,  8., 16., ..., 16.,  8.,  0.],\n",
       "         [ 0.,  1.,  8., ..., 12.,  1.,  0.]]]),\n",
       " 'DESCR': \".. _digits_dataset:\\n\\nOptical recognition of handwritten digits dataset\\n--------------------------------------------------\\n\\n**Data Set Characteristics:**\\n\\n    :Number of Instances: 1797\\n    :Number of Attributes: 64\\n    :Attribute Information: 8x8 image of integer pixels in the range 0..16.\\n    :Missing Attribute Values: None\\n    :Creator: E. Alpaydin (alpaydin '@' boun.edu.tr)\\n    :Date: July; 1998\\n\\nThis is a copy of the test set of the UCI ML hand-written digits datasets\\nhttps://archive.ics.uci.edu/ml/datasets/Optical+Recognition+of+Handwritten+Digits\\n\\nThe data set contains images of hand-written digits: 10 classes where\\neach class refers to a digit.\\n\\nPreprocessing programs made available by NIST were used to extract\\nnormalized bitmaps of handwritten digits from a preprinted form. From a\\ntotal of 43 people, 30 contributed to the training set and different 13\\nto the test set. 32x32 bitmaps are divided into nonoverlapping blocks of\\n4x4 and the number of on pixels are counted in each block. This generates\\nan input matrix of 8x8 where each element is an integer in the range\\n0..16. This reduces dimensionality and gives invariance to small\\ndistortions.\\n\\nFor info on NIST preprocessing routines, see M. D. Garris, J. L. Blue, G.\\nT. Candela, D. L. Dimmick, J. Geist, P. J. Grother, S. A. Janet, and C.\\nL. Wilson, NIST Form-Based Handprint Recognition System, NISTIR 5469,\\n1994.\\n\\n.. topic:: References\\n\\n  - C. Kaynak (1995) Methods of Combining Multiple Classifiers and Their\\n    Applications to Handwritten Digit Recognition, MSc Thesis, Institute of\\n    Graduate Studies in Science and Engineering, Bogazici University.\\n  - E. Alpaydin, C. Kaynak (1998) Cascading Classifiers, Kybernetika.\\n  - Ken Tang and Ponnuthurai N. Suganthan and Xi Yao and A. Kai Qin.\\n    Linear dimensionalityreduction using relevance weighted LDA. School of\\n    Electrical and Electronic Engineering Nanyang Technological University.\\n    2005.\\n  - Claudio Gentile. A New Approximate Maximal Margin Classification\\n    Algorithm. NIPS. 2000.\\n\"}"
      ]
     },
     "execution_count": 100,
     "metadata": {},
     "output_type": "execute_result"
    }
   ],
   "source": [
    "digits"
   ]
  },
  {
   "cell_type": "markdown",
   "id": "884aabb3",
   "metadata": {},
   "source": [
    "Пример первой цифры"
   ]
  },
  {
   "cell_type": "code",
   "execution_count": 99,
   "id": "5253ac89",
   "metadata": {},
   "outputs": [
    {
     "data": {
      "text/plain": [
       "array([[ 0.,  0.,  5., 13.,  9.,  1.,  0.,  0.],\n",
       "       [ 0.,  0., 13., 15., 10., 15.,  5.,  0.],\n",
       "       [ 0.,  3., 15.,  2.,  0., 11.,  8.,  0.],\n",
       "       [ 0.,  4., 12.,  0.,  0.,  8.,  8.,  0.],\n",
       "       [ 0.,  5.,  8.,  0.,  0.,  9.,  8.,  0.],\n",
       "       [ 0.,  4., 11.,  0.,  1., 12.,  7.,  0.],\n",
       "       [ 0.,  2., 14.,  5., 10., 12.,  0.,  0.],\n",
       "       [ 0.,  0.,  6., 13., 10.,  0.,  0.,  0.]])"
      ]
     },
     "execution_count": 99,
     "metadata": {},
     "output_type": "execute_result"
    }
   ],
   "source": [
    "digits['data'][0].reshape(8, 8)"
   ]
  },
  {
   "cell_type": "code",
   "execution_count": 101,
   "id": "8aa51bee",
   "metadata": {},
   "outputs": [
    {
     "data": {
      "text/plain": [
       "array([0, 1, 2, 3, 4, 5, 6, 7, 8, 9, 0, 1, 2, 3, 4, 5, 6, 7, 8, 9])"
      ]
     },
     "execution_count": 101,
     "metadata": {},
     "output_type": "execute_result"
    }
   ],
   "source": [
    "digits['target'][:20]"
   ]
  },
  {
   "cell_type": "markdown",
   "id": "51cde1df",
   "metadata": {},
   "source": [
    "Нарисуем пример цифры"
   ]
  },
  {
   "cell_type": "code",
   "execution_count": 102,
   "id": "bb8524e6",
   "metadata": {},
   "outputs": [
    {
     "data": {
      "text/plain": [
       "<Figure size 432x288 with 0 Axes>"
      ]
     },
     "metadata": {},
     "output_type": "display_data"
    },
    {
     "data": {
      "image/png": "[encoded data removed]",
      "text/plain": [
       "<Figure size 288x288 with 1 Axes>"
      ]
     },
     "metadata": {
      "needs_background": "light"
     },
     "output_type": "display_data"
    },
    {
     "data": {
      "image/png": "[encoded data removed]",
      "text/plain": [
       "<Figure size 288x288 with 1 Axes>"
      ]
     },
     "metadata": {
      "needs_background": "light"
     },
     "output_type": "display_data"
    },
    {
     "data": {
      "image/png": "[encoded data removed]",
      "text/plain": [
       "<Figure size 288x288 with 1 Axes>"
      ]
     },
     "metadata": {
      "needs_background": "light"
     },
     "output_type": "display_data"
    },
    {
     "data": {
      "image/png": "[encoded data removed]",
      "text/plain": [
       "<Figure size 288x288 with 1 Axes>"
      ]
     },
     "metadata": {
      "needs_background": "light"
     },
     "output_type": "display_data"
    },
    {
     "data": {
      "image/png": "[encoded data removed]",
      "text/plain": [
       "<Figure size 288x288 with 1 Axes>"
      ]
     },
     "metadata": {
      "needs_background": "light"
     },
     "output_type": "display_data"
    },
    {
     "data": {
      "image/png": "[encoded data removed]",
      "text/plain": [
       "<Figure size 288x288 with 1 Axes>"
      ]
     },
     "metadata": {
      "needs_background": "light"
     },
     "output_type": "display_data"
    }
   ],
   "source": [
    "plt.gray()\n",
    "for i in range(0, 6):\n",
    "    plt.matshow(digits.images[i])"
   ]
  },
  {
   "cell_type": "markdown",
   "id": "5dd57285",
   "metadata": {},
   "source": [
    "Признаки и целевые переменные"
   ]
  },
  {
   "cell_type": "code",
   "execution_count": 104,
   "id": "178371e2",
   "metadata": {},
   "outputs": [],
   "source": [
    "X_digits = digits.data\n",
    "Y_digits = digits.target"
   ]
  },
  {
   "cell_type": "markdown",
   "id": "d6dc5098",
   "metadata": {},
   "source": [
    "Количество цифр в данных"
   ]
  },
  {
   "cell_type": "code",
   "execution_count": 106,
   "id": "7a3c6684",
   "metadata": {},
   "outputs": [],
   "source": [
    "n_samples = len(X_digits)"
   ]
  },
  {
   "cell_type": "markdown",
   "id": "209beebe",
   "metadata": {},
   "source": [
    "Разобьем данные на обучающую и тест в пропорциях 90/10"
   ]
  },
  {
   "cell_type": "code",
   "execution_count": 110,
   "id": "c0fe50f8",
   "metadata": {},
   "outputs": [
    {
     "data": {
      "text/plain": [
       "1617"
      ]
     },
     "execution_count": 110,
     "metadata": {},
     "output_type": "execute_result"
    }
   ],
   "source": [
    "from sklearn.model_selection import train_test_split\n",
    "split = int(n_samples * .9)\n",
    "split"
   ]
  },
  {
   "cell_type": "code",
   "execution_count": 112,
   "id": "217488ec",
   "metadata": {},
   "outputs": [],
   "source": [
    "# train_test_split?\n",
    "# X_train, X_test, y_train, y_test = train_test_split(\n",
    "#     X_digits, Y_digits, test_size=0.10, random_state=42)\n",
    "\n",
    "X_train = X_digits[:split]\n",
    "Y_train = Y_digits[:split]"
   ]
  },
  {
   "cell_type": "markdown",
   "id": "50fca325",
   "metadata": {},
   "source": [
    "Формируем тестовую выборку и обучаем модель knn"
   ]
  },
  {
   "cell_type": "code",
   "execution_count": 115,
   "id": "57c8de62",
   "metadata": {},
   "outputs": [],
   "source": [
    "X_test = X_digits[split:]\n",
    "Y_test = Y_digits[split:]"
   ]
  },
  {
   "cell_type": "code",
   "execution_count": 116,
   "id": "8aea7987",
   "metadata": {},
   "outputs": [
    {
     "data": {
      "text/plain": [
       "KNeighborsRegressor(weights='distance')"
      ]
     },
     "execution_count": 116,
     "metadata": {},
     "output_type": "execute_result"
    }
   ],
   "source": [
    "knn.fit(X_train, Y_train)"
   ]
  },
  {
   "cell_type": "code",
   "execution_count": 117,
   "id": "53480567",
   "metadata": {},
   "outputs": [
    {
     "data": {
      "text/plain": [
       "0.9279483616701503"
      ]
     },
     "execution_count": 117,
     "metadata": {},
     "output_type": "execute_result"
    }
   ],
   "source": [
    "knn.score(X_test, Y_test)"
   ]
  },
  {
   "cell_type": "code",
   "execution_count": null,
   "id": "741154cc",
   "metadata": {},
   "outputs": [],
   "source": []
  }
 ],
 "metadata": {
  "kernelspec": {
   "display_name": "Python 3",
   "language": "python",
   "name": "python3"
  },
  "language_info": {
   "codemirror_mode": {
    "name": "ipython",
    "version": 3
   },
   "file_extension": ".py",
   "mimetype": "text/x-python",
   "name": "python",
   "nbconvert_exporter": "python",
   "pygments_lexer": "ipython3",
   "version": "3.8.8"
  }
 },
 "nbformat": 4,
 "nbformat_minor": 5
}
