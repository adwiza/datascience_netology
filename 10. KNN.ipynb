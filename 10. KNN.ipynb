{
 "cells": [
  {
   "cell_type": "markdown",
   "id": "0a25b126",
   "metadata": {},
   "source": [
    "# Метод k ближайших соседей"
   ]
  },
  {
   "cell_type": "markdown",
   "id": "a6451138",
   "metadata": {},
   "source": [
    "### Сформируем данные"
   ]
  },
  {
   "cell_type": "code",
   "execution_count": 1,
   "id": "58a25bf5",
   "metadata": {},
   "outputs": [],
   "source": [
    "import random\n",
    "import numpy as np\n",
    "import matplotlib.pyplot as plt\n",
    "from matplotlib.colors import ListedColormap\n",
    "\n",
    "%matplotlib inline"
   ]
  },
  {
   "cell_type": "code",
   "execution_count": 2,
   "id": "30075727",
   "metadata": {},
   "outputs": [],
   "source": [
    "def generateRandomCluster(xCenter, yCenter, pointsInCluster, sugma, clusterNumber):\n",
    "    \"\"\"\n",
    "    Функция формирует набор случайных pointsInCluster точек вокруг центра xCenter, yCenter со стандартным отклонением sigma\n",
    "    Для удобства сразу приписываем номер кластера clusterNumber\n",
    "    \n",
    "    Пример\n",
    "    generateRandomCluster(50, 50, 5, 1, 1)\n",
    "    [ (49.4383741073746, 50.759631072447775, 1),\n",
    "     (50.382663637239496, 51.958511415275346, 1),\n",
    "     (51.35861614413671, 50.14508008851586, 1),\n",
    "     (49.99654565817289, 48.868625830102836, 1),\n",
    "     (48.90429842105296, 50.30684883451077, 1) ]\n",
    "    \"\"\"\n",
    "    clusterData = []\n",
    "    for point in range(pointsInCluster):\n",
    "        clusterData.append((random.gauss(xCenter, sigma), random.gauss(yCenter, sigma), clusterNumber))\n",
    "        \n",
    "    return clusterData"
   ]
  },
  {
   "cell_type": "code",
   "execution_count": 10,
   "id": "fb87ba53",
   "metadata": {},
   "outputs": [],
   "source": [
    "def generateNClusters(clustersNumber, minCoordinate, maxLength, pointsInCluster, sigma):\n",
    "    \"\"\"\n",
    "    Функция генерит clustersNumber кластеров в прелелах (x, y) координат от minCoordinate до minCoordinate + maxLength\n",
    "        \n",
    "    Пример\n",
    "    generateNClusters( 3, 0, 100, 5, 1 )\n",
    "    \n",
    "    [\n",
    "        [ (30.101595428493244, 97.81846577317793, 0),\n",
    "          (30.982265309141784, 94.85561016707207, 0),\n",
    "          (29.324361801401345, 96.13225349356063, 0),\n",
    "          (28.55314432177591, 97.71789084567285, 0),\n",
    "          (30.925804186398505, 97.73651238892455, 0)],\n",
    "        [ (35.42172429469604, 62.868371107151994, 1),\n",
    "          (36.36575870693403, 60.81612414265114, 1),\n",
    "          (36.3958015730347, 60.845554677754464, 1),\n",
    "          (35.29157575130411, 63.179905869433654, 1),\n",
    "          (38.19703749175945, 61.839734328145795, 1)],\n",
    "        [ (92.22845587073014, 40.18055397530009, 2),\n",
    "          (90.7642755825596, 40.68519067128221, 2),\n",
    "          (92.27913966714033, 39.604710170714505, 2),\n",
    "          (93.57420210013105, 40.20564381974239, 2),\n",
    "          (92.33724850339567, 40.261922276131735, 2)]\n",
    "    ]\n",
    "    \"\"\"\n",
    "    clustersData = []\n",
    "    for cluster in range(clustersNumber):\n",
    "        clustersData.append(generateRandomCluster(minCoordinate + maxLength * random.random(),\n",
    "                                                  minCoordinate + maxLength * random.random(),\n",
    "                                                  pointsInCluster,\n",
    "                                                  sigma, cluster))\n",
    "    return clustersData"
   ]
  },
  {
   "cell_type": "code",
   "execution_count": 14,
   "id": "14beac8a",
   "metadata": {},
   "outputs": [],
   "source": [
    "def drawClusters(clustersData):\n",
    "    \"\"\"\n",
    "    Функция рисует набор кластеров по данным clustersData\n",
    "    \"\"\"\n",
    "    \n",
    "    for cluster in clustersData:\n",
    "        xData = []\n",
    "        yData = []\n",
    "        colors = []\n",
    "        \n",
    "        for point in cluster:\n",
    "            xData.append(point[0])\n",
    "            yData.append(point[1])\n",
    "            colors.append(point[2])\n",
    "        \n",
    "        plt.scatter(xData, yData, label = colors[0])\n",
    "        \n",
    "    plt.legend(loc='upper right')\n",
    "    plt.show()"
   ]
  },
  {
   "cell_type": "code",
   "execution_count": 15,
   "id": "79b95f6c",
   "metadata": {},
   "outputs": [],
   "source": [
    "clustersNumber = 3\n",
    "minCoordinate = 0\n",
    "maxLength = 100\n",
    "pointsInCluster = 15\n",
    "sigma = 5"
   ]
  },
  {
   "cell_type": "code",
   "execution_count": 16,
   "id": "0cc5a554",
   "metadata": {},
   "outputs": [
    {
     "data": {
      "image/png": "[encoded data removed]",
      "text/plain": [
       "<Figure size 432x288 with 1 Axes>"
      ]
     },
     "metadata": {
      "needs_background": "light"
     },
     "output_type": "display_data"
    }
   ],
   "source": [
    "data = generateNClusters(clustersNumber, minCoordinate, maxLength, pointsInCluster, sigma)\n",
    "drawClusters(data)"
   ]
  },
  {
   "cell_type": "markdown",
   "id": "c578cfe2",
   "metadata": {},
   "source": [
    "### Строим модель"
   ]
  },
  {
   "cell_type": "code",
   "execution_count": null,
   "id": "dc2f5021",
   "metadata": {},
   "outputs": [],
   "source": []
  }
 ],
 "metadata": {
  "kernelspec": {
   "display_name": "Python 3",
   "language": "python",
   "name": "python3"
  },
  "language_info": {
   "codemirror_mode": {
    "name": "ipython",
    "version": 3
   },
   "file_extension": ".py",
   "mimetype": "text/x-python",
   "name": "python",
   "nbconvert_exporter": "python",
   "pygments_lexer": "ipython3",
   "version": "3.8.8"
  }
 },
 "nbformat": 4,
 "nbformat_minor": 5
}
