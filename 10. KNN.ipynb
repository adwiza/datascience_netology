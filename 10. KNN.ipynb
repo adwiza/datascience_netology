{
 "cells": [
  {
   "cell_type": "markdown",
   "id": "0a25b126",
   "metadata": {},
   "source": [
    "# Метод k ближайших соседей"
   ]
  },
  {
   "cell_type": "markdown",
   "id": "a6451138",
   "metadata": {},
   "source": [
    "### Сформируем данные"
   ]
  },
  {
   "cell_type": "code",
   "execution_count": 42,
   "id": "58a25bf5",
   "metadata": {},
   "outputs": [],
   "source": [
    "import random\n",
    "import numpy as np\n",
    "import matplotlib.pyplot as plt\n",
    "from matplotlib.colors import ListedColormap\n",
    "\n",
    "%matplotlib inline\n",
    "plt.rcParams['pcolor.shading'] ='auto'"
   ]
  },
  {
   "cell_type": "code",
   "execution_count": 6,
   "id": "30075727",
   "metadata": {},
   "outputs": [],
   "source": [
    "def generateRandomCluster(xCenter, yCenter, pointsInCluster, sugma, clusterNumber):\n",
    "    \"\"\"\n",
    "    Функция формирует набор случайных pointsInCluster точек вокруг центра xCenter, yCenter со стандартным отклонением sigma\n",
    "    Для удобства сразу приписываем номер кластера clusterNumber\n",
    "    \n",
    "    Пример\n",
    "    generateRandomCluster(50, 50, 5, 1, 1)\n",
    "    [ (49.4383741073746, 50.759631072447775, 1),\n",
    "     (50.382663637239496, 51.958511415275346, 1),\n",
    "     (51.35861614413671, 50.14508008851586, 1),\n",
    "     (49.99654565817289, 48.868625830102836, 1),\n",
    "     (48.90429842105296, 50.30684883451077, 1) ]\n",
    "    \"\"\"\n",
    "    clusterData = []\n",
    "    for point in range(pointsInCluster):\n",
    "        clusterData.append((random.gauss(xCenter, sigma), random.gauss(yCenter, sigma), clusterNumber))\n",
    "        \n",
    "    return clusterData"
   ]
  },
  {
   "cell_type": "code",
   "execution_count": 7,
   "id": "fb87ba53",
   "metadata": {},
   "outputs": [],
   "source": [
    "def generateNClusters(clustersNumber, minCoordinate, maxLength, pointsInCluster, sigma):\n",
    "    \"\"\"\n",
    "    Функция генерит clustersNumber кластеров в прелелах (x, y) координат от minCoordinate до minCoordinate + maxLength\n",
    "        \n",
    "    Пример\n",
    "    generateNClusters( 3, 0, 100, 5, 1 )\n",
    "    \n",
    "    [\n",
    "        [ (30.101595428493244, 97.81846577317793, 0),\n",
    "          (30.982265309141784, 94.85561016707207, 0),\n",
    "          (29.324361801401345, 96.13225349356063, 0),\n",
    "          (28.55314432177591, 97.71789084567285, 0),\n",
    "          (30.925804186398505, 97.73651238892455, 0)],\n",
    "        [ (35.42172429469604, 62.868371107151994, 1),\n",
    "          (36.36575870693403, 60.81612414265114, 1),\n",
    "          (36.3958015730347, 60.845554677754464, 1),\n",
    "          (35.29157575130411, 63.179905869433654, 1),\n",
    "          (38.19703749175945, 61.839734328145795, 1)],\n",
    "        [ (92.22845587073014, 40.18055397530009, 2),\n",
    "          (90.7642755825596, 40.68519067128221, 2),\n",
    "          (92.27913966714033, 39.604710170714505, 2),\n",
    "          (93.57420210013105, 40.20564381974239, 2),\n",
    "          (92.33724850339567, 40.261922276131735, 2)]\n",
    "    ]\n",
    "    \"\"\"\n",
    "    clustersData = []\n",
    "    for cluster in range(clustersNumber):\n",
    "        clustersData.append(generateRandomCluster(minCoordinate + maxLength * random.random(),\n",
    "                                                  minCoordinate + maxLength * random.random(),\n",
    "                                                  pointsInCluster,\n",
    "                                                  sigma, cluster))\n",
    "    return clustersData"
   ]
  },
  {
   "cell_type": "code",
   "execution_count": 8,
   "id": "14beac8a",
   "metadata": {},
   "outputs": [],
   "source": [
    "def drawClusters(clustersData):\n",
    "    \"\"\"\n",
    "    Функция рисует набор кластеров по данным clustersData\n",
    "    \"\"\"\n",
    "    \n",
    "    for cluster in clustersData:\n",
    "        xData = []\n",
    "        yData = []\n",
    "        colors = []\n",
    "        \n",
    "        for point in cluster:\n",
    "            xData.append(point[0])\n",
    "            yData.append(point[1])\n",
    "            colors.append(point[2])\n",
    "        \n",
    "        plt.scatter(xData, yData, label = colors[0])\n",
    "        \n",
    "    plt.legend(loc='upper right')\n",
    "    plt.show()"
   ]
  },
  {
   "cell_type": "code",
   "execution_count": 9,
   "id": "79b95f6c",
   "metadata": {},
   "outputs": [],
   "source": [
    "clustersNumber = 3\n",
    "minCoordinate = 0\n",
    "maxLength = 100\n",
    "pointsInCluster = 15\n",
    "sigma = 5"
   ]
  },
  {
   "cell_type": "code",
   "execution_count": 10,
   "id": "0cc5a554",
   "metadata": {},
   "outputs": [
    {
     "data": {
      "image/png": "[encoded data removed]",
      "text/plain": [
       "<Figure size 432x288 with 1 Axes>"
      ]
     },
     "metadata": {
      "needs_background": "light"
     },
     "output_type": "display_data"
    }
   ],
   "source": [
    "data = generateNClusters(clustersNumber, minCoordinate, maxLength, pointsInCluster, sigma)\n",
    "drawClusters(data)"
   ]
  },
  {
   "cell_type": "markdown",
   "id": "c578cfe2",
   "metadata": {},
   "source": [
    "### Строим модель"
   ]
  },
  {
   "cell_type": "code",
   "execution_count": 11,
   "id": "dc2f5021",
   "metadata": {},
   "outputs": [],
   "source": [
    "from sklearn.neighbors import KNeighborsClassifier"
   ]
  },
  {
   "cell_type": "code",
   "execution_count": 12,
   "id": "bb8166e1",
   "metadata": {},
   "outputs": [],
   "source": [
    "# http://scikit-learn.org/stable/modules/generated/sklearn.neighbors.KNeighborsClassifier.html\n",
    "model = KNeighborsClassifier(n_neighbors=3)"
   ]
  },
  {
   "cell_type": "code",
   "execution_count": 14,
   "id": "0d6cead4",
   "metadata": {},
   "outputs": [],
   "source": [
    "X = []\n",
    "Y = []\n",
    "\n",
    "for cluster in data:\n",
    "    for point in cluster:\n",
    "        X.append([point[0], point[1]])\n",
    "        Y.append(point[2])"
   ]
  },
  {
   "cell_type": "code",
   "execution_count": 16,
   "id": "ac3e0295",
   "metadata": {},
   "outputs": [
    {
     "data": {
      "text/plain": [
       "KNeighborsClassifier(n_neighbors=3)"
      ]
     },
     "execution_count": 16,
     "metadata": {},
     "output_type": "execute_result"
    }
   ],
   "source": [
    "model.fit(X, Y)"
   ]
  },
  {
   "cell_type": "code",
   "execution_count": 38,
   "id": "0811dddb",
   "metadata": {},
   "outputs": [],
   "source": [
    "def KNeighbors(clustersData, model):\n",
    "    \"\"\"\n",
    "    Визуализация результатов классификации\n",
    "    \"\"\"\n",
    "    step = 1\n",
    "    xx, yy = np.meshgrid(np.arange(minCoordinate, minCoordinate + maxLength, step),\n",
    "                         np.arange(minCoordinate, minCoordinate + maxLength, step))\n",
    "    Z = model.predict(np.c_[xx.ravel(), yy.ravel()])\n",
    "    Z = Z.reshape(xx.shape)\n",
    "    \n",
    "    cmap_light = ListedColormap(['#FFAAAA', '#AAFFAA', '#AAAAFF'])\n",
    "    plt.pcolormesh(xx, yy, Z, cmap = cmap_light)\n",
    "    \n",
    "    for cluster in clustersData:\n",
    "        xData = []\n",
    "        yData = []\n",
    "        colors = []\n",
    "        \n",
    "        for point in cluster:\n",
    "            xData.append(point[0])\n",
    "            yData.append(point[1])\n",
    "            colors.append(point[2])\n",
    "        \n",
    "        plt.scatter(xData, yData, label = colors[0])\n",
    "    plt.legend(loc='best')\n",
    "    \n",
    "    plt.show()"
   ]
  },
  {
   "cell_type": "code",
   "execution_count": 43,
   "id": "d0a186ab",
   "metadata": {},
   "outputs": [
    {
     "data": {
      "image/png": "[encoded data removed]",
      "text/plain": [
       "<Figure size 432x288 with 1 Axes>"
      ]
     },
     "metadata": {
      "needs_background": "light"
     },
     "output_type": "display_data"
    }
   ],
   "source": [
    "data = generateNClusters(clustersNumber, minCoordinate, maxLength, pointsInCluster, sigma)\n",
    "\n",
    "X = []\n",
    "Y = []\n",
    "\n",
    "for cluster in data:\n",
    "    for point in cluster:\n",
    "        X.append([point[0], point[1]])\n",
    "        Y.append(point[2])\n",
    "        \n",
    "model.fit(X, Y)\n",
    "\n",
    "KNeighbors(data, model)"
   ]
  },
  {
   "cell_type": "markdown",
   "id": "2f5b077e",
   "metadata": {},
   "source": [
    " ## Подсчет манхэттенского расстояния в игре \"Пятнашки\""
   ]
  },
  {
   "cell_type": "code",
   "execution_count": 44,
   "id": "efab450e",
   "metadata": {},
   "outputs": [],
   "source": [
    "correct_position = [\n",
    "    [1, 2, 3, 4],\n",
    "    [5, 6, 7, 8],\n",
    "    [9, 10, 11, 12],\n",
    "    [13, 14, 15, 0],\n",
    "]"
   ]
  },
  {
   "cell_type": "code",
   "execution_count": 45,
   "id": "a9602804",
   "metadata": {},
   "outputs": [],
   "source": [
    "current_position = [\n",
    "    [1, 2, 3, 4],\n",
    "    [5, 6, 7, 8],\n",
    "    [9, 10, 11, 12],\n",
    "    [13, 0, 14, 15],\n",
    "]"
   ]
  },
  {
   "cell_type": "code",
   "execution_count": 48,
   "id": "eab651eb",
   "metadata": {},
   "outputs": [],
   "source": [
    "def make_positions_dict(position):\n",
    "    \"\"\"\n",
    "    Формирование словаря координат чисел.\n",
    "    \n",
    "    Пример\n",
    "    make_position_dict(correct_position)\n",
    "    {\n",
    "        1: [1, 1],\n",
    "        2: [1, 2],\n",
    "        ...\n",
    "        14: [4, 2],\n",
    "        15: [4, 3]\n",
    "    }\n",
    "    \"\"\"\n",
    "    position_dict = {}\n",
    "    \n",
    "    row_number = 1\n",
    "    for row_list in position:\n",
    "            \n",
    "        column_number =1\n",
    "        for column in row_list:\n",
    "            if column != 0:\n",
    "                position_dict[column] = [row_number, column_number]\n",
    "                \n",
    "            column_number += 1\n",
    "            \n",
    "        row_number += 1\n",
    "        \n",
    "    return position_dict"
   ]
  },
  {
   "cell_type": "code",
   "execution_count": 49,
   "id": "1b4a0253",
   "metadata": {},
   "outputs": [
    {
     "data": {
      "text/plain": [
       "{1: [1, 1],\n",
       " 2: [1, 2],\n",
       " 3: [1, 3],\n",
       " 4: [1, 4],\n",
       " 5: [2, 1],\n",
       " 6: [2, 2],\n",
       " 7: [2, 3],\n",
       " 8: [2, 4],\n",
       " 9: [3, 1],\n",
       " 10: [3, 2],\n",
       " 11: [3, 3],\n",
       " 12: [3, 4],\n",
       " 13: [4, 1],\n",
       " 14: [4, 2],\n",
       " 15: [4, 3]}"
      ]
     },
     "execution_count": 49,
     "metadata": {},
     "output_type": "execute_result"
    }
   ],
   "source": [
    "correct_dict = make_positions_dict(correct_position)\n",
    "correct_dict"
   ]
  },
  {
   "cell_type": "code",
   "execution_count": 51,
   "id": "9f5c525b",
   "metadata": {},
   "outputs": [
    {
     "data": {
      "text/plain": [
       "{1: [1, 1],\n",
       " 2: [1, 2],\n",
       " 3: [1, 3],\n",
       " 4: [1, 4],\n",
       " 5: [2, 1],\n",
       " 6: [2, 2],\n",
       " 7: [2, 3],\n",
       " 8: [2, 4],\n",
       " 9: [3, 1],\n",
       " 10: [3, 2],\n",
       " 11: [3, 3],\n",
       " 12: [3, 4],\n",
       " 13: [4, 1],\n",
       " 14: [4, 3],\n",
       " 15: [4, 4]}"
      ]
     },
     "execution_count": 51,
     "metadata": {},
     "output_type": "execute_result"
    }
   ],
   "source": [
    "current_dict = make_positions_dict(current_position)\n",
    "current_dict"
   ]
  },
  {
   "cell_type": "code",
   "execution_count": 83,
   "id": "f2412551",
   "metadata": {},
   "outputs": [
    {
     "name": "stdout",
     "output_type": "stream",
     "text": [
      "1 [1, 1] [1, 1] 0 0\n",
      "2 [1, 2] [1, 2] 0 0\n",
      "3 [1, 3] [1, 3] 0 0\n",
      "4 [1, 4] [1, 4] 0 0\n",
      "5 [2, 1] [2, 1] 0 0\n",
      "6 [2, 2] [2, 2] 0 0\n",
      "7 [2, 3] [2, 3] 0 0\n",
      "8 [2, 4] [2, 4] 0 0\n",
      "9 [3, 1] [3, 1] 0 0\n",
      "10 [3, 2] [3, 2] 0 0\n",
      "11 [3, 3] [3, 3] 0 0\n",
      "12 [3, 4] [3, 4] 0 0\n",
      "13 [4, 1] [4, 1] 0 0\n",
      "14 [4, 2] [4, 3] 0 1\n",
      "15 [4, 3] [4, 4] 0 1\n"
     ]
    }
   ],
   "source": [
    "dist = 0\n",
    "for key, coord in correct_dict.items():\n",
    "    print(key, coord, current_dict[key], np.abs(coord[0] - current_dict[key][0]), abs(coord[1] - current_dict[key][1]))\n",
    "    dist += abs(coord[0] - current_dict[key][0]) + np.abs(coord[1] - current_dict[key][1])"
   ]
  },
  {
   "cell_type": "code",
   "execution_count": 84,
   "id": "7581f954",
   "metadata": {},
   "outputs": [
    {
     "data": {
      "text/plain": [
       "2"
      ]
     },
     "execution_count": 84,
     "metadata": {},
     "output_type": "execute_result"
    }
   ],
   "source": [
    "dist"
   ]
  },
  {
   "cell_type": "markdown",
   "id": "60e2df7c",
   "metadata": {},
   "source": [
    "# Поиск наиболее близкого имени участника\n",
    "\n",
    "## Расстояние Левенштейна"
   ]
  },
  {
   "cell_type": "code",
   "execution_count": 85,
   "id": "48cbd3f6",
   "metadata": {},
   "outputs": [],
   "source": [
    "# conda install -c conda-forge python-levenshtein\n",
    "# или pip install python-levenshtein\n",
    "\n",
    "import Levenshtein"
   ]
  },
  {
   "cell_type": "code",
   "execution_count": 86,
   "id": "063ca168",
   "metadata": {},
   "outputs": [],
   "source": [
    "# что было написано в заявке\n",
    "\n",
    "claim_list = [\n",
    "    'Шехавцова Анна',\n",
    "    'Гречихина Наталья',\n",
    "    'Козлова Алена',\n",
    "    'Груздева Алина',\n",
    "    'Кущенко Анна',\n",
    "    'Чистякова Анастасия'\n",
    "]"
   ]
  },
  {
   "cell_type": "code",
   "execution_count": 87,
   "id": "375c9775",
   "metadata": {},
   "outputs": [],
   "source": [
    "# результат расшифровки речи диктора\n",
    "\n",
    "speech_recognition = [\n",
    "    'кучменко она',\n",
    "    'кущенко оксана',\n",
    "    'груздь алина',\n",
    "    'рычихина наталья',\n",
    "    'шиховцева на',\n",
    "    'чистова анастасия'\n",
    "]"
   ]
  },
  {
   "cell_type": "markdown",
   "id": "47626b2e",
   "metadata": {},
   "source": [
    "### С библиотекой Levenshtein"
   ]
  },
  {
   "cell_type": "code",
   "execution_count": 88,
   "id": "466c954c",
   "metadata": {},
   "outputs": [
    {
     "data": {
      "text/plain": [
       "4"
      ]
     },
     "execution_count": 88,
     "metadata": {},
     "output_type": "execute_result"
    }
   ],
   "source": [
    "Levenshtein.distance('Оксана', 'Анна')"
   ]
  },
  {
   "cell_type": "code",
   "execution_count": 151,
   "id": "dbf2dcb5",
   "metadata": {},
   "outputs": [
    {
     "name": "stdout",
     "output_type": "stream",
     "text": [
      "{'Шехавцова Анна': 11, 'Гречихина Наталья': 14, 'Козлова Алена': 11, 'Груздева Алина': 10, 'Кущенко Анна': 5, 'Чистякова Анастасия': 15}\n"
     ]
    }
   ],
   "source": [
    "for recognized_name in speech_recognition:\n",
    "    for real_name in claim_list:\n",
    "        result = {real_name: Levenshtein.distance(recognized_name, real_name) for real_name in claim_list}\n",
    "    print(result)\n",
    "    \n",
    "    break"
   ]
  },
  {
   "cell_type": "code",
   "execution_count": 154,
   "id": "3e1f3144",
   "metadata": {},
   "outputs": [
    {
     "data": {
      "text/plain": [
       "[('Кущенко Анна', 5),\n",
       " ('Груздева Алина', 10),\n",
       " ('Шехавцова Анна', 11),\n",
       " ('Козлова Алена', 11),\n",
       " ('Гречихина Наталья', 14),\n",
       " ('Чистякова Анастасия', 15)]"
      ]
     },
     "execution_count": 154,
     "metadata": {},
     "output_type": "execute_result"
    }
   ],
   "source": [
    "# x[1] - сортировка по значениям словаря по возрастанию (если надо по убыванию - добавляем минус перед x[1])\n",
    "# x[0] - сортировка по ключам\n",
    "sorted(result.items(), key=lambda x: x[1])"
   ]
  },
  {
   "cell_type": "markdown",
   "id": "1974ea9c",
   "metadata": {},
   "source": [
    "# Пример использования коэффициента Жаккара"
   ]
  },
  {
   "cell_type": "code",
   "execution_count": 157,
   "id": "66ef228b",
   "metadata": {},
   "outputs": [],
   "source": [
    "import pandas as pd"
   ]
  },
  {
   "cell_type": "markdown",
   "id": "cad600e6",
   "metadata": {},
   "source": [
    "Данные по ценам на товары"
   ]
  },
  {
   "cell_type": "code",
   "execution_count": 158,
   "id": "5a9b7ce2",
   "metadata": {},
   "outputs": [
    {
     "data": {
      "text/html": [
       "<div>\n",
       "<style scoped>\n",
       "    .dataframe tbody tr th:only-of-type {\n",
       "        vertical-align: middle;\n",
       "    }\n",
       "\n",
       "    .dataframe tbody tr th {\n",
       "        vertical-align: top;\n",
       "    }\n",
       "\n",
       "    .dataframe thead th {\n",
       "        text-align: right;\n",
       "    }\n",
       "</style>\n",
       "<table border=\"1\" class=\"dataframe\">\n",
       "  <thead>\n",
       "    <tr style=\"text-align: right;\">\n",
       "      <th></th>\n",
       "      <th>id</th>\n",
       "      <th>price</th>\n",
       "    </tr>\n",
       "  </thead>\n",
       "  <tbody>\n",
       "    <tr>\n",
       "      <th>0</th>\n",
       "      <td>b000jz4hqo</td>\n",
       "      <td>0.00</td>\n",
       "    </tr>\n",
       "    <tr>\n",
       "      <th>1</th>\n",
       "      <td>b0006zf55o</td>\n",
       "      <td>0.00</td>\n",
       "    </tr>\n",
       "    <tr>\n",
       "      <th>2</th>\n",
       "      <td>b00004tkvy</td>\n",
       "      <td>0.00</td>\n",
       "    </tr>\n",
       "    <tr>\n",
       "      <th>3</th>\n",
       "      <td>b000g80lqo</td>\n",
       "      <td>599.99</td>\n",
       "    </tr>\n",
       "    <tr>\n",
       "      <th>4</th>\n",
       "      <td>b0006se5bq</td>\n",
       "      <td>99.99</td>\n",
       "    </tr>\n",
       "  </tbody>\n",
       "</table>\n",
       "</div>"
      ],
      "text/plain": [
       "           id   price\n",
       "0  b000jz4hqo    0.00\n",
       "1  b0006zf55o    0.00\n",
       "2  b00004tkvy    0.00\n",
       "3  b000g80lqo  599.99\n",
       "4  b0006se5bq   99.99"
      ]
     },
     "execution_count": 158,
     "metadata": {},
     "output_type": "execute_result"
    }
   ],
   "source": [
    "prices = pd.read_csv('datasets/ids_and_prices.csv')\n",
    "prices.head()"
   ]
  },
  {
   "cell_type": "code",
   "execution_count": 159,
   "id": "60168f53",
   "metadata": {},
   "outputs": [
    {
     "data": {
      "text/html": [
       "<div>\n",
       "<style scoped>\n",
       "    .dataframe tbody tr th:only-of-type {\n",
       "        vertical-align: middle;\n",
       "    }\n",
       "\n",
       "    .dataframe tbody tr th {\n",
       "        vertical-align: top;\n",
       "    }\n",
       "\n",
       "    .dataframe thead th {\n",
       "        text-align: right;\n",
       "    }\n",
       "</style>\n",
       "<table border=\"1\" class=\"dataframe\">\n",
       "  <thead>\n",
       "    <tr style=\"text-align: right;\">\n",
       "      <th></th>\n",
       "      <th>id</th>\n",
       "      <th>name</th>\n",
       "      <th>description</th>\n",
       "      <th>manufacturer</th>\n",
       "    </tr>\n",
       "  </thead>\n",
       "  <tbody>\n",
       "    <tr>\n",
       "      <th>0</th>\n",
       "      <td>b000jz4hqo</td>\n",
       "      <td>clickart 950000 - premier image pack (dvd-rom)</td>\n",
       "      <td>massive collection of images &amp; fonts for all y...</td>\n",
       "      <td>NaN</td>\n",
       "    </tr>\n",
       "    <tr>\n",
       "      <th>1</th>\n",
       "      <td>b00004tkvy</td>\n",
       "      <td>the beginners bible: noah's ark activity cente...</td>\n",
       "      <td>NaN</td>\n",
       "      <td>NaN</td>\n",
       "    </tr>\n",
       "    <tr>\n",
       "      <th>2</th>\n",
       "      <td>b000g80lqo</td>\n",
       "      <td>sage (ptree) - vernfp2007rt - premium accounti...</td>\n",
       "      <td>if you're like most nonprofit organizations yo...</td>\n",
       "      <td>NaN</td>\n",
       "    </tr>\n",
       "    <tr>\n",
       "      <th>3</th>\n",
       "      <td>b0006se5bq</td>\n",
       "      <td>singing coach unlimited - electronic learning ...</td>\n",
       "      <td>learn to sing with the help of a patented real...</td>\n",
       "      <td>NaN</td>\n",
       "    </tr>\n",
       "    <tr>\n",
       "      <th>4</th>\n",
       "      <td>b00021xhzw</td>\n",
       "      <td>adobe software 22070152 after effects 6.5 pbupgrd</td>\n",
       "      <td>adobe after effects pb 6.5 win upgrade.standar...</td>\n",
       "      <td>NaN</td>\n",
       "    </tr>\n",
       "  </tbody>\n",
       "</table>\n",
       "</div>"
      ],
      "text/plain": [
       "           id                                               name  \\\n",
       "0  b000jz4hqo     clickart 950000 - premier image pack (dvd-rom)   \n",
       "1  b00004tkvy  the beginners bible: noah's ark activity cente...   \n",
       "2  b000g80lqo  sage (ptree) - vernfp2007rt - premium accounti...   \n",
       "3  b0006se5bq  singing coach unlimited - electronic learning ...   \n",
       "4  b00021xhzw  adobe software 22070152 after effects 6.5 pbupgrd   \n",
       "\n",
       "                                         description manufacturer  \n",
       "0  massive collection of images & fonts for all y...          NaN  \n",
       "1                                                NaN          NaN  \n",
       "2  if you're like most nonprofit organizations yo...          NaN  \n",
       "3  learn to sing with the help of a patented real...          NaN  \n",
       "4  adobe after effects pb 6.5 win upgrade.standar...          NaN  "
      ]
     },
     "execution_count": 159,
     "metadata": {},
     "output_type": "execute_result"
    }
   ],
   "source": [
    "details = pd.read_csv('datasets/ids_and_details.csv')\n",
    "details.head()"
   ]
  },
  {
   "cell_type": "markdown",
   "id": "aa07fbe0",
   "metadata": {},
   "source": [
    "Проверим на наличие дубликатов\n",
    "\n",
    "Они есть"
   ]
  },
  {
   "cell_type": "code",
   "execution_count": 161,
   "id": "855d42cb",
   "metadata": {},
   "outputs": [
    {
     "data": {
      "text/plain": [
       "b00006jo4g    5\n",
       "b0009i5sgy    4\n",
       "b00002s5ig    4\n",
       "b000067fk7    4\n",
       "b0009hj5ve    4\n",
       "Name: id, dtype: int64"
      ]
     },
     "execution_count": 161,
     "metadata": {},
     "output_type": "execute_result"
    }
   ],
   "source": [
    "details['id'].value_counts().sort_values(ascending=False).head()"
   ]
  },
  {
   "cell_type": "code",
   "execution_count": 162,
   "id": "b5e654ce",
   "metadata": {},
   "outputs": [],
   "source": [
    "details.drop_duplicates(subset='id', keep='first', inplace=True)"
   ]
  },
  {
   "cell_type": "code",
   "execution_count": 164,
   "id": "c0c5e105",
   "metadata": {},
   "outputs": [
    {
     "data": {
      "text/plain": [
       "b000jz4hqo    1\n",
       "b000i82j80    1\n",
       "b0006se5bq    1\n",
       "b00021xhzw    1\n",
       "b0000dbykm    1\n",
       "Name: id, dtype: int64"
      ]
     },
     "execution_count": 164,
     "metadata": {},
     "output_type": "execute_result"
    }
   ],
   "source": [
    "# Проверим, что дубликатов нет\n",
    "details['id'].value_counts().sort_values(ascending=False).head()"
   ]
  },
  {
   "cell_type": "code",
   "execution_count": 166,
   "id": "4b17f0c0",
   "metadata": {},
   "outputs": [
    {
     "data": {
      "text/html": [
       "<div>\n",
       "<style scoped>\n",
       "    .dataframe tbody tr th:only-of-type {\n",
       "        vertical-align: middle;\n",
       "    }\n",
       "\n",
       "    .dataframe tbody tr th {\n",
       "        vertical-align: top;\n",
       "    }\n",
       "\n",
       "    .dataframe thead th {\n",
       "        text-align: right;\n",
       "    }\n",
       "</style>\n",
       "<table border=\"1\" class=\"dataframe\">\n",
       "  <thead>\n",
       "    <tr style=\"text-align: right;\">\n",
       "      <th></th>\n",
       "      <th>id</th>\n",
       "      <th>name</th>\n",
       "      <th>description</th>\n",
       "      <th>manufacturer</th>\n",
       "    </tr>\n",
       "  </thead>\n",
       "  <tbody>\n",
       "    <tr>\n",
       "      <th>0</th>\n",
       "      <td>b000jz4hqo</td>\n",
       "      <td>clickart 950000 - premier image pack (dvd-rom)</td>\n",
       "      <td>massive collection of images &amp; fonts for all y...</td>\n",
       "      <td>NaN</td>\n",
       "    </tr>\n",
       "    <tr>\n",
       "      <th>1</th>\n",
       "      <td>b00004tkvy</td>\n",
       "      <td>the beginners bible: noah's ark activity cente...</td>\n",
       "      <td></td>\n",
       "      <td>NaN</td>\n",
       "    </tr>\n",
       "    <tr>\n",
       "      <th>2</th>\n",
       "      <td>b000g80lqo</td>\n",
       "      <td>sage (ptree) - vernfp2007rt - premium accounti...</td>\n",
       "      <td>if you're like most nonprofit organizations yo...</td>\n",
       "      <td>NaN</td>\n",
       "    </tr>\n",
       "    <tr>\n",
       "      <th>3</th>\n",
       "      <td>b0006se5bq</td>\n",
       "      <td>singing coach unlimited - electronic learning ...</td>\n",
       "      <td>learn to sing with the help of a patented real...</td>\n",
       "      <td>NaN</td>\n",
       "    </tr>\n",
       "    <tr>\n",
       "      <th>4</th>\n",
       "      <td>b00021xhzw</td>\n",
       "      <td>adobe software 22070152 after effects 6.5 pbupgrd</td>\n",
       "      <td>adobe after effects pb 6.5 win upgrade.standar...</td>\n",
       "      <td>NaN</td>\n",
       "    </tr>\n",
       "  </tbody>\n",
       "</table>\n",
       "</div>"
      ],
      "text/plain": [
       "           id                                               name  \\\n",
       "0  b000jz4hqo     clickart 950000 - premier image pack (dvd-rom)   \n",
       "1  b00004tkvy  the beginners bible: noah's ark activity cente...   \n",
       "2  b000g80lqo  sage (ptree) - vernfp2007rt - premium accounti...   \n",
       "3  b0006se5bq  singing coach unlimited - electronic learning ...   \n",
       "4  b00021xhzw  adobe software 22070152 after effects 6.5 pbupgrd   \n",
       "\n",
       "                                         description manufacturer  \n",
       "0  massive collection of images & fonts for all y...          NaN  \n",
       "1                                                             NaN  \n",
       "2  if you're like most nonprofit organizations yo...          NaN  \n",
       "3  learn to sing with the help of a patented real...          NaN  \n",
       "4  adobe after effects pb 6.5 win upgrade.standar...          NaN  "
      ]
     },
     "execution_count": 166,
     "metadata": {},
     "output_type": "execute_result"
    }
   ],
   "source": [
    "# для пустых описаний NaN подставим пустую строку\n",
    "# это изменит тип ячейки (с числовой на строковую) и позволит избежать в дальнейшем ошибки\n",
    "\n",
    "details['description'].fillna('', inplace=True)\n",
    "details.head()"
   ]
  },
  {
   "cell_type": "code",
   "execution_count": 168,
   "id": "3ff01e8c",
   "metadata": {},
   "outputs": [
    {
     "data": {
      "text/html": [
       "<div>\n",
       "<style scoped>\n",
       "    .dataframe tbody tr th:only-of-type {\n",
       "        vertical-align: middle;\n",
       "    }\n",
       "\n",
       "    .dataframe tbody tr th {\n",
       "        vertical-align: top;\n",
       "    }\n",
       "\n",
       "    .dataframe thead th {\n",
       "        text-align: right;\n",
       "    }\n",
       "</style>\n",
       "<table border=\"1\" class=\"dataframe\">\n",
       "  <thead>\n",
       "    <tr style=\"text-align: right;\">\n",
       "      <th></th>\n",
       "      <th>id</th>\n",
       "      <th>name</th>\n",
       "      <th>description</th>\n",
       "      <th>manufacturer</th>\n",
       "      <th>price</th>\n",
       "    </tr>\n",
       "  </thead>\n",
       "  <tbody>\n",
       "    <tr>\n",
       "      <th>0</th>\n",
       "      <td>b000jz4hqo</td>\n",
       "      <td>clickart 950000 - premier image pack (dvd-rom)</td>\n",
       "      <td>massive collection of images &amp; fonts for all y...</td>\n",
       "      <td>NaN</td>\n",
       "      <td>0.00</td>\n",
       "    </tr>\n",
       "    <tr>\n",
       "      <th>1</th>\n",
       "      <td>b00004tkvy</td>\n",
       "      <td>the beginners bible: noah's ark activity cente...</td>\n",
       "      <td></td>\n",
       "      <td>NaN</td>\n",
       "      <td>0.00</td>\n",
       "    </tr>\n",
       "    <tr>\n",
       "      <th>2</th>\n",
       "      <td>b000g80lqo</td>\n",
       "      <td>sage (ptree) - vernfp2007rt - premium accounti...</td>\n",
       "      <td>if you're like most nonprofit organizations yo...</td>\n",
       "      <td>NaN</td>\n",
       "      <td>599.99</td>\n",
       "    </tr>\n",
       "    <tr>\n",
       "      <th>3</th>\n",
       "      <td>b0006se5bq</td>\n",
       "      <td>singing coach unlimited - electronic learning ...</td>\n",
       "      <td>learn to sing with the help of a patented real...</td>\n",
       "      <td>NaN</td>\n",
       "      <td>99.99</td>\n",
       "    </tr>\n",
       "    <tr>\n",
       "      <th>4</th>\n",
       "      <td>b00021xhzw</td>\n",
       "      <td>adobe software 22070152 after effects 6.5 pbupgrd</td>\n",
       "      <td>adobe after effects pb 6.5 win upgrade.standar...</td>\n",
       "      <td>NaN</td>\n",
       "      <td>499.99</td>\n",
       "    </tr>\n",
       "  </tbody>\n",
       "</table>\n",
       "</div>"
      ],
      "text/plain": [
       "           id                                               name  \\\n",
       "0  b000jz4hqo     clickart 950000 - premier image pack (dvd-rom)   \n",
       "1  b00004tkvy  the beginners bible: noah's ark activity cente...   \n",
       "2  b000g80lqo  sage (ptree) - vernfp2007rt - premium accounti...   \n",
       "3  b0006se5bq  singing coach unlimited - electronic learning ...   \n",
       "4  b00021xhzw  adobe software 22070152 after effects 6.5 pbupgrd   \n",
       "\n",
       "                                         description manufacturer   price  \n",
       "0  massive collection of images & fonts for all y...          NaN    0.00  \n",
       "1                                                             NaN    0.00  \n",
       "2  if you're like most nonprofit organizations yo...          NaN  599.99  \n",
       "3  learn to sing with the help of a patented real...          NaN   99.99  \n",
       "4  adobe after effects pb 6.5 win upgrade.standar...          NaN  499.99  "
      ]
     },
     "execution_count": 168,
     "metadata": {},
     "output_type": "execute_result"
    }
   ],
   "source": [
    "data = details.merge(prices, on='id', how='left')\n",
    "data.head()"
   ]
  },
  {
   "cell_type": "markdown",
   "id": "f49eb79c",
   "metadata": {},
   "source": [
    "### Поиск близких описаний"
   ]
  },
  {
   "cell_type": "code",
   "execution_count": null,
   "id": "7721cae9",
   "metadata": {},
   "outputs": [],
   "source": [
    "До"
   ]
  },
  {
   "cell_type": "code",
   "execution_count": null,
   "id": "d485ea30",
   "metadata": {},
   "outputs": [],
   "source": [
    "Допустим, мы добавили к нашей таблице новый товар с описанием. Как проверить, что добавленный товар имеет более менее \"уникальное описание\"? \n",
    "\n",
    "Например, мы можем для описания каждого товара из таблицы посчитать количество слов, совпадающих с описанием нового товара. Для удобства для каждого описания из таблицы будем брать долю одинаковых слов от количества слов в описании нового товара.\n",
    "\n",
    "Таким образом, если описания товаров сильно близки, то наша доля будет приближаться к 100%. Если описание товара из таблицы не имеет общих слов с новым, то доля будет равна 0. Для удобства отсортируем конечную таблицу по убыванию нашей метрики близости."
   ]
  }
 ],
 "metadata": {
  "kernelspec": {
   "display_name": "Python 3",
   "language": "python",
   "name": "python3"
  },
  "language_info": {
   "codemirror_mode": {
    "name": "ipython",
    "version": 3
   },
   "file_extension": ".py",
   "mimetype": "text/x-python",
   "name": "python",
   "nbconvert_exporter": "python",
   "pygments_lexer": "ipython3",
   "version": "3.8.8"
  }
 },
 "nbformat": 4,
 "nbformat_minor": 5
}
