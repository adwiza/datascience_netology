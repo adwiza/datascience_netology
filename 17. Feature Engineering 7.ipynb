{
 "cells": [
  {
   "cell_type": "markdown",
   "id": "568c3f5c",
   "metadata": {},
   "source": [
    "## PCA"
   ]
  },
  {
   "cell_type": "markdown",
   "id": "05d424c6",
   "metadata": {},
   "source": [
    "## MNIST"
   ]
  },
  {
   "cell_type": "markdown",
   "id": "64cc4d13",
   "metadata": {},
   "source": [
    "Датасет рукописных цифр\n",
    "\n",
    "* Каждая цифра - черно-белая картинка 8x8 пикселей, закодированная массивом из 64 ячеек\n",
    "* Каждая ячейка - цифра от 0 до 16, описывающая градацию серого цвета в этой ячейки\n",
    "* Количество экземпляров: 1797\n",
    "* Количество классов: 10\n",
    "* Количество экземпляров на класс: ~180"
   ]
  },
  {
   "cell_type": "code",
   "execution_count": 1,
   "id": "3e0d7d4b",
   "metadata": {},
   "outputs": [],
   "source": [
    "import numpy as np\n",
    "import matplotlib.pyplot as plt\n",
    "\n",
    "plt.rcParams['axes.labelsize'] = 14\n",
    "plt.rcParams['xtick.labelsize'] = 12\n",
    "plt.rcParams['ytick.labelsize'] = 12\n",
    "plt.rcParams['figure.figsize'] = (10, 5)"
   ]
  },
  {
   "cell_type": "code",
   "execution_count": 2,
   "id": "95c45d54",
   "metadata": {},
   "outputs": [],
   "source": [
    "from sklearn import datasets\n",
    "\n",
    "digits = datasets.load_digits()\n",
    "X_digits = digits.data"
   ]
  },
  {
   "cell_type": "code",
   "execution_count": 4,
   "id": "76959f13",
   "metadata": {},
   "outputs": [
    {
     "data": {
      "text/plain": [
       "array([ 0.,  0.,  5., 13.,  9.,  1.,  0.,  0.,  0.,  0., 13., 15., 10.,\n",
       "       15.,  5.,  0.,  0.,  3., 15.,  2.,  0., 11.,  8.,  0.,  0.,  4.,\n",
       "       12.,  0.,  0.,  8.,  8.,  0.,  0.,  5.,  8.,  0.,  0.,  9.,  8.,\n",
       "        0.,  0.,  4., 11.,  0.,  1., 12.,  7.,  0.,  0.,  2., 14.,  5.,\n",
       "       10., 12.,  0.,  0.,  0.,  0.,  6., 13., 10.,  0.,  0.,  0.])"
      ]
     },
     "execution_count": 4,
     "metadata": {},
     "output_type": "execute_result"
    }
   ],
   "source": [
    "X_digits[0]"
   ]
  },
  {
   "cell_type": "code",
   "execution_count": 5,
   "id": "2e0c4f40",
   "metadata": {},
   "outputs": [
    {
     "data": {
      "text/plain": [
       "<matplotlib.image.AxesImage at 0x2799f6070a0>"
      ]
     },
     "execution_count": 5,
     "metadata": {},
     "output_type": "execute_result"
    },
    {
     "data": {
      "image/png": "[encoded data removed]",
      "text/plain": [
       "<Figure size 720x360 with 1 Axes>"
      ]
     },
     "metadata": {
      "needs_background": "light"
     },
     "output_type": "display_data"
    }
   ],
   "source": [
    "plt.imshow(X_digits[0].reshape(8, 8), cmap=plt.cm.binary)"
   ]
  },
  {
   "cell_type": "markdown",
   "id": "dfe48f8d",
   "metadata": {},
   "source": [
    "### Уменьшим размерность"
   ]
  },
  {
   "cell_type": "code",
   "execution_count": 7,
   "id": "97515b2c",
   "metadata": {},
   "outputs": [
    {
     "data": {
      "text/plain": [
       "Text(0, 0.5, 'explained_variance_ratio_')"
      ]
     },
     "execution_count": 7,
     "metadata": {},
     "output_type": "execute_result"
    },
    {
     "data": {
      "image/png": "[encoded data removed]",
      "text/plain": [
       "<Figure size 720x360 with 1 Axes>"
      ]
     },
     "metadata": {
      "needs_background": "light"
     },
     "output_type": "display_data"
    }
   ],
   "source": [
    "from sklearn.decomposition import PCA\n",
    "\n",
    "pca = PCA().fit(X_digits)\n",
    "\n",
    "cum_avr = np.cumsum(pca.explained_variance_ratio_)\n",
    "xs = np.arange(cum_avr.size) + 1\n",
    "plt.plot(xs, cum_avr, linewidth=2)\n",
    "plt.grid()\n",
    "plt.xlabel('n_componets')\n",
    "plt.ylabel('explained_variance_ratio_')"
   ]
  },
  {
   "cell_type": "code",
   "execution_count": 11,
   "id": "55465782",
   "metadata": {},
   "outputs": [
    {
     "data": {
      "text/plain": [
       "array([14.89059358, 13.61877124, 11.79459376,  8.40997942,  5.78241466,\n",
       "        4.91691032,  4.31598701,  3.66137258,  3.3532481 ,  3.07880621,\n",
       "        2.37234084,  2.27269657,  1.82186331,  1.77385494,  1.46710109,\n",
       "        1.4097156 ,  1.3185892 ,  1.24813782,  1.01771796,  0.90561744,\n",
       "        0.88953846,  0.79712316,  0.76749325,  0.72290357,  0.69588885,\n",
       "        0.59608146,  0.57561469,  0.51515758,  0.48953978,  0.42888797,\n",
       "        0.37360605,  0.35327422,  0.33668399,  0.32802985,  0.30832088,\n",
       "        0.29377863,  0.25658861,  0.2277424 ,  0.22227792,  0.21143039,\n",
       "        0.18990906,  0.15865291,  0.15115993,  0.14057876,  0.11662229,\n",
       "        0.10749252,  0.09640531,  0.07746303,  0.05572116,  0.04043307,\n",
       "        0.02099163,  0.00824797,  0.0052515 ,  0.00505244,  0.00329961,\n",
       "        0.00124365,  0.00070483,  0.00030143,  0.00010623,  0.00005501,\n",
       "        0.00003429,  0.        ,  0.        ,  0.        ])"
      ]
     },
     "execution_count": 11,
     "metadata": {},
     "output_type": "execute_result"
    }
   ],
   "source": [
    "np.set_printoptions(suppress=True)\n",
    "pca.explained_variance_ratio_ * 100"
   ]
  },
  {
   "cell_type": "code",
   "execution_count": 12,
   "id": "32129da7",
   "metadata": {},
   "outputs": [
    {
     "data": {
      "text/plain": [
       "array([ 1., -0.,  0., -0.,  0.,  0.,  0., -0., -0.,  0.,  0., -0.,  0.,\n",
       "       -0., -0.,  0.,  0., -0., -0.,  0.,  0.,  0., -0.,  0., -0.,  0.,\n",
       "       -0.,  0., -0.,  0.,  0., -0.,  0.,  0.,  0.,  0.,  0.,  0., -0.,\n",
       "       -0.,  0.,  0.,  0., -0.,  0.,  0., -0.,  0.,  0., -0., -0.,  0.,\n",
       "       -0., -0.,  0., -0., -0.,  0., -0.,  0.,  0.,  0., -0.,  0.])"
      ]
     },
     "execution_count": 12,
     "metadata": {},
     "output_type": "execute_result"
    }
   ],
   "source": [
    "pca.components_[-1]"
   ]
  },
  {
   "cell_type": "markdown",
   "id": "286097ab",
   "metadata": {},
   "source": [
    "Уже на 40 компонентах мы объяснили почти весь variance. Похоже на правду?"
   ]
  },
  {
   "cell_type": "code",
   "execution_count": 14,
   "id": "8e0c7124",
   "metadata": {},
   "outputs": [],
   "source": [
    "from sklearn.preprocessing import binarize\n",
    "bin_X = binarize(X_digits).sum(axis=0) ## считаем сколько раз активизировалась каждая из 64 ячеек"
   ]
  },
  {
   "cell_type": "code",
   "execution_count": 16,
   "id": "614c3d15",
   "metadata": {},
   "outputs": [
    {
     "data": {
      "image/png": "[encoded data removed]",
      "text/plain": [
       "<Figure size 720x360 with 2 Axes>"
      ]
     },
     "metadata": {
      "needs_background": "light"
     },
     "output_type": "display_data"
    }
   ],
   "source": [
    "plt.imshow(bin_X.reshape(8, 8), plt.cm.hot)\n",
    "plt.colorbar();"
   ]
  },
  {
   "cell_type": "code",
   "execution_count": null,
   "id": "2a2460a6",
   "metadata": {},
   "outputs": [],
   "source": []
  }
 ],
 "metadata": {
  "kernelspec": {
   "display_name": "Python 3",
   "language": "python",
   "name": "python3"
  },
  "language_info": {
   "codemirror_mode": {
    "name": "ipython",
    "version": 3
   },
   "file_extension": ".py",
   "mimetype": "text/x-python",
   "name": "python",
   "nbconvert_exporter": "python",
   "pygments_lexer": "ipython3",
   "version": "3.8.8"
  },
  "toc": {
   "base_numbering": 1,
   "nav_menu": {},
   "number_sections": true,
   "sideBar": true,
   "skip_h1_title": false,
   "title_cell": "Table of Contents",
   "title_sidebar": "Contents",
   "toc_cell": false,
   "toc_position": {},
   "toc_section_display": true,
   "toc_window_display": false
  }
 },
 "nbformat": 4,
 "nbformat_minor": 5
}
