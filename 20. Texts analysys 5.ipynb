{
 "cells": [
  {
   "cell_type": "markdown",
   "id": "af291bba",
   "metadata": {},
   "source": [
    "## Векторная модель (VSM - vector space model)\n",
    "\n",
    "Косинусная мера близости в векторной модели [Salton et. al, 1975]: $cos(d_i,d_j) = \\frac{d_i\\times d_j}{||d_i|||d_j||} = \\frac{\\sum_k f_{ki}\\times f_{kj}}{\\sqrt{(\\sum_k{f_{ki}})^2}\\sqrt{(\\sum_k{f_{ki}})^2}}$\n",
    "\n",
    "Если вектора нормировать $||d_i||=||d_j||=1, cos(d_i,d_j)=d_i\\times d_j$"
   ]
  },
  {
   "cell_type": "markdown",
   "id": "2e1e730d",
   "metadata": {},
   "source": [
    "Зададим небольшую коллекцию документов"
   ]
  },
  {
   "cell_type": "code",
   "execution_count": 1,
   "id": "9a136042",
   "metadata": {},
   "outputs": [],
   "source": [
    "import warnings\n",
    "warnings.filterwarnings('ignore')\n",
    "\n",
    "from gensim import corpora\n",
    "from gensim import corpora, models ,similarities\n",
    "\n",
    "from pylab import pcolor, show, colorbar, xticks, yticks\n",
    "import seaborn as sns\n",
    "import matplotlib.pyplot as plt\n",
    "%matplotlib inline\n",
    "\n",
    "documents = [\n",
    "    \"Human machine interface for lab abc computer applications\",\n",
    "    \"A survey of user opinion of computer system response time\",\n",
    "    \"The EPS user interface management system\",\n",
    "    \"System and human system engineering testing of EPS\",\n",
    "    \"Relation of user perceived response time to error measurement\",\n",
    "    \"The generation of random binary unordered trees\",\n",
    "    \"The intersection graph of paths in trees\",\n",
    "    \"Graph minors IV Widths of trees and well quasi ordering\",\n",
    "    \"Graph minors A survey\",\n",
    "]"
   ]
  },
  {
   "cell_type": "markdown",
   "id": "7fd6f190",
   "metadata": {},
   "source": [
    "Предобработка"
   ]
  },
  {
   "cell_type": "code",
   "execution_count": 2,
   "id": "e83a21a4",
   "metadata": {},
   "outputs": [
    {
     "name": "stdout",
     "output_type": "stream",
     "text": [
      "[['human', 'interface', 'computer'],\n",
      " ['survey', 'user', 'computer', 'system', 'response', 'time'],\n",
      " ['eps', 'user', 'interface', 'system'],\n",
      " ['system', 'human', 'system', 'eps'],\n",
      " ['user', 'response', 'time'],\n",
      " ['trees'],\n",
      " ['graph', 'trees'],\n",
      " ['graph', 'minors', 'trees'],\n",
      " ['graph', 'minors', 'survey']]\n"
     ]
    }
   ],
   "source": [
    "# remove common words and tokenize\n",
    "stoplist = set('for a of the and to in'.split())\n",
    "texts = [\n",
    "    [word for word in document.lower().split() if word not in stoplist]\n",
    "    for document in documents\n",
    "]\n",
    "\n",
    "\n",
    "from collections import defaultdict ## задаем частотный словарь\n",
    "\n",
    "frequency = defaultdict(int)\n",
    "\n",
    "for text in texts:\n",
    "    for token in text:\n",
    "        frequency[token] += 1\n",
    "\n",
    "texts = [[token for token in text if frequency[token] > 1] for text in texts] ## удаляем токены,к оторые встречсаются тольк один раз\n",
    "from pprint import pprint\n",
    "pprint(texts)"
   ]
  },
  {
   "cell_type": "markdown",
   "id": "2213802a",
   "metadata": {},
   "source": [
    "### Векторное представление коллекции текстов\n",
    "\n",
    "Задаем словарь и непосредственное представление текстов векторами. (Векторная модель - это матрица слово - документ \n",
    "$$\n",
    "   d1  d2\n",
    "w1 \n",
    "w2 f11 f12\n",
    "w3 f13 f23\n",
    "$$\n",
    "w - слово <br>\n",
    "d - документ <br>\n",
    "f - частота\n"
   ]
  },
  {
   "cell_type": "code",
   "execution_count": 3,
   "id": "097d50e1",
   "metadata": {},
   "outputs": [
    {
     "name": "stdout",
     "output_type": "stream",
     "text": [
      "Dictionary(12 unique tokens: ['computer', 'human', 'interface', 'response', 'survey']...)\n",
      "{'computer': 0, 'human': 1, 'interface': 2, 'response': 3, 'survey': 4, 'system': 5, 'time': 6, 'user': 7, 'eps': 8, 'trees': 9, 'graph': 10, 'minors': 11}\n"
     ]
    }
   ],
   "source": [
    "dictionary = corpora.Dictionary(texts) ## инициализаируем словарь\n",
    "print(dictionary)\n",
    "print(dictionary.token2id)"
   ]
  },
  {
   "cell_type": "code",
   "execution_count": 4,
   "id": "a97fe80a",
   "metadata": {},
   "outputs": [
    {
     "name": "stdout",
     "output_type": "stream",
     "text": [
      "[(0, 1), (1, 1), (2, 1)]\n",
      "[(0, 1), (3, 1), (4, 1), (5, 1), (6, 1), (7, 1)]\n",
      "[(2, 1), (5, 1), (7, 1), (8, 1)]\n",
      "[(1, 1), (5, 2), (8, 1)]\n",
      "[(3, 1), (6, 1), (7, 1)]\n",
      "[(9, 1)]\n",
      "[(9, 1), (10, 1)]\n",
      "[(9, 1), (10, 1), (11, 1)]\n",
      "[(4, 1), (10, 1), (11, 1)]\n"
     ]
    }
   ],
   "source": [
    "corpus = [dictionary.doc2bow(text) for text in texts] ## здесь непосредственно зранится векторная модель\n",
    "# Представление документов в корпусе\n",
    "for doc in corpus:\n",
    "    print(doc)\n",
    "#print(corpus)"
   ]
  },
  {
   "cell_type": "markdown",
   "id": "9a871b5c",
   "metadata": {},
   "source": [
    "### Поиск по запросу\n",
    "\n",
    "Ищем ближайший документ к вектору запроса по косинусной мере близости"
   ]
  },
  {
   "cell_type": "code",
   "execution_count": 5,
   "id": "367ba5d3",
   "metadata": {},
   "outputs": [
    {
     "name": "stdout",
     "output_type": "stream",
     "text": [
      "0 computer\n",
      "1 human\n"
     ]
    }
   ],
   "source": [
    "q = 'human computer interaction'\n",
    "vec = dictionary.doc2bow(q.lower().split())  # функция doc2bow -преобразует документ в мешок слов bag of words - bow\n",
    "# print(vec)\n",
    "\n",
    "for word in vec:\n",
    "    print(word[0], dictionary[word[0]])"
   ]
  },
  {
   "cell_type": "code",
   "execution_count": 6,
   "id": "4ebe7322",
   "metadata": {},
   "outputs": [
    {
     "data": {
      "text/plain": [
       "[(0, 1), (1, 1)]"
      ]
     },
     "execution_count": 6,
     "metadata": {},
     "output_type": "execute_result"
    }
   ],
   "source": [
    "vec"
   ]
  },
  {
   "cell_type": "code",
   "execution_count": 7,
   "id": "8492dbca",
   "metadata": {},
   "outputs": [
    {
     "name": "stdout",
     "output_type": "stream",
     "text": [
      "MatrixSimilarity<9 docs, 12 features>\n"
     ]
    }
   ],
   "source": [
    "index = similarities.MatrixSimilarity(corpus)\n",
    "print(index)"
   ]
  },
  {
   "cell_type": "code",
   "execution_count": 8,
   "id": "36c957e3",
   "metadata": {},
   "outputs": [
    {
     "name": "stdout",
     "output_type": "stream",
     "text": [
      "[0.81649655 0.28867513 0.         0.28867513 0.         0.\n",
      " 0.         0.         0.        ]\n",
      "Q: human computer interaction\n",
      "doc 0 Human machine interface for lab abc computer applications 0.81649655\n",
      "doc 1 A survey of user opinion of computer system response time 0.28867513\n",
      "doc 3 System and human system engineering testing of EPS 0.28867513\n",
      "doc 2 The EPS user interface management system 0.0\n",
      "doc 4 Relation of user perceived response time to error measurement 0.0\n",
      "doc 5 The generation of random binary unordered trees 0.0\n",
      "doc 6 The intersection graph of paths in trees 0.0\n",
      "doc 7 Graph minors IV Widths of trees and well quasi ordering 0.0\n",
      "doc 8 Graph minors A survey 0.0\n"
     ]
    }
   ],
   "source": [
    "sims = index[vec]\n",
    "print(sims)\n",
    "sims = sorted(enumerate(sims), key=lambda item: -item[1])\n",
    "print('Q:', q)\n",
    "for i in sims:\n",
    "    print('doc', i[0], documents[i[0]], i[1])"
   ]
  },
  {
   "cell_type": "markdown",
   "id": "48c3dad7",
   "metadata": {},
   "source": [
    "Выполним $TF-IDF$ преобразование"
   ]
  },
  {
   "cell_type": "code",
   "execution_count": 9,
   "id": "4b6f9ad0",
   "metadata": {},
   "outputs": [],
   "source": [
    "tfidf = models.TfidfModel(corpus)"
   ]
  },
  {
   "cell_type": "code",
   "execution_count": 10,
   "id": "84d28a32",
   "metadata": {},
   "outputs": [
    {
     "name": "stdout",
     "output_type": "stream",
     "text": [
      "computer - 2 - 2.1699\n",
      "human - 2 - 2.1699\n",
      "interface - 2 - 2.1699\n",
      "response - 2 - 2.1699\n",
      "survey - 2 - 2.1699\n",
      "system - 3 - 1.5850\n",
      "time - 2 - 2.1699\n",
      "user - 3 - 1.5850\n",
      "eps - 2 - 2.1699\n",
      "trees - 3 - 1.5850\n",
      "graph - 3 - 1.5850\n",
      "minors - 2 - 2.1699\n"
     ]
    }
   ],
   "source": [
    "for word_id in dictionary:\n",
    "    print(f'{dictionary[word_id]} - {tfidf.dfs[word_id]} - {tfidf.idfs[word_id]:.4f}')"
   ]
  },
  {
   "cell_type": "code",
   "execution_count": 11,
   "id": "7c4065aa",
   "metadata": {},
   "outputs": [
    {
     "data": {
      "text/plain": [
       "[(0, 1), (3, 1), (4, 1), (5, 1), (6, 1), (7, 1)]"
      ]
     },
     "execution_count": 11,
     "metadata": {},
     "output_type": "execute_result"
    }
   ],
   "source": [
    "corpus[1]"
   ]
  },
  {
   "cell_type": "code",
   "execution_count": 12,
   "id": "1df1d986",
   "metadata": {},
   "outputs": [
    {
     "data": {
      "text/plain": [
       "[(0, 0.44424552527467476),\n",
       " (3, 0.44424552527467476),\n",
       " (4, 0.44424552527467476),\n",
       " (5, 0.3244870206138555),\n",
       " (6, 0.44424552527467476),\n",
       " (7, 0.3244870206138555)]"
      ]
     },
     "execution_count": 12,
     "metadata": {},
     "output_type": "execute_result"
    }
   ],
   "source": [
    "tfidf[corpus[1]]"
   ]
  },
  {
   "cell_type": "code",
   "execution_count": 13,
   "id": "c58207b1",
   "metadata": {},
   "outputs": [],
   "source": [
    "vec_tfidf = tfidf[vec]"
   ]
  },
  {
   "cell_type": "code",
   "execution_count": 14,
   "id": "8ac09bb7",
   "metadata": {},
   "outputs": [
    {
     "name": "stdout",
     "output_type": "stream",
     "text": [
      "Q: human computer interaction\n",
      "doc 0 Human machine interface for lab abc computer applications 0.81649655\n",
      "doc 3 System and human system engineering testing of EPS 0.3477732\n",
      "doc 1 A survey of user opinion of computer system response time 0.31412902\n",
      "doc 2 The EPS user interface management system 0.0\n",
      "doc 4 Relation of user perceived response time to error measurement 0.0\n",
      "doc 5 The generation of random binary unordered trees 0.0\n",
      "doc 6 The intersection graph of paths in trees 0.0\n",
      "doc 7 Graph minors IV Widths of trees and well quasi ordering 0.0\n",
      "doc 8 Graph minors A survey 0.0\n"
     ]
    }
   ],
   "source": [
    "index = similarities.MatrixSimilarity(tfidf[corpus])\n",
    "sims = index[vec_tfidf]\n",
    "# print(sims)\n",
    "sims = sorted(enumerate(sims), key=lambda item: -item[1])\n",
    "print('Q:', q)\n",
    "for i in sims:\n",
    "    print('doc', i[0], documents[i[0]], i[1])"
   ]
  },
  {
   "cell_type": "markdown",
   "id": "3f8858b2",
   "metadata": {},
   "source": [
    "## Снижение размерности\n",
    "\n",
    "Сингулярное разложение: $M = U\\sum V^T$ <br>\n",
    "Снижение размерномсти с помощью сингулярного разложения: $M^I_k = U\\sum_k V_k^T$\n"
   ]
  },
  {
   "cell_type": "code",
   "execution_count": 15,
   "id": "8fc38f0f",
   "metadata": {},
   "outputs": [
    {
     "name": "stdout",
     "output_type": "stream",
     "text": [
      "LsiModel(num_terms=12, num_topics=2, decay=1.0, chunksize=20000)\n"
     ]
    }
   ],
   "source": [
    "lsi = models.LsiModel(corpus, id2word=dictionary, num_topics=2) ## задаем LSI модель, число тем = 2\n",
    "print(lsi)"
   ]
  },
  {
   "cell_type": "code",
   "execution_count": 16,
   "id": "d2bfa0f9",
   "metadata": {},
   "outputs": [
    {
     "data": {
      "text/plain": [
       "[(0, 1), (1, 1), (2, 1)]"
      ]
     },
     "execution_count": 16,
     "metadata": {},
     "output_type": "execute_result"
    }
   ],
   "source": [
    "corpus[0]"
   ]
  },
  {
   "cell_type": "code",
   "execution_count": 17,
   "id": "e01097bd",
   "metadata": {},
   "outputs": [
    {
     "data": {
      "text/plain": [
       "[(0, -0.6594664059797392), (1, -0.14211544403729964)]"
      ]
     },
     "execution_count": 17,
     "metadata": {},
     "output_type": "execute_result"
    }
   ],
   "source": [
    "lsi[corpus[0]]"
   ]
  },
  {
   "cell_type": "code",
   "execution_count": 23,
   "id": "79a54fe4",
   "metadata": {},
   "outputs": [
    {
     "name": "stdout",
     "output_type": "stream",
     "text": [
      "0 [(0, -0.6594664059797392), (1, -0.14211544403729964)]\n",
      "1 [(0, -2.0245430433828755), (1, 0.4208875824630228)]\n",
      "2 [(0, -1.5465535813286544), (1, -0.32358919425712007)]\n",
      "3 [(0, -1.8111412473028827), (1, -0.5890524969932468)]\n",
      "4 [(0, -0.9336738035634349), (1, 0.2713894049937518)]\n",
      "5 [(0, -0.01274618303829467), (1, 0.4901617924531043)]\n",
      "6 [(0, -0.04888203206047077), (1, 1.1129470269929551)]\n",
      "7 [(0, -0.08063836099410687), (1, 1.5634559463442654)]\n",
      "8 [(0, -0.2738100392127573), (1, 1.34694158495377)]\n"
     ]
    }
   ],
   "source": [
    "for i in range(len(corpus)):\n",
    "    print(i, lsi[corpus[i]])"
   ]
  },
  {
   "cell_type": "code",
   "execution_count": 18,
   "id": "1461b358",
   "metadata": {},
   "outputs": [
    {
     "data": {
      "text/plain": [
       "[(0, -0.4618210045327156), (1, -0.07002766527900038)]"
      ]
     },
     "execution_count": 18,
     "metadata": {},
     "output_type": "execute_result"
    }
   ],
   "source": [
    "lsi[vec]"
   ]
  },
  {
   "cell_type": "code",
   "execution_count": 20,
   "id": "999718f7",
   "metadata": {},
   "outputs": [
    {
     "name": "stdout",
     "output_type": "stream",
     "text": [
      "[(0, -0.4618210045327156), (1, -0.07002766527900038)]\n",
      "Q: human computer interaction\n",
      "doc 2 The EPS user interface management system 0.9984453\n",
      "doc 0 Human machine interface for lab abc computer applications 0.998093\n",
      "doc 3 System and human system engineering testing of EPS 0.9865886\n",
      "doc 1 A survey of user opinion of computer system response time 0.93748635\n",
      "doc 4 Relation of user perceived response time to error measurement 0.90755945\n",
      "doc 8 Graph minors A survey 0.050041765\n",
      "doc 7 Graph minors IV Widths of trees and well quasi ordering -0.09879464\n",
      "doc 6 The intersection graph of paths in trees -0.10639259\n",
      "doc 5 The generation of random binary unordered trees -0.12416792\n"
     ]
    }
   ],
   "source": [
    "index = similarities.MatrixSimilarity(lsi[corpus]) # индекс и векторное представление исходных текстов в пространстве\n",
    "\n",
    "vec_lsi = lsi[vec] # конвертируем запрос в пространство меньшей размерности\n",
    "print(vec_lsi)\n",
    "\n",
    "sims = index[vec_lsi] \n",
    "sims_lsi = sorted(enumerate(sims), key=lambda item: -item[1])\n",
    "print('Q:', q)\n",
    "for i in sims_lsi:\n",
    "    print('doc', i[0], documents[i[0]], i[1])"
   ]
  },
  {
   "cell_type": "code",
   "execution_count": 21,
   "id": "31899fd9",
   "metadata": {},
   "outputs": [
    {
     "data": {
      "text/plain": [
       "[(0,\n",
       "  '-0.644*\"system\" + -0.404*\"user\" + -0.301*\"eps\" + -0.265*\"time\" + -0.265*\"response\" + -0.240*\"computer\" + -0.221*\"human\" + -0.206*\"survey\" + -0.198*\"interface\" + -0.036*\"graph\"'),\n",
       " (1,\n",
       "  '0.623*\"graph\" + 0.490*\"trees\" + 0.451*\"minors\" + 0.274*\"survey\" + -0.167*\"system\" + -0.141*\"eps\" + -0.113*\"human\" + 0.107*\"time\" + 0.107*\"response\" + -0.072*\"interface\"')]"
      ]
     },
     "execution_count": 21,
     "metadata": {},
     "output_type": "execute_result"
    }
   ],
   "source": [
    "lsi.show_topics()"
   ]
  }
 ],
 "metadata": {
  "kernelspec": {
   "display_name": "Python 3 (ipykernel)",
   "language": "python",
   "name": "python3"
  },
  "language_info": {
   "codemirror_mode": {
    "name": "ipython",
    "version": 3
   },
   "file_extension": ".py",
   "mimetype": "text/x-python",
   "name": "python",
   "nbconvert_exporter": "python",
   "pygments_lexer": "ipython3",
   "version": "3.8.8"
  },
  "toc": {
   "base_numbering": 1,
   "nav_menu": {},
   "number_sections": false,
   "sideBar": true,
   "skip_h1_title": false,
   "title_cell": "Table of Contents",
   "title_sidebar": "Contents",
   "toc_cell": false,
   "toc_position": {},
   "toc_section_display": true,
   "toc_window_display": false
  }
 },
 "nbformat": 4,
 "nbformat_minor": 5
}
