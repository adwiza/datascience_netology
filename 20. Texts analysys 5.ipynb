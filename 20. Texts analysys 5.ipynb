{
 "cells": [
  {
   "cell_type": "markdown",
   "id": "af291bba",
   "metadata": {},
   "source": [
    "## Векторная модель (VSM - vector space model)\n",
    "\n",
    "Косинусная мера близости в векторной модели [Salton et. al, 1975]: $cos(d_i,d_j) = \\frac{d_i\\times d_j}{||d_i|||d_j||} = \\frac{\\sum_k f_{ki}\\times f_{kj}}{\\sqrt{(\\sum_k{f_{ki}})^2}\\sqrt{(\\sum_k{f_{ki}})^2}}$\n",
    "\n",
    "Если вектора нормировать $||d_i||=||d_j||=1, cos(d_i,d_j)=d_i\\times d_j$"
   ]
  },
  {
   "cell_type": "markdown",
   "id": "2e1e730d",
   "metadata": {},
   "source": [
    "Зададим небольшую коллекцию документов"
   ]
  },
  {
   "cell_type": "code",
   "execution_count": 9,
   "id": "9a136042",
   "metadata": {},
   "outputs": [],
   "source": [
    "import warnings\n",
    "warnings.filterwarnings('ignore')\n",
    "\n",
    "from gensim import corpora\n",
    "from gensim import corpora, models ,similarities\n",
    "\n",
    "from pylab import pcolor, show, colorbar, xticks, yticks\n",
    "import seaborn as sns\n",
    "import matplotlib.pyplot as plt\n",
    "%matplotlib inline\n",
    "\n",
    "documents = [\n",
    "    \"Human machine interface for lab abc computer applications\",\n",
    "    \"A survey of user opinion of computer system response time\",\n",
    "    \"The EPS user interface management system\",\n",
    "    \"System and human system engineering testing of EPS\",\n",
    "    \"Relation of user perceived response time to error measurement\",\n",
    "    \"The generation of random binary unordered trees\",\n",
    "    \"The intersection graph of paths in trees\",\n",
    "    \"Graph minors IV Widths of trees and well quasi ordering\",\n",
    "    \"Graph minors A survey\",\n",
    "]"
   ]
  },
  {
   "cell_type": "markdown",
   "id": "7fd6f190",
   "metadata": {},
   "source": [
    "Предобработка"
   ]
  },
  {
   "cell_type": "code",
   "execution_count": 10,
   "id": "e83a21a4",
   "metadata": {},
   "outputs": [
    {
     "name": "stdout",
     "output_type": "stream",
     "text": [
      "[['human', 'interface', 'computer'],\n",
      " ['survey', 'user', 'computer', 'system', 'response', 'time'],\n",
      " ['the', 'eps', 'user', 'interface', 'system'],\n",
      " ['system', 'human', 'system', 'eps'],\n",
      " ['user', 'response', 'time'],\n",
      " ['the', 'trees'],\n",
      " ['the', 'graph', 'trees'],\n",
      " ['graph', 'minors', 'trees'],\n",
      " ['graph', 'minors', 'survey']]\n"
     ]
    }
   ],
   "source": [
    "stoplist = set('for a of and to in'.split()) ## стоп-слова\n",
    "texts = [[word for word in document.lower().split() if word not in stoplist] for document in documents] ## удаляем стоп-слова\n",
    "\n",
    "from collections import defaultdict ## задаем частотный словарь\n",
    "\n",
    "frequency = defaultdict(int)\n",
    "\n",
    "for text in texts:\n",
    "    for token in text:\n",
    "        frequency[token] += 1\n",
    "\n",
    "texts = [[token for token in text if frequency[token] > 1] for text in texts] ## удаляем токены,к оторые встречсаются тольк один раз\n",
    "from pprint import pprint\n",
    "pprint(texts)"
   ]
  },
  {
   "cell_type": "markdown",
   "id": "2213802a",
   "metadata": {},
   "source": [
    "### Векторное представление коллекции текстов\n",
    "\n",
    "Задаем словарь и непосредственное представление текстов векторами. (Векторная модель - это матрица слово - документ \n",
    "$$\n",
    "   d1  d2\n",
    "w1 \n",
    "w2 f11 f12\n",
    "w3 f13 f23\n",
    "$$\n",
    "w - слово <br>\n",
    "d - документ <br>\n",
    "f - частота\n"
   ]
  },
  {
   "cell_type": "code",
   "execution_count": 11,
   "id": "097d50e1",
   "metadata": {},
   "outputs": [
    {
     "name": "stdout",
     "output_type": "stream",
     "text": [
      "Dictionary(13 unique tokens: ['computer', 'human', 'interface', 'response', 'survey']...)\n",
      "{'computer': 0, 'human': 1, 'interface': 2, 'response': 3, 'survey': 4, 'system': 5, 'time': 6, 'user': 7, 'eps': 8, 'the': 9, 'trees': 10, 'graph': 11, 'minors': 12}\n"
     ]
    }
   ],
   "source": [
    "dictionary = corpora.Dictionary(texts) ## инициализаируем словарь\n",
    "print(dictionary)\n",
    "print(dictionary.token2id)"
   ]
  },
  {
   "cell_type": "code",
   "execution_count": 21,
   "id": "a97fe80a",
   "metadata": {},
   "outputs": [
    {
     "name": "stdout",
     "output_type": "stream",
     "text": [
      "[(0, 1), (1, 1), (2, 1)]\n",
      "[(0, 1), (3, 1), (4, 1), (5, 1), (6, 1), (7, 1)]\n",
      "[(2, 1), (5, 1), (7, 1), (8, 1), (9, 1)]\n",
      "[(1, 1), (5, 2), (8, 1)]\n",
      "[(3, 1), (6, 1), (7, 1)]\n",
      "[(9, 1), (10, 1)]\n",
      "[(9, 1), (10, 1), (11, 1)]\n",
      "[(10, 1), (11, 1), (12, 1)]\n",
      "[(4, 1), (11, 1), (12, 1)]\n"
     ]
    }
   ],
   "source": [
    "corpus = [dictionary.doc2bow(text) for text in texts] ## здесь непосредственно зранится векторная модель\n",
    "# Представление документов в корпусе\n",
    "for doc in corpus:\n",
    "    print(doc)\n",
    "#print(corpus)"
   ]
  },
  {
   "cell_type": "markdown",
   "id": "9a871b5c",
   "metadata": {},
   "source": [
    "### Поиск по запросу\n",
    "\n",
    "Ищем ближайший документ к вектору запроса по косинусной мере близости"
   ]
  },
  {
   "cell_type": "code",
   "execution_count": 22,
   "id": "367ba5d3",
   "metadata": {},
   "outputs": [
    {
     "name": "stdout",
     "output_type": "stream",
     "text": [
      "[(0, 1), (1, 1)]\n"
     ]
    }
   ],
   "source": [
    "q = 'human computer interaction'\n",
    "vec = dictionary.doc2bow(q.lower().split())  # функция doc2bow -преобразует документ в мешок слов bag of words - bow\n",
    "print(vec)"
   ]
  },
  {
   "cell_type": "code",
   "execution_count": 23,
   "id": "8492dbca",
   "metadata": {},
   "outputs": [
    {
     "name": "stdout",
     "output_type": "stream",
     "text": [
      "MatrixSimilarity<9 docs, 13 features>\n"
     ]
    }
   ],
   "source": [
    "index = similarities.MatrixSimilarity(corpus)\n",
    "print(index)"
   ]
  },
  {
   "cell_type": "code",
   "execution_count": 27,
   "id": "36c957e3",
   "metadata": {},
   "outputs": [
    {
     "name": "stdout",
     "output_type": "stream",
     "text": [
      "Q: human computer interaction\n",
      "doc 0 Human machine interface for lab abc computer applications 0.81649655\n",
      "doc 1 A survey of user opinion of computer system response time 0.28867513\n",
      "doc 3 System and human system engineering testing of EPS 0.28867513\n",
      "doc 2 The EPS user interface management system 0.0\n",
      "doc 4 Relation of user perceived response time to error measurement 0.0\n",
      "doc 5 The generation of random binary unordered trees 0.0\n",
      "doc 6 The intersection graph of paths in trees 0.0\n",
      "doc 7 Graph minors IV Widths of trees and well quasi ordering 0.0\n",
      "doc 8 Graph minors A survey 0.0\n"
     ]
    }
   ],
   "source": [
    "sims = index[vec]\n",
    "sims = sorted(enumerate(sims), key=lambda item: -item[1])\n",
    "print('Q:', q)\n",
    "for i in sims:\n",
    "    print('doc', i[0], documents[i[0]], i[1])"
   ]
  },
  {
   "cell_type": "code",
   "execution_count": null,
   "id": "7e91aeda",
   "metadata": {},
   "outputs": [],
   "source": []
  }
 ],
 "metadata": {
  "kernelspec": {
   "display_name": "Python 3 (ipykernel)",
   "language": "python",
   "name": "python3"
  },
  "language_info": {
   "codemirror_mode": {
    "name": "ipython",
    "version": 3
   },
   "file_extension": ".py",
   "mimetype": "text/x-python",
   "name": "python",
   "nbconvert_exporter": "python",
   "pygments_lexer": "ipython3",
   "version": "3.8.8"
  },
  "toc": {
   "base_numbering": 1,
   "nav_menu": {},
   "number_sections": false,
   "sideBar": true,
   "skip_h1_title": false,
   "title_cell": "Table of Contents",
   "title_sidebar": "Contents",
   "toc_cell": false,
   "toc_position": {},
   "toc_section_display": true,
   "toc_window_display": false
  }
 },
 "nbformat": 4,
 "nbformat_minor": 5
}
