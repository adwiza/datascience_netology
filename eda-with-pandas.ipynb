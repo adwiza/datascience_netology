{
 "cells": [
  {
   "cell_type": "markdown",
   "metadata": {
    "_uuid": "217a5a64e3cf53f4c9782083692c9989f83374d9"
   },
   "source": [
    "# Разведочный анализ данных"
   ]
  },
  {
   "cell_type": "code",
   "execution_count": 1,
   "metadata": {
    "_cell_guid": "b1076dfc-b9ad-4769-8c92-a6c4dae69d19",
    "_uuid": "8f2839f25d086af736a60e9eeb907d3b93b6e0e5"
   },
   "outputs": [],
   "source": [
    "# Импорт нужных библиотек\n",
    "import numpy as np \n",
    "import pandas as pd \n",
    "import matplotlib.pyplot as plt\n",
    "import seaborn as sns\n",
    "sns.set(); # более красивый внешний вид графиков по умолчанию"
   ]
  },
  {
   "cell_type": "code",
   "execution_count": 2,
   "metadata": {
    "_uuid": "dd72b3933eb33d237b9a621c8f70122ac355385e"
   },
   "outputs": [],
   "source": [
    "df = pd.read_csv('datasets/Data Sample (AIC).csv')"
   ]
  },
  {
   "cell_type": "markdown",
   "metadata": {
    "_uuid": "d8897eb884d1842ed68c2267f55e79d02d711af0"
   },
   "source": [
    "## Первый взгляд на данные"
   ]
  },
  {
   "cell_type": "code",
   "execution_count": 3,
   "metadata": {
    "_uuid": "959bc296a4eed56dbc5543bab17eb62147d61b7d"
   },
   "outputs": [
    {
     "data": {
      "text/html": [
       "<div>\n",
       "<style scoped>\n",
       "    .dataframe tbody tr th:only-of-type {\n",
       "        vertical-align: middle;\n",
       "    }\n",
       "\n",
       "    .dataframe tbody tr th {\n",
       "        vertical-align: top;\n",
       "    }\n",
       "\n",
       "    .dataframe thead th {\n",
       "        text-align: right;\n",
       "    }\n",
       "</style>\n",
       "<table border=\"1\" class=\"dataframe\">\n",
       "  <thead>\n",
       "    <tr style=\"text-align: right;\">\n",
       "      <th></th>\n",
       "      <th>InvoiceNo</th>\n",
       "      <th>StockCode</th>\n",
       "      <th>Description</th>\n",
       "      <th>Quantity</th>\n",
       "      <th>InvoiceDate</th>\n",
       "      <th>UnitPrice</th>\n",
       "      <th>CustomerID</th>\n",
       "      <th>Country</th>\n",
       "    </tr>\n",
       "  </thead>\n",
       "  <tbody>\n",
       "    <tr>\n",
       "      <th>0</th>\n",
       "      <td>536365</td>\n",
       "      <td>84029E</td>\n",
       "      <td>RED WOOLLY HOTTIE WHITE HEART.</td>\n",
       "      <td>6</td>\n",
       "      <td>12/1/10 8:26</td>\n",
       "      <td>3,39</td>\n",
       "      <td>17850.0</td>\n",
       "      <td>United Kingdom</td>\n",
       "    </tr>\n",
       "    <tr>\n",
       "      <th>1</th>\n",
       "      <td>536367</td>\n",
       "      <td>84879</td>\n",
       "      <td>ASSORTED COLOUR BIRD ORNAMENT</td>\n",
       "      <td>32</td>\n",
       "      <td>12/1/10 8:34</td>\n",
       "      <td>1,69</td>\n",
       "      <td>13047.0</td>\n",
       "      <td>United Kingdom</td>\n",
       "    </tr>\n",
       "    <tr>\n",
       "      <th>2</th>\n",
       "      <td>536367</td>\n",
       "      <td>21755</td>\n",
       "      <td>LOVE BUILDING BLOCK WORD</td>\n",
       "      <td>3</td>\n",
       "      <td>12/1/10 8:34</td>\n",
       "      <td>5,95</td>\n",
       "      <td>13047.0</td>\n",
       "      <td>United Kingdom</td>\n",
       "    </tr>\n",
       "    <tr>\n",
       "      <th>3</th>\n",
       "      <td>536368</td>\n",
       "      <td>22914</td>\n",
       "      <td>BLUE COAT RACK PARIS FASHION</td>\n",
       "      <td>3</td>\n",
       "      <td>12/1/10 8:34</td>\n",
       "      <td>4,95</td>\n",
       "      <td>13047.0</td>\n",
       "      <td>United Kingdom</td>\n",
       "    </tr>\n",
       "    <tr>\n",
       "      <th>4</th>\n",
       "      <td>536373</td>\n",
       "      <td>84406B</td>\n",
       "      <td>CREAM CUPID HEARTS COAT HANGER</td>\n",
       "      <td>8</td>\n",
       "      <td>12/1/10 9:02</td>\n",
       "      <td>2,75</td>\n",
       "      <td>17850.0</td>\n",
       "      <td>United Kingdom</td>\n",
       "    </tr>\n",
       "  </tbody>\n",
       "</table>\n",
       "</div>"
      ],
      "text/plain": [
       "  InvoiceNo StockCode                     Description  Quantity   InvoiceDate  \\\n",
       "0    536365    84029E  RED WOOLLY HOTTIE WHITE HEART.         6  12/1/10 8:26   \n",
       "1    536367     84879   ASSORTED COLOUR BIRD ORNAMENT        32  12/1/10 8:34   \n",
       "2    536367     21755        LOVE BUILDING BLOCK WORD         3  12/1/10 8:34   \n",
       "3    536368     22914    BLUE COAT RACK PARIS FASHION         3  12/1/10 8:34   \n",
       "4    536373    84406B  CREAM CUPID HEARTS COAT HANGER         8  12/1/10 9:02   \n",
       "\n",
       "  UnitPrice  CustomerID         Country  \n",
       "0      3,39     17850.0  United Kingdom  \n",
       "1      1,69     13047.0  United Kingdom  \n",
       "2      5,95     13047.0  United Kingdom  \n",
       "3      4,95     13047.0  United Kingdom  \n",
       "4      2,75     17850.0  United Kingdom  "
      ]
     },
     "execution_count": 3,
     "metadata": {},
     "output_type": "execute_result"
    }
   ],
   "source": [
    "# Метод head(n) предназначен для просмотра первых n строк таблицы (по умолчанию n=5)\n",
    "# Аналогично метод tail(n) возвращает последние n строк\n",
    "df.head()"
   ]
  },
  {
   "cell_type": "code",
   "execution_count": 4,
   "metadata": {},
   "outputs": [],
   "source": [
    "df.UnitPrice = df.UnitPrice.str.replace(',', '.').astype(float) # исправляем значение и тип данных"
   ]
  },
  {
   "cell_type": "code",
   "execution_count": 5,
   "metadata": {},
   "outputs": [],
   "source": [
    "# Удаляем записи, где количество отрицательное, т.к. вероятно эти записи ошибочные\n",
    "df = df.drop(np.where(df['Quantity'] < 0)[0]) "
   ]
  },
  {
   "cell_type": "code",
   "execution_count": 6,
   "metadata": {
    "_uuid": "5eb1925f9201cd9fdc26773001949293d91d9efa"
   },
   "outputs": [
    {
     "data": {
      "text/html": [
       "<div>\n",
       "<style scoped>\n",
       "    .dataframe tbody tr th:only-of-type {\n",
       "        vertical-align: middle;\n",
       "    }\n",
       "\n",
       "    .dataframe tbody tr th {\n",
       "        vertical-align: top;\n",
       "    }\n",
       "\n",
       "    .dataframe thead th {\n",
       "        text-align: right;\n",
       "    }\n",
       "</style>\n",
       "<table border=\"1\" class=\"dataframe\">\n",
       "  <thead>\n",
       "    <tr style=\"text-align: right;\">\n",
       "      <th></th>\n",
       "      <th>0</th>\n",
       "      <th>1</th>\n",
       "      <th>2</th>\n",
       "      <th>3</th>\n",
       "      <th>4</th>\n",
       "      <th>5</th>\n",
       "      <th>6</th>\n",
       "      <th>7</th>\n",
       "      <th>8</th>\n",
       "      <th>9</th>\n",
       "    </tr>\n",
       "  </thead>\n",
       "  <tbody>\n",
       "    <tr>\n",
       "      <th>InvoiceNo</th>\n",
       "      <td>536365</td>\n",
       "      <td>536367</td>\n",
       "      <td>536367</td>\n",
       "      <td>536368</td>\n",
       "      <td>536373</td>\n",
       "      <td>536375</td>\n",
       "      <td>536378</td>\n",
       "      <td>536381</td>\n",
       "      <td>536381</td>\n",
       "      <td>536381</td>\n",
       "    </tr>\n",
       "    <tr>\n",
       "      <th>StockCode</th>\n",
       "      <td>84029E</td>\n",
       "      <td>84879</td>\n",
       "      <td>21755</td>\n",
       "      <td>22914</td>\n",
       "      <td>84406B</td>\n",
       "      <td>82494L</td>\n",
       "      <td>21033</td>\n",
       "      <td>82567</td>\n",
       "      <td>21169</td>\n",
       "      <td>21175</td>\n",
       "    </tr>\n",
       "    <tr>\n",
       "      <th>Description</th>\n",
       "      <td>RED WOOLLY HOTTIE WHITE HEART.</td>\n",
       "      <td>ASSORTED COLOUR BIRD ORNAMENT</td>\n",
       "      <td>LOVE BUILDING BLOCK WORD</td>\n",
       "      <td>BLUE COAT RACK PARIS FASHION</td>\n",
       "      <td>CREAM CUPID HEARTS COAT HANGER</td>\n",
       "      <td>WOODEN FRAME ANTIQUE WHITE</td>\n",
       "      <td>JUMBO BAG CHARLIE AND LOLA TOYS</td>\n",
       "      <td>AIRLINE LOUNGE,METAL SIGN</td>\n",
       "      <td>YOU'RE CONFUSING ME METAL SIGN</td>\n",
       "      <td>GIN + TONIC DIET METAL SIGN</td>\n",
       "    </tr>\n",
       "    <tr>\n",
       "      <th>Quantity</th>\n",
       "      <td>6</td>\n",
       "      <td>32</td>\n",
       "      <td>3</td>\n",
       "      <td>3</td>\n",
       "      <td>8</td>\n",
       "      <td>6</td>\n",
       "      <td>10</td>\n",
       "      <td>2</td>\n",
       "      <td>3</td>\n",
       "      <td>2</td>\n",
       "    </tr>\n",
       "    <tr>\n",
       "      <th>InvoiceDate</th>\n",
       "      <td>12/1/10 8:26</td>\n",
       "      <td>12/1/10 8:34</td>\n",
       "      <td>12/1/10 8:34</td>\n",
       "      <td>12/1/10 8:34</td>\n",
       "      <td>12/1/10 9:02</td>\n",
       "      <td>12/1/10 9:32</td>\n",
       "      <td>12/1/10 9:37</td>\n",
       "      <td>12/1/10 9:41</td>\n",
       "      <td>12/1/10 9:41</td>\n",
       "      <td>12/1/10 9:41</td>\n",
       "    </tr>\n",
       "    <tr>\n",
       "      <th>UnitPrice</th>\n",
       "      <td>3.39</td>\n",
       "      <td>1.69</td>\n",
       "      <td>5.95</td>\n",
       "      <td>4.95</td>\n",
       "      <td>2.75</td>\n",
       "      <td>2.55</td>\n",
       "      <td>2.95</td>\n",
       "      <td>2.1</td>\n",
       "      <td>1.69</td>\n",
       "      <td>2.1</td>\n",
       "    </tr>\n",
       "    <tr>\n",
       "      <th>CustomerID</th>\n",
       "      <td>17850.0</td>\n",
       "      <td>13047.0</td>\n",
       "      <td>13047.0</td>\n",
       "      <td>13047.0</td>\n",
       "      <td>17850.0</td>\n",
       "      <td>17850.0</td>\n",
       "      <td>14688.0</td>\n",
       "      <td>15311.0</td>\n",
       "      <td>15311.0</td>\n",
       "      <td>15311.0</td>\n",
       "    </tr>\n",
       "    <tr>\n",
       "      <th>Country</th>\n",
       "      <td>United Kingdom</td>\n",
       "      <td>United Kingdom</td>\n",
       "      <td>United Kingdom</td>\n",
       "      <td>United Kingdom</td>\n",
       "      <td>United Kingdom</td>\n",
       "      <td>United Kingdom</td>\n",
       "      <td>United Kingdom</td>\n",
       "      <td>United Kingdom</td>\n",
       "      <td>United Kingdom</td>\n",
       "      <td>United Kingdom</td>\n",
       "    </tr>\n",
       "  </tbody>\n",
       "</table>\n",
       "</div>"
      ],
      "text/plain": [
       "                                          0                              1  \\\n",
       "InvoiceNo                            536365                         536367   \n",
       "StockCode                            84029E                          84879   \n",
       "Description  RED WOOLLY HOTTIE WHITE HEART.  ASSORTED COLOUR BIRD ORNAMENT   \n",
       "Quantity                                  6                             32   \n",
       "InvoiceDate                    12/1/10 8:26                   12/1/10 8:34   \n",
       "UnitPrice                              3.39                           1.69   \n",
       "CustomerID                          17850.0                        13047.0   \n",
       "Country                      United Kingdom                 United Kingdom   \n",
       "\n",
       "                                    2                             3  \\\n",
       "InvoiceNo                      536367                        536368   \n",
       "StockCode                       21755                         22914   \n",
       "Description  LOVE BUILDING BLOCK WORD  BLUE COAT RACK PARIS FASHION   \n",
       "Quantity                            3                             3   \n",
       "InvoiceDate              12/1/10 8:34                  12/1/10 8:34   \n",
       "UnitPrice                        5.95                          4.95   \n",
       "CustomerID                    13047.0                       13047.0   \n",
       "Country                United Kingdom                United Kingdom   \n",
       "\n",
       "                                          4                            5  \\\n",
       "InvoiceNo                            536373                       536375   \n",
       "StockCode                            84406B                       82494L   \n",
       "Description  CREAM CUPID HEARTS COAT HANGER  WOODEN FRAME ANTIQUE WHITE    \n",
       "Quantity                                  8                            6   \n",
       "InvoiceDate                    12/1/10 9:02                 12/1/10 9:32   \n",
       "UnitPrice                              2.75                         2.55   \n",
       "CustomerID                          17850.0                      17850.0   \n",
       "Country                      United Kingdom               United Kingdom   \n",
       "\n",
       "                                           6                          7  \\\n",
       "InvoiceNo                             536378                     536381   \n",
       "StockCode                              21033                      82567   \n",
       "Description  JUMBO BAG CHARLIE AND LOLA TOYS  AIRLINE LOUNGE,METAL SIGN   \n",
       "Quantity                                  10                          2   \n",
       "InvoiceDate                     12/1/10 9:37               12/1/10 9:41   \n",
       "UnitPrice                               2.95                        2.1   \n",
       "CustomerID                           14688.0                    15311.0   \n",
       "Country                       United Kingdom             United Kingdom   \n",
       "\n",
       "                                           8                            9  \n",
       "InvoiceNo                             536381                       536381  \n",
       "StockCode                              21169                        21175  \n",
       "Description  YOU'RE CONFUSING ME METAL SIGN   GIN + TONIC DIET METAL SIGN  \n",
       "Quantity                                   3                            2  \n",
       "InvoiceDate                     12/1/10 9:41                 12/1/10 9:41  \n",
       "UnitPrice                               1.69                          2.1  \n",
       "CustomerID                           15311.0                      15311.0  \n",
       "Country                       United Kingdom               United Kingdom  "
      ]
     },
     "execution_count": 6,
     "metadata": {},
     "output_type": "execute_result"
    }
   ],
   "source": [
    "# Если признаков (столбцов) слишком много, полезно будет транспонировать вывод\n",
    "df.head(10).T"
   ]
  },
  {
   "cell_type": "code",
   "execution_count": 7,
   "metadata": {
    "_uuid": "5c3e2d8083a9fffabb0c55dc6878909bdfdd5ccf"
   },
   "outputs": [
    {
     "name": "stdout",
     "output_type": "stream",
     "text": [
      "<class 'pandas.core.frame.DataFrame'>\n",
      "Int64Index: 53131 entries, 0 to 54213\n",
      "Data columns (total 8 columns):\n",
      " #   Column       Non-Null Count  Dtype  \n",
      "---  ------       --------------  -----  \n",
      " 0   InvoiceNo    53131 non-null  object \n",
      " 1   StockCode    53131 non-null  object \n",
      " 2   Description  53081 non-null  object \n",
      " 3   Quantity     53131 non-null  int64  \n",
      " 4   InvoiceDate  53131 non-null  object \n",
      " 5   UnitPrice    53131 non-null  float64\n",
      " 6   CustomerID   39722 non-null  float64\n",
      " 7   Country      53131 non-null  object \n",
      "dtypes: float64(2), int64(1), object(5)\n",
      "memory usage: 3.6+ MB\n"
     ]
    }
   ],
   "source": [
    "# Метод info() позволяет вывести общую информацию о датасете\n",
    "# Мы можем узнать тип каждого признака, а также есть ли в данных пропуски\n",
    "df.info()"
   ]
  },
  {
   "cell_type": "code",
   "execution_count": 8,
   "metadata": {
    "_uuid": "e9c0c50dbc900b63835cbc52982d2c3efad6b18a"
   },
   "outputs": [
    {
     "data": {
      "text/html": [
       "<div>\n",
       "<style scoped>\n",
       "    .dataframe tbody tr th:only-of-type {\n",
       "        vertical-align: middle;\n",
       "    }\n",
       "\n",
       "    .dataframe tbody tr th {\n",
       "        vertical-align: top;\n",
       "    }\n",
       "\n",
       "    .dataframe thead th {\n",
       "        text-align: right;\n",
       "    }\n",
       "</style>\n",
       "<table border=\"1\" class=\"dataframe\">\n",
       "  <thead>\n",
       "    <tr style=\"text-align: right;\">\n",
       "      <th></th>\n",
       "      <th>count</th>\n",
       "      <th>mean</th>\n",
       "      <th>std</th>\n",
       "      <th>min</th>\n",
       "      <th>25%</th>\n",
       "      <th>50%</th>\n",
       "      <th>75%</th>\n",
       "      <th>max</th>\n",
       "    </tr>\n",
       "  </thead>\n",
       "  <tbody>\n",
       "    <tr>\n",
       "      <th>Quantity</th>\n",
       "      <td>53131.0</td>\n",
       "      <td>10.464324</td>\n",
       "      <td>37.864088</td>\n",
       "      <td>1.0</td>\n",
       "      <td>1.00</td>\n",
       "      <td>3.00</td>\n",
       "      <td>11.00</td>\n",
       "      <td>2400.00</td>\n",
       "    </tr>\n",
       "    <tr>\n",
       "      <th>UnitPrice</th>\n",
       "      <td>53131.0</td>\n",
       "      <td>3.827805</td>\n",
       "      <td>17.798373</td>\n",
       "      <td>0.0</td>\n",
       "      <td>1.25</td>\n",
       "      <td>2.08</td>\n",
       "      <td>4.13</td>\n",
       "      <td>1687.17</td>\n",
       "    </tr>\n",
       "    <tr>\n",
       "      <th>CustomerID</th>\n",
       "      <td>39722.0</td>\n",
       "      <td>15290.786567</td>\n",
       "      <td>1708.122390</td>\n",
       "      <td>12347.0</td>\n",
       "      <td>13971.00</td>\n",
       "      <td>15159.00</td>\n",
       "      <td>16782.00</td>\n",
       "      <td>18287.00</td>\n",
       "    </tr>\n",
       "  </tbody>\n",
       "</table>\n",
       "</div>"
      ],
      "text/plain": [
       "              count          mean          std      min       25%       50%  \\\n",
       "Quantity    53131.0     10.464324    37.864088      1.0      1.00      3.00   \n",
       "UnitPrice   53131.0      3.827805    17.798373      0.0      1.25      2.08   \n",
       "CustomerID  39722.0  15290.786567  1708.122390  12347.0  13971.00  15159.00   \n",
       "\n",
       "                 75%       max  \n",
       "Quantity       11.00   2400.00  \n",
       "UnitPrice       4.13   1687.17  \n",
       "CustomerID  16782.00  18287.00  "
      ]
     },
     "execution_count": 8,
     "metadata": {},
     "output_type": "execute_result"
    }
   ],
   "source": [
    "# Метод describe() позволяет собрать некоторую статистику по каждому числовому признаку\n",
    "# Для более удобного прочтения полученную таблицу можно транспонировать\n",
    "df.describe().T"
   ]
  },
  {
   "cell_type": "markdown",
   "metadata": {
    "_uuid": "a9d47a01e76e90190b52cb148a786a531829c7e2"
   },
   "source": [
    "Обратим внимание, что в показателе Quantity имеются аномалии в виде отрицательных значений"
   ]
  },
  {
   "cell_type": "code",
   "execution_count": 9,
   "metadata": {
    "_uuid": "03820539dcfd33f38735578b80942a5e3ac9e8bd"
   },
   "outputs": [
    {
     "data": {
      "text/plain": [
       "United Kingdom          48651\n",
       "Germany                   909\n",
       "France                    866\n",
       "EIRE                      758\n",
       "Spain                     251\n",
       "Netherlands               232\n",
       "Belgium                   206\n",
       "Switzerland               187\n",
       "Portugal                  151\n",
       "Australia                 123\n",
       "Norway                    105\n",
       "Channel Islands            81\n",
       "Italy                      74\n",
       "Finland                    72\n",
       "Cyprus                     60\n",
       "Sweden                     49\n",
       "Austria                    48\n",
       "Poland                     42\n",
       "Unspecified                36\n",
       "Denmark                    35\n",
       "Hong Kong                  28\n",
       "Israel                     27\n",
       "Japan                      27\n",
       "Singapore                  24\n",
       "Iceland                    15\n",
       "Greece                     14\n",
       "Canada                     13\n",
       "USA                        12\n",
       "Malta                       8\n",
       "Lithuania                   6\n",
       "United Arab Emirates        5\n",
       "European Community          5\n",
       "RSA                         4\n",
       "Brazil                      3\n",
       "Czech Republic              2\n",
       "Bahrain                     1\n",
       "Lebanon                     1\n",
       "Name: Country, dtype: int64"
      ]
     },
     "execution_count": 9,
     "metadata": {},
     "output_type": "execute_result"
    }
   ],
   "source": [
    "df['Country'].value_counts() #  Количество сделок по странам"
   ]
  },
  {
   "cell_type": "code",
   "execution_count": 10,
   "metadata": {
    "_uuid": "d11d45039c80ba630fd333ef7c4e74fd99404078"
   },
   "outputs": [
    {
     "data": {
      "text/plain": [
       "United Kingdom          91.568011\n",
       "Germany                  1.710866\n",
       "France                   1.629934\n",
       "EIRE                     1.426662\n",
       "Spain                    0.472417\n",
       "Netherlands              0.436657\n",
       "Belgium                  0.387721\n",
       "Switzerland              0.351960\n",
       "Portugal                 0.284203\n",
       "Australia                0.231503\n",
       "Norway                   0.197625\n",
       "Channel Islands          0.152453\n",
       "Italy                    0.139278\n",
       "Finland                  0.135514\n",
       "Cyprus                   0.112928\n",
       "Sweden                   0.092225\n",
       "Austria                  0.090343\n",
       "Poland                   0.079050\n",
       "Unspecified              0.067757\n",
       "Denmark                  0.065875\n",
       "Hong Kong                0.052700\n",
       "Israel                   0.050818\n",
       "Japan                    0.050818\n",
       "Singapore                0.045171\n",
       "Iceland                  0.028232\n",
       "Greece                   0.026350\n",
       "Canada                   0.024468\n",
       "USA                      0.022586\n",
       "Malta                    0.015057\n",
       "Lithuania                0.011293\n",
       "United Arab Emirates     0.009411\n",
       "European Community       0.009411\n",
       "RSA                      0.007529\n",
       "Brazil                   0.005646\n",
       "Czech Republic           0.003764\n",
       "Bahrain                  0.001882\n",
       "Lebanon                  0.001882\n",
       "Name: Country, dtype: float64"
      ]
     },
     "execution_count": 10,
     "metadata": {},
     "output_type": "execute_result"
    }
   ],
   "source": [
    "# Параметр normalize позволяет узнать процентное соотношение\n",
    "(df['Country'].value_counts(normalize=True) * 100)"
   ]
  },
  {
   "cell_type": "code",
   "execution_count": 11,
   "metadata": {},
   "outputs": [
    {
     "data": {
      "image/png": "[encoded data removed]",
      "text/plain": [
       "<Figure size 360x360 with 6 Axes>"
      ]
     },
     "metadata": {},
     "output_type": "display_data"
    }
   ],
   "source": [
    "%config InlineBackend.figure_format = 'png'\n",
    "df = df[:100]\n",
    "sns_plot = sns.pairplot(df[['UnitPrice', 'Quantity']]);"
   ]
  },
  {
   "cell_type": "markdown",
   "metadata": {
    "_uuid": "c6d3b5cc73bfefa68d4008fc1a5b1fb5b94c193e"
   },
   "source": [
    "График по умолчанию оказался малоинформативным. Попробуем улучшить ситуацию, добавив параметр bins."
   ]
  },
  {
   "cell_type": "code",
   "execution_count": 12,
   "metadata": {
    "_uuid": "c5e9cee1ad52e08be0786e78d95905868cfacf9e"
   },
   "outputs": [
    {
     "data": {
      "image/png": "[encoded data removed]",
      "text/plain": [
       "<Figure size 432x288 with 1 Axes>"
      ]
     },
     "metadata": {},
     "output_type": "display_data"
    }
   ],
   "source": [
    "df['Quantity'].hist(bins=20);"
   ]
  },
  {
   "cell_type": "markdown",
   "metadata": {
    "_uuid": "6a60a0582b8da8d9b564bb5721a6c37d87d79324"
   },
   "source": [
    "Как и ожидалось, имеем нечто похожее на гистограмму нормального распределения. Однако на картнике не видны выбросы (outliers) --- точки, \"выбивающиеся\" из общей картины. Поэтому иногда полезнее применить boxplot (\"ящик с усиками\")."
   ]
  },
  {
   "cell_type": "code",
   "execution_count": 13,
   "metadata": {
    "_uuid": "3eb6e1cb5c5e5a3aa1f7c686a77aa9819f829364"
   },
   "outputs": [
    {
     "data": {
      "image/png": "[encoded data removed]",
      "text/plain": [
       "<Figure size 1080x576 with 1 Axes>"
      ]
     },
     "metadata": {},
     "output_type": "display_data"
    }
   ],
   "source": [
    "# Строим график продаж по дням\n",
    "plt.figure(figsize=(15, 8)) # увеличим размер картинки\n",
    "ax = sns.boxplot(x='CustomerID', y='UnitPrice', hue='Country', data=df)\n",
    "ax.set_xticklabels(ax.get_xticklabels(),rotation=45);"
   ]
  },
  {
   "cell_type": "markdown",
   "metadata": {
    "_uuid": "9ad6b2bd47d447bb0c437446d9051dc66870d8e6"
   },
   "source": [
    "## Исследуем признаки совместно"
   ]
  },
  {
   "cell_type": "markdown",
   "metadata": {
    "_uuid": "cef53d9b4e1896c9802265a640310904fe916904"
   },
   "source": [
    "### GROUP BY"
   ]
  },
  {
   "cell_type": "code",
   "execution_count": 14,
   "metadata": {
    "_uuid": "f5648baf448caa0e076b55a748c5538f09797ea6"
   },
   "outputs": [
    {
     "data": {
      "text/plain": [
       "StockCode\n",
       "10125        2.0\n",
       "15056BL      2.0\n",
       "20668       24.0\n",
       "20717        1.0\n",
       "20728       10.0\n",
       "           ...  \n",
       "84879       32.0\n",
       "84970S     144.0\n",
       "85099B       2.0\n",
       "85099C     100.0\n",
       "90200C       1.0\n",
       "Name: Quantity, Length: 91, dtype: float64"
      ]
     },
     "execution_count": 14,
     "metadata": {},
     "output_type": "execute_result"
    }
   ],
   "source": [
    "# Код товара и среднее количество\n",
    "df.groupby('StockCode')['Quantity'].mean()"
   ]
  },
  {
   "cell_type": "markdown",
   "metadata": {
    "_uuid": "b97793b21339e9fc4a29d33ca3bcc52ab5890ed6"
   },
   "source": [
    "### Scatter plot\n",
    "Полезным типом графика для исследования пар числовых признаков является диаграмма рассеяния (scatter plot). Рассмотрим артикул и количество."
   ]
  },
  {
   "cell_type": "code",
   "execution_count": 15,
   "metadata": {
    "_uuid": "143e0e9ed99ff27257e3ba30d1149d584cd9ec61"
   },
   "outputs": [
    {
     "data": {
      "image/png": "[encoded data removed]",
      "text/plain": [
       "<Figure size 432x288 with 1 Axes>"
      ]
     },
     "metadata": {},
     "output_type": "display_data"
    }
   ],
   "source": [
    "plt.scatter(df['StockCode'], df['Quantity']);"
   ]
  },
  {
   "cell_type": "markdown",
   "metadata": {
    "_uuid": "a4a7ee2249ecc4b6e5717ba94e9a0210f509f722"
   },
   "source": [
    "### Сводные таблицы"
   ]
  },
  {
   "cell_type": "code",
   "execution_count": 16,
   "metadata": {
    "_uuid": "3a86593aa83ad9966a4439706aa2a9658c69e86d"
   },
   "outputs": [
    {
     "data": {
      "text/html": [
       "<div>\n",
       "<style scoped>\n",
       "    .dataframe tbody tr th:only-of-type {\n",
       "        vertical-align: middle;\n",
       "    }\n",
       "\n",
       "    .dataframe tbody tr th {\n",
       "        vertical-align: top;\n",
       "    }\n",
       "\n",
       "    .dataframe thead th {\n",
       "        text-align: right;\n",
       "    }\n",
       "</style>\n",
       "<table border=\"1\" class=\"dataframe\">\n",
       "  <thead>\n",
       "    <tr style=\"text-align: right;\">\n",
       "      <th></th>\n",
       "      <th></th>\n",
       "      <th>UnitPrice</th>\n",
       "    </tr>\n",
       "    <tr>\n",
       "      <th>Quantity</th>\n",
       "      <th>StockCode</th>\n",
       "      <th></th>\n",
       "    </tr>\n",
       "  </thead>\n",
       "  <tbody>\n",
       "    <tr>\n",
       "      <th rowspan=\"5\" valign=\"top\">1</th>\n",
       "      <th>20717</th>\n",
       "      <td>1.25</td>\n",
       "    </tr>\n",
       "    <tr>\n",
       "      <th>21116</th>\n",
       "      <td>4.95</td>\n",
       "    </tr>\n",
       "    <tr>\n",
       "      <th>21121</th>\n",
       "      <td>1.25</td>\n",
       "    </tr>\n",
       "    <tr>\n",
       "      <th>21122</th>\n",
       "      <td>1.25</td>\n",
       "    </tr>\n",
       "    <tr>\n",
       "      <th>21212</th>\n",
       "      <td>0.55</td>\n",
       "    </tr>\n",
       "    <tr>\n",
       "      <th>...</th>\n",
       "      <th>...</th>\n",
       "      <td>...</td>\n",
       "    </tr>\n",
       "    <tr>\n",
       "      <th>48</th>\n",
       "      <th>22174</th>\n",
       "      <td>1.48</td>\n",
       "    </tr>\n",
       "    <tr>\n",
       "      <th>72</th>\n",
       "      <th>22189</th>\n",
       "      <td>3.39</td>\n",
       "    </tr>\n",
       "    <tr>\n",
       "      <th>96</th>\n",
       "      <th>22867</th>\n",
       "      <td>1.85</td>\n",
       "    </tr>\n",
       "    <tr>\n",
       "      <th>100</th>\n",
       "      <th>85099C</th>\n",
       "      <td>1.65</td>\n",
       "    </tr>\n",
       "    <tr>\n",
       "      <th>144</th>\n",
       "      <th>84970S</th>\n",
       "      <td>0.64</td>\n",
       "    </tr>\n",
       "  </tbody>\n",
       "</table>\n",
       "<p>97 rows × 1 columns</p>\n",
       "</div>"
      ],
      "text/plain": [
       "                    UnitPrice\n",
       "Quantity StockCode           \n",
       "1        20717           1.25\n",
       "         21116           4.95\n",
       "         21121           1.25\n",
       "         21122           1.25\n",
       "         21212           0.55\n",
       "...                       ...\n",
       "48       22174           1.48\n",
       "72       22189           3.39\n",
       "96       22867           1.85\n",
       "100      85099C          1.65\n",
       "144      84970S          0.64\n",
       "\n",
       "[97 rows x 1 columns]"
      ]
     },
     "execution_count": 16,
     "metadata": {},
     "output_type": "execute_result"
    }
   ],
   "source": [
    "# values - признаки, по которым вычисляются значения функции aggfunc\n",
    "# index - признаки, по которым выполняется группировка\n",
    "df.pivot_table(values=['UnitPrice', 'Country'], index=['Quantity', 'StockCode'], aggfunc='sum')"
   ]
  },
  {
   "cell_type": "code",
   "execution_count": 17,
   "metadata": {
    "_uuid": "1f5161aa255f357af3719afcc28d36055cb4d8b2"
   },
   "outputs": [
    {
     "data": {
      "text/html": [
       "<div>\n",
       "<style scoped>\n",
       "    .dataframe tbody tr th:only-of-type {\n",
       "        vertical-align: middle;\n",
       "    }\n",
       "\n",
       "    .dataframe tbody tr th {\n",
       "        vertical-align: top;\n",
       "    }\n",
       "\n",
       "    .dataframe thead th {\n",
       "        text-align: right;\n",
       "    }\n",
       "</style>\n",
       "<table border=\"1\" class=\"dataframe\">\n",
       "  <thead>\n",
       "    <tr style=\"text-align: right;\">\n",
       "      <th>Quantity</th>\n",
       "      <th>1</th>\n",
       "      <th>2</th>\n",
       "      <th>3</th>\n",
       "      <th>4</th>\n",
       "      <th>5</th>\n",
       "      <th>6</th>\n",
       "      <th>8</th>\n",
       "      <th>10</th>\n",
       "      <th>12</th>\n",
       "      <th>24</th>\n",
       "      <th>32</th>\n",
       "      <th>36</th>\n",
       "      <th>40</th>\n",
       "      <th>48</th>\n",
       "      <th>72</th>\n",
       "      <th>96</th>\n",
       "      <th>100</th>\n",
       "      <th>144</th>\n",
       "    </tr>\n",
       "    <tr>\n",
       "      <th>Country</th>\n",
       "      <th></th>\n",
       "      <th></th>\n",
       "      <th></th>\n",
       "      <th></th>\n",
       "      <th></th>\n",
       "      <th></th>\n",
       "      <th></th>\n",
       "      <th></th>\n",
       "      <th></th>\n",
       "      <th></th>\n",
       "      <th></th>\n",
       "      <th></th>\n",
       "      <th></th>\n",
       "      <th></th>\n",
       "      <th></th>\n",
       "      <th></th>\n",
       "      <th></th>\n",
       "      <th></th>\n",
       "    </tr>\n",
       "  </thead>\n",
       "  <tbody>\n",
       "    <tr>\n",
       "      <th>Australia</th>\n",
       "      <td>0</td>\n",
       "      <td>0</td>\n",
       "      <td>0</td>\n",
       "      <td>1</td>\n",
       "      <td>0</td>\n",
       "      <td>1</td>\n",
       "      <td>0</td>\n",
       "      <td>0</td>\n",
       "      <td>0</td>\n",
       "      <td>1</td>\n",
       "      <td>0</td>\n",
       "      <td>0</td>\n",
       "      <td>0</td>\n",
       "      <td>0</td>\n",
       "      <td>0</td>\n",
       "      <td>0</td>\n",
       "      <td>0</td>\n",
       "      <td>0</td>\n",
       "    </tr>\n",
       "    <tr>\n",
       "      <th>Netherlands</th>\n",
       "      <td>0</td>\n",
       "      <td>0</td>\n",
       "      <td>0</td>\n",
       "      <td>0</td>\n",
       "      <td>0</td>\n",
       "      <td>0</td>\n",
       "      <td>0</td>\n",
       "      <td>0</td>\n",
       "      <td>0</td>\n",
       "      <td>0</td>\n",
       "      <td>0</td>\n",
       "      <td>0</td>\n",
       "      <td>0</td>\n",
       "      <td>0</td>\n",
       "      <td>0</td>\n",
       "      <td>1</td>\n",
       "      <td>0</td>\n",
       "      <td>0</td>\n",
       "    </tr>\n",
       "    <tr>\n",
       "      <th>United Kingdom</th>\n",
       "      <td>25</td>\n",
       "      <td>18</td>\n",
       "      <td>7</td>\n",
       "      <td>4</td>\n",
       "      <td>2</td>\n",
       "      <td>11</td>\n",
       "      <td>6</td>\n",
       "      <td>4</td>\n",
       "      <td>7</td>\n",
       "      <td>5</td>\n",
       "      <td>1</td>\n",
       "      <td>1</td>\n",
       "      <td>1</td>\n",
       "      <td>1</td>\n",
       "      <td>1</td>\n",
       "      <td>0</td>\n",
       "      <td>1</td>\n",
       "      <td>1</td>\n",
       "    </tr>\n",
       "  </tbody>\n",
       "</table>\n",
       "</div>"
      ],
      "text/plain": [
       "Quantity        1    2    3    4    5    6    8    10   12   24   32   36   \\\n",
       "Country                                                                      \n",
       "Australia         0    0    0    1    0    1    0    0    0    1    0    0   \n",
       "Netherlands       0    0    0    0    0    0    0    0    0    0    0    0   \n",
       "United Kingdom   25   18    7    4    2   11    6    4    7    5    1    1   \n",
       "\n",
       "Quantity        40   48   72   96   100  144  \n",
       "Country                                       \n",
       "Australia         0    0    0    0    0    0  \n",
       "Netherlands       0    0    0    1    0    0  \n",
       "United Kingdom    1    1    1    0    1    1  "
      ]
     },
     "execution_count": 17,
     "metadata": {},
     "output_type": "execute_result"
    }
   ],
   "source": [
    "# Распределение количества продаж по странам\n",
    "pd.crosstab(df['Country'], df['Quantity'])"
   ]
  },
  {
   "cell_type": "code",
   "execution_count": 18,
   "metadata": {
    "_uuid": "02fd5a7508f506c9f1281a411f6b6258ff701ef4"
   },
   "outputs": [
    {
     "data": {
      "text/plain": [
       "0       6\n",
       "1      32\n",
       "2       3\n",
       "3       3\n",
       "4       8\n",
       "       ..\n",
       "98      2\n",
       "99      1\n",
       "100     1\n",
       "101     1\n",
       "102     1\n",
       "Name: Quantity, Length: 100, dtype: int64"
      ]
     },
     "execution_count": 18,
     "metadata": {},
     "output_type": "execute_result"
    }
   ],
   "source": [
    "q = df['Quantity'] # сохраним всю колонку \"количество\" в отдельную переменную для экспериментов\n",
    "type(q) # посмотрим тип \n",
    "q"
   ]
  },
  {
   "cell_type": "code",
   "execution_count": 19,
   "metadata": {
    "_uuid": "fd84ce4f6813cf8ab3dd149ea58d8a3f5fba2269"
   },
   "outputs": [
    {
     "name": "stdout",
     "output_type": "stream",
     "text": [
      "InvoiceNo                              536365\n",
      "StockCode                              84029E\n",
      "Description    RED WOOLLY HOTTIE WHITE HEART.\n",
      "Quantity                                    6\n",
      "InvoiceDate                      12/1/10 8:26\n",
      "UnitPrice                                3.39\n",
      "CustomerID                            17850.0\n",
      "Country                        United Kingdom\n",
      "Name: 0, dtype: object\n"
     ]
    }
   ],
   "source": [
    "first_client = df.iloc[0]\n",
    "print(first_client)"
   ]
  },
  {
   "cell_type": "code",
   "execution_count": 20,
   "metadata": {
    "_uuid": "d65b13692e329cb076e3b79d857dc0832b4c69c3"
   },
   "outputs": [
    {
     "name": "stdout",
     "output_type": "stream",
     "text": [
      "6\n"
     ]
    }
   ],
   "source": [
    "print(df.loc[0, 'Quantity'])"
   ]
  },
  {
   "cell_type": "code",
   "execution_count": 21,
   "metadata": {},
   "outputs": [
    {
     "data": {
      "text/html": [
       "<div>\n",
       "<style scoped>\n",
       "    .dataframe tbody tr th:only-of-type {\n",
       "        vertical-align: middle;\n",
       "    }\n",
       "\n",
       "    .dataframe tbody tr th {\n",
       "        vertical-align: top;\n",
       "    }\n",
       "\n",
       "    .dataframe thead th {\n",
       "        text-align: right;\n",
       "    }\n",
       "</style>\n",
       "<table border=\"1\" class=\"dataframe\">\n",
       "  <thead>\n",
       "    <tr style=\"text-align: right;\">\n",
       "      <th></th>\n",
       "      <th>Quantity</th>\n",
       "    </tr>\n",
       "    <tr>\n",
       "      <th>StockCode</th>\n",
       "      <th></th>\n",
       "    </tr>\n",
       "  </thead>\n",
       "  <tbody>\n",
       "    <tr>\n",
       "      <th>10125</th>\n",
       "      <td>2</td>\n",
       "    </tr>\n",
       "    <tr>\n",
       "      <th>15056BL</th>\n",
       "      <td>2</td>\n",
       "    </tr>\n",
       "    <tr>\n",
       "      <th>20668</th>\n",
       "      <td>24</td>\n",
       "    </tr>\n",
       "    <tr>\n",
       "      <th>20717</th>\n",
       "      <td>1</td>\n",
       "    </tr>\n",
       "    <tr>\n",
       "      <th>20728</th>\n",
       "      <td>10</td>\n",
       "    </tr>\n",
       "  </tbody>\n",
       "</table>\n",
       "</div>"
      ],
      "text/plain": [
       "           Quantity\n",
       "StockCode          \n",
       "10125             2\n",
       "15056BL           2\n",
       "20668            24\n",
       "20717             1\n",
       "20728            10"
      ]
     },
     "execution_count": 21,
     "metadata": {},
     "output_type": "execute_result"
    }
   ],
   "source": [
    "df1 = df[[x for x in df.columns if 'Quantity' in x] + ['StockCode']].groupby('StockCode').sum()\n",
    "df1.head()"
   ]
  },
  {
   "cell_type": "code",
   "execution_count": 22,
   "metadata": {},
   "outputs": [
    {
     "data": {
      "image/png": "[encoded data removed]",
      "text/plain": [
       "<Figure size 432x288 with 1 Axes>"
      ]
     },
     "metadata": {},
     "output_type": "display_data"
    }
   ],
   "source": [
    "df1.plot(rot=90);"
   ]
  },
  {
   "cell_type": "code",
   "execution_count": 23,
   "metadata": {},
   "outputs": [
    {
     "data": {
      "text/plain": [
       "Text(0, 0.5, 'Quantity')"
      ]
     },
     "execution_count": 23,
     "metadata": {},
     "output_type": "execute_result"
    },
    {
     "data": {
      "image/png": "[encoded data removed]",
      "text/plain": [
       "<Figure size 432x288 with 1 Axes>"
      ]
     },
     "metadata": {},
     "output_type": "display_data"
    }
   ],
   "source": [
    "ax = df.Country.hist()\n",
    "ax.set_title('Country Distribution')\n",
    "ax.set_xlabel('Country')\n",
    "ax.set_ylabel('Quantity')"
   ]
  },
  {
   "cell_type": "markdown",
   "metadata": {},
   "source": [
    "## Рекомендации для бизнеса\n",
    "\n",
    "1. Получать корректные данные без пропусков (количество не может быть отрицательным, \n",
    "    Description и CustomerID содержат пропуски)\n",
    "2. Наращивать продажи по странам (Основные в Англии, мир не охвачен)\n",
    "3. Определить наиболее продаваемые и наименее продаваемые товары\n",
    "4. Определить зависят ли продажи от сезонности\n",
    "5. Увеличить количество позиций в счете"
   ]
  },
  {
   "cell_type": "code",
   "execution_count": null,
   "metadata": {},
   "outputs": [],
   "source": []
  }
 ],
 "metadata": {
  "kernelspec": {
   "display_name": "Python 3",
   "language": "python",
   "name": "python3"
  },
  "language_info": {
   "codemirror_mode": {
    "name": "ipython",
    "version": 3
   },
   "file_extension": ".py",
   "mimetype": "text/x-python",
   "name": "python",
   "nbconvert_exporter": "python",
   "pygments_lexer": "ipython3",
   "version": "3.8.8"
  }
 },
 "nbformat": 4,
 "nbformat_minor": 1
}
