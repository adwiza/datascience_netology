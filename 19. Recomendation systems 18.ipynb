{
 "cells": [
  {
   "cell_type": "markdown",
   "id": "0960c33f",
   "metadata": {},
   "source": [
    "Алгоритм Introselect изобретен Дейвом Массером (более \n",
    "известен, как один изх \"отцов\" Standard Template Library и \n",
    "парадигмы generic programming)"
   ]
  },
  {
   "cell_type": "code",
   "execution_count": 1,
   "id": "81d7ee46",
   "metadata": {},
   "outputs": [],
   "source": [
    "import numpy as np"
   ]
  },
  {
   "cell_type": "code",
   "execution_count": 3,
   "id": "88b7735e",
   "metadata": {},
   "outputs": [
    {
     "name": "stdout",
     "output_type": "stream",
     "text": [
      "[0.53185907 0.35121618 0.70392524 ... 0.51719574 0.56072189 0.73452144]\n"
     ]
    }
   ],
   "source": [
    "relevance = np.random.rand(10000000)\n",
    "print(relevance)"
   ]
  },
  {
   "cell_type": "code",
   "execution_count": 5,
   "id": "dab9699a",
   "metadata": {},
   "outputs": [
    {
     "name": "stdout",
     "output_type": "stream",
     "text": [
      "CPU times: total: 2.72 s\n",
      "Wall time: 2.72 s\n"
     ]
    }
   ],
   "source": [
    "%%time\n",
    "top_indices = (-relevance).argsort()[:100]\n",
    "top_relevance = relevance[top_indices]\n",
    "recs1 = [\n",
    "    (pair[0], pair[1])\n",
    "    for pair in zip(top_indices, top_relevance)\n",
    "]"
   ]
  },
  {
   "cell_type": "code",
   "execution_count": 8,
   "id": "30996871",
   "metadata": {},
   "outputs": [
    {
     "name": "stdout",
     "output_type": "stream",
     "text": [
      "CPU times: total: 156 ms\n",
      "Wall time: 168 ms\n"
     ]
    }
   ],
   "source": [
    "%%time\n",
    "top_indices = (-relevance).argpartition(100)[:100]\n",
    "top_relevance = relevance[top_indices]\n",
    "recs2 = sorted(\n",
    "    [\n",
    "        (pair[0], pair[1])\n",
    "        for pair in zip(top_indices, top_relevance)\n",
    "    ],\n",
    "    key=lambda pair: -pair[1]\n",
    ")"
   ]
  },
  {
   "cell_type": "code",
   "execution_count": null,
   "id": "fa56fc39",
   "metadata": {},
   "outputs": [],
   "source": []
  }
 ],
 "metadata": {
  "kernelspec": {
   "display_name": "Python 3 (ipykernel)",
   "language": "python",
   "name": "python3"
  },
  "language_info": {
   "codemirror_mode": {
    "name": "ipython",
    "version": 3
   },
   "file_extension": ".py",
   "mimetype": "text/x-python",
   "name": "python",
   "nbconvert_exporter": "python",
   "pygments_lexer": "ipython3",
   "version": "3.8.8"
  },
  "toc": {
   "base_numbering": 1,
   "nav_menu": {},
   "number_sections": true,
   "sideBar": true,
   "skip_h1_title": false,
   "title_cell": "Table of Contents",
   "title_sidebar": "Contents",
   "toc_cell": false,
   "toc_position": {},
   "toc_section_display": true,
   "toc_window_display": false
  }
 },
 "nbformat": 4,
 "nbformat_minor": 5
}
