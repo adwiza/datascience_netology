{
 "cells": [
  {
   "cell_type": "markdown",
   "id": "cec2ca5e",
   "metadata": {},
   "source": [
    "## Классификация текстов"
   ]
  },
  {
   "cell_type": "code",
   "execution_count": 1,
   "id": "779c154e",
   "metadata": {},
   "outputs": [],
   "source": [
    "import pandas as pd\n",
    "import matplotlib.pyplot as plt\n",
    "import random\n",
    "random.seed(1228)\n",
    "from sklearn.feature_extraction.text import *\n",
    "from sklearn.metrics import *\n",
    "from sklearn.pipeline import Pipeline\n",
    "import re\n",
    "from pymystem3 import Mystem\n",
    "import numpy as np\n",
    "import itertools\n",
    "%matplotlib inline\n",
    "\n",
    "import warnings\n",
    "warnings.filterwarnings('ignore')\n",
    "\n",
    "from nltk.stem.snowball import RussianStemmer\n",
    "import seaborn as sns"
   ]
  },
  {
   "cell_type": "markdown",
   "id": "da1ed225",
   "metadata": {},
   "source": [
    "Разбиение тектов на обучающее и тестовое множествоё"
   ]
  },
  {
   "cell_type": "code",
   "execution_count": 3,
   "id": "ef8cd607",
   "metadata": {},
   "outputs": [],
   "source": [
    "m = Mystem()\n",
    "regex = re.compile('[А-яа-я]+')\n",
    "\n",
    "def words_only(text, regex=regex):\n",
    "    try:\n",
    "        return ' '.join(regex.findall(text))\n",
    "    except:\n",
    "        return ''\n",
    "    \n",
    "def lemmatize(text, mystem=m):\n",
    "    try:\n",
    "        return ' '.join(m.lemmatize(text)).strip()\n",
    "    except:\n",
    "        return ''\n",
    "\n",
    "def stemming(text, stemmer=RussianStemmer()):\n",
    "    try:\n",
    "        return ' '.join([stemmer.stem(w) for w in text.split()])\n",
    "    except:\n",
    "        return ''"
   ]
  },
  {
   "cell_type": "code",
   "execution_count": 4,
   "id": "f2ccd176",
   "metadata": {},
   "outputs": [
    {
     "data": {
      "text/plain": [
       "Россия               82\n",
       "Экономика            62\n",
       "Интернет и СМИ       54\n",
       "Мир                  53\n",
       "Спорт                52\n",
       "Из жизни             46\n",
       "Бывший СССР          38\n",
       "Наука и техника      38\n",
       "Силовые структуры    35\n",
       "Культура             35\n",
       "Ценности             24\n",
       "Путешествия          19\n",
       "Name: class, dtype: int64"
      ]
     },
     "execution_count": 4,
     "metadata": {},
     "output_type": "execute_result"
    }
   ],
   "source": [
    "data = pd.read_csv('datasets/nlp/lenta.csv', usecols=['text', 'class'])\n",
    "\n",
    "data['class'].value_counts()"
   ]
  },
  {
   "cell_type": "code",
   "execution_count": 5,
   "id": "5d474833",
   "metadata": {},
   "outputs": [
    {
     "data": {
      "text/html": [
       "<div>\n",
       "<style scoped>\n",
       "    .dataframe tbody tr th:only-of-type {\n",
       "        vertical-align: middle;\n",
       "    }\n",
       "\n",
       "    .dataframe tbody tr th {\n",
       "        vertical-align: top;\n",
       "    }\n",
       "\n",
       "    .dataframe thead th {\n",
       "        text-align: right;\n",
       "    }\n",
       "</style>\n",
       "<table border=\"1\" class=\"dataframe\">\n",
       "  <thead>\n",
       "    <tr style=\"text-align: right;\">\n",
       "      <th></th>\n",
       "      <th>text</th>\n",
       "      <th>class</th>\n",
       "    </tr>\n",
       "  </thead>\n",
       "  <tbody>\n",
       "    <tr>\n",
       "      <th>0</th>\n",
       "      <td>Четырехкратный олимпийский чемпион и кандидат ...</td>\n",
       "      <td>Спорт</td>\n",
       "    </tr>\n",
       "    <tr>\n",
       "      <th>1</th>\n",
       "      <td>Трое курганских полицейских предстанут перед с...</td>\n",
       "      <td>Силовые структуры</td>\n",
       "    </tr>\n",
       "    <tr>\n",
       "      <th>2</th>\n",
       "      <td>Дизайнер Николя Гескьер, креативный директор ж...</td>\n",
       "      <td>Ценности</td>\n",
       "    </tr>\n",
       "    <tr>\n",
       "      <th>3</th>\n",
       "      <td>Бойцы Вооруженных сил Украины во время испытан...</td>\n",
       "      <td>Бывший СССР</td>\n",
       "    </tr>\n",
       "    <tr>\n",
       "      <th>4</th>\n",
       "      <td>Басманный суд Москвы арестовал до 21 июля бывш...</td>\n",
       "      <td>Силовые структуры</td>\n",
       "    </tr>\n",
       "  </tbody>\n",
       "</table>\n",
       "</div>"
      ],
      "text/plain": [
       "                                                text              class\n",
       "0  Четырехкратный олимпийский чемпион и кандидат ...              Спорт\n",
       "1  Трое курганских полицейских предстанут перед с...  Силовые структуры\n",
       "2  Дизайнер Николя Гескьер, креативный директор ж...           Ценности\n",
       "3  Бойцы Вооруженных сил Украины во время испытан...        Бывший СССР\n",
       "4  Басманный суд Москвы арестовал до 21 июля бывш...  Силовые структуры"
      ]
     },
     "execution_count": 5,
     "metadata": {},
     "output_type": "execute_result"
    }
   ],
   "source": [
    "data.head()"
   ]
  },
  {
   "cell_type": "code",
   "execution_count": 7,
   "id": "4a2a34ff",
   "metadata": {},
   "outputs": [
    {
     "data": {
      "text/plain": [
       "'потребител'"
      ]
     },
     "execution_count": 7,
     "metadata": {},
     "output_type": "execute_result"
    }
   ],
   "source": [
    "stemming('потребитель')"
   ]
  },
  {
   "cell_type": "code",
   "execution_count": 10,
   "id": "efbb1340",
   "metadata": {},
   "outputs": [],
   "source": [
    "corpus_sample_train = pd.DataFrame(columns=data.columns)\n",
    "corpus_sample_test = pd.DataFrame(columns=data.columns)\n",
    "\n",
    "for cl in data['class'].unique():\n",
    "    corpus_sample = data[data['class'] == cl]\n",
    "    if len(corpus_sample) > 30:\n",
    "        corpus_sample_train = corpus_sample_train.append(corpus_sample.iloc[:30, :])\n",
    "        corpus_sample_test = corpus_sample_test.append(corpus_sample.iloc[30:, :])\n",
    "    elif len(corpus_sample) > 50:\n",
    "        corpus_sample_train = corpus_sample_train.append(corpus_sample.iloc[:15, :])\n",
    "        corpus_sample_test = corpus_sample_test.append(corpus_sample.iloc[15:, :])"
   ]
  },
  {
   "cell_type": "code",
   "execution_count": 11,
   "id": "3b988e98",
   "metadata": {},
   "outputs": [
    {
     "data": {
      "text/plain": [
       "Pipeline(steps=[('vect', CountVectorizer()), ('clf', RandomForestClassifier())])"
      ]
     },
     "execution_count": 11,
     "metadata": {},
     "output_type": "execute_result"
    }
   ],
   "source": [
    "from sklearn.naive_bayes import MultinomialNB\n",
    "from sklearn.ensemble import RandomForestClassifier\n",
    "\n",
    "clf = Pipeline([\n",
    "    ('vect', CountVectorizer()),\n",
    "    ('clf', RandomForestClassifier())\n",
    "])\n",
    "\n",
    "clf.fit(corpus_sample_train['text'], corpus_sample_train['class'])"
   ]
  },
  {
   "cell_type": "code",
   "execution_count": 12,
   "id": "1e101c8c",
   "metadata": {},
   "outputs": [],
   "source": [
    "true = corpus_sample_test['class']\n",
    "predictions = clf.predict(corpus_sample_test['text'])"
   ]
  },
  {
   "cell_type": "code",
   "execution_count": 13,
   "id": "ea8c790d",
   "metadata": {},
   "outputs": [
    {
     "data": {
      "text/plain": [
       "array(['Спорт', 'Спорт', 'Культура', 'Спорт', 'Спорт', 'Спорт', 'Спорт',\n",
       "       'Спорт', 'Спорт', 'Культура', 'Спорт', 'Спорт', 'Экономика',\n",
       "       'Спорт', 'Спорт', 'Спорт', 'Спорт', 'Спорт', 'Культура', 'Спорт',\n",
       "       'Спорт', 'Мир', 'Из жизни', 'Силовые структуры', 'Экономика',\n",
       "       'Силовые структуры', 'Наука и техника', 'Бывший СССР',\n",
       "       'Бывший СССР', 'Бывший СССР', 'Бывший СССР', 'Бывший СССР',\n",
       "       'Бывший СССР', 'Экономика', 'Бывший СССР', 'Россия',\n",
       "       'Интернет и СМИ', 'Из жизни', 'Россия', 'Экономика',\n",
       "       'Наука и техника', 'Россия', 'Россия', 'Экономика', 'Россия',\n",
       "       'Силовые структуры', 'Россия', 'Россия', 'Культура', 'Мир', 'Мир',\n",
       "       'Культура', 'Из жизни', 'Культура', 'Мир', 'Интернет и СМИ',\n",
       "       'Культура', 'Россия', 'Спорт', 'Россия', 'Интернет и СМИ',\n",
       "       'Экономика', 'Культура', 'Россия', 'Россия', 'Россия', 'Россия',\n",
       "       'Россия', 'Из жизни', 'Экономика', 'Культура', 'Наука и техника',\n",
       "       'Культура', 'Мир', 'Культура', 'Из жизни', 'Россия', 'Россия',\n",
       "       'Россия', 'Силовые структуры', 'Россия', 'Экономика', 'Россия',\n",
       "       'Россия', 'Россия', 'Из жизни', 'Экономика', 'Мир', 'Экономика',\n",
       "       'Культура', 'Россия', 'Экономика', 'Мир', 'Экономика', 'Из жизни',\n",
       "       'Экономика', 'Экономика', 'Бывший СССР', 'Экономика', 'Экономика',\n",
       "       'Экономика', 'Экономика', 'Спорт', 'Культура', 'Культура',\n",
       "       'Экономика', 'Экономика', 'Мир', 'Экономика', 'Экономика',\n",
       "       'Экономика', 'Мир', 'Мир', 'Экономика', 'Наука и техника',\n",
       "       'Культура', 'Культура', 'Экономика', 'Россия', 'Россия',\n",
       "       'Интернет и СМИ', 'Бывший СССР', 'Интернет и СМИ',\n",
       "       'Силовые структуры', 'Интернет и СМИ', 'Интернет и СМИ',\n",
       "       'Культура', 'Бывший СССР', 'Из жизни', 'Экономика', 'Бывший СССР',\n",
       "       'Мир', 'Мир', 'Бывший СССР', 'Из жизни', 'Бывший СССР', 'Мир',\n",
       "       'Силовые структуры', 'Интернет и СМИ', 'Спорт', 'Интернет и СМИ',\n",
       "       'Интернет и СМИ', 'Интернет и СМИ', 'Наука и техника',\n",
       "       'Наука и техника', 'Наука и техника', 'Наука и техника',\n",
       "       'Наука и техника', 'Наука и техника', 'Наука и техника',\n",
       "       'Культура', 'Культура', 'Из жизни', 'Силовые структуры',\n",
       "       'Культура', 'Культура', 'Культура', 'Из жизни', 'Из жизни',\n",
       "       'Из жизни', 'Мир', 'Из жизни', 'Из жизни', 'Из жизни', 'Из жизни',\n",
       "       'Из жизни', 'Мир', 'Культура', 'Мир', 'Из жизни', 'Мир',\n",
       "       'Из жизни', 'Культура', 'Россия', 'Из жизни', 'Экономика', 'Мир',\n",
       "       'Мир', 'Силовые структуры', 'Культура', 'Культура', 'Спорт', 'Мир',\n",
       "       'Мир', 'Интернет и СМИ', 'Интернет и СМИ', 'Бывший СССР', 'Мир',\n",
       "       'Культура', 'Культура', 'Культура', 'Силовые структуры',\n",
       "       'Силовые структуры', 'Бывший СССР', 'Экономика'], dtype=object)"
      ]
     },
     "execution_count": 13,
     "metadata": {},
     "output_type": "execute_result"
    }
   ],
   "source": [
    "predictions"
   ]
  },
  {
   "cell_type": "code",
   "execution_count": null,
   "id": "62fa494d",
   "metadata": {},
   "outputs": [],
   "source": []
  }
 ],
 "metadata": {
  "kernelspec": {
   "display_name": "Python 3 (ipykernel)",
   "language": "python",
   "name": "python3"
  },
  "language_info": {
   "codemirror_mode": {
    "name": "ipython",
    "version": 3
   },
   "file_extension": ".py",
   "mimetype": "text/x-python",
   "name": "python",
   "nbconvert_exporter": "python",
   "pygments_lexer": "ipython3",
   "version": "3.8.8"
  },
  "toc": {
   "base_numbering": 1,
   "nav_menu": {},
   "number_sections": false,
   "sideBar": true,
   "skip_h1_title": false,
   "title_cell": "Table of Contents",
   "title_sidebar": "Contents",
   "toc_cell": false,
   "toc_position": {},
   "toc_section_display": true,
   "toc_window_display": false
  }
 },
 "nbformat": 4,
 "nbformat_minor": 5
}
