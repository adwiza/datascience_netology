{
 "cells": [
  {
   "cell_type": "markdown",
   "id": "cec2ca5e",
   "metadata": {},
   "source": [
    "### Мера контрасности $tf-idf$\n",
    "\n",
    "Частота терма [Luhn, 1957]: Важность терма пропорциональна его частоте.\n",
    "\n",
    "Обратная документная частота [Spaerck John, 1972]: Специфичность терма в тексте обратно пропорциональна числу текстов, \n",
    "в которых терм встерчается.\n",
    "\n",
    "$tf idf(term, text, collection) = tf(term, document)*idf(term, collection)$ \n"
   ]
  }
 ],
 "metadata": {
  "kernelspec": {
   "display_name": "Python 3 (ipykernel)",
   "language": "python",
   "name": "python3"
  },
  "language_info": {
   "codemirror_mode": {
    "name": "ipython",
    "version": 3
   },
   "file_extension": ".py",
   "mimetype": "text/x-python",
   "name": "python",
   "nbconvert_exporter": "python",
   "pygments_lexer": "ipython3",
   "version": "3.8.8"
  },
  "toc": {
   "base_numbering": 1,
   "nav_menu": {},
   "number_sections": true,
   "sideBar": true,
   "skip_h1_title": false,
   "title_cell": "Table of Contents",
   "title_sidebar": "Contents",
   "toc_cell": false,
   "toc_position": {},
   "toc_section_display": true,
   "toc_window_display": false
  }
 },
 "nbformat": 4,
 "nbformat_minor": 5
}
