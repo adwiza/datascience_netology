{
 "cells": [
  {
   "cell_type": "markdown",
   "id": "cec2ca5e",
   "metadata": {},
   "source": [
    "## Классификация текстов"
   ]
  },
  {
   "cell_type": "code",
   "execution_count": 1,
   "id": "779c154e",
   "metadata": {},
   "outputs": [],
   "source": [
    "import pandas as pd\n",
    "import matplotlib.pyplot as plt\n",
    "import random\n",
    "random.seed(1228)\n",
    "from sklearn.feature_extraction.text import *\n",
    "from sklearn.metrics import *\n",
    "from sklearn.pipeline import Pipeline\n",
    "import re\n",
    "from pymystem3 import Mystem\n",
    "import numpy as np\n",
    "import itertools\n",
    "%matplotlib inline\n",
    "\n",
    "import warnings\n",
    "warnings.filterwarnings('ignore')\n",
    "\n",
    "from nltk.stem.snowball import RussianStemmer\n",
    "import seaborn as sns"
   ]
  },
  {
   "cell_type": "markdown",
   "id": "da1ed225",
   "metadata": {},
   "source": [
    "Разбиение тектов на обучающее и тестовое множествоё"
   ]
  },
  {
   "cell_type": "code",
   "execution_count": 2,
   "id": "ef8cd607",
   "metadata": {},
   "outputs": [],
   "source": [
    "m = Mystem()\n",
    "regex = re.compile('[А-яа-я]+')\n",
    "\n",
    "def words_only(text, regex=regex):\n",
    "    try:\n",
    "        return ' '.join(regex.findall(text))\n",
    "    except:\n",
    "        return ''\n",
    "    \n",
    "def lemmatize(text, mystem=m):\n",
    "    try:\n",
    "        return ' '.join(m.lemmatize(text)).strip()\n",
    "    except:\n",
    "        return ''\n",
    "\n",
    "def stemming(text, stemmer=RussianStemmer()):\n",
    "    try:\n",
    "        return ' '.join([stemmer.stem(w) for w in text.split()])\n",
    "    except:\n",
    "        return ''"
   ]
  },
  {
   "cell_type": "code",
   "execution_count": 3,
   "id": "f2ccd176",
   "metadata": {},
   "outputs": [
    {
     "data": {
      "text/plain": [
       "Россия               82\n",
       "Экономика            62\n",
       "Интернет и СМИ       54\n",
       "Мир                  53\n",
       "Спорт                52\n",
       "Из жизни             46\n",
       "Бывший СССР          38\n",
       "Наука и техника      38\n",
       "Силовые структуры    35\n",
       "Культура             35\n",
       "Ценности             24\n",
       "Путешествия          19\n",
       "Name: class, dtype: int64"
      ]
     },
     "execution_count": 3,
     "metadata": {},
     "output_type": "execute_result"
    }
   ],
   "source": [
    "data = pd.read_csv('datasets/nlp/lenta.csv', usecols=['text', 'class'])\n",
    "\n",
    "data['class'].value_counts()"
   ]
  },
  {
   "cell_type": "code",
   "execution_count": 4,
   "id": "5d474833",
   "metadata": {},
   "outputs": [
    {
     "data": {
      "text/html": [
       "<div>\n",
       "<style scoped>\n",
       "    .dataframe tbody tr th:only-of-type {\n",
       "        vertical-align: middle;\n",
       "    }\n",
       "\n",
       "    .dataframe tbody tr th {\n",
       "        vertical-align: top;\n",
       "    }\n",
       "\n",
       "    .dataframe thead th {\n",
       "        text-align: right;\n",
       "    }\n",
       "</style>\n",
       "<table border=\"1\" class=\"dataframe\">\n",
       "  <thead>\n",
       "    <tr style=\"text-align: right;\">\n",
       "      <th></th>\n",
       "      <th>text</th>\n",
       "      <th>class</th>\n",
       "    </tr>\n",
       "  </thead>\n",
       "  <tbody>\n",
       "    <tr>\n",
       "      <th>0</th>\n",
       "      <td>Четырехкратный олимпийский чемпион и кандидат ...</td>\n",
       "      <td>Спорт</td>\n",
       "    </tr>\n",
       "    <tr>\n",
       "      <th>1</th>\n",
       "      <td>Трое курганских полицейских предстанут перед с...</td>\n",
       "      <td>Силовые структуры</td>\n",
       "    </tr>\n",
       "    <tr>\n",
       "      <th>2</th>\n",
       "      <td>Дизайнер Николя Гескьер, креативный директор ж...</td>\n",
       "      <td>Ценности</td>\n",
       "    </tr>\n",
       "    <tr>\n",
       "      <th>3</th>\n",
       "      <td>Бойцы Вооруженных сил Украины во время испытан...</td>\n",
       "      <td>Бывший СССР</td>\n",
       "    </tr>\n",
       "    <tr>\n",
       "      <th>4</th>\n",
       "      <td>Басманный суд Москвы арестовал до 21 июля бывш...</td>\n",
       "      <td>Силовые структуры</td>\n",
       "    </tr>\n",
       "  </tbody>\n",
       "</table>\n",
       "</div>"
      ],
      "text/plain": [
       "                                                text              class\n",
       "0  Четырехкратный олимпийский чемпион и кандидат ...              Спорт\n",
       "1  Трое курганских полицейских предстанут перед с...  Силовые структуры\n",
       "2  Дизайнер Николя Гескьер, креативный директор ж...           Ценности\n",
       "3  Бойцы Вооруженных сил Украины во время испытан...        Бывший СССР\n",
       "4  Басманный суд Москвы арестовал до 21 июля бывш...  Силовые структуры"
      ]
     },
     "execution_count": 4,
     "metadata": {},
     "output_type": "execute_result"
    }
   ],
   "source": [
    "data.head()"
   ]
  },
  {
   "cell_type": "code",
   "execution_count": 5,
   "id": "cc8ea61d",
   "metadata": {},
   "outputs": [],
   "source": [
    "data['text'] = data['text'].str.lower()\n",
    "data['text'] = data['text'].apply(words_only)\n",
    "data['text'] = data['text'].apply(lemmatize)\n",
    "# data['text'] = data['text'].apply(stemming)"
   ]
  },
  {
   "cell_type": "code",
   "execution_count": 6,
   "id": "4a2a34ff",
   "metadata": {},
   "outputs": [
    {
     "data": {
      "text/plain": [
       "'потребител'"
      ]
     },
     "execution_count": 6,
     "metadata": {},
     "output_type": "execute_result"
    }
   ],
   "source": [
    "stemming('потребитель')"
   ]
  },
  {
   "cell_type": "code",
   "execution_count": 7,
   "id": "efbb1340",
   "metadata": {},
   "outputs": [],
   "source": [
    "corpus_sample_train = pd.DataFrame(columns=data.columns)\n",
    "corpus_sample_test = pd.DataFrame(columns=data.columns)\n",
    "\n",
    "for cl in data['class'].unique():\n",
    "    corpus_sample = data[data['class'] == cl]\n",
    "    if len(corpus_sample) > 30:\n",
    "        corpus_sample_train = corpus_sample_train.append(corpus_sample.iloc[:30, :])\n",
    "        corpus_sample_test = corpus_sample_test.append(corpus_sample.iloc[30:, :])\n",
    "    elif len(corpus_sample) > 50:\n",
    "        corpus_sample_train = corpus_sample_train.append(corpus_sample.iloc[:15, :])\n",
    "        corpus_sample_test = corpus_sample_test.append(corpus_sample.iloc[15:, :])"
   ]
  },
  {
   "cell_type": "code",
   "execution_count": 8,
   "id": "db81c687",
   "metadata": {},
   "outputs": [],
   "source": [
    "# ?CountVectorizer\n",
    "# ?TfidfVectorizer"
   ]
  },
  {
   "cell_type": "code",
   "execution_count": 13,
   "id": "3b988e98",
   "metadata": {},
   "outputs": [
    {
     "data": {
      "text/plain": [
       "Pipeline(steps=[('vect', CountVectorizer(analyzer='char', ngram_range={4, 6})),\n",
       "                ('clf', RandomForestClassifier())])"
      ]
     },
     "execution_count": 13,
     "metadata": {},
     "output_type": "execute_result"
    }
   ],
   "source": [
    "from sklearn.naive_bayes import MultinomialNB\n",
    "from sklearn.ensemble import RandomForestClassifier\n",
    "\n",
    "clf = Pipeline([\n",
    "    ('vect', CountVectorizer(analyzer='char', ngram_range={4, 6})),\n",
    "    ('clf', RandomForestClassifier())\n",
    "#     ('clf', MultinomialNB())\n",
    "])\n",
    "\n",
    "clf.fit(corpus_sample_train['text'], corpus_sample_train['class'])"
   ]
  },
  {
   "cell_type": "code",
   "execution_count": 14,
   "id": "1e101c8c",
   "metadata": {},
   "outputs": [],
   "source": [
    "true = corpus_sample_test['class']\n",
    "predictions = clf.predict(corpus_sample_test['text'])"
   ]
  },
  {
   "cell_type": "code",
   "execution_count": 15,
   "id": "ea8c790d",
   "metadata": {},
   "outputs": [
    {
     "name": "stdout",
     "output_type": "stream",
     "text": [
      "Precision:   0.54\n",
      "Recall:   0.62\n",
      "F1-mesure:   0.55\n",
      "Accuracy:   0.56\n",
      "                   precision    recall  f1-score   support\n",
      "\n",
      "      Бывший СССР       0.33      0.75      0.46         8\n",
      "         Из жизни       0.47      0.88      0.61        16\n",
      "   Интернет и СМИ       0.43      0.38      0.40        24\n",
      "         Культура       0.60      0.60      0.60         5\n",
      "              Мир       0.36      0.35      0.36        23\n",
      "  Наука и техника       0.58      0.88      0.70         8\n",
      "           Россия       0.86      0.48      0.62        52\n",
      "Силовые структуры       0.20      0.60      0.30         5\n",
      "            Спорт       0.86      0.86      0.86        22\n",
      "        Экономика       0.71      0.47      0.57        32\n",
      "\n",
      "         accuracy                           0.56       195\n",
      "        macro avg       0.54      0.62      0.55       195\n",
      "     weighted avg       0.64      0.56      0.57       195\n",
      "\n"
     ]
    },
    {
     "data": {
      "image/png": "[encoded data removed]",
      "text/plain": [
       "<Figure size 432x288 with 1 Axes>"
      ]
     },
     "metadata": {
      "needs_background": "light"
     },
     "output_type": "display_data"
    }
   ],
   "source": [
    "print(f\"Precision: {precision_score(true, predictions, average='macro'):6.2f}\")\n",
    "print(f\"Recall: {recall_score(true, predictions, average='macro'):6.2f}\")\n",
    "print(f\"F1-mesure: {f1_score(true, predictions, average='macro'):6.2f}\")\n",
    "print(f\"Accuracy: {accuracy_score(true, predictions):6.2f}\")\n",
    "print(classification_report(true, predictions))\n",
    "labels = clf.classes_\n",
    "\n",
    "sns.heatmap(data=confusion_matrix(true, predictions), annot=True, fmt='d', cbar=False, xticklabels=labels, \n",
    "            yticklabels=labels)\n",
    "plt.title('Confusion matrix')\n",
    "plt.show()"
   ]
  },
  {
   "cell_type": "code",
   "execution_count": 16,
   "id": "62fa494d",
   "metadata": {},
   "outputs": [],
   "source": [
    "# RandomForestClassifier\n",
    "# Precision:   0.53\n",
    "# Recall:   0.63\n",
    "# F1-mesure:   0.53\n",
    "# Accuracy:   0.55\n",
    "\n",
    "#  MultinomialNB\n",
    "# Precision:   0.57\n",
    "# Recall:   0.64\n",
    "# F1-mesure:   0.57\n",
    "# Accuracy:   0.59\n",
    "\n",
    "# WO stemming MultinomialNB\n",
    "# Precision:   0.56\n",
    "# Recall:   0.63\n",
    "# F1-mesure:   0.56\n",
    "# Accuracy:   0.59\n",
    "\n",
    "# WO stemming RandomForestClassifier\n",
    "# Precision:   0.54\n",
    "# Recall:   0.62\n",
    "# F1-mesure:   0.55\n",
    "# Accuracy:   0.56"
   ]
  },
  {
   "cell_type": "code",
   "execution_count": null,
   "id": "3ca93f34",
   "metadata": {},
   "outputs": [],
   "source": []
  }
 ],
 "metadata": {
  "kernelspec": {
   "display_name": "Python 3 (ipykernel)",
   "language": "python",
   "name": "python3"
  },
  "language_info": {
   "codemirror_mode": {
    "name": "ipython",
    "version": 3
   },
   "file_extension": ".py",
   "mimetype": "text/x-python",
   "name": "python",
   "nbconvert_exporter": "python",
   "pygments_lexer": "ipython3",
   "version": "3.8.8"
  },
  "toc": {
   "base_numbering": 1,
   "nav_menu": {},
   "number_sections": false,
   "sideBar": true,
   "skip_h1_title": false,
   "title_cell": "Table of Contents",
   "title_sidebar": "Contents",
   "toc_cell": false,
   "toc_position": {},
   "toc_section_display": true,
   "toc_window_display": false
  }
 },
 "nbformat": 4,
 "nbformat_minor": 5
}
