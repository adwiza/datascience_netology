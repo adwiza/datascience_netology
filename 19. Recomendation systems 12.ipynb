{
 "cells": [
  {
   "cell_type": "code",
   "execution_count": 1,
   "id": "b0c5a6eb",
   "metadata": {},
   "outputs": [
    {
     "name": "stdout",
     "output_type": "stream",
     "text": [
      "Evaluating RMSE, MAE of algorithm SVD on 5 split(s).\n",
      "\n",
      "                  Fold 1  Fold 2  Fold 3  Fold 4  Fold 5  Mean    Std     \n",
      "RMSE (testset)    0.8747  0.8755  0.8738  0.8734  0.8729  0.8741  0.0009  \n",
      "MAE (testset)     0.6869  0.6876  0.6866  0.6853  0.6849  0.6863  0.0010  \n",
      "Fit time          67.44   67.33   67.34   67.93   67.12   67.43   0.27    \n",
      "Test time         3.36    3.32    3.33    3.29    3.28    3.31    0.03    \n"
     ]
    },
    {
     "data": {
      "text/plain": [
       "{'test_rmse': array([0.8747261 , 0.8754963 , 0.87384452, 0.87344182, 0.87290242]),\n",
       " 'test_mae': array([0.68689874, 0.6876363 , 0.68659226, 0.68534285, 0.68494085]),\n",
       " 'fit_time': (67.4418158531189,\n",
       "  67.33148431777954,\n",
       "  67.33739066123962,\n",
       "  67.92663192749023,\n",
       "  67.12149715423584),\n",
       " 'test_time': (3.360177993774414,\n",
       "  3.3171985149383545,\n",
       "  3.3265841007232666,\n",
       "  3.2877726554870605,\n",
       "  3.2787773609161377)}"
      ]
     },
     "execution_count": 1,
     "metadata": {},
     "output_type": "execute_result"
    }
   ],
   "source": [
    "from surprise import SVD\n",
    "from surprise import Dataset\n",
    "from surprise.model_selection import cross_validate\n",
    "\n",
    "\n",
    "# Load the movielens-1m dataset (download it if needed),\n",
    "data = Dataset.load_builtin('ml-1m') # ('ml-1m') ('ml-100k')\n",
    "\n",
    "# We'll use the famous SVD algorithm.\n",
    "algo = SVD()\n",
    "\n",
    "# Run 5-fold cross-validation and print results\n",
    "cross_validate(algo, data, measures=['RMSE', 'MAE'], cv=5, verbose=True)"
   ]
  },
  {
   "cell_type": "code",
   "execution_count": 2,
   "id": "33e8e7c8",
   "metadata": {},
   "outputs": [],
   "source": [
    "from surprise.model_selection import train_test_split\n",
    "\n",
    "# разбиваем на валидационную и тестовую выборки\n",
    "trainset, testset = train_test_split(data, test_size=.2, random_state=42)"
   ]
  },
  {
   "cell_type": "code",
   "execution_count": 3,
   "id": "d56fad5e",
   "metadata": {},
   "outputs": [
    {
     "name": "stdout",
     "output_type": "stream",
     "text": [
      "Estimating biases using als...\n",
      "Computing the pearson_baseline similarity matrix...\n",
      "Done computing similarity matrix.\n",
      "Wall time: 2min 37s\n"
     ]
    },
    {
     "data": {
      "text/plain": [
       "<surprise.prediction_algorithms.knns.KNNBasic at 0x21d476ff790>"
      ]
     },
     "execution_count": 3,
     "metadata": {},
     "output_type": "execute_result"
    }
   ],
   "source": [
    "%%time\n",
    "from surprise import KNNBasic\n",
    "\n",
    "# обучаем модель\n",
    "algo = KNNBasic(sim_options={'name': 'pearson_baseline',\n",
    "               'shrinkage': 0})\n",
    "algo.fit(trainset)"
   ]
  },
  {
   "cell_type": "code",
   "execution_count": 4,
   "id": "989ea7fd",
   "metadata": {},
   "outputs": [
    {
     "name": "stdout",
     "output_type": "stream",
     "text": [
      "Wall time: 2min 27s\n"
     ]
    }
   ],
   "source": [
    "%%time\n",
    "# получаем рекомендации на валидационном наборе\n",
    "prediction = algo.test(testset)"
   ]
  },
  {
   "cell_type": "code",
   "execution_count": 5,
   "id": "b177f15b",
   "metadata": {},
   "outputs": [
    {
     "name": "stdout",
     "output_type": "stream",
     "text": [
      "RMSE: 0.9486\n",
      "Wall time: 222 ms\n"
     ]
    },
    {
     "data": {
      "text/plain": [
       "0.9486364645953307"
      ]
     },
     "execution_count": 5,
     "metadata": {},
     "output_type": "execute_result"
    }
   ],
   "source": [
    "%%time\n",
    "from surprise import accuracy\n",
    "\n",
    "# оценим качество\n",
    "accuracy.rmse(prediction)"
   ]
  },
  {
   "cell_type": "code",
   "execution_count": 6,
   "id": "ed7dd69b",
   "metadata": {},
   "outputs": [],
   "source": [
    " # Создаем spark сессию\n",
    "import findspark\n",
    "findspark.init()\n",
    "from pyspark.sql import SparkSession\n",
    "\n",
    "spark = (\n",
    "    SparkSession\n",
    "    .builder\n",
    "    .config('spark.driver.memory', '16G')\n",
    "    .config('spark.sql.analyzer.failAmbiguousSelfJoin', 'False')\n",
    "    .master(\"local[*]\")\n",
    "    .getOrCreate()\n",
    ")"
   ]
  },
  {
   "cell_type": "code",
   "execution_count": 7,
   "id": "cedd1bf7",
   "metadata": {},
   "outputs": [],
   "source": [
    "# файл с оценками - user * item матрица\n",
    "import os\n",
    "import pyspark.sql.functions as sql_func\n",
    "\n",
    "DATA_DIR = 'D:/Datasets/ml-latest-small/'\n",
    "# Сначала посмотрим на общее распределение тегов\n",
    "ratings = (\n",
    "    spark\n",
    "    .read\n",
    "    .csv(\n",
    "        os.path.join(DATA_DIR, 'ratings.csv'),\n",
    "        header=True,\n",
    "        inferSchema=True\n",
    "    )\n",
    "    .drop('timestamp')\n",
    "    .cache()\n",
    ")"
   ]
  },
  {
   "cell_type": "code",
   "execution_count": 8,
   "id": "b1e905d5",
   "metadata": {},
   "outputs": [
    {
     "name": "stdout",
     "output_type": "stream",
     "text": [
      "Wall time: 27.7 s\n"
     ]
    }
   ],
   "source": [
    "%%time\n",
    "(\n",
    "    ratings.alias(\"one\")\n",
    "    .join(ratings.alias(\"two\"), \"userId\")\n",
    "    # расстояние симметрично\n",
    "    # поэтому считаем только одну сторону\n",
    "    .where(\"one.movieId > two.movieId\")\n",
    "    .groupBy(\"one.movieId\", \"two.movieId\")\n",
    "    .agg(\n",
    "        sql_func.sum(\n",
    "            sql_func.col(\"one.rating\") *\n",
    "            sql_func.col(\"two.rating\")\n",
    "        ).alias(\"inner_product\"),\n",
    "        sql_func.count(\"userId\").alias(\"watched_both\")\n",
    "    ).select(\n",
    "        sql_func.col(\"one.movieId\").alias(\"movieId1\"),\n",
    "        sql_func.col(\"two.movieId\").alias(\"movieId2\"),\n",
    "        sql_func.col(\"watched_both\"),\n",
    "        sql_func.col(\"inner_product\")\n",
    "    )\n",
    "    .write\n",
    "    .mode(\"overwrite\")\n",
    "    .parquet(\"half_cooccurrences.parquet\")\n",
    ")"
   ]
  },
  {
   "cell_type": "code",
   "execution_count": 9,
   "id": "abdfdccf",
   "metadata": {},
   "outputs": [],
   "source": [
    "popularities = (\n",
    "    ratings\n",
    "    .groupBy(\"movieId\")\n",
    "    .agg(\n",
    "        sql_func.sum(sql_func.pow(\n",
    "            sql_func.col(\"rating\"),\n",
    "            2\n",
    "        )).alias(\"sum_of_squares\"),\n",
    "        sql_func.count(\"userId\").alias(\"watched_one\")\n",
    "    )\n",
    "    .cache()\n",
    ")"
   ]
  },
  {
   "cell_type": "code",
   "execution_count": 10,
   "id": "e95faebe",
   "metadata": {},
   "outputs": [],
   "source": [
    "half_cooccurrences = (\n",
    "    spark\n",
    "    .read\n",
    "    .parquet(\"half_cooccurrences.parquet\")\n",
    ")"
   ]
  },
  {
   "cell_type": "code",
   "execution_count": 11,
   "id": "8262d3aa",
   "metadata": {},
   "outputs": [],
   "source": [
    "# агрегаты с расчета расстояний - считается 15 минут\n",
    "(\n",
    "    half_cooccurrences\n",
    "    .join(\n",
    "        popularities.alias(\"pop1\"),\n",
    "        sql_func.col(\"pop1.movieId\") == sql_func.col(\"movieId1\")\n",
    "    )\n",
    "    .join(\n",
    "        popularities.alias(\"pop2\"),\n",
    "        sql_func.col(\"pop2.movieId\") == sql_func.col(\"movieId2\")\n",
    "    )\n",
    "    .select(\n",
    "        sql_func.col(\"movieId1\"),\n",
    "        sql_func.col(\"movieId2\"),\n",
    "        sql_func.col(\"pop1.watched_one\").alias(\"watched1\"),\n",
    "        sql_func.col(\"pop2.watched_one\").alias(\"watched2\"),\n",
    "        sql_func.col(\"pop1.sum_of_squares\").alias(\"sum_of_squares1\"),\n",
    "        sql_func.col(\"pop2.sum_of_squares\").alias(\"sum_of_squares2\"),\n",
    "        sql_func.col(\"inner_product\"),\n",
    "        sql_func.col(\"watched_both\")\n",
    "        \n",
    "    )\n",
    "    .write\n",
    "    .mode(\"overwrite\")\n",
    "    .parquet(\"pre_distance_matrix.parquet\")\n",
    ")"
   ]
  },
  {
   "cell_type": "code",
   "execution_count": 12,
   "id": "92de35bf",
   "metadata": {},
   "outputs": [],
   "source": [
    "pre_distance_matrix = (\n",
    "    spark\n",
    "    .read\n",
    "    .parquet(\"pre_distance_matrix.parquet\")\n",
    ")"
   ]
  },
  {
   "cell_type": "code",
   "execution_count": 13,
   "id": "3ee0d3f6",
   "metadata": {},
   "outputs": [],
   "source": [
    "movies = (\n",
    "    spark\n",
    "    .read\n",
    "    .csv(\n",
    "        os.path.join(DATA_DIR, 'movies.csv'),\n",
    "        header=True,\n",
    "        inferSchema=True\n",
    "    )\n",
    "    # если используется меньше памяти,\n",
    "    # то здесь можно взять не все данные, а небольшую выборку\n",
    "    # даже при fraction=.01 качественная картина не меняеся\n",
    "    .select('movieId', 'title')\n",
    "    .cache()\n",
    ")"
   ]
  },
  {
   "cell_type": "code",
   "execution_count": 19,
   "id": "5ba70a46",
   "metadata": {},
   "outputs": [
    {
     "data": {
      "text/html": [
       "<div>\n",
       "<style scoped>\n",
       "    .dataframe tbody tr th:only-of-type {\n",
       "        vertical-align: middle;\n",
       "    }\n",
       "\n",
       "    .dataframe tbody tr th {\n",
       "        vertical-align: top;\n",
       "    }\n",
       "\n",
       "    .dataframe thead th {\n",
       "        text-align: right;\n",
       "    }\n",
       "</style>\n",
       "<table border=\"1\" class=\"dataframe\">\n",
       "  <thead>\n",
       "    <tr style=\"text-align: right;\">\n",
       "      <th></th>\n",
       "      <th>movieId</th>\n",
       "      <th>distance</th>\n",
       "      <th>title</th>\n",
       "    </tr>\n",
       "  </thead>\n",
       "  <tbody>\n",
       "    <tr>\n",
       "      <th>0</th>\n",
       "      <td>5816</td>\n",
       "      <td>-0.636898</td>\n",
       "      <td>Harry Potter and the Chamber of Secrets (2002)</td>\n",
       "    </tr>\n",
       "    <tr>\n",
       "      <th>1</th>\n",
       "      <td>8368</td>\n",
       "      <td>-0.568846</td>\n",
       "      <td>Harry Potter and the Prisoner of Azkaban (2004)</td>\n",
       "    </tr>\n",
       "    <tr>\n",
       "      <th>2</th>\n",
       "      <td>40815</td>\n",
       "      <td>-0.553783</td>\n",
       "      <td>Harry Potter and the Goblet of Fire (2005)</td>\n",
       "    </tr>\n",
       "    <tr>\n",
       "      <th>3</th>\n",
       "      <td>69844</td>\n",
       "      <td>-0.422393</td>\n",
       "      <td>Harry Potter and the Half-Blood Prince (2009)</td>\n",
       "    </tr>\n",
       "    <tr>\n",
       "      <th>4</th>\n",
       "      <td>4306</td>\n",
       "      <td>-0.419741</td>\n",
       "      <td>Shrek (2001)</td>\n",
       "    </tr>\n",
       "    <tr>\n",
       "      <th>5</th>\n",
       "      <td>5349</td>\n",
       "      <td>-0.407751</td>\n",
       "      <td>Spider-Man (2002)</td>\n",
       "    </tr>\n",
       "    <tr>\n",
       "      <th>6</th>\n",
       "      <td>4886</td>\n",
       "      <td>-0.406374</td>\n",
       "      <td>Monsters, Inc. (2001)</td>\n",
       "    </tr>\n",
       "    <tr>\n",
       "      <th>7</th>\n",
       "      <td>6539</td>\n",
       "      <td>-0.399835</td>\n",
       "      <td>Pirates of the Caribbean: The Curse of the Bla...</td>\n",
       "    </tr>\n",
       "    <tr>\n",
       "      <th>8</th>\n",
       "      <td>54001</td>\n",
       "      <td>-0.399075</td>\n",
       "      <td>Harry Potter and the Order of the Phoenix (2007)</td>\n",
       "    </tr>\n",
       "    <tr>\n",
       "      <th>9</th>\n",
       "      <td>5218</td>\n",
       "      <td>-0.390914</td>\n",
       "      <td>Ice Age (2002)</td>\n",
       "    </tr>\n",
       "  </tbody>\n",
       "</table>\n",
       "</div>"
      ],
      "text/plain": [
       "   movieId  distance                                              title\n",
       "0     5816 -0.636898     Harry Potter and the Chamber of Secrets (2002)\n",
       "1     8368 -0.568846    Harry Potter and the Prisoner of Azkaban (2004)\n",
       "2    40815 -0.553783         Harry Potter and the Goblet of Fire (2005)\n",
       "3    69844 -0.422393      Harry Potter and the Half-Blood Prince (2009)\n",
       "4     4306 -0.419741                                       Shrek (2001)\n",
       "5     5349 -0.407751                                  Spider-Man (2002)\n",
       "6     4886 -0.406374                              Monsters, Inc. (2001)\n",
       "7     6539 -0.399835  Pirates of the Caribbean: The Curse of the Bla...\n",
       "8    54001 -0.399075   Harry Potter and the Order of the Phoenix (2007)\n",
       "9     5218 -0.390914                                     Ice Age (2002)"
      ]
     },
     "execution_count": 19,
     "metadata": {},
     "output_type": "execute_result"
    }
   ],
   "source": [
    "movieId = 4896\n",
    "(\n",
    "    pre_distance_matrix\n",
    "    .where(\"movieId1 == {} OR movieId2 == {}\".format(movieId, movieId))\n",
    "    .selectExpr(\n",
    "        \"\"\"\n",
    "        CASE\n",
    "            WHEN movieId1 == {}\n",
    "            THEN movieId2\n",
    "            ELSE movieId1\n",
    "        END movieId\n",
    "        \"\"\".format(movieId),\n",
    "        \"\"\"\n",
    "        -- sum_of_squares1 + sum_of_squares2 - 2 * inner_product AS distance -- Евклидово расстояние\n",
    "        - inner_product / (sum_of_squares1 + sum_of_squares2 - inner_product) AS distance -- Танимото\n",
    "        -- - inner_product / SQRT(sum_of_squares1) / SQRT(sum_of_squares2) AS distance -- Косинус\n",
    "        \n",
    "        \"\"\"\n",
    "    )\n",
    "    .orderBy(\"distance\")\n",
    "    .limit(10)\n",
    "    .join(movies, \"movieId\")\n",
    "    .orderBy(\"distance\")\n",
    "    .toPandas()\n",
    ")"
   ]
  },
  {
   "cell_type": "code",
   "execution_count": null,
   "id": "7b385dc5",
   "metadata": {},
   "outputs": [],
   "source": []
  }
 ],
 "metadata": {
  "kernelspec": {
   "display_name": "Python 3",
   "language": "python",
   "name": "python3"
  },
  "language_info": {
   "codemirror_mode": {
    "name": "ipython",
    "version": 3
   },
   "file_extension": ".py",
   "mimetype": "text/x-python",
   "name": "python",
   "nbconvert_exporter": "python",
   "pygments_lexer": "ipython3",
   "version": "3.8.8"
  },
  "toc": {
   "base_numbering": 1,
   "nav_menu": {},
   "number_sections": true,
   "sideBar": true,
   "skip_h1_title": false,
   "title_cell": "Table of Contents",
   "title_sidebar": "Contents",
   "toc_cell": false,
   "toc_position": {},
   "toc_section_display": true,
   "toc_window_display": false
  }
 },
 "nbformat": 4,
 "nbformat_minor": 5
}
