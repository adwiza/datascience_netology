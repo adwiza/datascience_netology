{
 "cells": [
  {
   "cell_type": "code",
   "execution_count": 1,
   "id": "b0c5a6eb",
   "metadata": {},
   "outputs": [
    {
     "name": "stdout",
     "output_type": "stream",
     "text": [
      "Evaluating RMSE, MAE of algorithm SVD on 5 split(s).\n",
      "\n",
      "                  Fold 1  Fold 2  Fold 3  Fold 4  Fold 5  Mean    Std     \n",
      "RMSE (testset)    0.8721  0.8703  0.8757  0.8750  0.8747  0.8736  0.0021  \n",
      "MAE (testset)     0.6840  0.6836  0.6870  0.6876  0.6863  0.6857  0.0016  \n",
      "Fit time          67.06   67.43   67.57   67.48   67.34   67.38   0.17    \n",
      "Test time         3.33    3.28    3.25    3.26    3.27    3.28    0.03    \n"
     ]
    },
    {
     "data": {
      "text/plain": [
       "{'test_rmse': array([0.87205648, 0.87027723, 0.87574227, 0.87503408, 0.87470333]),\n",
       " 'test_mae': array([0.68402233, 0.68355301, 0.68699288, 0.68756463, 0.68632696]),\n",
       " 'fit_time': (67.0614914894104,\n",
       "  67.4294822216034,\n",
       "  67.56535530090332,\n",
       "  67.4849362373352,\n",
       "  67.34282064437866),\n",
       " 'test_time': (3.3287510871887207,\n",
       "  3.2797861099243164,\n",
       "  3.252803087234497,\n",
       "  3.26479434967041,\n",
       "  3.267077684402466)}"
      ]
     },
     "execution_count": 1,
     "metadata": {},
     "output_type": "execute_result"
    }
   ],
   "source": [
    "from surprise import SVD\n",
    "from surprise import Dataset\n",
    "from surprise.model_selection import cross_validate\n",
    "\n",
    "\n",
    "# Load the movielens-1m dataset (download it if needed),\n",
    "data = Dataset.load_builtin('ml-1m')\n",
    "\n",
    "# We'll use the famous SVD algorithm.\n",
    "algo = SVD()\n",
    "\n",
    "# Run 5-fold cross-validation and print results\n",
    "cross_validate(algo, data, measures=['RMSE', 'MAE'], cv=5, verbose=True)"
   ]
  },
  {
   "cell_type": "code",
   "execution_count": 3,
   "id": "33e8e7c8",
   "metadata": {},
   "outputs": [],
   "source": [
    "from surprise.model_selection import train_test_split\n",
    "\n",
    "# разбиваем на валидационную и тестовую выборки\n",
    "trainset, testset = train_test_split(data, test_size=.2, random_state=42)"
   ]
  },
  {
   "cell_type": "code",
   "execution_count": 4,
   "id": "d56fad5e",
   "metadata": {},
   "outputs": [
    {
     "name": "stdout",
     "output_type": "stream",
     "text": [
      "Computing the msd similarity matrix...\n",
      "Done computing similarity matrix.\n",
      "Wall time: 55.6 s\n"
     ]
    },
    {
     "data": {
      "text/plain": [
       "<surprise.prediction_algorithms.knns.KNNBasic at 0x25073f699a0>"
      ]
     },
     "execution_count": 4,
     "metadata": {},
     "output_type": "execute_result"
    }
   ],
   "source": [
    "%%time\n",
    "from surprise import KNNBasic\n",
    "\n",
    "# обучаем модель\n",
    "algo = KNNBasic()\n",
    "algo.fit(trainset)"
   ]
  },
  {
   "cell_type": "code",
   "execution_count": 7,
   "id": "989ea7fd",
   "metadata": {},
   "outputs": [
    {
     "name": "stdout",
     "output_type": "stream",
     "text": [
      "Wall time: 2min 30s\n"
     ]
    }
   ],
   "source": [
    "%%time\n",
    "# получаем рекомендации на валидационном наборе\n",
    "prediction = algo.test(testset)"
   ]
  },
  {
   "cell_type": "code",
   "execution_count": 9,
   "id": "b177f15b",
   "metadata": {},
   "outputs": [
    {
     "name": "stdout",
     "output_type": "stream",
     "text": [
      "RMSE: 0.9231\n",
      "Wall time: 227 ms\n"
     ]
    },
    {
     "data": {
      "text/plain": [
       "0.9231258721322069"
      ]
     },
     "execution_count": 9,
     "metadata": {},
     "output_type": "execute_result"
    }
   ],
   "source": [
    "%%time\n",
    "from surprise import accuracy\n",
    "\n",
    "# оценим качество\n",
    "accuracy.rmse(prediction)"
   ]
  },
  {
   "cell_type": "code",
   "execution_count": null,
   "id": "ed7dd69b",
   "metadata": {},
   "outputs": [],
   "source": [
    " # Создаем spark сессию\n",
    "import findspark\n",
    "findspark.init()\n",
    "from pyspark.sql import SparkSession\n",
    "\n",
    "spark = (\n",
    "    SparkSession\n",
    "    .builder\n",
    "    .config('spark.driver.memory', '16G')\n",
    "    .config('spark.sql.analyzer.failAmbiguousSelfJoin', 'False')\n",
    "    .master(\"local[*]\")\n",
    "    .getOrCreate()\n",
    ")"
   ]
  },
  {
   "cell_type": "code",
   "execution_count": null,
   "id": "cedd1bf7",
   "metadata": {},
   "outputs": [],
   "source": [
    "# файл с оценками - user * item матрица\n",
    "import os\n",
    "import pyspark.sql.functions as sql_func\n",
    "\n",
    "DATA_DIR = 'D:/Datasets/ml-latest-small/'\n",
    "# Сначала посмотрим на общее распределение тегов\n",
    "ratings = (\n",
    "    spark\n",
    "    .read\n",
    "    .csv(\n",
    "        os.path.join(DATA_DIR, 'ratings.csv'),\n",
    "        header=True,\n",
    "        inferSchema=True\n",
    "    )\n",
    "    .drop('timestamp')\n",
    "    .cache()\n",
    ")"
   ]
  },
  {
   "cell_type": "code",
   "execution_count": null,
   "id": "b1e905d5",
   "metadata": {},
   "outputs": [],
   "source": [
    "%%time\n",
    "(\n",
    "    ratings.alias(\"one\")\n",
    "    .join(ratings.alias(\"two\"), \"userId\")\n",
    "    # расстояние симметрично\n",
    "    # поэтому считаем только одну сторону\n",
    "    .where(\"one.movieId > two.movieId\")\n",
    "    .groupBy(\"one.movieId\", \"two.movieId\")\n",
    "    .agg(\n",
    "        sql_func.sum(\n",
    "            sql_func.col(\"one.rating\") *\n",
    "            sql_func.col(\"two.rating\")\n",
    "        ).alias(\"inner_product\"),\n",
    "        sql_func.count(\"userId\").alias(\"watched_both\")\n",
    "    ).select(\n",
    "        sql_func.col(\"one.movieId\").alias(\"movieId1\"),\n",
    "        sql_func.col(\"two.movieId\").alias(\"movieId2\"),\n",
    "        sql_func.col(\"watched_both\"),\n",
    "        sql_func.col(\"inner_product\")\n",
    "    )\n",
    "    .write\n",
    "    .mode(\"overwrite\")\n",
    "    .parquet(\"half_cooccurrences.parquet\")\n",
    ")"
   ]
  },
  {
   "cell_type": "code",
   "execution_count": null,
   "id": "abdfdccf",
   "metadata": {},
   "outputs": [],
   "source": [
    "popularities = (\n",
    "    ratings\n",
    "    .groupBy(\"movieId\")\n",
    "    .agg(\n",
    "        sql_func.sum(sql_func.pow(\n",
    "            sql_func.col(\"rating\"),\n",
    "            2\n",
    "        )).alias(\"sum_of_squares\"),\n",
    "        sql_func.count(\"userId\").alias(\"watched_one\")\n",
    "    )\n",
    "    .cache()\n",
    ")"
   ]
  },
  {
   "cell_type": "code",
   "execution_count": null,
   "id": "e95faebe",
   "metadata": {},
   "outputs": [],
   "source": [
    "half_cooccurrences = (\n",
    "    spark\n",
    "    .read\n",
    "    .parquet(\"half_cooccurrences.parquet\")\n",
    ")"
   ]
  },
  {
   "cell_type": "code",
   "execution_count": null,
   "id": "8262d3aa",
   "metadata": {},
   "outputs": [],
   "source": [
    "# агрегаты с расчета расстояний - считается 15 минут\n",
    "(\n",
    "    half_cooccurrences\n",
    "    .join(\n",
    "        popularities.alias(\"pop1\"),\n",
    "        sql_func.col(\"pop1.movieId\") == sql_func.col(\"movieId1\")\n",
    "    )\n",
    "    .join(\n",
    "        popularities.alias(\"pop2\"),\n",
    "        sql_func.col(\"pop2.movieId\") == sql_func.col(\"movieId2\")\n",
    "    )\n",
    "    .select(\n",
    "        sql_func.col(\"movieId1\"),\n",
    "        sql_func.col(\"movieId2\"),\n",
    "        sql_func.col(\"pop1.watched_one\").alias(\"watched1\"),\n",
    "        sql_func.col(\"pop2.watched_one\").alias(\"watched2\"),\n",
    "        sql_func.col(\"pop1.sum_of_squares\").alias(\"sum_of_squares1\"),\n",
    "        sql_func.col(\"pop2.sum_of_squares\").alias(\"sum_of_squares2\"),\n",
    "        sql_func.col(\"inner_product\"),\n",
    "        sql_func.col(\"watched_both\")\n",
    "        \n",
    "    )\n",
    "    .write\n",
    "    .mode(\"overwrite\")\n",
    "    .parquet(\"pre_distance_matrix.parquet\")\n",
    ")"
   ]
  },
  {
   "cell_type": "code",
   "execution_count": null,
   "id": "92de35bf",
   "metadata": {},
   "outputs": [],
   "source": [
    "pre_distance_matrix = (\n",
    "    spark\n",
    "    .read\n",
    "    .parquet(\"pre_distance_matrix.parquet\")\n",
    ")"
   ]
  },
  {
   "cell_type": "code",
   "execution_count": null,
   "id": "3ee0d3f6",
   "metadata": {},
   "outputs": [],
   "source": [
    "movies = (\n",
    "    spark\n",
    "    .read\n",
    "    .csv(\n",
    "        os.path.join(DATA_DIR, 'movies.csv'),\n",
    "        header=True,\n",
    "        inferSchema=True\n",
    "    )\n",
    "    # если используется меньше памяти,\n",
    "    # то здесь можно взять не все данные, а небольшую выборку\n",
    "    # даже при fraction=.01 качественная картина не меняеся\n",
    "    .select('movieId', 'title')\n",
    "    .cache()\n",
    ")"
   ]
  },
  {
   "cell_type": "code",
   "execution_count": null,
   "id": "5ba70a46",
   "metadata": {},
   "outputs": [],
   "source": [
    "movieId = 4896\n",
    "(\n",
    "    pre_distance_matrix\n",
    "    .where(\"movieId1 == {} OR movieId2 == {}\".format(movieId, movieId))\n",
    "    .selectExpr(\n",
    "        \"\"\"\n",
    "        CASE\n",
    "            WHEN movieId1 == {}\n",
    "            THEN movieId2\n",
    "            ELSE movieId1\n",
    "        END movieId\n",
    "        \"\"\".format(movieId),\n",
    "#         \"\"\"\n",
    "#         ВАШ КОД ТУТ AS disctance\n",
    "#         \"\"\"\n",
    "    )\n",
    "#     .orderBy(\"distance\")\n",
    "    .limit(10)\n",
    "    .join(movies, \"movieId\")\n",
    "#     .orderBy(\"distance\")\n",
    "    .toPandas()\n",
    ")"
   ]
  },
  {
   "cell_type": "code",
   "execution_count": null,
   "id": "7b385dc5",
   "metadata": {},
   "outputs": [],
   "source": []
  }
 ],
 "metadata": {
  "kernelspec": {
   "display_name": "Python 3",
   "language": "python",
   "name": "python3"
  },
  "language_info": {
   "codemirror_mode": {
    "name": "ipython",
    "version": 3
   },
   "file_extension": ".py",
   "mimetype": "text/x-python",
   "name": "python",
   "nbconvert_exporter": "python",
   "pygments_lexer": "ipython3",
   "version": "3.8.8"
  },
  "toc": {
   "base_numbering": 1,
   "nav_menu": {},
   "number_sections": true,
   "sideBar": true,
   "skip_h1_title": false,
   "title_cell": "Table of Contents",
   "title_sidebar": "Contents",
   "toc_cell": false,
   "toc_position": {},
   "toc_section_display": true,
   "toc_window_display": false
  }
 },
 "nbformat": 4,
 "nbformat_minor": 5
}
