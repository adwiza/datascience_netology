{
 "cells": [
  {
   "cell_type": "markdown",
   "id": "e8695df1",
   "metadata": {},
   "source": [
    "# Токенизация и подсчет количества слов"
   ]
  },
  {
   "cell_type": "markdown",
   "id": "50a9f6d6",
   "metadata": {},
   "source": [
    "### Сколько слов в этом предложении?\n",
    "\n",
    "* На дворе трава, на траве дрова, не руби дрова на траве двора.*"
   ]
  },
  {
   "cell_type": "markdown",
   "id": "3b67ae9b",
   "metadata": {},
   "source": [
    "<b> 12 токенов </b> На, дворе, трава, на, траве, дрова, не, руби, дрова, на, траве, двора<br>\n",
    "<b> 8 - 9 типов </b> Н/на, дворе, трава, траве, дрова, не, руби, дрова<br>\n",
    "<b> 6 лексем </b>на, не, двор, трава, дрова, рубить"
   ]
  },
  {
   "cell_type": "markdown",
   "id": "f9c5c4f6",
   "metadata": {},
   "source": [
    "#### Токен и тип\n",
    "<b>Тип</b> - уникальное слово из текста<br>\n",
    "<b>Токен</b> - тип и его позиция в тексте"
   ]
  },
  {
   "cell_type": "code",
   "execution_count": null,
   "id": "38b476a4",
   "metadata": {},
   "outputs": [],
   "source": []
  }
 ],
 "metadata": {
  "kernelspec": {
   "display_name": "Python 3 (ipykernel)",
   "language": "python",
   "name": "python3"
  },
  "language_info": {
   "codemirror_mode": {
    "name": "ipython",
    "version": 3
   },
   "file_extension": ".py",
   "mimetype": "text/x-python",
   "name": "python",
   "nbconvert_exporter": "python",
   "pygments_lexer": "ipython3",
   "version": "3.8.8"
  },
  "toc": {
   "base_numbering": 1,
   "nav_menu": {},
   "number_sections": false,
   "sideBar": true,
   "skip_h1_title": false,
   "title_cell": "Table of Contents",
   "title_sidebar": "Contents",
   "toc_cell": false,
   "toc_position": {},
   "toc_section_display": true,
   "toc_window_display": false
  }
 },
 "nbformat": 4,
 "nbformat_minor": 5
}
