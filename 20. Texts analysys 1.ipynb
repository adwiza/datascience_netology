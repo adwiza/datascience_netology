{
 "cells": [
  {
   "cell_type": "markdown",
   "id": "e8695df1",
   "metadata": {},
   "source": [
    "# Токенизация и подсчет количества слов"
   ]
  },
  {
   "cell_type": "markdown",
   "id": "50a9f6d6",
   "metadata": {},
   "source": [
    "### Сколько слов в этом предложении?\n",
    "\n",
    "* На дворе трава, на траве дрова, не руби дрова на траве двора.*"
   ]
  },
  {
   "cell_type": "markdown",
   "id": "3b67ae9b",
   "metadata": {},
   "source": [
    "<b> 12 токенов </b> На, дворе, трава, на, траве, дрова, не, руби, дрова, на, траве, двора<br>\n",
    "<b> 8 - 9 типов </b> Н/на, дворе, трава, траве, дрова, не, руби, дрова<br>\n",
    "<b> 6 лексем </b>на, не, двор, трава, дрова, рубить"
   ]
  },
  {
   "cell_type": "markdown",
   "id": "f9c5c4f6",
   "metadata": {},
   "source": [
    "#### Токен и тип\n",
    "<b>Тип</b> - уникальное слово из текста<br>\n",
    "<b>Токен</b> - тип и его позиция в тексте"
   ]
  },
  {
   "cell_type": "markdown",
   "id": "2eab119c",
   "metadata": {},
   "source": [
    "#### Обозначения\n",
    "N = число токенов\n",
    "V - словарь (все типы)\n",
    "|V| = число типов в словаре\n",
    "\n",
    "<b>Как связаны N и |V|?</b>"
   ]
  },
  {
   "cell_type": "markdown",
   "id": "603c50dc",
   "metadata": {},
   "source": [
    "<b>Закон Ципфа</b>\n",
    "В любом достаточно большом тексте ранг типа обратно пропорционален его частотности $f = \\frac {a}{r}$<br>\n",
    "$f$ - частота типа, $r$ - ранг типа, $a$ - параметр для славянских языков - около 0.07"
   ]
  },
  {
   "cell_type": "markdown",
   "id": "9a366292",
   "metadata": {},
   "source": [
    "<b>Закон Хипса</b>\n",
    "С увеличением длины текста {количества токнов}, количество типов увеличивается в соответствии с законом $|V| =  {K}*{N^b}$<br>\n",
    "$N$ - число токенов, $|V|$ - количество типов в словаре, $K,b$ - параметры, обычно K $\\in$ [10, 100], b $\\in$ [0.4, 0.6] "
   ]
  },
  {
   "cell_type": "markdown",
   "id": "d3725a25",
   "metadata": {},
   "source": [
    "## Анализ сообщений VK.com"
   ]
  },
  {
   "cell_type": "code",
   "execution_count": 1,
   "id": "8fefdf55",
   "metadata": {},
   "outputs": [],
   "source": [
    "import warnings\n",
    "warnings.filterwarnings('ignore')"
   ]
  },
  {
   "cell_type": "code",
   "execution_count": 2,
   "id": "89ca96aa",
   "metadata": {},
   "outputs": [
    {
     "data": {
      "text/html": [
       "<div>\n",
       "<style scoped>\n",
       "    .dataframe tbody tr th:only-of-type {\n",
       "        vertical-align: middle;\n",
       "    }\n",
       "\n",
       "    .dataframe tbody tr th {\n",
       "        vertical-align: top;\n",
       "    }\n",
       "\n",
       "    .dataframe thead th {\n",
       "        text-align: right;\n",
       "    }\n",
       "</style>\n",
       "<table border=\"1\" class=\"dataframe\">\n",
       "  <thead>\n",
       "    <tr style=\"text-align: right;\">\n",
       "      <th></th>\n",
       "      <th>text</th>\n",
       "      <th>source</th>\n",
       "    </tr>\n",
       "  </thead>\n",
       "  <tbody>\n",
       "    <tr>\n",
       "      <th>0</th>\n",
       "      <td>Начальник Главного оперативного управления Ген...</td>\n",
       "      <td>mil</td>\n",
       "    </tr>\n",
       "    <tr>\n",
       "      <th>1</th>\n",
       "      <td>Артиллерийские подразделения общевойскового об...</td>\n",
       "      <td>mil</td>\n",
       "    </tr>\n",
       "    <tr>\n",
       "      <th>2</th>\n",
       "      <td>Подразделения морской пехоты Каспийской флотил...</td>\n",
       "      <td>mil</td>\n",
       "    </tr>\n",
       "    <tr>\n",
       "      <th>3</th>\n",
       "      <td>Команды на всеармейских этапах конкурсов АрМИ-...</td>\n",
       "      <td>mil</td>\n",
       "    </tr>\n",
       "    <tr>\n",
       "      <th>4</th>\n",
       "      <td>На большом учебно-методическом командирском сб...</td>\n",
       "      <td>mil</td>\n",
       "    </tr>\n",
       "  </tbody>\n",
       "</table>\n",
       "</div>"
      ],
      "text/plain": [
       "                                                text source\n",
       "0  Начальник Главного оперативного управления Ген...    mil\n",
       "1  Артиллерийские подразделения общевойскового об...    mil\n",
       "2  Подразделения морской пехоты Каспийской флотил...    mil\n",
       "3  Команды на всеармейских этапах конкурсов АрМИ-...    mil\n",
       "4  На большом учебно-методическом командирском сб...    mil"
      ]
     },
     "execution_count": 2,
     "metadata": {},
     "output_type": "execute_result"
    }
   ],
   "source": [
    "import pandas as pd\n",
    "\n",
    "df = pd.read_csv('datasets/nlp/vk_texts_with_sources.csv', usecols=['text', 'source'])\n",
    "\n",
    "df.text.dropna(inplace=True)\n",
    "df.head()"
   ]
  },
  {
   "cell_type": "markdown",
   "id": "80c8599c",
   "metadata": {},
   "source": [
    "## Предварительный анализ коллекции\n",
    "\n",
    "### Средняя длина текстов"
   ]
  },
  {
   "cell_type": "code",
   "execution_count": 3,
   "id": "ddb8bc75",
   "metadata": {},
   "outputs": [
    {
     "data": {
      "text/plain": [
       "count    11625.000000\n",
       "mean       684.905978\n",
       "std        749.412535\n",
       "min          3.000000\n",
       "25%        183.000000\n",
       "50%        501.000000\n",
       "75%        939.000000\n",
       "max      13306.000000\n",
       "Name: text, dtype: float64"
      ]
     },
     "execution_count": 3,
     "metadata": {},
     "output_type": "execute_result"
    }
   ],
   "source": [
    "df.text = df.text.astype(str)\n",
    "len_data = df.text.apply(len)\n",
    "len_data.describe()"
   ]
  },
  {
   "cell_type": "markdown",
   "id": "99869097",
   "metadata": {},
   "source": [
    "### Количество текстов разных пабликов\n"
   ]
  },
  {
   "cell_type": "code",
   "execution_count": 4,
   "id": "4d0d30ff",
   "metadata": {},
   "outputs": [
    {
     "data": {
      "image/png": "[encoded data removed]",
      "text/plain": [
       "<Figure size 432x288 with 1 Axes>"
      ]
     },
     "metadata": {
      "needs_background": "light"
     },
     "output_type": "display_data"
    }
   ],
   "source": [
    "import matplotlib.pyplot as plt\n",
    "import numpy as np\n",
    "\n",
    "counts = df.source.value_counts()\n",
    "values = counts.tolist()\n",
    "labels = counts.index.tolist()\n",
    "\n",
    "y_pos = np.arange(len(labels))\n",
    "\n",
    "plt.bar(y_pos, values, align='center', alpha=.5)\n",
    "plt.xticks(y_pos, range(len(labels)))\n",
    "\n",
    "plt.show()"
   ]
  },
  {
   "cell_type": "markdown",
   "id": "a27feac1",
   "metadata": {},
   "source": [
    "### Длины текстов в символах"
   ]
  },
  {
   "cell_type": "code",
   "execution_count": 5,
   "id": "13600be7",
   "metadata": {},
   "outputs": [
    {
     "data": {
      "image/png": "[encoded data removed]",
      "text/plain": [
       "<Figure size 432x288 with 1 Axes>"
      ]
     },
     "metadata": {
      "needs_background": "light"
     },
     "output_type": "display_data"
    }
   ],
   "source": [
    "fig, ax = plt.subplots()\n",
    "\n",
    "length = len_data[len_data < 10000].tolist()\n",
    "\n",
    "n, bins, patches = ax.hist(length)\n",
    "\n",
    "fig.show()"
   ]
  },
  {
   "cell_type": "markdown",
   "id": "6c89d4bc",
   "metadata": {},
   "source": [
    "### Токенизация\n",
    "\n",
    "Используем регулярные выражения, чтобы разбить текст на слова"
   ]
  },
  {
   "cell_type": "code",
   "execution_count": 6,
   "id": "f2a44280",
   "metadata": {},
   "outputs": [
    {
     "data": {
      "text/plain": [
       "'начальник главного оперативного управления генерального штаба вооруженных сил рф генерал полковник сергей рудской провел брифинг для сми по ситуации в сирии с начала этого года сирийскими правительственными войсками при поддержке вкс россии достигнуты значительные успехи по освобождению ключевых районов сирии от остатков террористических группировок это восточная часть провинции идлиб пригороды дамаска восточная гута восточный каламун ярмук северные районы провинции хомс которые в настоящее время находятся полностью под контролем правительственных войск в январе феврале в восточной части провинции идлиб была окружена и уничтожена крупная группировка джабхат ан нусра численностью более боевиков а также разрозненные бандгруппы игиловцев в результате под контроль правительственных войск перешла территория от кафер аккара до саббура с севера на юг и от синджара до эль хаммам с запада на восток площадью более четырех тысяч квадратных километров в настоящее время возобновлено движение по дороге соединяющей хаму и алеппо в освобожденных районах интенсивно налаживается мирная жизнь что способствует возвращению беженцев так через гуманитарный коридор в районе населенных пунктов абу духур и тель султан из западной части провинции идлиб в провинцию алеппо вернулось тысяч мирных жителя постепенно нормализуется ситуация в зоне деэскалации идлиб завершено выставление наблюдательных постов вдоль линии разграничения на которых несут службу военнослужащие стран гарантов астанинских соглашений ирана россии и турции всего российской стороной выставлено постов турцией ираном они обеспечивают контроль соблюдения режима прекращения боевых действий правительственными войсками и вооруженной оппозицией между постами установлена устойчивая связь организован постоянный обмен информацией об обстановке и нарушениях режима прекращения боевых действий принимаются меры по их пресечению и урегулированию конфликтных ситуаций завершена операция правительственных войск по освобождению всех пригородов дамаска в ходе нее под руководством российского центра по примирению враждующих сторон была проведена беспрецедентная по своему масштабу гуманитарная операция в восточной гуте восточном каламуне и ярмуке во избежание напрасных потерь и жертв среди мирного населения по специально созданным гуманитарным коридорам из пригородов дамаска выведено тысяч человека среди которых тысяч боевиков по их желанию они были выведены в северные районы страны большая часть мирных граждан уже вернулась в свои дома последним оплотом террористов в сирийской столице являлся бывший лагерь палестинских беженцев ярмук который был превращен в убежище для игиловцев разгромленных ранее сирийской армией в различных районах сирии на сегодняшний день вооруженные формирования игил действовавшие в западной части ярмука полностью уничтожены территория перешла под контроль правительственных войск кроме того благодаря работе проведенной российским центром по примирению враждующих сторон члены отрядов вооруженной оппозиции из восточной части ярмука смогли по своему желанию либо воспользоваться действующей амнистией и вернуться к мирной жизни либо выехать с семьями в провинцию идлиб всего из ярмука было вывезено тысячи боевика в результате проведенной операции впервые за шесть лет жители сирийской столицы почувствовали себя в безопасности прекратились ежедневные обстрелы жилых кварталов города террористические акты и похищения людей свободу получили заложники удерживаемые боевиками в районах ранее контролируемых бандформированиями на порядок снизились цены на продукты питания и медикаменты люди получили доступ к медицинскому обслуживанию сегодня обстановка в освобожденных районах полностью нормализовалась и способствует налаживанию мирной жизни по аналогичному сценарию проведена гуманитарная операция в зоне деэскалации хомс в ходе переговоров с лидерами вооруженных формирований шейхами племен и представителями религиозных общин была достигнута договоренность о переходе населенных пунктов в зоне деэскалации к мирной жизни и разблокировании движения по автомобильной дороге хомс хама члены отрядов вооруженной оппозиции получили возможность воспользоваться амнистией и остаться в своих населенных пунктах боевикам не пожелавшим перейти под юрисдикцию правительства сирии был обеспечен выезд в провинцию идлиб и на север провинции алеппо в город джераблус с мая из городов эр растан аль кантара шимали телль биса и других населенных пунктов вывезено тысяч участников незаконных вооруженных формирований вооруженными формированиями сдано правительственным войскам танков бмп пикапов с крупнокалиберными пулеметами орудия и миномета реактивных систем залпового огня комплексов птур ручных противотанковых гранатометов средств пво самодельных пусковых установок адский огонь а также крупнокалиберных пулеметов особо отмечу что освобождение зоны деэскалации хомс от боевиков достигнуто мирным путем боевые действия не велись что позволило полностью исключить жертвы среди мирных жителей и членов отрядов оппозиции данные вопросы а также текущая ситуация в сирии обсуждались представителями россии турции и ирана и на девятой международной встрече которая завершилась мая в астане представители стран гарантов подвели итоги развития ситуации на земле за год с момента подписания меморандума о создании зон деэскалации в сирийской арабской республике от мая г подчеркнули ключевую роль которую играют зоны деэскалации в поддержании режима прекращения боевых действий снижении уровня насилия и в целом стабилизации обстановки в сирии участники конференции приветствовали проведение представителями трех стран гарантов второго заседания рабочей группы по освобождению задержанных и заложников передаче тел погибших и поиску пропавших без вести при участии экспертов оон и мккк была подтверждена необходимость продолжения совместных усилий с целью укрепления доверия между конфликтующими сторонами в сирии стороны договорились приложить дополнительные усилия по направлению в сирию помощи населению содействию гуманитарному разминированию сохранению исторического наследия восстановлению объектов социальной и экономической инфраструктуры российский центр по примирению враждующих сторон продолжает работу по оказанию гуманитарной помощи населению сирии более подробно о ходе восстановления объектов инфраструктуры в районах освобожденных от вооруженных формирований и возвращении беженцев расскажет начальник центра по примирению враждующих сторон генерал майор юрий евтушенко находящийся на видеоконференцсвязи юрий евтушенко отметил что после освобождения восточной гуты от боевиков основные усилия центра по примирению враждующих сторон сосредоточены на постконфликтном урегулировании и создании условий для возращения людей к мирной жизни для расчистки завалов уборки улиц восстановления объектов жилищно коммунального хозяйства в населенные пункты дума кафер батна дахийят аль асад и арбил доставлена российская специальная техника пиломатериалы силовые и оптоволоконные кабели водопроводные трубы и другие строительные материалы это позволило ремонтным бригадам оперативно приступить к восстановлению объектов инфраструктуры в восточной гуте представители центра по примирению постоянно проводят мониторинг гуманитарной обстановки координируя с органами государственной власти сирийской арабской республики и местного управления вопросы восстановления социально значимых объектов имеющих первоочередное значение речь идет о школах больницах хлебопекарнях объектах электро и водоснабжения инженерно саперными подразделениями сирийской армии не прекращается работа по разминированию жилых строений вывозу боеприпасов и мин на сегодняшний день в населенных пунктах восточной гуты разминировано здания и сооружения километра дорог обнаружено и обезврежено взрывоопасных предметов расчищено от завалов более квадратных километров площади населенных пунктов благодаря улучшению гуманитарной ситуации из лагерей беженцев и временно перемещенных лиц в свои дома уже вернулось тысяч жителей восточной гуты для исключения провокаций и обеспечения безопасности местных жителей подразделениями российской военной полиции в восточной гуте восточном каламуне ярмуке эр растане и телль бисе ежедневно выставляются наблюдательные посты ведется патрулирование российской стороной предпринимаются усилия по улучшению гуманитарной ситуации и в других районах сирии только за текущий месяц центром по примирению проведена гуманитарная акция в ходе чего населению передано более тонн продовольствия бутилированной воды и предметов первой необходимости российскими военными врачами оказана медицинская помощь более мирных жителей сирийские власти совместно с российским центром по примирению продолжают работу по созданию условий для возвращения граждан в места прежнего проживания с ноября года в свои дома в провинции хомс вернулось тысяч человека в провинции дейр эз зор на восточный берег реки евфрат тысяч человека в населенные пункты восточного каламуна с апреля года возвратилось более тысяч человек в свою очередь генерал полковник сергей рудской заявил что несмотря на активную работу российского центра по примирению враждующих сторон для полного восстановления районов пострадавших в ходе боевых действий против террористических группировок в сирии и экономики страны в целом требуется помощь всего международного сообщества мы призываем оон и другие международные организации подключаться к данному процессу о шагах предпринимаемых российской стороной на данном направлении выступит представитель минобороны россии в женеве полковник юрий тарасов представитель минобороны россии в женеве полковник юрий тарасов подчеркнул что успешные мероприятия по замирению бывших зон деэскалации в восточной гуте провинциях хама и хомс привели к освобождению данных районов от экстремистов и их полному разблокированию это дает возможность оказания масштабной гуманитарной помощи населению которое долгое время находилось в изоляции и использовалось террористами в качестве живого щита российские представители в целевых группах оперативно информируют офис специального посланника генерального секретаря оон по сирии о ситуации в освобожденных районах в целях скорейшего подключения гуманитарных агентств к восстановлению мирной жизни и решению насущных проблем населения возвращающегося в свои дома как только были решены проблемы обеспечения безопасности в восточной гуте связанные с разминированием и расчисткой дорог сирийское правительство по согласованию с российской стороной дало разрешение на вход туда оценочных миссий оон так мая ооновские специалисты организации посетили районы кафер батна и сакба в ближайшее время планируется направление миссии в город дума по линии гуманитарной целевой группы обсуждается план проведения подобной работы в провинции хомс в контактах с ооновцами российские представители стараются ускорить переход международных организаций от этапа оценки ситуации к практическим шагам по оказанию помощи в ходе еженедельных заседаний проводим работу направленную на развитие интереса стран членов международной группы поддержки сирии к оказанию содействия населению освобожденных районов в настоящее время нами прорабатывается вопрос подключения международных организаций к гуманитарному разминированию на территории страны открытие в дамаске офиса службы оон по разминированию находится на завершающем этапе согласования российские представители в целевых группах по прекращению огня и гуманитарной помощи находятся в круглосуточной готовности к взаимодействию с международными агентствами в том числе по вопросам деконфликтации прохождения конвоев и оценочных миссий кроме того мы регулярно предоставляем структурам оон информацию по приоритетным направлениям оказания гуманитарной помощи в стране что способствует направлению ее в наиболее нуждающиеся районы надеемся что оон и другие международные организации не на словах а на деле подтвердят свою заинтересованность в скорейшем восстановлении территорий сирии наиболее пострадавших от террористов и возвращении их к мирной жизни в заключение генерал полковник сергей рудской отметил что в настоящее время созданы все условия для возрождения сирии как единого неделимого государства но для достижения этой цели необходимо приложить усилия не только россии но и другим членам мирового сообщества генеральный штаб вооруженных сил российской федерации внимательно отслеживает развитие ситуации на территории сирии мы продолжим информировать вас о ее изменениях минобороны брифинг рудской сирия'"
      ]
     },
     "execution_count": 6,
     "metadata": {},
     "output_type": "execute_result"
    }
   ],
   "source": [
    "import re\n",
    "\n",
    "regex = re.compile('[А-Яа-я]+')\n",
    "\n",
    "def words_only(text, regex=regex):\n",
    "    try:\n",
    "        return ' '.join(regex.findall(text))\n",
    "    except:\n",
    "        return ''\n",
    "    \n",
    "df.text = df.text.str.lower()\n",
    "df.text = df.text.apply(words_only)\n",
    "\n",
    "df.text.iloc[0]"
   ]
  },
  {
   "cell_type": "markdown",
   "id": "76784830",
   "metadata": {},
   "source": [
    "### Самые частые слова"
   ]
  },
  {
   "cell_type": "code",
   "execution_count": 7,
   "id": "56d99786",
   "metadata": {},
   "outputs": [
    {
     "name": "stdout",
     "output_type": "stream",
     "text": [
      "('в', 39552)\n",
      "('и', 29656)\n",
      "('на', 17274)\n",
      "('по', 14798)\n",
      "('с', 11919)\n",
      "('россии', 9444)\n",
      "('мвд', 6215)\n",
      "('из', 4855)\n",
      "('для', 4635)\n",
      "('а', 4117)\n"
     ]
    }
   ],
   "source": [
    "from nltk import FreqDist\n",
    "\n",
    "n_types = []\n",
    "n_tokens = []\n",
    "fd = FreqDist()\n",
    "\n",
    "for index, row in df.iterrows():\n",
    "    tokens = row['text'].split()\n",
    "    fd.update(tokens)\n",
    "    n_types.append(len(fd))\n",
    "    n_tokens.append(sum(fd.values()))\n",
    "\n",
    "for i in fd.most_common(10):\n",
    "    print(i)"
   ]
  },
  {
   "cell_type": "markdown",
   "id": "9ac01779",
   "metadata": {},
   "source": [
    "### Закон Ципфа"
   ]
  },
  {
   "cell_type": "code",
   "execution_count": 8,
   "id": "89093fc8",
   "metadata": {},
   "outputs": [
    {
     "data": {
      "image/png": "[encoded data removed]",
      "text/plain": [
       "<Figure size 432x288 with 1 Axes>"
      ]
     },
     "metadata": {
      "needs_background": "light"
     },
     "output_type": "display_data"
    }
   ],
   "source": [
    "freqs = list(fd.values())\n",
    "freqs = sorted(freqs, reverse=True)\n",
    "\n",
    "fig, ax = plt.subplots()\n",
    "ax.plot(freqs[:300], range(300))\n",
    "plt.show()"
   ]
  },
  {
   "cell_type": "markdown",
   "id": "bb416878",
   "metadata": {},
   "source": [
    "### Сегментация предложений\n",
    "\"!\",\"?\" как правило однозначны, проблемы возникают с \".\"\n",
    "Бинарный классификатор для сегментации преллодений для каждой точки \".\" лпределить, является ли она концом \n",
    "предложения или нет."
   ]
  },
  {
   "cell_type": "code",
   "execution_count": 9,
   "id": "a887b806",
   "metadata": {},
   "outputs": [
    {
     "name": "stdout",
     "output_type": "stream",
     "text": [
      "4\n",
      "Первое предложение.\n",
      "Второе предложение!\n",
      "И, наконец, третье?\n",
      "В четвертом предложении г. Москва встречается т. к. это город.\n"
     ]
    }
   ],
   "source": [
    "from nltk.tokenize import sent_tokenize\n",
    "\n",
    "text = \"Первое предложение. Второе предложение! И, наконец, третье? В четвертом предложении г. Москва встречается т. к. это город.\"\n",
    "sents = sent_tokenize(text)\n",
    "\n",
    "print(len(sents))\n",
    "print(*sents, sep='\\n')"
   ]
  },
  {
   "cell_type": "code",
   "execution_count": 10,
   "id": "5bd8d649",
   "metadata": {},
   "outputs": [
    {
     "name": "stderr",
     "output_type": "stream",
     "text": [
      "[nltk_data] Downloading package punkt to D:\\nltk_data...\n",
      "[nltk_data]   Package punkt is already up-to-date!\n"
     ]
    },
    {
     "data": {
      "text/plain": [
       "True"
      ]
     },
     "execution_count": 10,
     "metadata": {},
     "output_type": "execute_result"
    }
   ],
   "source": [
    "import nltk\n",
    "\n",
    "nltk.download('punkt')"
   ]
  },
  {
   "cell_type": "markdown",
   "id": "2cde3d50",
   "metadata": {},
   "source": [
    "### Задание 2\n",
    "\n",
    "Посчитайте количество предложений, токенов и типов из файла task2.txt, Сохраните список токенов в массив tokens."
   ]
  },
  {
   "cell_type": "code",
   "execution_count": 11,
   "id": "4113a908",
   "metadata": {},
   "outputs": [
    {
     "name": "stdout",
     "output_type": "stream",
     "text": [
      "9\n",
      "<FreqDist with 36 samples and 359 outcomes>\n"
     ]
    }
   ],
   "source": [
    "import re\n",
    "from nltk import FreqDist\n",
    "\n",
    "fd = FreqDist()\n",
    "regex = re.compile('[А-Яа-я]+')\n",
    "\n",
    "def words_only(text, regex=regex):\n",
    "    try:\n",
    "        return ' '.join(regex.findall(text))\n",
    "    except:\n",
    "        return ''\n",
    "    \n",
    "text = ' '.join([line.strip() for line in open('datasets/nlp/task2.txt', encoding='utf8')])\n",
    "tokens = words_only(text)\n",
    "sents = sent_tokenize(text)\n",
    "print(len(sents))\n",
    "d1 = nltk.FreqDist(tokens)\n",
    "print(d1)"
   ]
  },
  {
   "cell_type": "markdown",
   "id": "5d62520a",
   "metadata": {},
   "source": [
    "### Частотный анализ текста"
   ]
  },
  {
   "cell_type": "code",
   "execution_count": 12,
   "id": "1f824092",
   "metadata": {},
   "outputs": [
    {
     "data": {
      "text/plain": [
       "[(' ', 58),\n",
       " ('а', 29),\n",
       " ('е', 29),\n",
       " ('и', 24),\n",
       " ('н', 22),\n",
       " ('о', 21),\n",
       " ('с', 19),\n",
       " ('л', 16),\n",
       " ('т', 12),\n",
       " ('в', 12)]"
      ]
     },
     "execution_count": 12,
     "metadata": {},
     "output_type": "execute_result"
    }
   ],
   "source": [
    "import nltk\n",
    "\n",
    "d1 = nltk.FreqDist(tokens) # частотный словарь для текстов\n",
    "d1.most_common(10) # токен и  его количество появлений в тексте\n"
   ]
  },
  {
   "cell_type": "markdown",
   "id": "83a20578",
   "metadata": {},
   "source": [
    "## Морфологический анализ"
   ]
  },
  {
   "cell_type": "markdown",
   "id": "b2cdcc0b",
   "metadata": {},
   "source": [
    "### Задачи морфологи ческого аннализа\n",
    "\n",
    "* Разбор слов - определение нормальной формы (леммы), основы (стема) и грамматических характеристик слова\n",
    "* Синтез слова - генерация слова по заданным грамматическим характеристикам\n",
    "\n",
    "### Морфологический процессор - инструмент морфологического анализа\n",
    "* Морфологический словарь\n",
    "* Морфологический анализатор\n",
    "\n",
    "### Лемматизация\n",
    "У каждого слова есть лемма (нормальная форма)\n",
    "* кошке, кошку, кошкам, кошкой $\\implies$ кошка\n",
    "* бежал, бежит, бегу $\\implies$ бежать\n",
    "* белому, белым, белыми $\\implies$ белый"
   ]
  },
  {
   "cell_type": "code",
   "execution_count": 13,
   "id": "8223a7cc",
   "metadata": {},
   "outputs": [],
   "source": [
    "sent1 = 'Действительно, на его лице не отражалось никаких чувств – ни проблеска сочувствия не было на нем, \\\n",
    "а ведь боль просто невыносима'\n",
    "sent2 = 'У страха глаза велики .'"
   ]
  },
  {
   "cell_type": "code",
   "execution_count": 14,
   "id": "b56d8ed8",
   "metadata": {},
   "outputs": [
    {
     "name": "stdout",
     "output_type": "stream",
     "text": [
      "действительно, на он лицо не отражаться никакой чувство – ни проблеск сочувствие не быть на нем, а ведь боль просто невыносимый\n"
     ]
    }
   ],
   "source": [
    "from pymorphy2 import MorphAnalyzer\n",
    "\n",
    "m = MorphAnalyzer()\n",
    "lemma1 = [m.parse(word)[0].normal_form for word in sent1.split()]\n",
    "print(' '.join(lemma1))"
   ]
  },
  {
   "cell_type": "code",
   "execution_count": 15,
   "id": "a10886a6",
   "metadata": {},
   "outputs": [
    {
     "name": "stdout",
     "output_type": "stream",
     "text": [
      "действительно, на его лицо не отражаться никакой чувство – ни проблеск сочувствие не быть на немой, а ведь боль просто невыносимый\n",
      "\n"
     ]
    }
   ],
   "source": [
    "from pymystem3 import Mystem\n",
    "\n",
    "m  = Mystem()\n",
    "lemma2 = m.lemmatize(sent1)\n",
    "print(''.join(lemma2))"
   ]
  },
  {
   "cell_type": "markdown",
   "id": "49eb6bd7",
   "metadata": {},
   "source": [
    "### Стемминг\n",
    "Слова состоят из морфем:  $word = stem + affixes$. Стемминг позволяет отбросить аффиксы. Чаще всего используется алгоритм Портера.\n",
    "* 1-ый вид ошибки: белый, белка, белье $\\implies$  бел\n",
    "\n",
    "* 2-ой вид ошибки: трудность, трудный $\\implies$  трудност, труд \n",
    "\n",
    "* 3-ий вид ошибки: быстрый, быстрее $\\implies$  быст, побыстрее $\\implies$  побыст\n",
    "\n",
    "Алгоритм Портера состоит из 5 циклов команд, на каждом цикле – операция удаления / замены суффикса. Возможны вероятностные расширения алгоритма."
   ]
  },
  {
   "cell_type": "code",
   "execution_count": 16,
   "id": "94396bd1",
   "metadata": {},
   "outputs": [
    {
     "name": "stdout",
     "output_type": "stream",
     "text": [
      "распределен\n",
      "пристав\n",
      "сдела\n",
      "словообразован\n"
     ]
    }
   ],
   "source": [
    "from nltk.stem.snowball import RussianStemmer\n",
    "\n",
    "stemmer = RussianStemmer()\n",
    "words = ['распределение', 'приставить', 'сделала', 'словообразование']\n",
    "for w in words:\n",
    "    stem = stemmer.stem(w)\n",
    "    print(stem)"
   ]
  },
  {
   "cell_type": "markdown",
   "id": "9036e167",
   "metadata": {},
   "source": [
    "#### Разбор слова "
   ]
  },
  {
   "cell_type": "code",
   "execution_count": 17,
   "id": "79266e04",
   "metadata": {},
   "outputs": [],
   "source": [
    "word1 = 'ГАИ'"
   ]
  },
  {
   "cell_type": "code",
   "execution_count": 18,
   "id": "41f407ff",
   "metadata": {},
   "outputs": [
    {
     "data": {
      "text/plain": [
       "[Parse(word='гаи', tag=OpencorporaTag('NOUN,inan,femn,Sgtm,Fixd,Abbr,Orgn sing,nomn'), normal_form='гаи', score=0.2, methods_stack=((DictionaryAnalyzer(), 'гаи', 289, 0),)),\n",
       " Parse(word='гаи', tag=OpencorporaTag('NOUN,anim,masc,Name plur,nomn'), normal_form='гай', score=0.1, methods_stack=((DictionaryAnalyzer(), 'гаи', 42, 6),)),\n",
       " Parse(word='гаи', tag=OpencorporaTag('NOUN,inan,femn,Sgtm,Fixd,Abbr,Orgn sing,gent'), normal_form='гаи', score=0.1, methods_stack=((DictionaryAnalyzer(), 'гаи', 289, 1),)),\n",
       " Parse(word='гаи', tag=OpencorporaTag('NOUN,inan,femn,Sgtm,Fixd,Abbr,Orgn sing,datv'), normal_form='гаи', score=0.1, methods_stack=((DictionaryAnalyzer(), 'гаи', 289, 2),)),\n",
       " Parse(word='гаи', tag=OpencorporaTag('NOUN,inan,femn,Sgtm,Fixd,Abbr,Orgn sing,accs'), normal_form='гаи', score=0.1, methods_stack=((DictionaryAnalyzer(), 'гаи', 289, 3),)),\n",
       " Parse(word='гаи', tag=OpencorporaTag('NOUN,inan,femn,Sgtm,Fixd,Abbr,Orgn sing,ablt'), normal_form='гаи', score=0.1, methods_stack=((DictionaryAnalyzer(), 'гаи', 289, 4),)),\n",
       " Parse(word='гаи', tag=OpencorporaTag('NOUN,inan,femn,Sgtm,Fixd,Abbr,Orgn sing,loct'), normal_form='гаи', score=0.1, methods_stack=((DictionaryAnalyzer(), 'гаи', 289, 5),)),\n",
       " Parse(word='гаи', tag=OpencorporaTag('NOUN,inan,masc plur,nomn'), normal_form='гай', score=0.1, methods_stack=((DictionaryAnalyzer(), 'гаи', 520, 7),)),\n",
       " Parse(word='гаи', tag=OpencorporaTag('NOUN,inan,masc plur,accs'), normal_form='гай', score=0.1, methods_stack=((DictionaryAnalyzer(), 'гаи', 520, 10),))]"
      ]
     },
     "execution_count": 18,
     "metadata": {},
     "output_type": "execute_result"
    }
   ],
   "source": [
    "m = MorphAnalyzer()\n",
    "m.parse(word1)"
   ]
  },
  {
   "cell_type": "code",
   "execution_count": 19,
   "id": "3ce60ee6",
   "metadata": {},
   "outputs": [
    {
     "data": {
      "text/plain": [
       "[{'analysis': [{'lex': 'гаи',\n",
       "    'wt': 0.980514293,\n",
       "    'gr': 'S,сокр,ед,жен,неод=(пр|вин|дат|род|твор|им)'}],\n",
       "  'text': 'ГАИ'},\n",
       " {'text': '\\n'}]"
      ]
     },
     "execution_count": 19,
     "metadata": {},
     "output_type": "execute_result"
    }
   ],
   "source": [
    "m = Mystem()\n",
    "m.analyze(word1)"
   ]
  },
  {
   "cell_type": "markdown",
   "id": "8407d757",
   "metadata": {},
   "source": [
    "#### Задание 4\n",
    "Найти в списке персонажей \"Война и мир\" (task3.txt) все уникальные женские имена\n",
    "\n",
    "### Первичная обработка текста\n",
    "\n",
    "#### Удаление стоп-слов"
   ]
  },
  {
   "cell_type": "code",
   "execution_count": 20,
   "id": "ffa0b129",
   "metadata": {},
   "outputs": [
    {
     "name": "stdout",
     "output_type": "stream",
     "text": [
      "{'Элен', 'Карагина', 'Катишь', 'Дуняша', 'Марья', 'Амалия', 'Жозефа', 'Мюрата', 'Настасья', 'Толли', 'Соня', 'Пфуля', 'Рамбаля', 'Пелагея', 'Анисья', 'Аниска', 'Матрёна', 'Курагина', 'Щербинина', 'Елизавета', 'Елена', 'Аграфена', 'Анна', 'Луиза', 'Телянина', 'Алина', 'Диммлера', 'Штрауха', 'Балашева', 'Мария', 'Смольянин', 'Ольга', 'Репнина', 'Катерина', 'Прасковья', 'Наташа', 'Наталья'}\n"
     ]
    }
   ],
   "source": [
    "# m = Mystem()\n",
    "m = MorphAnalyzer()\n",
    "text = ' '.join([line.strip() for line in open('datasets/nlp/task3.txt', encoding='utf8')])\n",
    "tokens = words_only(text)\n",
    "\n",
    "#  [{'analysis': [{'lex': 'вера', 'wt': 0.6768655918, 'gr': 'S,имя,жен,од=им,ед'}], 'text': 'Вера'}, {'text': '\\n'}]\n",
    "names = set()\n",
    "prog = re.compile('[А-Я]{1}[а-я]+') # Слово с заглавной буквы\n",
    "tokens = prog.findall(text)\n",
    "lemmas = [m.parse(word)[0].normal_form for word in tokens]\n",
    "\n",
    "for word in lemmas:\n",
    "    if {'Name','femn'} in m.parse(word)[0].tag:\n",
    "        names.add(word.capitalize())\n",
    "        \n",
    "print(names)"
   ]
  },
  {
   "cell_type": "code",
   "execution_count": 21,
   "id": "395e9f71",
   "metadata": {},
   "outputs": [
    {
     "name": "stdout",
     "output_type": "stream",
     "text": [
      "['и', 'в', 'во', 'не', 'что', 'он', 'на', 'я', 'с', 'со', 'как', 'а', 'то', 'все', 'она', 'так', 'его', 'но', 'да', 'ты', 'к', 'у', 'же', 'вы', 'за', 'бы', 'по', 'только', 'ее', 'мне', 'было', 'вот', 'от', 'меня', 'еще', 'нет', 'о', 'из', 'ему', 'теперь', 'когда', 'даже', 'ну', 'вдруг', 'ли', 'если', 'уже', 'или', 'ни', 'быть', 'был', 'него', 'до', 'вас', 'нибудь', 'опять', 'уж', 'вам', 'ведь', 'там', 'потом', 'себя', 'ничего', 'ей', 'может', 'они', 'тут', 'где', 'есть', 'надо', 'ней', 'для', 'мы', 'тебя', 'их', 'чем', 'была', 'сам', 'чтоб', 'без', 'будто', 'чего', 'раз', 'тоже', 'себе', 'под', 'будет', 'ж', 'тогда', 'кто', 'этот', 'того', 'потому', 'этого', 'какой', 'совсем', 'ним', 'здесь', 'этом', 'один', 'почти', 'мой', 'тем', 'чтобы', 'нее', 'сейчас', 'были', 'куда', 'зачем', 'всех', 'никогда', 'можно', 'при', 'наконец', 'два', 'об', 'другой', 'хоть', 'после', 'над', 'больше', 'тот', 'через', 'эти', 'нас', 'про', 'всего', 'них', 'какая', 'много', 'разве', 'три', 'эту', 'моя', 'впрочем', 'хорошо', 'свою', 'этой', 'перед', 'иногда', 'лучше', 'чуть', 'том', 'нельзя', 'такой', 'им', 'более', 'всегда', 'конечно', 'всю', 'между']\n"
     ]
    }
   ],
   "source": [
    "from nltk.corpus import stopwords\n",
    "\n",
    "print(stopwords.words('Russian'))"
   ]
  },
  {
   "cell_type": "code",
   "execution_count": 22,
   "id": "50538d6a",
   "metadata": {},
   "outputs": [],
   "source": [
    "mystopwords = stopwords.words('russian') + ['это', 'наш' , 'тыс', 'млн', 'млрд', 'также',  'т', 'д']\n",
    "def remove_stopwords(text, mystopwords=mystopwords):\n",
    "    try:\n",
    "        return ' '.join([token for token in text.split() if token in mystopwords])\n",
    "    except:\n",
    "        return ''"
   ]
  },
  {
   "cell_type": "code",
   "execution_count": 23,
   "id": "95eecd6c",
   "metadata": {},
   "outputs": [],
   "source": [
    "import nltk\n",
    "\n",
    "w_tokenizer = nltk.tokenize.WhitespaceTokenizer()\n",
    "lemmatizer = nltk.stem.WordNetLemmatizer()\n",
    "\n",
    "def lemmatize(text):\n",
    "    return [lemmatizer.lemmatize(w) for w in w_tokenizer.tokenize(text)]"
   ]
  },
  {
   "cell_type": "code",
   "execution_count": 24,
   "id": "f6be27aa",
   "metadata": {},
   "outputs": [],
   "source": [
    "mystoplemmas = ['который','прошлый','сей', 'свой', 'наш', 'мочь']\n",
    "def remove_stoplemmas(text, mystoplemmas=mystoplemmas):\n",
    "    try:\n",
    "        return \" \".join([token for token in text.split() if not token in mystoplemmas])\n",
    "    except:\n",
    "        return \"\"\n"
   ]
  },
  {
   "cell_type": "code",
   "execution_count": 25,
   "id": "a96fd284",
   "metadata": {},
   "outputs": [
    {
     "name": "stderr",
     "output_type": "stream",
     "text": [
      "100%|███████████████████████████████████████████████████████████████████████| 11625/11625 [00:00<00:00, 1454227.21it/s]\n",
      "100%|███████████████████████████████████████████████████████████████████████| 11625/11625 [00:00<00:00, 1661910.22it/s]\n",
      "100%|███████████████████████████████████████████████████████████████████████| 11625/11625 [00:00<00:00, 1454270.58it/s]\n"
     ]
    }
   ],
   "source": [
    "from tqdm import tqdm\n",
    "df.text = tqdm(df.text.apply(remove_stopwords))\n",
    "df.text = tqdm(df.text.apply(lemmatize))\n",
    "df.text = tqdm(df.text.apply(remove_stoplemmas))"
   ]
  },
  {
   "cell_type": "code",
   "execution_count": 26,
   "id": "67e84337",
   "metadata": {},
   "outputs": [
    {
     "data": {
      "text/plain": [
       "0         \n",
       "1         \n",
       "2         \n",
       "3         \n",
       "4         \n",
       "        ..\n",
       "11620     \n",
       "11621     \n",
       "11622     \n",
       "11623     \n",
       "11624     \n",
       "Name: text, Length: 11625, dtype: object"
      ]
     },
     "execution_count": 26,
     "metadata": {},
     "output_type": "execute_result"
    }
   ],
   "source": [
    "df.text"
   ]
  },
  {
   "cell_type": "code",
   "execution_count": 27,
   "id": "7e9dbba0",
   "metadata": {},
   "outputs": [],
   "source": [
    "lemmata = []\n",
    "for index, row in df.iterrows():\n",
    "    lemmata += row['text'].split()\n",
    "\n",
    "fd = FreqDist(lemmata)\n",
    "for i in fd.most_common(10):\n",
    "    print(i)"
   ]
  }
 ],
 "metadata": {
  "kernelspec": {
   "display_name": "Python 3 (ipykernel)",
   "language": "python",
   "name": "python3"
  },
  "language_info": {
   "codemirror_mode": {
    "name": "ipython",
    "version": 3
   },
   "file_extension": ".py",
   "mimetype": "text/x-python",
   "name": "python",
   "nbconvert_exporter": "python",
   "pygments_lexer": "ipython3",
   "version": "3.8.8"
  },
  "toc": {
   "base_numbering": 1,
   "nav_menu": {},
   "number_sections": false,
   "sideBar": true,
   "skip_h1_title": false,
   "title_cell": "Table of Contents",
   "title_sidebar": "Contents",
   "toc_cell": false,
   "toc_position": {},
   "toc_section_display": true,
   "toc_window_display": false
  }
 },
 "nbformat": 4,
 "nbformat_minor": 5
}
