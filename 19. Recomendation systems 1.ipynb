{
 "cells": [
  {
   "cell_type": "code",
   "execution_count": null,
   "id": "606760f7",
   "metadata": {},
   "outputs": [],
   "source": [
    "%matplotlib inline\n",
    "import matplotlib.pyplot as plt\n",
    "import seaborn as sns\n",
    "import pandas as pd"
   ]
  },
  {
   "cell_type": "code",
   "execution_count": null,
   "id": "cd68e2d5",
   "metadata": {},
   "outputs": [],
   "source": [
    "DATA_DIR = 'datasets/ml-data/'"
   ]
  },
  {
   "cell_type": "code",
   "execution_count": null,
   "id": "06e6dc25",
   "metadata": {},
   "outputs": [],
   "source": [
    "df = pd.read_csv(DATA_DIR + 'ratings.csv')"
   ]
  },
  {
   "cell_type": "code",
   "execution_count": null,
   "id": "8b24e655",
   "metadata": {},
   "outputs": [],
   "source": [
    "df.head()"
   ]
  },
  {
   "cell_type": "code",
   "execution_count": null,
   "id": "4129626b",
   "metadata": {},
   "outputs": [],
   "source": [
    "from pyspark.sql import SparkSession\n",
    "\n",
    "spark = (\n",
    "    SparkSession\n",
    "    .builder\n",
    "    .config('spark.driver.memory', '8G')\n",
    "    .config('spark.sql.analyzer.failAmbiguousSelfJoin', 'False')\n",
    "    .master(\"local[*]\")\n",
    "    .getOrCreate()\n",
    ")"
   ]
  },
  {
   "cell_type": "code",
   "execution_count": null,
   "id": "176297ea",
   "metadata": {},
   "outputs": [],
   "source": [
    "# считываем данные из CSV\n",
    "# и преобразуем времяпроставления оценки из целого числа в дату мл временем\n",
    "import os\n",
    "import pyspark.sql.functions as sql_func\n",
    "\n",
    "ratings = (\n",
    "    spark\n",
    "    .read\n",
    "    .csv(\n",
    "        os.path.join(DATA_DIR, 'ratings.csv'),\n",
    "        header=True,\n",
    "        inferSchema=True\n",
    "    )\n",
    "    # если используется меньше памяти,\n",
    "    # то здесь можно взять не все данные, а небольшую выборку\n",
    "    # даже при fraction=.01 качественная картина не меняеся\n",
    "    .sample(withReplacement=False, fraction=1.0, seed=0)\n",
    "    .withColumn('rating_datetime', sql_func.from_unixtime('timestamp'))\n",
    "    .drop('timestamp')\n",
    "    .cache()\n",
    ")"
   ]
  },
  {
   "cell_type": "code",
   "execution_count": null,
   "id": "4d1a93bb",
   "metadata": {},
   "outputs": [],
   "source": [
    "ratings.show()"
   ]
  },
  {
   "cell_type": "code",
   "execution_count": null,
   "id": "08e743b0",
   "metadata": {},
   "outputs": [],
   "source": [
    "# оцениваем размеры данных\n",
    "print('всего пользователей', ratings.select('userId').distinct().count())\n",
    "print('всего фильмов', ratings.select('movieId').distinct().count())\n",
    "print('всего оценок', ratings.count())"
   ]
  },
  {
   "cell_type": "code",
   "execution_count": null,
   "id": "92145be8",
   "metadata": {},
   "outputs": [],
   "source": [
    "# достаточно хорошим baseline является пердсказать среднюю оценку\n",
    "mean_rating = ratings.agg(sql_func.avg('rating')).first()[0]\n",
    "print('Средняя оценка:', mean_rating)"
   ]
  },
  {
   "cell_type": "code",
   "execution_count": null,
   "id": "86daa031",
   "metadata": {},
   "outputs": [],
   "source": [
    "# Функция, с помощью которой мы будем вычислять RMSE на обучающей выборке\n",
    "from pyspark.sql import DataFrame\n",
    "import numpy as np\n",
    "\n",
    "def simple_evaluate(predictions_df: DataFrame) -> float:\n",
    "    return np.sqrt(\n",
    "        ratings\n",
    "        .join(\n",
    "            predictions_df,\n",
    "            ['movieId', 'userId']\n",
    "        ).select(\n",
    "            sql_func.pow(\n",
    "                ratings.rating - predictions_df.prediction,\n",
    "                2\n",
    "            ).alias('squared_error')\n",
    "        )\n",
    "        .agg(sql_func.avg('squared_error'))\n",
    "        .first()[0]\n",
    "    )"
   ]
  },
  {
   "cell_type": "code",
   "execution_count": null,
   "id": "439587bd",
   "metadata": {},
   "outputs": [],
   "source": [
    "# рекомендуем любому пользователю любой фильм случайно\n",
    "mean_predictions = ratings.withColumn('prediction', sql_func.lit(mean_rating))\n",
    "print('Ошибка предсказания:', simple_evaluate(mean_predictions))"
   ]
  },
  {
   "cell_type": "code",
   "execution_count": null,
   "id": "265fb8ba",
   "metadata": {},
   "outputs": [],
   "source": [
    "# посмотрим на распределение срудних оценок фильмов\n",
    "movie_ratings = (\n",
    "    ratings\n",
    "    .groupBy('movieId')\n",
    "    .agg(sql_func.avg('rating').alias('avg_movie_rating'))\n",
    "    .cache()\n",
    ")"
   ]
  },
  {
   "cell_type": "code",
   "execution_count": null,
   "id": "ba527483",
   "metadata": {},
   "outputs": [],
   "source": [
    "# фильм бывает более или менее популярным - выбросы есть в обе стороны,\n",
    "# но \"средних\" фильмов все-таки большинство\n",
    "histogram = (\n",
    "    movie_ratings\n",
    "    .select((.5 * sql_func.ceil(2 * sql_func.col('avg_movie_rating')))\n",
    "            .alias('avg_movie_rating'))\n",
    "    .groupBy('avg_movie_rating')\n",
    "    .agg(sql_func.count('avg_movie_rating').alias('cnt'))\n",
    "    .orderBy('avg_movie_rating')\n",
    "    .toPandas()\n",
    ")\n",
    "sns.set()\n",
    "histogram.plot(x='avg_movie_rating', y='cnt')\n",
    "plt.show()"
   ]
  },
  {
   "cell_type": "code",
   "execution_count": null,
   "id": "d1413374",
   "metadata": {},
   "outputs": [],
   "source": [
    "# Рекомендуем наиболее популярные фильмы\n",
    "avg_movie_rating_predictions = (\n",
    "    ratings\n",
    "    .join(movie_ratings, 'movieId')\n",
    "    .select(\n",
    "        ratings.movieId,\n",
    "        ratings.userId,\n",
    "        ratings.rating,\n",
    "        movie_ratings.avg_movie_rating.alias('prediction')\n",
    "    )\n",
    ")\n",
    "print('ошибка предсказания', simple_evaluate(avg_movie_rating_predictions))"
   ]
  },
  {
   "cell_type": "code",
   "execution_count": null,
   "id": "77503bd7",
   "metadata": {},
   "outputs": [],
   "source": [
    "# у разных пользователей разные распределение оценок\n",
    "# кто-то более придирчив, а кто-то всем ставить пятерки\n",
    "user_ratings = (\n",
    "    ratings\n",
    "    .groupBy('userId')\n",
    "    .agg(sql_func.avg('rating').alias('avg_user_rating'))\n",
    "    .cache()\n",
    ")"
   ]
  },
  {
   "cell_type": "code",
   "execution_count": null,
   "id": "7facba72",
   "metadata": {},
   "outputs": [],
   "source": [
    "# фильм бывает более или менее популярным - выбросы есть в обе стороны,\n",
    "# но \"средних\" фильмов все-таки большинство\n",
    "histogram = (\n",
    "    user_ratings\n",
    "    .select((.5 * sql_func.ceil(2 * sql_func.col('avg_user_rating')))\n",
    "            .alias('avg_user_rating'))\n",
    "    .groupBy('avg_user_rating')\n",
    "    .agg(sql_func.count('avg_user_rating').alias('cnt'))\n",
    "    .orderBy('avg_user_rating')\n",
    "    .toPandas()\n",
    ")\n",
    "sns.set()\n",
    "histogram.plot(x='avg_user_rating', y='cnt')\n",
    "plt.show()"
   ]
  },
  {
   "cell_type": "code",
   "execution_count": null,
   "id": "cf7e2db6",
   "metadata": {},
   "outputs": [],
   "source": [
    "# а может не полусумму, а подберем коэффициенты \n",
    "# с помощью линейной регрессии\n",
    "from pyspark.ml.feature import VectorAssembler\n",
    "from pyspark.ml.regression import LinearRegression\n",
    "\n",
    "train = (\n",
    "    VectorAssembler(\n",
    "        inputCols = ['avg_movie_rating', 'avg_user_rating'],\n",
    "        outputCol = 'features'\n",
    "    ).transform(\n",
    "        ratings\n",
    "        .join(movie_ratings, 'movieId')\n",
    "        .join(user_ratings, 'userId')\n",
    "    )\n",
    "    .withColumnRenamed('rating', 'label')\n",
    "    .select('movieId', 'userId', 'label', 'features')\n",
    "    .cache()\n",
    ")\n",
    "linear_model = LinearRegression().fit(train)\n",
    "stacked_prediction = (\n",
    "    ratings\n",
    "    .join(linear_model.transform(train), ['movieId', 'userId'])\n",
    "    .select('movieId', 'userId', 'prediction')\n",
    ")\n",
    "print('ошибка предсказания:', simple_evaluate(stacked_prediction))"
   ]
  },
  {
   "cell_type": "code",
   "execution_count": null,
   "id": "cced59d5",
   "metadata": {},
   "outputs": [],
   "source": [
    "# получаем формулу для предсказания оценки, которую можно использовать для рекомендаций\n",
    "print(\n",
    "    '[на сколько пользователь оценит фильм] = {} + {} * [средняя оценка фильма] + {} * [средняя оценка из поставленных этим пользователем]'\n",
    "    .format(\n",
    "        round(linear_model.intercept, 2),\n",
    "        round(linear_model.coefficients[0], 2),\n",
    "        round(linear_model.coefficients[1], 2)\n",
    "    )\n",
    "    )    "
   ]
  },
  {
   "cell_type": "code",
   "execution_count": null,
   "id": "08aeb511",
   "metadata": {},
   "outputs": [],
   "source": []
  }
 ],
 "metadata": {
  "kernelspec": {
   "display_name": "Python 3",
   "language": "python",
   "name": "python3"
  },
  "language_info": {
   "codemirror_mode": {
    "name": "ipython",
    "version": 3
   },
   "file_extension": ".py",
   "mimetype": "text/x-python",
   "name": "python",
   "nbconvert_exporter": "python",
   "pygments_lexer": "ipython3",
   "version": "3.8.8"
  },
  "toc": {
   "base_numbering": 1,
   "nav_menu": {},
   "number_sections": true,
   "sideBar": true,
   "skip_h1_title": false,
   "title_cell": "Table of Contents",
   "title_sidebar": "Contents",
   "toc_cell": false,
   "toc_position": {},
   "toc_section_display": true,
   "toc_window_display": false
  }
 },
 "nbformat": 4,
 "nbformat_minor": 5
}
