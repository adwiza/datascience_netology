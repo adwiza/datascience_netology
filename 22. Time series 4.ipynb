{
 "cells": [
  {
   "cell_type": "markdown",
   "id": "73725415",
   "metadata": {},
   "source": [
    "# Оценка матрицы переходных вероятностей"
   ]
  },
  {
   "cell_type": "code",
   "execution_count": 3,
   "id": "9f0f4179",
   "metadata": {},
   "outputs": [],
   "source": [
    "import numpy as np\n",
    "import re\n",
    "import matplotlib.pyplot as plt\n",
    "import seaborn as sns\n",
    "import pandas as pd\n",
    "%matplotlib inline\n",
    "sns.set()"
   ]
  },
  {
   "cell_type": "code",
   "execution_count": 4,
   "id": "ff56ee47",
   "metadata": {},
   "outputs": [],
   "source": [
    "# with open('data/materials/alice_en.txt', 'r') as f:\n",
    "#     text = f.read().lower()\n",
    "# text = re.sub('[^a-z]', '', text)"
   ]
  },
  {
   "cell_type": "code",
   "execution_count": 5,
   "id": "081c05a3",
   "metadata": {},
   "outputs": [],
   "source": [
    "with open('data/materials/alice_en.txt', 'r', encoding='koi8-r') as f:\n",
    "    text = f.read().lower()\n",
    "text = re.sub('[^a-z]', '', text)"
   ]
  },
  {
   "cell_type": "code",
   "execution_count": 6,
   "id": "68efd3ea",
   "metadata": {},
   "outputs": [
    {
     "data": {
      "text/plain": [
       "'projectgutenbergsali'"
      ]
     },
     "execution_count": 6,
     "metadata": {},
     "output_type": "execute_result"
    }
   ],
   "source": [
    "text[:20]"
   ]
  },
  {
   "cell_type": "code",
   "execution_count": 7,
   "id": "7b182965",
   "metadata": {},
   "outputs": [],
   "source": [
    "ENGLISH = 'abcdefghijklmnopqrstuvwxyz'\n",
    "# RUSSIAN = 'абвгдежзийклмнопрстуфхцчшщъыьэюя'\n",
    "POS = {l: i for i, l in enumerate(ENGLISH)}\n",
    "#POS = {l: i for i, l in enumerate(RUSSIAN)}"
   ]
  },
  {
   "cell_type": "code",
   "execution_count": 8,
   "id": "023e3701",
   "metadata": {},
   "outputs": [],
   "source": [
    "probabilities = np.zeros((len(ENGLISH), len(ENGLISH)))\n",
    "#probabilities = np.zeros((len(RUSSIAN), len(RUSSIAN)))"
   ]
  },
  {
   "cell_type": "code",
   "execution_count": 9,
   "id": "94c3bd79",
   "metadata": {},
   "outputs": [],
   "source": [
    "for cp, cn in zip(text[:-1], text[1:]):\n",
    "    probabilities[POS[cp], POS[cn]] += 1"
   ]
  },
  {
   "cell_type": "code",
   "execution_count": 10,
   "id": "45a0ebfc",
   "metadata": {},
   "outputs": [],
   "source": [
    "probabilities = (probabilities / probabilities.sum(axis=1)[:, None])"
   ]
  },
  {
   "cell_type": "code",
   "execution_count": 11,
   "id": "7341e6f5",
   "metadata": {},
   "outputs": [],
   "source": [
    "df = pd.DataFrame(probabilities, index=(c for c in ENGLISH), columns=(c for c in ENGLISH))\n",
    "#df = pd.DataFrame(probabilities, index=(c for c in RUSSIAN), columns=(c for c in RUSSIAN))"
   ]
  },
  {
   "cell_type": "code",
   "execution_count": 12,
   "id": "73dd6a2a",
   "metadata": {},
   "outputs": [
    {
     "data": {
      "image/png": "[encoded data removed]",
      "text/plain": [
       "<Figure size 1400x800 with 2 Axes>"
      ]
     },
     "metadata": {},
     "output_type": "display_data"
    }
   ],
   "source": [
    "plt.figure(figsize=(14, 8))\n",
    "sns.heatmap(df)\n",
    "plt.show()"
   ]
  },
  {
   "cell_type": "markdown",
   "id": "7c2d3300",
   "metadata": {},
   "source": [
    "# Траектория в цепи"
   ]
  },
  {
   "cell_type": "markdown",
   "id": "65b0503e",
   "metadata": {},
   "source": [
    "Теперь вопрос: допустим, что у нас есть какая-то траектория (последовательность состояний). Какова её вероятность? Ответ на этот вопрос даст одна простая теорема.\n",
    "\n",
    "**Теорема о состояниях марковской цепи**\n",
    "\n",
    "Для любого натурального $n$ и любых $i_0,i_1,…,i_{n−1},i,j$\n",
    "\n",
    "$P(X_0=i_0,X_1=i_1,…,X_n=i_n)=α_{i_0}p_{i_0i_1}…p{i_{n−1}i_n}.$\n",
    "\n",
    "Пример: Пусть вероятность начального состояния цепи для букв английского алфавита равна $\\dfrac{1}{26}$.\n",
    "Чему равна вероятность наблюдать строку \"hello\"?"
   ]
  },
  {
   "cell_type": "code",
   "execution_count": 13,
   "id": "2490be71",
   "metadata": {},
   "outputs": [
    {
     "name": "stdout",
     "output_type": "stream",
     "text": [
      "5.348363016330027e-07\n"
     ]
    }
   ],
   "source": [
    "string = \"hello\"\n",
    "proba = 1.0 / 26\n",
    "for cp, cn in zip(string[1:], string[:-1]):\n",
    "    proba *= probabilities[POS[cp], POS[cn]]\n",
    "print(proba)"
   ]
  },
  {
   "cell_type": "markdown",
   "id": "71bd5c29",
   "metadata": {},
   "source": [
    "**Следствие.** Для любого натурального $n$ и любого $i_n \\in E$\n",
    "\n",
    "$P(X_n=i_n) = \\sum \\limits_{i_0,…,i_{n−1} \\in E} \\alpha i_0p_{i_0i_1}…p_{i_{n−1}i_n}$.\n",
    "\n",
    "Но обычно нас не интересует полный путь, а лишь начало и конец. Поэтому вводят вероятность перейти из состояния $i$ в состояние $j$ за $n$ шагов:\n",
    "\n",
    "$p_{ij}^{(n)}=P(X_n=j|X_0=i)$\n",
    "\n",
    "Чему равна эта вероятность?\n",
    "\n",
    "$P(X_n=j|X_0=i)=\\dfrac{P(X_n=j,X_0=i)}{P(X_0=i)}=\\sum \\limits_{i_0,…,i_{n−1} \\in E} \\dfrac{P(X_0=i, X_1=i_1,...,X_{n-1}=i_{n-1}, X_n = j)}{P(X_0=i)}=\\sum \\limits_{i_0,…,i_{n−1} \\in E} p_{ii_1}...p_{i_{n-1}j}$\n",
    "\n",
    "Если мы посмотрим на случай $n=2$, то полученное выражение очень похоже на скалярное произведение строк матрицы переходной вероятности. Оказывается, что это не так уж и далеко от истины."
   ]
  },
  {
   "cell_type": "code",
   "execution_count": 14,
   "id": "cc86be15",
   "metadata": {},
   "outputs": [
    {
     "name": "stdout",
     "output_type": "stream",
     "text": [
      "hay 0.00019786241179454468\n",
      "hby 3.2498131357446945e-06\n",
      "hcy 2.5963886570530186e-07\n",
      "hdy 2.00246712505073e-06\n",
      "hey 0.00041670464060019366\n",
      "hfy 2.4496387427496224e-06\n",
      "hgy 2.2022341052346015e-07\n",
      "hhy 3.0694052582470812e-06\n",
      "hky 1.0202901705244971e-07\n",
      "hly 6.987940162352581e-06\n",
      "hmy 4.054691865351508e-06\n",
      "hny 1.0187698076726042e-06\n",
      "hoy 2.0758961455728112e-05\n",
      "hpy 2.095534994542692e-06\n",
      "hry 2.9097918521227684e-05\n",
      "hsy 2.6301624264116166e-06\n",
      "hty 2.5534949950507335e-05\n",
      "huy 2.316043298098595e-07\n",
      "hvy 3.0372085380791536e-08\n",
      "hwy 6.902550257831721e-07\n",
      "hyy 4.816238159185105e-06\n"
     ]
    }
   ],
   "source": [
    "start = POS['h']\n",
    "end = POS['y']\n",
    "prior = 1. / len(ENGLISH)\n",
    "for c in ENGLISH:\n",
    "    proba = prior * probabilities[start, POS[c]] * probabilities[POS[c], end]\n",
    "    if proba > 0:\n",
    "        print(''.join(['h', c, 'y']), proba)"
   ]
  },
  {
   "cell_type": "code",
   "execution_count": null,
   "id": "0881b659",
   "metadata": {},
   "outputs": [],
   "source": []
  },
  {
   "cell_type": "code",
   "execution_count": null,
   "id": "b99dbe52",
   "metadata": {},
   "outputs": [],
   "source": []
  }
 ],
 "metadata": {
  "kernelspec": {
   "display_name": "Python 3 (ipykernel)",
   "language": "python",
   "name": "python3"
  },
  "language_info": {
   "codemirror_mode": {
    "name": "ipython",
    "version": 3
   },
   "file_extension": ".py",
   "mimetype": "text/x-python",
   "name": "python",
   "nbconvert_exporter": "python",
   "pygments_lexer": "ipython3",
   "version": "3.10.8"
  }
 },
 "nbformat": 4,
 "nbformat_minor": 5
}
