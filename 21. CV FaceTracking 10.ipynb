{
 "cells": [
  {
   "cell_type": "markdown",
   "id": "a3a58408",
   "metadata": {},
   "source": [
    "# Пример работы трекера лица по видео с веб камеры\n",
    "\n",
    "для корректной работы примера необходимо установить opencv-contrib: pip install --upgrade opencv-python opencv-contrib-python"
   ]
  },
  {
   "cell_type": "code",
   "execution_count": 1,
   "id": "69ae8622",
   "metadata": {},
   "outputs": [],
   "source": [
    "import cv2"
   ]
  },
  {
   "cell_type": "markdown",
   "id": "10cde97a",
   "metadata": {},
   "source": [
    "# Загружает предобученную модель детектора лица"
   ]
  },
  {
   "cell_type": "code",
   "execution_count": 2,
   "id": "92be878b",
   "metadata": {},
   "outputs": [],
   "source": [
    "face_cascade = cv2.CascadeClassifier(\n",
    "    'data/haarcascade_frontalface_default.xml'\n",
    ")"
   ]
  },
  {
   "cell_type": "markdown",
   "id": "b9d68a06",
   "metadata": {},
   "source": [
    "# Запускаем процесс обработки видеопотока"
   ]
  },
  {
   "cell_type": "code",
   "execution_count": 3,
   "id": "c5a42140",
   "metadata": {
    "code_folding": []
   },
   "outputs": [],
   "source": [
    "camera = cv2.VideoCapture(0)\n",
    "kcf_tracker = None # объект трекера инициаоизируется при первой детекции лица\n",
    "\n",
    "while(1):\n",
    "    ret, frame = camera.read()\n",
    "    # frame = cv2.bilateralFilter(frame, 5, 50, 100)\n",
    "    frame = cv2.flip(frame, 1)\n",
    "    \n",
    "    kcf_tracker_box = None # результат работы трекера\n",
    "    \n",
    "    if kcf_tracker is not None:\n",
    "        # обновляем трекер и получаем результат трекинга\n",
    "        ok, box = kcf_tracker.update(frame)\n",
    "        # сохраняем результаты трекинга\n",
    "        if ok:\n",
    "            kcf_tracker_box = box\n",
    "            \n",
    "    # преобразцем изображение в черно-белый формат\n",
    "    gray = cv2.cvtColor(frame, cv2.COLOR_BGR2GRAY)\n",
    "    \n",
    "    # запускаем детектор лиц\n",
    "    faces = face_cascade.detectMultiScale(gray, 1.3, 3)\n",
    "    \n",
    "    # инициализируем трекер первой детекцией \n",
    "    if len(faces) != 0 and kcf_tracker is None:\n",
    "        kcf_tracker = cv2.TrackerKCF_create()\n",
    "        (x,y,w,h) = faces[0]\n",
    "        kcf_tracker.init(frame, (x, y,w,h))\n",
    "        \n",
    "    for (x,y,w,h) in faces:\n",
    "        # отрисовываем детекцию лиц\n",
    "        cv2.rectangle(frame, (x,y), (x+w,y+h), (255, 0, 0), 2)\n",
    "        \n",
    "    # отрисовываем результат трекера\n",
    "    if kcf_tracker_box is not None:\n",
    "        (x, y, w, h) = map(int, kcf_tracker_box)\n",
    "        cv2.rectangle(frame, (x, y), (x+w, y+h), (0, 0, 255), 2)\n",
    "    \n",
    "    cv2.imshow('Track example', frame)\n",
    "    interrupt = cv2.waitKey(10)\n",
    "    \n",
    "    # выход по нажатию клавиши q\n",
    "    if interrupt & 0xFF == ord('q'):\n",
    "        break\n",
    "camera.release()\n",
    "cv2.destroyAllWindows()"
   ]
  },
  {
   "cell_type": "code",
   "execution_count": null,
   "id": "83681060",
   "metadata": {},
   "outputs": [],
   "source": []
  }
 ],
 "metadata": {
  "kernelspec": {
   "display_name": "Python 3 (ipykernel)",
   "language": "python",
   "name": "python3"
  },
  "language_info": {
   "codemirror_mode": {
    "name": "ipython",
    "version": 3
   },
   "file_extension": ".py",
   "mimetype": "text/x-python",
   "name": "python",
   "nbconvert_exporter": "python",
   "pygments_lexer": "ipython3",
   "version": "3.9.12"
  },
  "toc": {
   "base_numbering": 1,
   "nav_menu": {},
   "number_sections": true,
   "sideBar": true,
   "skip_h1_title": false,
   "title_cell": "Table of Contents",
   "title_sidebar": "Contents",
   "toc_cell": false,
   "toc_position": {},
   "toc_section_display": true,
   "toc_window_display": false
  }
 },
 "nbformat": 4,
 "nbformat_minor": 5
}
