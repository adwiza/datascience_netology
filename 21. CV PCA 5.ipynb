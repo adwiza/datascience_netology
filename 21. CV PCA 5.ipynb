{
 "cells": [
  {
   "cell_type": "markdown",
   "id": "de62c42e",
   "metadata": {},
   "source": [
    "# Пример понижения размерности с помощью PCA"
   ]
  },
  {
   "cell_type": "code",
   "execution_count": 1,
   "id": "4c86248f",
   "metadata": {},
   "outputs": [],
   "source": [
    "import numpy as np"
   ]
  },
  {
   "cell_type": "code",
   "execution_count": 2,
   "id": "3e6edd82",
   "metadata": {},
   "outputs": [],
   "source": [
    "train = np.loadtxt('data/digit/train.csv', delimiter=',', skiprows=1)"
   ]
  },
  {
   "cell_type": "code",
   "execution_count": 3,
   "id": "23c4925f",
   "metadata": {},
   "outputs": [],
   "source": [
    "# Сохраняем разметку в отдельную переменную\n",
    "train_label = train[:, 0]\n",
    "# приводим размерность к удобному для обработки виду\n",
    "train_img = np.reshape(train[:, 1:], (len(train[:, 1:]), 28, 28))"
   ]
  },
  {
   "cell_type": "code",
   "execution_count": 5,
   "id": "08f6f8ce",
   "metadata": {},
   "outputs": [
    {
     "data": {
      "image/png": "[encoded data removed]",
      "text/plain": [
       "<Figure size 1440x720 with 5 Axes>"
      ]
     },
     "metadata": {
      "needs_background": "light"
     },
     "output_type": "display_data"
    }
   ],
   "source": [
    "%matplotlib inline\n",
    "from matplotlib import pyplot as plt\n",
    "fig = plt.figure(figsize=(20, 10))\n",
    "for i, img in enumerate(train_img[0:5], 1):\n",
    "    subplot = fig.add_subplot(1, 7, i)\n",
    "    plt.imshow(img, cmap='gray');\n",
    "    subplot.set_title('%s' % train_label[i - 1])"
   ]
  },
  {
   "cell_type": "code",
   "execution_count": 11,
   "id": "a86bf4e6",
   "metadata": {},
   "outputs": [
    {
     "data": {
      "text/plain": [
       "(42000, 28, 28)"
      ]
     },
     "execution_count": 11,
     "metadata": {},
     "output_type": "execute_result"
    }
   ],
   "source": [
    "train_img.shape"
   ]
  },
  {
   "cell_type": "code",
   "execution_count": 6,
   "id": "12c26fd2",
   "metadata": {},
   "outputs": [],
   "source": [
    "# выбираем данные для обработки\n",
    "choices = np.random.choice(train_img.shape[0], 10000)\n",
    "\n",
    "y = train_label[choices]\n",
    "X = train_img[choices].reshape(-1, 28 * 28).astype(np.float32)"
   ]
  },
  {
   "cell_type": "code",
   "execution_count": 12,
   "id": "dc57eb96",
   "metadata": {},
   "outputs": [
    {
     "data": {
      "text/plain": [
       "(10000, 784)"
      ]
     },
     "execution_count": 12,
     "metadata": {},
     "output_type": "execute_result"
    }
   ],
   "source": [
    "X.shape"
   ]
  },
  {
   "cell_type": "code",
   "execution_count": 8,
   "id": "b3a530a3",
   "metadata": {},
   "outputs": [],
   "source": [
    "# центрируем данные\n",
    "X_mean = X.mean(axis=0)\n",
    "X -= X_mean"
   ]
  },
  {
   "cell_type": "code",
   "execution_count": 13,
   "id": "4d738c02",
   "metadata": {},
   "outputs": [
    {
     "data": {
      "text/plain": [
       "(784,)"
      ]
     },
     "execution_count": 13,
     "metadata": {},
     "output_type": "execute_result"
    }
   ],
   "source": [
    "X_mean.shape"
   ]
  },
  {
   "cell_type": "code",
   "execution_count": 9,
   "id": "f578fd82",
   "metadata": {},
   "outputs": [],
   "source": [
    "# матрица ковариации признаков\n",
    "cov = np.dot(X.T, X) / X.shape[0]"
   ]
  },
  {
   "cell_type": "code",
   "execution_count": 14,
   "id": "057292a5",
   "metadata": {},
   "outputs": [
    {
     "data": {
      "text/plain": [
       "(784, 784)"
      ]
     },
     "execution_count": 14,
     "metadata": {},
     "output_type": "execute_result"
    }
   ],
   "source": [
    "cov.shape"
   ]
  },
  {
   "cell_type": "code",
   "execution_count": 10,
   "id": "ec5fd29d",
   "metadata": {},
   "outputs": [],
   "source": [
    "U, S, _ = np.linalg.svd(cov)\n",
    "# U - собственные вектора матрицы ковариации\n",
    "# S - собственные значения"
   ]
  },
  {
   "cell_type": "code",
   "execution_count": 15,
   "id": "2cacb94a",
   "metadata": {},
   "outputs": [
    {
     "data": {
      "text/plain": [
       "(784, 784)"
      ]
     },
     "execution_count": 15,
     "metadata": {},
     "output_type": "execute_result"
    }
   ],
   "source": [
    "U.shape"
   ]
  },
  {
   "cell_type": "code",
   "execution_count": 21,
   "id": "e1f89b6c",
   "metadata": {},
   "outputs": [
    {
     "data": {
      "text/plain": [
       "array([ 0.00000000e+00,  0.00000000e+00,  0.00000000e+00,  0.00000000e+00,\n",
       "        0.00000000e+00,  0.00000000e+00,  0.00000000e+00,  0.00000000e+00,\n",
       "        0.00000000e+00,  0.00000000e+00,  0.00000000e+00,  0.00000000e+00,\n",
       "        0.00000000e+00,  0.00000000e+00,  0.00000000e+00,  0.00000000e+00,\n",
       "        0.00000000e+00,  0.00000000e+00,  0.00000000e+00,  0.00000000e+00,\n",
       "        0.00000000e+00,  0.00000000e+00,  0.00000000e+00,  0.00000000e+00,\n",
       "        0.00000000e+00,  0.00000000e+00,  0.00000000e+00,  0.00000000e+00,\n",
       "        0.00000000e+00,  0.00000000e+00,  0.00000000e+00,  0.00000000e+00,\n",
       "        0.00000000e+00,  0.00000000e+00,  0.00000000e+00, -1.51990690e-07,\n",
       "        2.29250072e-05,  4.84010234e-05,  1.04245781e-04,  1.90397608e-04,\n",
       "        1.15882089e-04,  2.10670638e-04,  2.03780597e-04, -1.48413019e-05,\n",
       "       -4.78162801e-05,  1.94813965e-05, -6.06982348e-06, -2.30155729e-06,\n",
       "       -2.69903630e-05, -1.51264601e-06,  0.00000000e+00,  0.00000000e+00,\n",
       "        0.00000000e+00,  0.00000000e+00,  0.00000000e+00,  0.00000000e+00,\n",
       "        0.00000000e+00,  0.00000000e+00,  0.00000000e+00,  0.00000000e+00,\n",
       "        0.00000000e+00, -8.57617067e-07,  5.08073936e-05,  9.13373515e-05,\n",
       "        2.24959411e-04,  4.41019161e-04,  6.36058219e-04,  1.21805957e-03,\n",
       "        1.83887267e-03,  2.42568064e-03,  2.81156600e-03,  3.01526976e-03,\n",
       "        2.78064003e-03,  2.18734052e-03,  1.15500274e-03,  5.94233046e-04,\n",
       "        2.16694054e-04,  2.77106410e-05,  1.09684779e-05,  1.83197444e-05,\n",
       "        1.23177438e-06,  0.00000000e+00,  0.00000000e+00,  0.00000000e+00,\n",
       "        0.00000000e+00,  0.00000000e+00,  0.00000000e+00,  9.86172199e-06,\n",
       "        3.03732613e-05,  1.58624098e-05,  9.56883086e-05,  1.71425214e-04,\n",
       "        5.98499377e-04,  1.13415485e-03,  2.16563512e-03,  3.45895463e-03,\n",
       "        5.49554499e-03,  7.22169550e-03,  8.99152085e-03,  1.01322467e-02,\n",
       "        9.28545464e-03,  6.46926090e-03,  4.02374798e-03,  2.52912147e-03,\n",
       "        1.29239971e-03,  6.72365655e-04,  2.55033199e-04,  1.78733062e-05,\n",
       "        8.50657943e-06,  1.43993029e-05,  0.00000000e+00,  0.00000000e+00,\n",
       "        0.00000000e+00,  1.05118136e-06, -5.16881357e-07,  7.30178581e-05,\n",
       "        2.48062133e-04,  2.97356251e-04,  5.65168972e-04,  1.02401327e-03,\n",
       "        2.65818764e-03,  5.31391613e-03,  8.99469387e-03,  1.41399521e-02,\n",
       "        1.98275037e-02,  2.49412134e-02,  2.95025632e-02,  3.09323855e-02,\n",
       "        2.72192769e-02,  2.24378426e-02,  1.85519550e-02,  1.37814246e-02,\n",
       "        8.14959686e-03,  3.79642774e-03,  1.33560400e-03,  5.93252422e-04,\n",
       "        2.16599627e-04,  3.74757874e-05, -1.26105351e-05,  0.00000000e+00,\n",
       "        0.00000000e+00,  0.00000000e+00,  4.93052630e-06,  6.52270217e-07,\n",
       "        4.47261060e-04,  9.51045018e-04,  1.79476431e-03,  3.79129383e-03,\n",
       "        8.14965181e-03,  1.62356645e-02,  2.62524672e-02,  3.74463238e-02,\n",
       "        4.82305884e-02,  5.47975339e-02,  5.74464016e-02,  5.48893400e-02,\n",
       "        5.09736761e-02,  4.74221669e-02,  4.22476158e-02,  3.49005722e-02,\n",
       "        2.46983431e-02,  1.45071642e-02,  7.27108121e-03,  2.64312420e-03,\n",
       "        5.74858452e-04,  3.73964322e-05,  5.83225983e-06,  0.00000000e+00,\n",
       "        0.00000000e+00,  1.52492120e-07,  3.92465845e-05,  2.66788338e-05,\n",
       "        9.91704641e-04,  2.09668162e-03,  3.76571692e-03,  8.14549997e-03,\n",
       "        1.63560566e-02,  3.04756891e-02,  4.60600182e-02,  6.15511164e-02,\n",
       "        7.04781115e-02,  7.04747811e-02,  6.36705160e-02,  5.25028966e-02,\n",
       "        4.71094176e-02,  4.99062873e-02,  5.60660474e-02,  5.55030182e-02,\n",
       "        4.55614291e-02,  3.08328699e-02,  1.66452974e-02,  5.80902118e-03,\n",
       "        1.28720235e-03, -6.25210623e-06, -6.30961877e-05, -4.07653715e-05,\n",
       "        0.00000000e+00,  1.21993696e-06, -3.87428827e-06,  5.37083542e-05,\n",
       "        1.04296871e-03,  2.16356316e-03,  5.23009803e-03,  1.09210862e-02,\n",
       "        2.40301602e-02,  4.20462117e-02,  6.10439107e-02,  7.33838826e-02,\n",
       "        7.37055540e-02,  6.03860430e-02,  4.08723243e-02,  2.18482818e-02,\n",
       "        1.73833873e-02,  2.76252143e-02,  4.74603698e-02,  6.10476881e-02,\n",
       "        6.07069582e-02,  4.51989695e-02,  2.52202023e-02,  8.14375188e-03,\n",
       "        1.05420186e-03, -1.38593052e-04, -1.05148218e-04, -1.36037406e-05,\n",
       "        0.00000000e+00, -1.64417304e-06,  1.53767669e-05,  2.58415021e-05,\n",
       "        6.54669886e-04,  1.87777961e-03,  6.43985253e-03,  1.60250198e-02,\n",
       "        3.27842869e-02,  5.22666685e-02,  6.70927763e-02,  7.13688135e-02,\n",
       "        5.97042739e-02,  3.60995494e-02,  7.96520151e-03, -1.53302718e-02,\n",
       "       -1.88046247e-02, -2.45144661e-03,  2.87759490e-02,  5.78351803e-02,\n",
       "        6.88957945e-02,  5.53374141e-02,  3.37468870e-02,  1.20448014e-02,\n",
       "        8.89612944e-04, -6.74984301e-04, -1.25411025e-04, -2.37038460e-08,\n",
       "        0.00000000e+00, -3.19008323e-05, -4.25417711e-05, -5.70952361e-05,\n",
       "        6.26802386e-04,  3.13631096e-03,  1.05349626e-02,  2.47031599e-02,\n",
       "        4.39128019e-02,  6.42833188e-02,  7.19308481e-02,  6.65357858e-02,\n",
       "        4.37504165e-02,  1.34509103e-02, -1.94574613e-02, -4.42896634e-02,\n",
       "       -4.51172702e-02, -2.37842426e-02,  1.41744725e-02,  5.39408289e-02,\n",
       "        7.20276907e-02,  6.38822913e-02,  4.29504961e-02,  1.78631488e-02,\n",
       "        2.62946170e-03, -6.77945034e-04, -9.26912544e-05, -3.23079003e-05,\n",
       "        0.00000000e+00, -2.75584989e-06,  4.33377827e-05,  1.96207329e-04,\n",
       "        1.62894605e-03,  5.66289900e-03,  1.76875368e-02,  3.63167673e-02,\n",
       "        5.98544553e-02,  7.55186826e-02,  7.44773448e-02,  5.80340847e-02,\n",
       "        3.31810825e-02,  2.64139846e-03, -3.33926678e-02, -5.82952164e-02,\n",
       "       -5.66068813e-02, -3.21301818e-02,  8.86235293e-03,  5.30245230e-02,\n",
       "        7.45856017e-02,  6.98738396e-02,  5.16290069e-02,  2.48658620e-02,\n",
       "        5.20973280e-03, -4.11439716e-04, -7.05229104e-05, -3.81739337e-05,\n",
       "        0.00000000e+00, -6.28942416e-07,  1.19941134e-04,  3.91234586e-04,\n",
       "        2.03897362e-03,  9.41094849e-03,  2.62111668e-02,  4.98446375e-02,\n",
       "        7.37958625e-02,  8.29574987e-02,  7.23601282e-02,  5.07490151e-02,\n",
       "        2.62554046e-02, -4.73995553e-03, -4.37890999e-02, -6.22581728e-02,\n",
       "       -5.44790067e-02, -2.66605429e-02,  1.53529840e-02,  5.65244034e-02,\n",
       "        7.71326795e-02,  7.42931515e-02,  5.62277064e-02,  3.08655705e-02,\n",
       "        7.70704495e-03, -6.89300796e-05, -3.08703638e-05, -1.33673930e-05,\n",
       "        0.00000000e+00,  1.17443824e-05,  1.04157225e-04,  4.47977480e-04,\n",
       "        2.34463695e-03,  1.31916553e-02,  3.49690877e-02,  6.25021309e-02,\n",
       "        8.34151357e-02,  8.44205916e-02,  6.73821941e-02,  4.39815186e-02,\n",
       "        2.03674696e-02, -1.53631801e-02, -5.31080104e-02, -6.24131896e-02,\n",
       "       -4.54281569e-02, -9.35698766e-03,  3.17171775e-02,  6.46496564e-02,\n",
       "        8.07823241e-02,  7.71414787e-02,  5.87258376e-02,  3.49135809e-02,\n",
       "        1.00576421e-02,  1.95669214e-04, -5.40941546e-05, -2.08140518e-05,\n",
       "        0.00000000e+00,  9.12478117e-06,  5.33567363e-05,  3.57604324e-04,\n",
       "        3.21630971e-03,  1.88013949e-02,  4.46918979e-02,  7.27571100e-02,\n",
       "        8.84987637e-02,  8.05883333e-02,  5.86178936e-02,  3.36371735e-02,\n",
       "        9.59390868e-03, -3.19057703e-02, -6.19652271e-02, -6.35154620e-02,\n",
       "       -3.33703160e-02,  7.54456129e-03,  4.78161275e-02,  7.57705495e-02,\n",
       "        8.50777254e-02,  7.87679702e-02,  6.03713468e-02,  3.65394317e-02,\n",
       "        1.17319021e-02,  4.25319857e-04, -4.94021660e-05, -2.80781951e-05,\n",
       "        0.00000000e+00,  0.00000000e+00,  9.08643142e-06,  3.38894140e-04,\n",
       "        4.52736765e-03,  2.45950464e-02,  5.28739505e-02,  7.99444467e-02,\n",
       "        8.82461146e-02,  7.49669671e-02,  4.79318053e-02,  2.12705620e-02,\n",
       "       -6.83487533e-03, -5.03741987e-02, -7.04615563e-02, -6.43042177e-02,\n",
       "       -2.40110401e-02,  1.62159167e-02,  5.63539006e-02,  8.34409148e-02,\n",
       "        8.97053778e-02,  8.10322613e-02,  6.05752319e-02,  3.60908844e-02,\n",
       "        1.23116309e-02,  7.44853460e-04, -1.58065286e-05, -3.11979397e-06,\n",
       "        0.00000000e+00,  0.00000000e+00,  9.08782022e-06,  4.17145406e-04,\n",
       "        6.49935752e-03,  3.12811434e-02,  6.08943626e-02,  8.38748664e-02,\n",
       "        8.88522789e-02,  7.01042861e-02,  4.05592546e-02,  1.11317560e-02,\n",
       "       -2.21410971e-02, -6.03094622e-02, -7.61519745e-02, -6.31190911e-02,\n",
       "       -1.98623314e-02,  2.03641430e-02,  6.28328472e-02,  8.85004848e-02,\n",
       "        9.35127735e-02,  8.22441950e-02,  5.96068241e-02,  3.42438780e-02,\n",
       "        1.14703821e-02,  9.16523335e-04, -4.76838177e-05, -2.69286517e-07,\n",
       "        0.00000000e+00,  1.18549005e-05,  1.89180938e-07,  6.75052288e-04,\n",
       "        8.82128999e-03,  3.64519507e-02,  6.56381100e-02,  8.67397487e-02,\n",
       "        8.87783319e-02,  6.63007274e-02,  3.42228115e-02,  3.58917750e-03,\n",
       "       -2.97220275e-02, -6.30661994e-02, -7.68450573e-02, -5.88828698e-02,\n",
       "       -1.67826600e-02,  2.73117516e-02,  6.83165863e-02,  9.21520367e-02,\n",
       "        9.49807018e-02,  8.01260173e-02,  5.46622463e-02,  2.93072946e-02,\n",
       "        9.07894783e-03,  8.16984160e-04, -5.15554675e-05, -4.93689072e-07,\n",
       "        0.00000000e+00,  0.00000000e+00,  4.43878162e-05,  9.47273627e-04,\n",
       "        1.14604980e-02,  3.95912565e-02,  6.71484545e-02,  8.77428576e-02,\n",
       "        8.82303864e-02,  6.49013147e-02,  3.11362725e-02, -1.72255165e-03,\n",
       "       -3.26698050e-02, -6.17217235e-02, -7.12991059e-02, -4.75205258e-02,\n",
       "       -5.93589153e-03,  4.26366329e-02,  8.07285979e-02,  9.96812955e-02,\n",
       "        9.80392024e-02,  7.62966275e-02,  4.83965315e-02,  2.27955580e-02,\n",
       "        5.77477552e-03,  4.38837073e-04, -1.44651567e-04, -1.68825773e-05,\n",
       "        0.00000000e+00, -2.07091362e-05,  7.43411001e-05,  1.36640726e-03,\n",
       "        1.34696094e-02,  4.09901515e-02,  6.71848506e-02,  8.66896287e-02,\n",
       "        8.65463465e-02,  6.47469908e-02,  3.09261195e-02, -3.27140675e-03,\n",
       "       -3.36107090e-02, -5.66664636e-02, -5.58482260e-02, -2.55771391e-02,\n",
       "        1.91702712e-02,  6.56835288e-02,  9.68106985e-02,  1.06239133e-01,\n",
       "        9.30987895e-02,  6.58854991e-02,  3.95129398e-02,  1.64871924e-02,\n",
       "        3.47603089e-03,  2.42957642e-04, -1.11576424e-04, -6.87605780e-06,\n",
       "        0.00000000e+00, -3.95533280e-05,  1.76704983e-04,  1.88169919e-03,\n",
       "        1.41726919e-02,  3.91697176e-02,  6.50159121e-02,  8.52508619e-02,\n",
       "        8.68750066e-02,  6.81572109e-02,  3.69238928e-02,  2.61706044e-03,\n",
       "       -2.53877752e-02, -3.92382257e-02, -2.97464505e-02,  5.32432785e-03,\n",
       "        5.05629480e-02,  8.90880972e-02,  1.07746333e-01,  1.02737561e-01,\n",
       "        7.99334496e-02,  5.29537424e-02,  2.75221393e-02,  9.93298460e-03,\n",
       "        1.46991177e-03, -9.71530608e-05, -1.36263276e-04,  0.00000000e+00,\n",
       "        0.00000000e+00, -5.58401007e-06,  2.17260429e-04,  1.86580198e-03,\n",
       "        1.22743016e-02,  3.24523300e-02,  5.88314831e-02,  7.97259137e-02,\n",
       "        8.74029025e-02,  7.66486973e-02,  5.27595542e-02,  2.45283153e-02,\n",
       "        6.54012314e-04, -7.10379472e-03,  7.18611665e-03,  3.97667140e-02,\n",
       "        7.59398416e-02,  1.00234985e-01,  1.03110693e-01,  8.53316262e-02,\n",
       "        5.94395250e-02,  3.57158780e-02,  1.60903595e-02,  5.42837847e-03,\n",
       "        3.84866784e-04, -1.40054806e-04, -8.91729433e-05, -3.48526555e-06,\n",
       "        0.00000000e+00,  0.00000000e+00,  1.59537711e-04,  1.48972950e-03,\n",
       "        8.05755518e-03,  2.29833182e-02,  4.49849702e-02,  6.74209371e-02,\n",
       "        7.97625929e-02,  7.96223506e-02,  6.66128546e-02,  4.74151336e-02,\n",
       "        3.03065591e-02,  2.64023710e-02,  3.92097682e-02,  6.26024157e-02,\n",
       "        8.23874921e-02,  8.83877501e-02,  7.78197348e-02,  5.68944626e-02,\n",
       "        3.63359489e-02,  1.86551306e-02,  7.53122568e-03,  2.80422764e-03,\n",
       "        2.66986695e-04, -3.21841108e-05, -6.23779197e-05,  0.00000000e+00,\n",
       "        0.00000000e+00,  0.00000000e+00,  7.85668526e-05,  9.20391525e-04,\n",
       "        4.11674799e-03,  1.18242037e-02,  2.55012996e-02,  4.27079387e-02,\n",
       "        5.75421415e-02,  6.24336042e-02,  5.83369508e-02,  4.68450971e-02,\n",
       "        3.71863842e-02,  3.55485789e-02,  4.34263423e-02,  5.37644476e-02,\n",
       "        5.85737415e-02,  5.48022054e-02,  4.30108756e-02,  2.96598766e-02,\n",
       "        1.65835395e-02,  7.62916030e-03,  4.06897021e-03,  1.98545214e-03,\n",
       "        1.65593854e-04, -8.81547021e-06, -5.53033606e-05,  0.00000000e+00,\n",
       "        0.00000000e+00,  0.00000000e+00,  5.51944595e-06,  2.78042047e-04,\n",
       "        1.70479668e-03,  4.24035266e-03,  8.73184856e-03,  1.57767907e-02,\n",
       "        2.39046123e-02,  2.89126020e-02,  2.82512289e-02,  2.37904266e-02,\n",
       "        2.04006620e-02,  1.87327042e-02,  2.14217231e-02,  2.36303192e-02,\n",
       "        2.39518341e-02,  2.10537557e-02,  1.56502295e-02,  9.74200480e-03,\n",
       "        5.57307154e-03,  3.45115596e-03,  2.05239840e-03,  9.80298384e-04,\n",
       "        2.63622991e-04, -8.97599020e-05, -1.78315149e-05,  0.00000000e+00,\n",
       "        0.00000000e+00,  0.00000000e+00, -7.82709947e-07,  3.74236806e-05,\n",
       "        4.76506655e-04,  7.28760555e-04,  8.90000723e-04,  1.15665351e-03,\n",
       "        1.27136556e-03, -5.17535722e-04, -4.10215044e-03, -5.78353321e-03,\n",
       "       -7.18863867e-03, -5.64223900e-03, -2.98847468e-03,  7.84299846e-05,\n",
       "        1.90808426e-03,  2.59613665e-03,  2.99022160e-03,  2.41524749e-03,\n",
       "        1.97132444e-03,  1.37179170e-03,  8.94091732e-04,  5.47662610e-04,\n",
       "        9.58380497e-06, -9.31145314e-06,  0.00000000e+00,  0.00000000e+00,\n",
       "        0.00000000e+00,  0.00000000e+00,  2.77256436e-06, -7.71449322e-06,\n",
       "       -6.39763530e-05, -2.49415985e-04, -5.62937465e-04, -1.51911261e-03,\n",
       "       -3.43645434e-03, -5.68696251e-03, -8.55529029e-03, -1.13129588e-02,\n",
       "       -1.24426801e-02, -1.11155165e-02, -8.57907534e-03, -5.42230904e-03,\n",
       "       -2.97687110e-03, -7.52413413e-04,  2.31054801e-04,  6.65555825e-04,\n",
       "        6.70187525e-04,  6.55105454e-04,  4.34382062e-04,  3.34838202e-04,\n",
       "        1.64908724e-05,  0.00000000e+00,  0.00000000e+00,  0.00000000e+00,\n",
       "        0.00000000e+00,  0.00000000e+00,  0.00000000e+00,  0.00000000e+00,\n",
       "       -3.32505952e-05, -1.56971233e-04, -2.78796826e-04, -5.49282995e-04,\n",
       "       -1.31952448e-03, -2.09684810e-03, -3.36189405e-03, -4.63294890e-03,\n",
       "       -5.21768397e-03, -4.55418602e-03, -3.01951636e-03, -1.98412710e-03,\n",
       "       -1.27715268e-03, -5.84083493e-04, -1.30113112e-04,  1.70559768e-04,\n",
       "        1.74530069e-04,  1.91442759e-05, -2.00588929e-05, -9.48550507e-07,\n",
       "        0.00000000e+00,  0.00000000e+00,  0.00000000e+00,  0.00000000e+00,\n",
       "        0.00000000e+00,  0.00000000e+00,  0.00000000e+00,  0.00000000e+00,\n",
       "        0.00000000e+00, -1.30662011e-05, -5.76142884e-05, -5.87702016e-05,\n",
       "       -4.57349379e-05, -8.99958832e-05, -1.38224888e-04, -2.52218539e-04,\n",
       "       -3.52162519e-04, -3.26885784e-04, -2.57447944e-04, -9.54454226e-05,\n",
       "       -1.97486352e-05, -8.16723987e-05, -3.60602935e-05, -1.40426300e-05,\n",
       "       -5.88450030e-06, -1.70346846e-06,  0.00000000e+00,  0.00000000e+00,\n",
       "        0.00000000e+00,  0.00000000e+00,  0.00000000e+00,  0.00000000e+00],\n",
       "      dtype=float32)"
      ]
     },
     "execution_count": 21,
     "metadata": {},
     "output_type": "execute_result"
    }
   ],
   "source": [
    "U[:, 0]"
   ]
  },
  {
   "cell_type": "markdown",
   "id": "f803d65d",
   "metadata": {},
   "source": [
    "## Собственные числа"
   ]
  },
  {
   "cell_type": "code",
   "execution_count": 22,
   "id": "c32fbd9f",
   "metadata": {},
   "outputs": [
    {
     "data": {
      "text/plain": [
       "[<matplotlib.lines.Line2D at 0x20d1f8b37c0>]"
      ]
     },
     "execution_count": 22,
     "metadata": {},
     "output_type": "execute_result"
    },
    {
     "data": {
      "image/png": "[encoded data removed]",
      "text/plain": [
       "<Figure size 432x288 with 1 Axes>"
      ]
     },
     "metadata": {
      "needs_background": "light"
     },
     "output_type": "display_data"
    }
   ],
   "source": [
    "# накопленная сумма собственных значений\n",
    "S_cumsum = np.cumsum(S) / np.sum(S)\n",
    "plt.plot(S_cumsum, 'o')"
   ]
  },
  {
   "cell_type": "code",
   "execution_count": 23,
   "id": "ec7e4a91",
   "metadata": {},
   "outputs": [
    {
     "data": {
      "text/plain": [
       "0.91801447"
      ]
     },
     "execution_count": 23,
     "metadata": {},
     "output_type": "execute_result"
    }
   ],
   "source": [
    "S_cumsum[100]"
   ]
  },
  {
   "cell_type": "code",
   "execution_count": 24,
   "id": "5b063758",
   "metadata": {},
   "outputs": [
    {
     "name": "stdout",
     "output_type": "stream",
     "text": [
      "[000] 0.099\n",
      "[001] 0.172\n",
      "[002] 0.233\n",
      "[003] 0.287\n",
      "[004] 0.336\n"
     ]
    }
   ],
   "source": [
    "for i in range(5):\n",
    "    print('[%03d] %.3f' % (i, S_cumsum[i]))"
   ]
  },
  {
   "cell_type": "markdown",
   "id": "7954e5a2",
   "metadata": {},
   "source": [
    "## Понижаем размерность"
   ]
  },
  {
   "cell_type": "code",
   "execution_count": 29,
   "id": "b55c76af",
   "metadata": {},
   "outputs": [
    {
     "name": "stdout",
     "output_type": "stream",
     "text": [
      "n_comp=84 S=0.900\n"
     ]
    }
   ],
   "source": [
    "S_thr = .90 # задаем порог для накопленной суммы собственных значений\n",
    "\n",
    "# определяем необходимое число компонент для заданного порога\n",
    "n_comp = np.argmax(np.where(S_cumsum > S_thr, 1, 0))\n",
    "\n",
    "print('n_comp=%d S=%.3f' % (n_comp, S_cumsum[n_comp]))"
   ]
  },
  {
   "cell_type": "code",
   "execution_count": 30,
   "id": "c991b565",
   "metadata": {},
   "outputs": [],
   "source": [
    "# получаем сжатое представление объектов\n",
    "Xrot_reduced = np.dot(X, U[:, :n_comp])"
   ]
  },
  {
   "cell_type": "code",
   "execution_count": 31,
   "id": "27ed54d0",
   "metadata": {},
   "outputs": [
    {
     "data": {
      "text/plain": [
       "(784, 84)"
      ]
     },
     "execution_count": 31,
     "metadata": {},
     "output_type": "execute_result"
    }
   ],
   "source": [
    "U[:, :n_comp].shape"
   ]
  },
  {
   "cell_type": "code",
   "execution_count": 32,
   "id": "86dd5ef1",
   "metadata": {},
   "outputs": [
    {
     "data": {
      "text/plain": [
       "(10000, 84)"
      ]
     },
     "execution_count": 32,
     "metadata": {},
     "output_type": "execute_result"
    }
   ],
   "source": [
    "Xrot_reduced.shape"
   ]
  },
  {
   "cell_type": "code",
   "execution_count": 33,
   "id": "36881c00",
   "metadata": {},
   "outputs": [
    {
     "data": {
      "text/plain": [
       "(10000, 784)"
      ]
     },
     "execution_count": 33,
     "metadata": {},
     "output_type": "execute_result"
    }
   ],
   "source": [
    "X.shape"
   ]
  },
  {
   "cell_type": "code",
   "execution_count": null,
   "id": "c5be97e0",
   "metadata": {},
   "outputs": [],
   "source": []
  }
 ],
 "metadata": {
  "kernelspec": {
   "display_name": "Python 3 (ipykernel)",
   "language": "python",
   "name": "python3"
  },
  "language_info": {
   "codemirror_mode": {
    "name": "ipython",
    "version": 3
   },
   "file_extension": ".py",
   "mimetype": "text/x-python",
   "name": "python",
   "nbconvert_exporter": "python",
   "pygments_lexer": "ipython3",
   "version": "3.8.8"
  },
  "toc": {
   "base_numbering": 1,
   "nav_menu": {},
   "number_sections": false,
   "sideBar": true,
   "skip_h1_title": false,
   "title_cell": "Table of Contents",
   "title_sidebar": "Contents",
   "toc_cell": false,
   "toc_position": {},
   "toc_section_display": true,
   "toc_window_display": false
  }
 },
 "nbformat": 4,
 "nbformat_minor": 5
}
