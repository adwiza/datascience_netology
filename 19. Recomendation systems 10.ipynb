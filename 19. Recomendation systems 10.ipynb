{
 "cells": [
  {
   "cell_type": "code",
   "execution_count": 1,
   "id": "204e97bd",
   "metadata": {},
   "outputs": [],
   "source": [
    "import os\n",
    "%matplotlib inline\n",
    "import matplotlib.pyplot as plt\n",
    "import seaborn as sns\n",
    "\n",
    "# Создаем spark сессию\n",
    "import findspark\n",
    "findspark.init()\n",
    "from pyspark.sql import SparkSession\n",
    "import pyspark.sql.functions as sql_func\n",
    "\n",
    "spark = (\n",
    "    SparkSession\n",
    "    .builder\n",
    "    .config('spark.driver.memory', '16G')\n",
    "    .config('spark.sql.analyzer.failAmbiguousSelfJoin', 'False')\n",
    "    .master(\"local[*]\")\n",
    "    .getOrCreate()\n",
    ")"
   ]
  },
  {
   "cell_type": "code",
   "execution_count": 2,
   "id": "27e02a3b",
   "metadata": {},
   "outputs": [],
   "source": [
    "DATA_DIR = 'D:/Datasets/ml-latest/'"
   ]
  },
  {
   "cell_type": "code",
   "execution_count": 6,
   "id": "5e886623",
   "metadata": {},
   "outputs": [
    {
     "name": "stdout",
     "output_type": "stream",
     "text": [
      "_SUCCESS\n",
      "part-00000-6183fc36-4fea-4420-95f2-7dd9b5817b37-c000.snappy.parquet\n"
     ]
    }
   ],
   "source": [
    "# мы будем использовать данные, сохраненные в предыдущем ноутбуке\n",
    "!ls {DATA_DIR}/tf_idf.parquet"
   ]
  },
  {
   "cell_type": "code",
   "execution_count": 7,
   "id": "dd2229c6",
   "metadata": {},
   "outputs": [],
   "source": [
    "# создаем сессию Spark\n",
    "import findspark\n",
    "findspark.init()\n",
    "from pyspark.sql import SparkSession\n",
    "import pyspark.sql.functions as sql_func\n",
    "\n",
    "spark = (\n",
    "    SparkSession\n",
    "    .builder\n",
    "    .config('spark.driver.memory', '16G')\n",
    "    .config('spark.sql.analyzer.failAmbiguousSelfJoin', 'False')\n",
    "    .master(\"local[*]\")\n",
    "    .getOrCreate()\n",
    ")"
   ]
  },
  {
   "cell_type": "code",
   "execution_count": 9,
   "id": "2364a47f",
   "metadata": {},
   "outputs": [
    {
     "name": "stdout",
     "output_type": "stream",
     "text": [
      "+-------+--------------------+--------------------+\n",
      "|movieId|               title|              tf_idf|\n",
      "+-------+--------------------+--------------------+\n",
      "|    148|Awfully Big Adven...|(1024,[6,155,177,...|\n",
      "|    463|Guilty as Sin (1993)|(1024,[219,263,58...|\n",
      "|    471|Hudsucker Proxy, ...|(1024,[28,32,43,4...|\n",
      "|    496|What Happened Was...|(1024,[43,187,219...|\n",
      "|    833|High School High ...|(1024,[138,297,30...|\n",
      "|   1088|Dirty Dancing (1987)|(1024,[16,26,39,6...|\n",
      "|   1238|   Local Hero (1983)|(1024,[53,91,103,...|\n",
      "|   1342|     Candyman (1992)|(1024,[22,89,115,...|\n",
      "|   1580|Men in Black (a.k...|(1024,[33,35,36,4...|\n",
      "|   1591|        Spawn (1997)|(1024,[2,32,33,14...|\n",
      "|   1645|The Devil's Advoc...|(1024,[7,20,65,10...|\n",
      "|   1829|  Chinese Box (1997)|(1024,[207,219,47...|\n",
      "|   1959|Out of Africa (1985)|(1024,[20,32,62,6...|\n",
      "|   2122|Children of the C...|(1024,[22,27,43,7...|\n",
      "|   2142|American Tail: Fi...|(1024,[50,165,192...|\n",
      "|   2366|    King Kong (1933)|(1024,[30,32,59,6...|\n",
      "|   2659|It Came from Holl...|(1024,[241,244,43...|\n",
      "|   2866|Buddy Holly Story...|(1024,[11,32,54,1...|\n",
      "|   3175| Galaxy Quest (1999)|(1024,[24,30,55,5...|\n",
      "|   3749|Time Regained (Te...|(1024,[219,302,47...|\n",
      "+-------+--------------------+--------------------+\n",
      "only showing top 20 rows\n",
      "\n"
     ]
    }
   ],
   "source": [
    "# поскольку в parquet схема данных хранится внутри самого файла, читать их очень просто\n",
    "tf_idf = spark.read.parquet(os.path.join(DATA_DIR, 'tf_idf.parquet')).cache()\n",
    "tf_idf.show()"
   ]
  },
  {
   "cell_type": "code",
   "execution_count": 11,
   "id": "c8cd03d0",
   "metadata": {},
   "outputs": [],
   "source": [
    "# считаем данные об оценках\n",
    "ratings = (\n",
    "    spark\n",
    "    .read\n",
    "    .csv(\n",
    "        os.path.join(DATA_DIR, 'ratings.csv'),\n",
    "        header=True,\n",
    "        inferSchema=True\n",
    "    )\n",
    "    # только о миллионе записей, потому, что даже на таком объеме обсчет будет занимать до двух часов\n",
    "    .limit(1000000)\n",
    "    .select('movieId', 'userId', 'rating')\n",
    ")"
   ]
  },
  {
   "cell_type": "code",
   "execution_count": 12,
   "id": "71adef8b",
   "metadata": {},
   "outputs": [],
   "source": [
    "from sklearn.linear_model import ElasticNet\n",
    "import numpy as np\n",
    "from pyspark.sql.types import FloatType, ArrayType\n",
    "\n",
    "def sklearn_lr(spark_x: list, spark_y: list) -> list:\n",
    "    \"\"\"\n",
    "    spark_x: список pyspark.ml.linalg.SparseVector - фичи для регрессии\n",
    "    spark_y: список занчений для целевой переменной регрессии\n",
    "    return: список коэффициентов регрессии \n",
    "    \"\"\"\n",
    "    # переводим данные из формата Spark в формат sklearn\n",
    "    numpy_x = np.array([vector.toArray() for vector in spark_x])\n",
    "    numpy_y = np.array(spark_y).reshape(-1, 1)\n",
    "    # применяем обычную модель из sklearn\n",
    "    lr = ElasticNet().fit(numpy_x, numpy_y)\n",
    "    # возвращаем в ответе плотный вектор коэффициентов регрессии\n",
    "    return [lr.sparse_coef_.todense().tolist()[0], lr.intercept_.tolist()]\n",
    "\n",
    "# определим spark UDF, которая обучит регрессию на своих аргументах\n",
    "reg_udf = sql_func.udf(\n",
    "    sklearn_lr,\n",
    "    returnType=ArrayType(ArrayType(FloatType()))\n",
    ")"
   ]
  },
  {
   "cell_type": "code",
   "execution_count": null,
   "id": "cc72b728",
   "metadata": {},
   "outputs": [],
   "source": []
  }
 ],
 "metadata": {
  "kernelspec": {
   "display_name": "Python 3",
   "language": "python",
   "name": "python3"
  },
  "language_info": {
   "codemirror_mode": {
    "name": "ipython",
    "version": 3
   },
   "file_extension": ".py",
   "mimetype": "text/x-python",
   "name": "python",
   "nbconvert_exporter": "python",
   "pygments_lexer": "ipython3",
   "version": "3.8.8"
  },
  "toc": {
   "base_numbering": 1,
   "nav_menu": {},
   "number_sections": true,
   "sideBar": true,
   "skip_h1_title": false,
   "title_cell": "Table of Contents",
   "title_sidebar": "Contents",
   "toc_cell": false,
   "toc_position": {},
   "toc_section_display": true,
   "toc_window_display": false
  }
 },
 "nbformat": 4,
 "nbformat_minor": 5
}
