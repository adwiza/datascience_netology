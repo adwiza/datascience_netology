{
 "cells": [
  {
   "cell_type": "code",
   "execution_count": 20,
   "id": "090a50e5",
   "metadata": {},
   "outputs": [],
   "source": [
    "from surprise.dataset import Dataset\n",
    "\n",
    "# загружаем встроенный набор данных\n",
    "data = Dataset.load_builtin(name='ml-100k')"
   ]
  },
  {
   "cell_type": "code",
   "execution_count": 9,
   "id": "fc089cf8",
   "metadata": {},
   "outputs": [],
   "source": [
    "from surprise.model_selection import train_test_split\n",
    "\n",
    "# разбиваем на обучающую и тестовую выборки\n",
    "trainset, testset = train_test_split(data, test_size=0.2, random_state=42)"
   ]
  },
  {
   "cell_type": "code",
   "execution_count": 10,
   "id": "cd84c09a",
   "metadata": {},
   "outputs": [
    {
     "name": "stdout",
     "output_type": "stream",
     "text": [
      "Computing the msd similarity matrix...\n",
      "Done computing similarity matrix.\n",
      "Wall time: 20.1 s\n"
     ]
    },
    {
     "data": {
      "text/plain": [
       "<surprise.prediction_algorithms.knns.KNNBasic at 0x2b121ba7820>"
      ]
     },
     "execution_count": 10,
     "metadata": {},
     "output_type": "execute_result"
    }
   ],
   "source": [
    "%%time\n",
    "from surprise import KNNBasic\n",
    "\n",
    "# обучаем модель\n",
    "algo = KNNBasic(\n",
    "    sim_options={\n",
    "        'user_based': False\n",
    "    }\n",
    ")\n",
    "algo.fit(trainset)"
   ]
  },
  {
   "cell_type": "code",
   "execution_count": 11,
   "id": "6dd5c91e",
   "metadata": {},
   "outputs": [
    {
     "name": "stdout",
     "output_type": "stream",
     "text": [
      "Wall time: 1min 6s\n"
     ]
    },
    {
     "data": {
      "text/plain": [
       "<surprise.prediction_algorithms.matrix_factorization.SVD at 0x2b121ba7f70>"
      ]
     },
     "execution_count": 11,
     "metadata": {},
     "output_type": "execute_result"
    }
   ],
   "source": [
    "%%time\n",
    "from surprise import SVD\n",
    "\n",
    "#обучаем модель\n",
    "algo = SVD(random_state=42)\n",
    "algo.fit(trainset)"
   ]
  },
  {
   "cell_type": "code",
   "execution_count": 16,
   "id": "12293fef",
   "metadata": {},
   "outputs": [
    {
     "name": "stdout",
     "output_type": "stream",
     "text": [
      "Wall time: 3.43 s\n"
     ]
    }
   ],
   "source": [
    "%%time\n",
    "# получаем рекомендации валидационном наборе\n",
    "predictions = algo.test(testset, verbose=0)"
   ]
  },
  {
   "cell_type": "code",
   "execution_count": 19,
   "id": "05898187",
   "metadata": {},
   "outputs": [
    {
     "name": "stdout",
     "output_type": "stream",
     "text": [
      "RMSE: 0.8729\n",
      "Wall time: 220 ms\n"
     ]
    },
    {
     "data": {
      "text/plain": [
       "0.8728931555711225"
      ]
     },
     "execution_count": 19,
     "metadata": {},
     "output_type": "execute_result"
    }
   ],
   "source": [
    "%%time\n",
    "from surprise import accuracy\n",
    "\n",
    "# оцениваем качество\n",
    "accuracy.rmse(predictions)"
   ]
  },
  {
   "cell_type": "code",
   "execution_count": 28,
   "id": "d9f8d41d",
   "metadata": {},
   "outputs": [
    {
     "name": "stdout",
     "output_type": "stream",
     "text": [
      "список оценок: [(41, 3.0), (363, 4.0), (603, 3.0), (481, 5.0), (271, 5.0), (686, 5.0), (1068, 4.0), (1097, 4.0), (440, 5.0), (1603, 4.0), (151, 5.0), (1628, 5.0), (550, 5.0), (574, 5.0), (131, 5.0), (1570, 5.0), (112, 4.0), (265, 5.0), (1308, 3.0), (438, 5.0), (1562, 5.0), (520, 5.0), (828, 5.0), (210, 4.0), (63, 4.0), (934, 4.0), (394, 4.0), (832, 5.0), (325, 5.0), (2239, 4.0), (909, 4.0), (75, 4.0), (121, 5.0), (408, 5.0), (646, 5.0), (15, 5.0), (908, 5.0), (412, 5.0), (350, 5.0), (27, 5.0), (190, 5.0), (156, 5.0), (528, 5.0), (655, 4.0), (254, 5.0)]\n",
      "всего оценок 45\n",
      "средняя оценка: 4.5777777777777775\n"
     ]
    }
   ],
   "source": [
    "# возьмем определенного пользователя\n",
    "# и посмотрим на его оценки\n",
    "user_id = 42\n",
    "user_ratings = trainset.ur[user_id]\n",
    "print('список оценок:', user_ratings)\n",
    "num_ratings = len(user_ratings)\n",
    "print('всего оценок', num_ratings)\n",
    "mean_rating = sum([rating for item_id, rating in user_ratings]) / num_ratings\n",
    "print('средняя оценка:', mean_ratings)"
   ]
  },
  {
   "cell_type": "code",
   "execution_count": 29,
   "id": "89f2d3dd",
   "metadata": {},
   "outputs": [
    {
     "name": "stdout",
     "output_type": "stream",
     "text": [
      "user: 288        item: 3398       r_ui = 3.00   est = 3.83   {'was_impossible': False}\n",
      "3.8250928507915822\n",
      "3.8250928507915822\n"
     ]
    }
   ],
   "source": [
    "# посмотрим, как устроено предсказание\n",
    "item_id = 41\n",
    "# \"внешнее API\"  - сюда подаютсреальные ID пользователей и фильмов\n",
    "print(algo.predict(\n",
    "    uid=trainset.to_raw_uid(user_id),\n",
    "    iid=trainset.to_raw_iid(item_id),\n",
    "    r_ui=dict(trainset.ur[user_id])[item_id]\n",
    "))\n",
    "# внутреннее API - сюда подаются внутренние ID\n",
    "print(algo.estimate(\n",
    "    u=user_id,\n",
    "    i=item_id\n",
    "))\n",
    "# формула предсказания\n",
    "print(\n",
    "    # скалярное произведелние скрытых факторов пользователя и фильма\n",
    "    algo.pu[user_id].dot(algo.qi[item_id]) + \n",
    "    # смещение фильма\n",
    "    algo.bi[item_id] +\n",
    "    # смещение пользователя\n",
    "    algo.bu[user_id] + \n",
    "    # общее смеение датасета\n",
    "    trainset.global_mean\n",
    ")"
   ]
  },
  {
   "cell_type": "code",
   "execution_count": 30,
   "id": "d9b7a000",
   "metadata": {},
   "outputs": [
    {
     "name": "stdout",
     "output_type": "stream",
     "text": [
      "1.1107987856767136\n",
      "-1.06963803255275\n",
      "-0.9803457306146611\n",
      "1.0947878033759697\n",
      "0.9315214141412997\n",
      "-0.0006434778125401048\n",
      "3.512544848782782e-05\n",
      "0.13119236468642578\n",
      "0.14139676994807773\n"
     ]
    }
   ],
   "source": [
    "import numpy as np\n",
    "\n",
    "# скрытые факторы не нормированы\n",
    "print(np.linalg.norm(algo.pu[user_id]))\n",
    "# скрытые факторы не распределены ль 0 до 1\n",
    "print(algo.pu.min())\n",
    "print(algo.qi.min())\n",
    "# или от -1 до 1\n",
    "print(algo.pu.max())\n",
    "print(algo.qi.max())\n",
    "# среднее стандартное отклонение\n",
    "print(algo.qi.mean())\n",
    "print(algo.pu.mean())\n",
    "print(algo.pu.std())\n",
    "print(algo.qi.std())"
   ]
  },
  {
   "cell_type": "code",
   "execution_count": 32,
   "id": "fd805b2e",
   "metadata": {},
   "outputs": [
    {
     "name": "stdout",
     "output_type": "stream",
     "text": [
      "4.5777777777777775\n",
      "0.5629317460462426\n",
      "4.144421610037135\n"
     ]
    }
   ],
   "source": [
    "# смещение пользователя не равно егшо средей оценке\n",
    "print(mean_rating)\n",
    "print(algo.bu[user_id])\n",
    "print(algo.bu[user_id] + trainset.global_mean)"
   ]
  },
  {
   "cell_type": "code",
   "execution_count": null,
   "id": "4c481607",
   "metadata": {},
   "outputs": [],
   "source": []
  },
  {
   "cell_type": "code",
   "execution_count": null,
   "id": "4ff97518",
   "metadata": {},
   "outputs": [],
   "source": []
  }
 ],
 "metadata": {
  "kernelspec": {
   "display_name": "Python 3",
   "language": "python",
   "name": "python3"
  },
  "language_info": {
   "codemirror_mode": {
    "name": "ipython",
    "version": 3
   },
   "file_extension": ".py",
   "mimetype": "text/x-python",
   "name": "python",
   "nbconvert_exporter": "python",
   "pygments_lexer": "ipython3",
   "version": "3.8.8"
  },
  "toc": {
   "base_numbering": 1,
   "nav_menu": {},
   "number_sections": true,
   "sideBar": true,
   "skip_h1_title": false,
   "title_cell": "Table of Contents",
   "title_sidebar": "Contents",
   "toc_cell": false,
   "toc_position": {},
   "toc_section_display": true,
   "toc_window_display": false
  }
 },
 "nbformat": 4,
 "nbformat_minor": 5
}
