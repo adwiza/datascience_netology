{
 "cells": [
  {
   "cell_type": "code",
   "execution_count": 1,
   "id": "21087b90",
   "metadata": {},
   "outputs": [],
   "source": [
    " # Создаем spark сессию\n",
    "import findspark\n",
    "findspark.init()\n",
    "from pyspark.sql import SparkSession\n",
    "\n",
    "spark = (\n",
    "    SparkSession\n",
    "    .builder\n",
    "    .config('spark.driver.memory', '16G')\n",
    "    .config('spark.sql.analyzer.failAmbiguousSelfJoin', 'False')\n",
    "    .master(\"local[*]\")\n",
    "    .getOrCreate()\n",
    ")"
   ]
  },
  {
   "cell_type": "code",
   "execution_count": 3,
   "id": "36953484",
   "metadata": {},
   "outputs": [],
   "source": [
    "# файл с оценками - user * item матрица\n",
    "import os\n",
    "import pyspark.sql.functions as sql_func\n",
    "\n",
    "DATA_DIR = 'D:/Datasets/ml-latest/'\n",
    "# Сначала посмотрим на общее распределение тегов\n",
    "ratings = (\n",
    "    spark\n",
    "    .read\n",
    "    .csv(\n",
    "        os.path.join(DATA_DIR, 'ratings.csv'),\n",
    "        header=True,\n",
    "        inferSchema=True\n",
    "    )\n",
    "    .drop('timestamp')\n",
    "    .cache()\n",
    ")"
   ]
  },
  {
   "cell_type": "code",
   "execution_count": null,
   "id": "b1eddf30",
   "metadata": {},
   "outputs": [],
   "source": [
    "%%time\n",
    "(\n",
    "    ratings.alias(\"one\")\n",
    "    .join(ratings.alias(\"two\"), \"userId\")\n",
    "    # расстояние симметрично\n",
    "    # поэтому считаем только одну сторону\n",
    "    .where(\"one.movieId > two.movieId\")\n",
    "    .groupBy(\"one.movieId\", \"two.movieId\")\n",
    "    .agg(\n",
    "        sql_func.sum(\n",
    "            sql_func.col(\"one.rating\") *\n",
    "            sql_func.col(\"two.rating\")\n",
    "        ).alias(\"inner_product\"),\n",
    "        sql_func.count(\"userId\").alias(\"watched_both\")\n",
    "    ).select(\n",
    "        sql_func.col(\"one.movieId\").alias(\"movieId1\"),\n",
    "        sql_func.col(\"one.movieId\").alias(\"movieId2\"),\n",
    "        sql_func.col(\"watched_both\"),\n",
    "        sql_func.col(\"inner_product\")\n",
    "    )\n",
    "    .write\n",
    "    .mode(\"overwrite\")\n",
    "    .parquet(os.path.join(DATA_DIR, \"half_cooccurrences.parquet\"))\n",
    ")"
   ]
  },
  {
   "cell_type": "code",
   "execution_count": null,
   "id": "59687d9a",
   "metadata": {},
   "outputs": [],
   "source": []
  }
 ],
 "metadata": {
  "kernelspec": {
   "display_name": "Python 3",
   "language": "python",
   "name": "python3"
  },
  "language_info": {
   "codemirror_mode": {
    "name": "ipython",
    "version": 3
   },
   "file_extension": ".py",
   "mimetype": "text/x-python",
   "name": "python",
   "nbconvert_exporter": "python",
   "pygments_lexer": "ipython3",
   "version": "3.8.8"
  },
  "toc": {
   "base_numbering": 1,
   "nav_menu": {},
   "number_sections": true,
   "sideBar": true,
   "skip_h1_title": false,
   "title_cell": "Table of Contents",
   "title_sidebar": "Contents",
   "toc_cell": false,
   "toc_position": {},
   "toc_section_display": true,
   "toc_window_display": false
  }
 },
 "nbformat": 4,
 "nbformat_minor": 5
}
