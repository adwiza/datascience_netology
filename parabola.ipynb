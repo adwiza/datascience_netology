{
  "nbformat": 4,
  "nbformat_minor": 0,
  "metadata": {
    "colab": {
      "provenance": [],
      "collapsed_sections": [],
      "authorship_tag": "ABX9TyOczkV5h0h+voxmtMTtcRNa",
      "include_colab_link": true
    },
    "kernelspec": {
      "name": "python3",
      "display_name": "Python 3"
    },
    "language_info": {
      "name": "python"
    },
    "accelerator": "GPU",
    "gpuClass": "standard"
  },
  "cells": [
    {
      "cell_type": "markdown",
      "metadata": {
        "id": "view-in-github",
        "colab_type": "text"
      },
      "source": [
        "<a href=\"https://colab.research.google.com/github/adwiza/datascience_netology/blob/main/parabola.ipynb\" target=\"_parent\"><img src=\"https://colab.research.google.com/assets/colab-badge.svg\" alt=\"Open In Colab\"/></a>"
      ]
    },
    {
      "cell_type": "code",
      "execution_count": null,
      "metadata": {
        "id": "X2qwziRG9hn7"
      },
      "outputs": [],
      "source": [
        "import numpy as np\n",
        "# import tensorflow as tf\n",
        "import tensorflow.compat.v1 as tf\n",
        "tf.compat.v1.disable_eager_execution()"
      ]
    },
    {
      "cell_type": "markdown",
      "source": [],
      "metadata": {
        "id": "wH_Xa09H-iNj"
      }
    },
    {
      "cell_type": "markdown",
      "source": [
        "# Пример линейная регрессия"
      ],
      "metadata": {
        "id": "yOn43QEa-qYX"
      }
    },
    {
      "cell_type": "markdown",
      "source": [
        "Подбираем коэффициенты квадратного уравнения: $y = w1 * x^2 + w2 * x +w3$"
      ],
      "metadata": {
        "id": "ICm8EsxH-w5r"
      }
    },
    {
      "cell_type": "markdown",
      "source": [
        "# Входные переменные и параметры модели"
      ],
      "metadata": {
        "id": "kkHVRxve_Tap"
      }
    },
    {
      "cell_type": "code",
      "source": [
        "# tf.placeholder позволяем передавать данные из python в Tensonrflow\n",
        "# с помощью tf.placeholder мы передаем данные для обучение\n",
        "x = tf.placeholder(tf.float32, shape=[None], name='x')\n",
        "y = tf.placeholder(tf.float32, shape=[None], name='y')"
      ],
      "metadata": {
        "id": "p6KzCLJ499ke"
      },
      "execution_count": null,
      "outputs": []
    },
    {
      "cell_type": "code",
      "source": [
        "# иницивлизируем переменную w\n",
        "# повторная инициализация приводит к ошибке ??\n",
        "\n",
        "with tf.variable_scope(\"myscope\", reuse=tf.AUTO_REUSE) as scope:\n",
        "  w = tf.get_variable('w', shape=[3, 1],\n",
        "                      initializer = tf.constant_initializer([3, 3, 3]))"
      ],
      "metadata": {
        "id": "zN-HWdW89xFk"
      },
      "execution_count": null,
      "outputs": []
    },
    {
      "cell_type": "code",
      "source": [
        "w.name"
      ],
      "metadata": {
        "colab": {
          "base_uri": "https://localhost:8080/",
          "height": 35
        },
        "id": "E6j0Ms_JC3ST",
        "outputId": "24a6e987-3fce-474b-c4ab-1256681b4d8e"
      },
      "execution_count": null,
      "outputs": [
        {
          "output_type": "execute_result",
          "data": {
            "text/plain": [
              "'myscope/w:0'"
            ],
            "application/vnd.google.colaboratory.intrinsic+json": {
              "type": "string"
            }
          },
          "metadata": {},
          "execution_count": 10
        }
      ]
    },
    {
      "cell_type": "markdown",
      "source": [
        "# Модель и функция потерь"
      ],
      "metadata": {
        "id": "GOAx79CEDpyS"
      }
    },
    {
      "cell_type": "code",
      "source": [
        "# задаем модель с помощью операций\n",
        "f = tf.stack([tf.square(x), x, tf.ones_like(x)], 1)\n",
        "yhay = tf.squeeze(tf.matmul(f, w), 1)"
      ],
      "metadata": {
        "id": "xBzQ38mJDbuz"
      },
      "execution_count": null,
      "outputs": []
    },
    {
      "cell_type": "code",
      "source": [],
      "metadata": {
        "id": "hLRCWn2wEQqi"
      },
      "execution_count": null,
      "outputs": []
    }
  ]
}