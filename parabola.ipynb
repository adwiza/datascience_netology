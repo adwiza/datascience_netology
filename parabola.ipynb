{
  "nbformat": 4,
  "nbformat_minor": 0,
  "metadata": {
    "colab": {
      "provenance": [],
      "authorship_tag": "ABX9TyPeGQrvdMO1SbMSNxMSkMr0",
      "include_colab_link": true
    },
    "kernelspec": {
      "name": "python3",
      "display_name": "Python 3"
    },
    "language_info": {
      "name": "python"
    },
    "accelerator": "GPU",
    "gpuClass": "standard"
  },
  "cells": [
    {
      "cell_type": "markdown",
      "metadata": {
        "id": "view-in-github",
        "colab_type": "text"
      },
      "source": [
        "<a href=\"https://colab.research.google.com/github/adwiza/datascience_netology/blob/main/parabola.ipynb\" target=\"_parent\"><img src=\"https://colab.research.google.com/assets/colab-badge.svg\" alt=\"Open In Colab\"/></a>"
      ]
    },
    {
      "cell_type": "code",
      "execution_count": 5,
      "metadata": {
        "id": "X2qwziRG9hn7"
      },
      "outputs": [],
      "source": [
        "import numpy as np\n",
        "# import tensorflow as tf\n",
        "import tensorflow.compat.v1 as tf\n",
        "tf.compat.v1.disable_eager_execution()"
      ]
    },
    {
      "cell_type": "markdown",
      "source": [],
      "metadata": {
        "id": "wH_Xa09H-iNj"
      }
    },
    {
      "cell_type": "markdown",
      "source": [
        "# Пример линейная регрессия"
      ],
      "metadata": {
        "id": "yOn43QEa-qYX"
      }
    },
    {
      "cell_type": "markdown",
      "source": [
        "Подбираем коэффициенты квадратного уравнения: $y = w1 * x^2 + w2 * x +w3$"
      ],
      "metadata": {
        "id": "ICm8EsxH-w5r"
      }
    },
    {
      "cell_type": "markdown",
      "source": [
        "# Входные переменные и параметры модели"
      ],
      "metadata": {
        "id": "kkHVRxve_Tap"
      }
    },
    {
      "cell_type": "code",
      "source": [
        "# tf.placeholder позволяем передавать данные из python в Tensonrflow\n",
        "# с помощью tf.placeholder мы передаем данные для обучение\n",
        "x = tf.placeholder(tf.float32, shape=[None], name='x')\n",
        "y = tf.placeholder(tf.float32, shape=[None], name='y')"
      ],
      "metadata": {
        "id": "p6KzCLJ499ke"
      },
      "execution_count": 6,
      "outputs": []
    },
    {
      "cell_type": "code",
      "source": [
        "# иницивлизируем переменную w\n",
        "# повторная инициализация приводит к ошибке ??\n",
        "\n",
        "with tf.vatiable_scope(\"myscope\", reuse=True) as scope:\n",
        "  "
      ],
      "metadata": {
        "id": "zN-HWdW89xFk"
      },
      "execution_count": 7,
      "outputs": []
    }
  ]
}