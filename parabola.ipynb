{
  "nbformat": 4,
  "nbformat_minor": 0,
  "metadata": {
    "colab": {
      "provenance": [],
      "collapsed_sections": [],
      "authorship_tag": "ABX9TyMUDuPpDd3VPv+k2ax7Eq4l",
      "include_colab_link": true
    },
    "kernelspec": {
      "name": "python3",
      "display_name": "Python 3"
    },
    "language_info": {
      "name": "python"
    },
    "accelerator": "GPU",
    "gpuClass": "standard"
  },
  "cells": [
    {
      "cell_type": "markdown",
      "metadata": {
        "id": "view-in-github",
        "colab_type": "text"
      },
      "source": [
        "<a href=\"https://colab.research.google.com/github/adwiza/datascience_netology/blob/main/parabola.ipynb\" target=\"_parent\"><img src=\"https://colab.research.google.com/assets/colab-badge.svg\" alt=\"Open In Colab\"/></a>"
      ]
    },
    {
      "cell_type": "code",
      "execution_count": 2,
      "metadata": {
        "id": "X2qwziRG9hn7"
      },
      "outputs": [],
      "source": [
        "import numpy as np\n",
        "# import tensorflow as tf\n",
        "import tensorflow.compat.v1 as tf\n",
        "tf.compat.v1.disable_eager_execution()"
      ]
    },
    {
      "cell_type": "markdown",
      "source": [],
      "metadata": {
        "id": "wH_Xa09H-iNj"
      }
    },
    {
      "cell_type": "markdown",
      "source": [
        "# Пример линейная регрессия"
      ],
      "metadata": {
        "id": "yOn43QEa-qYX"
      }
    },
    {
      "cell_type": "markdown",
      "source": [
        "Подбираем коэффициенты квадратного уравнения: $y = w1 * x^2 + w2 * x +w3$"
      ],
      "metadata": {
        "id": "ICm8EsxH-w5r"
      }
    },
    {
      "cell_type": "markdown",
      "source": [
        "# Входные переменные и параметры модели"
      ],
      "metadata": {
        "id": "kkHVRxve_Tap"
      }
    },
    {
      "cell_type": "code",
      "source": [
        "# tf.placeholder позволяем передавать данные из python в Tensonrflow\n",
        "# с помощью tf.placeholder мы передаем данные для обучение\n",
        "x = tf.placeholder(tf.float32, shape=[None], name='x')\n",
        "y = tf.placeholder(tf.float32, shape=[None], name='y')"
      ],
      "metadata": {
        "id": "p6KzCLJ499ke"
      },
      "execution_count": 3,
      "outputs": []
    },
    {
      "cell_type": "code",
      "source": [
        "# иницивлизируем переменную w\n",
        "# повторная инициализация приводит к ошибке ??\n",
        "\n",
        "with tf.variable_scope(\"myscope\", reuse=tf.AUTO_REUSE) as scope:\n",
        "  w = tf.get_variable('w', shape=[3, 1],\n",
        "                      initializer = tf.constant_initializer([3, 3, 3]))"
      ],
      "metadata": {
        "id": "zN-HWdW89xFk"
      },
      "execution_count": 4,
      "outputs": []
    },
    {
      "cell_type": "code",
      "source": [
        "w.name"
      ],
      "metadata": {
        "colab": {
          "base_uri": "https://localhost:8080/",
          "height": 35
        },
        "id": "E6j0Ms_JC3ST",
        "outputId": "c9591386-b0f7-470b-9ea5-ea81f349f29f"
      },
      "execution_count": 5,
      "outputs": [
        {
          "output_type": "execute_result",
          "data": {
            "text/plain": [
              "'myscope/w:0'"
            ],
            "application/vnd.google.colaboratory.intrinsic+json": {
              "type": "string"
            }
          },
          "metadata": {},
          "execution_count": 5
        }
      ]
    },
    {
      "cell_type": "markdown",
      "source": [
        "# Модель и функция потерь"
      ],
      "metadata": {
        "id": "GOAx79CEDpyS"
      }
    },
    {
      "cell_type": "code",
      "source": [
        "# задаем модель с помощью операций\n",
        "f = tf.stack([tf.square(x), x, tf.ones_like(x)], 1)\n",
        "yhat = tf.squeeze(tf.matmul(f, w), 1)"
      ],
      "metadata": {
        "id": "xBzQ38mJDbuz"
      },
      "execution_count": 8,
      "outputs": []
    },
    {
      "cell_type": "code",
      "source": [
        "# задаем квадратичную функцию потерь\n",
        "loss = tf.nn.l2_loss(yhat - y) + .1 * tf.nn.l2_loss(w)"
      ],
      "metadata": {
        "id": "hLRCWn2wEQqi"
      },
      "execution_count": 9,
      "outputs": []
    },
    {
      "cell_type": "code",
      "source": [
        "loss"
      ],
      "metadata": {
        "colab": {
          "base_uri": "https://localhost:8080/"
        },
        "id": "dz4Q1gsAFSlq",
        "outputId": "35bffd9f-3934-4ace-a946-a90fd35ca6ab"
      },
      "execution_count": 10,
      "outputs": [
        {
          "output_type": "execute_result",
          "data": {
            "text/plain": [
              "<tf.Tensor 'add:0' shape=() dtype=float32>"
            ]
          },
          "metadata": {},
          "execution_count": 10
        }
      ]
    },
    {
      "cell_type": "code",
      "source": [
        "# инициализируем оптимизатор для подбора параметров модели\n",
        "optimizer = tf.train.AdamOptimizer(learning_rate=.1)\n",
        "train_op = optimizer.minimize(loss)"
      ],
      "metadata": {
        "id": "2G9INuiWFp2d"
      },
      "execution_count": 12,
      "outputs": []
    },
    {
      "cell_type": "markdown",
      "source": [
        "# Обучение"
      ],
      "metadata": {
        "id": "zhvbHt-qGVmz"
      }
    },
    {
      "cell_type": "code",
      "source": [
        "# генератор данных\n",
        "def generate_data(batch_size=100):\n",
        "  x_val = np.random.uniform(-10.0, 10.0, size=batch_size)\n",
        "  y_val = 5 * np.square(x_val) + 3 * x_val + np.random.normal()\n",
        "  return x_val, y_val"
      ],
      "metadata": {
        "id": "dOwr08acGTyP"
      },
      "execution_count": 13,
      "outputs": []
    },
    {
      "cell_type": "code",
      "source": [
        "loss_vals = []\n",
        "\n",
        "# Иницивлизируем сессию\n",
        "with tf.Session() as sess:\n",
        "  # инициализируем переменные (параметры модели)\n",
        "  sess.run(tf.global_variables_initializer())\n",
        "  # запускаем обучение\n",
        "  for i in range(100):\n",
        "    # генерируем случайный набор данных\n",
        "    x_val, y_val = generate_data(batch_size=100)\n",
        "    # выполняем операции на заданном семпле\n",
        "    _, loss_val = sess.run([train_op, loss], \n",
        "                           feed_dict = {x: x_val,\n",
        "                                        y: y_val})\n",
        "    loss_vals.append(loss_val)\n",
        "    if i % 10 == 0:\n",
        "      print('%03d\\t5%s' % (i, loss_val))\n",
        "  \n",
        "  print('weights: %s' % sess.run([w])) # выводим веса\n",
        "  print('weights: %s' % w.eval()) # выводим веса"
      ],
      "metadata": {
        "colab": {
          "base_uri": "https://localhost:8080/"
        },
        "id": "mZueHfgwHmlP",
        "outputId": "c7a876ac-863d-4dbf-e863-6170d943fdd2"
      },
      "execution_count": 20,
      "outputs": [
        {
          "output_type": "stream",
          "name": "stdout",
          "text": [
            "000\t5338793.84\n",
            "010\t586648.266\n",
            "020\t52873.7334\n",
            "030\t56849.8315\n",
            "040\t54322.951\n",
            "050\t51139.3494\n",
            "060\t5939.58997\n",
            "070\t5556.8302\n",
            "080\t5227.26025\n",
            "090\t5670.27844\n",
            "weights: [array([[4.9307227],\n",
            "       [2.9794214],\n",
            "       [4.1969323]], dtype=float32)]\n",
            "weights: [[4.9307227]\n",
            " [2.9794214]\n",
            " [4.1969323]]\n"
          ]
        }
      ]
    },
    {
      "cell_type": "code",
      "source": [
        "  %matplotlib inline\n",
        "  from matplotlib import pyplot as plt\n",
        "  plt.plot(loss_vals[:100])\n",
        "  plt.title('Loss')\n",
        "  plt.xlabel('iteration')\n",
        "  plt.ylabel('mse') "
      ],
      "metadata": {
        "colab": {
          "base_uri": "https://localhost:8080/",
          "height": 312
        },
        "id": "HWFoywfeHvGW",
        "outputId": "1e011093-c166-4367-8fc0-5b1baca2279c"
      },
      "execution_count": 22,
      "outputs": [
        {
          "output_type": "execute_result",
          "data": {
            "text/plain": [
              "Text(0, 0.5, 'mse')"
            ]
          },
          "metadata": {},
          "execution_count": 22
        },
        {
          "output_type": "display_data",
          "data": {
            "text/plain": [
              "<Figure size 432x288 with 1 Axes>"
            ],
            "image/png": "[encoded data removed]"
          },
          "metadata": {
            "needs_background": "light"
          }
        }
      ]
    },
    {
      "cell_type": "markdown",
      "source": [
        "# Визуализация графа"
      ],
      "metadata": {
        "id": "uQYeXNbkMSaS"
      }
    },
    {
      "cell_type": "code",
      "source": [
        "with tf.Session() as sess:\n",
        "  writer = tf.summary.FileWriter('log/001', sess.graph)\n",
        "  writer.close()"
      ],
      "metadata": {
        "id": "okAFAXExMDvP"
      },
      "execution_count": 23,
      "outputs": []
    },
    {
      "cell_type": "code",
      "source": [
        "!ls ./log/001/"
      ],
      "metadata": {
        "colab": {
          "base_uri": "https://localhost:8080/"
        },
        "id": "IxLepUWhMvXe",
        "outputId": "ab0d2b1b-d96c-4d64-c073-d962aafb6a0f"
      },
      "execution_count": 24,
      "outputs": [
        {
          "output_type": "stream",
          "name": "stdout",
          "text": [
            "events.out.tfevents.1668396808.39f8cd6726a2\n"
          ]
        }
      ]
    },
    {
      "cell_type": "code",
      "source": [
        "!pip install tensorboard"
      ],
      "metadata": {
        "colab": {
          "base_uri": "https://localhost:8080/"
        },
        "id": "HlY__vsdM0XR",
        "outputId": "62ae2259-ad57-42de-e696-4dbb2fd8bbd5"
      },
      "execution_count": 25,
      "outputs": [
        {
          "output_type": "stream",
          "name": "stdout",
          "text": [
            "Looking in indexes: https://pypi.org/simple, https://us-python.pkg.dev/colab-wheels/public/simple/\n",
            "Requirement already satisfied: tensorboard in /usr/local/lib/python3.7/dist-packages (2.9.1)\n",
            "Requirement already satisfied: requests<3,>=2.21.0 in /usr/local/lib/python3.7/dist-packages (from tensorboard) (2.23.0)\n",
            "Requirement already satisfied: setuptools>=41.0.0 in /usr/local/lib/python3.7/dist-packages (from tensorboard) (57.4.0)\n",
            "Requirement already satisfied: google-auth-oauthlib<0.5,>=0.4.1 in /usr/local/lib/python3.7/dist-packages (from tensorboard) (0.4.6)\n",
            "Requirement already satisfied: wheel>=0.26 in /usr/local/lib/python3.7/dist-packages (from tensorboard) (0.38.3)\n",
            "Requirement already satisfied: grpcio>=1.24.3 in /usr/local/lib/python3.7/dist-packages (from tensorboard) (1.50.0)\n",
            "Requirement already satisfied: tensorboard-plugin-wit>=1.6.0 in /usr/local/lib/python3.7/dist-packages (from tensorboard) (1.8.1)\n",
            "Requirement already satisfied: werkzeug>=1.0.1 in /usr/local/lib/python3.7/dist-packages (from tensorboard) (1.0.1)\n",
            "Requirement already satisfied: numpy>=1.12.0 in /usr/local/lib/python3.7/dist-packages (from tensorboard) (1.21.6)\n",
            "Requirement already satisfied: tensorboard-data-server<0.7.0,>=0.6.0 in /usr/local/lib/python3.7/dist-packages (from tensorboard) (0.6.1)\n",
            "Requirement already satisfied: absl-py>=0.4 in /usr/local/lib/python3.7/dist-packages (from tensorboard) (1.3.0)\n",
            "Requirement already satisfied: google-auth<3,>=1.6.3 in /usr/local/lib/python3.7/dist-packages (from tensorboard) (2.14.1)\n",
            "Requirement already satisfied: markdown>=2.6.8 in /usr/local/lib/python3.7/dist-packages (from tensorboard) (3.4.1)\n",
            "Requirement already satisfied: protobuf<3.20,>=3.9.2 in /usr/local/lib/python3.7/dist-packages (from tensorboard) (3.19.6)\n",
            "Requirement already satisfied: cachetools<6.0,>=2.0.0 in /usr/local/lib/python3.7/dist-packages (from google-auth<3,>=1.6.3->tensorboard) (5.2.0)\n",
            "Requirement already satisfied: rsa<5,>=3.1.4 in /usr/local/lib/python3.7/dist-packages (from google-auth<3,>=1.6.3->tensorboard) (4.9)\n",
            "Requirement already satisfied: six>=1.9.0 in /usr/local/lib/python3.7/dist-packages (from google-auth<3,>=1.6.3->tensorboard) (1.15.0)\n",
            "Requirement already satisfied: pyasn1-modules>=0.2.1 in /usr/local/lib/python3.7/dist-packages (from google-auth<3,>=1.6.3->tensorboard) (0.2.8)\n",
            "Requirement already satisfied: requests-oauthlib>=0.7.0 in /usr/local/lib/python3.7/dist-packages (from google-auth-oauthlib<0.5,>=0.4.1->tensorboard) (1.3.1)\n",
            "Requirement already satisfied: importlib-metadata>=4.4 in /usr/local/lib/python3.7/dist-packages (from markdown>=2.6.8->tensorboard) (4.13.0)\n",
            "Requirement already satisfied: zipp>=0.5 in /usr/local/lib/python3.7/dist-packages (from importlib-metadata>=4.4->markdown>=2.6.8->tensorboard) (3.10.0)\n",
            "Requirement already satisfied: typing-extensions>=3.6.4 in /usr/local/lib/python3.7/dist-packages (from importlib-metadata>=4.4->markdown>=2.6.8->tensorboard) (4.1.1)\n",
            "Requirement already satisfied: pyasn1<0.5.0,>=0.4.6 in /usr/local/lib/python3.7/dist-packages (from pyasn1-modules>=0.2.1->google-auth<3,>=1.6.3->tensorboard) (0.4.8)\n",
            "Requirement already satisfied: chardet<4,>=3.0.2 in /usr/local/lib/python3.7/dist-packages (from requests<3,>=2.21.0->tensorboard) (3.0.4)\n",
            "Requirement already satisfied: idna<3,>=2.5 in /usr/local/lib/python3.7/dist-packages (from requests<3,>=2.21.0->tensorboard) (2.10)\n",
            "Requirement already satisfied: certifi>=2017.4.17 in /usr/local/lib/python3.7/dist-packages (from requests<3,>=2.21.0->tensorboard) (2022.9.24)\n",
            "Requirement already satisfied: urllib3!=1.25.0,!=1.25.1,<1.26,>=1.21.1 in /usr/local/lib/python3.7/dist-packages (from requests<3,>=2.21.0->tensorboard) (1.24.3)\n",
            "Requirement already satisfied: oauthlib>=3.0.0 in /usr/local/lib/python3.7/dist-packages (from requests-oauthlib>=0.7.0->google-auth-oauthlib<0.5,>=0.4.1->tensorboard) (3.2.2)\n"
          ]
        }
      ]
    },
    {
      "cell_type": "code",
      "source": [
        "# ! tensorboard --logdir ./log/001 --host 0.0.0.0 --port 8898"
      ],
      "metadata": {
        "id": "iC-EgNQENFwn"
      },
      "execution_count": 28,
      "outputs": []
    },
    {
      "cell_type": "code",
      "source": [],
      "metadata": {
        "id": "gShyBe9hNX2H"
      },
      "execution_count": null,
      "outputs": []
    }
  ]
}