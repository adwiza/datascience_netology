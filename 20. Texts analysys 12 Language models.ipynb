{
 "cells": [
  {
   "cell_type": "markdown",
   "id": "f5877ce8",
   "metadata": {},
   "source": [
    "# Извлечение информации\n",
    "\n",
    "* Именованные сущности: LOC, ORG, PER, TIME, GPE, \n",
    "* Отношения: _parent_(PER, PER), _worksIn_(PER, ORG), _locatedIn_(ORG, LOC)\n",
    "* Факты: _bornIn_(PER, LOC, TIME), _newEmployee_(PER, ORG, occupation, TIME)\n",
    "* События: _bornIn_(\"born\", PER, LOC, TIME), _newEmployee_(new, PER, ORG, occupation, TIME)"
   ]
  },
  {
   "cell_type": "markdown",
   "id": "2bbb3630",
   "metadata": {},
   "source": [
    "# Сегодня: извлечение именованных сущностей [named entity recognition, NER]\n",
    "* общие идеи\n",
    "* локальный классификатор: RandomForest\n",
    "* классификаторы последовательностей: CRF, biLSTM-CRF, charLSTM-wordLSTM"
   ]
  },
  {
   "cell_type": "markdown",
   "id": "73f137b2",
   "metadata": {},
   "source": [
    "## Разметка\n",
    "\n",
    "\n",
    "|             | В    | Британии | недавно | скончался | ученый | Стивен | Хокинг | .     |\n",
    "|-------------|------|----------|---------|-----------|--------|--------|--------|-------|\n",
    "| POS         | PREP | PROPN    | ADV     | VERB      | NOUN   | PROPN  | PROPN  | PUNCT |\n",
    "| IOB (NE)    | O    | B-LOC    | B-TIME  | O         | O      | B-PER  | I-PER  | O     |\n",
    "| IOBES (NE)  | O    | S-LOC    | S-TIME  | O         | O      | B-PER  | E-PER  | O     |\n",
    "| IOB (REL)   |  O   | B-LOC    |  O      | O        |   O    |   B-PER     | I-PER        |    O  |\n",
    "| IOB (EVENT)   |  O   | B-LOC    |  O      | B-Trigger/Death  | O| B-PER        |    I-PER  |O  |"
   ]
  },
  {
   "cell_type": "markdown",
   "id": "aa87c8fb",
   "metadata": {},
   "source": [
    "## Задача классификации последовательности [sequence labelling]\n",
    "\n",
    "* $ \\mathbf{x} = x_1, x_2, \\ldots, x_n$, $x_i \\in V$, $V$ - словарь\n",
    "* $ \\mathbf{y} = y_1, y_2, \\ldots, y_n$, $x_y \\in L$, $L$ - метки\n",
    "* ${(\\mathbf{x}^{(1)}, \\mathbf{y}^{(1)}), (\\mathbf{x}^{(2)}, \\mathbf{y}^{(2)}), \\ldots, (\\mathbf{x}^{(m)}, \\mathbf{y}^{(m)})}$ - обучающие данные\n",
    "\n",
    "\n",
    "Задача: обучить классификатор $\\mathbf{x} \\rightarrow \\mathbf{y}$\n"
   ]
  },
  {
   "cell_type": "markdown",
   "id": "2858cab1",
   "metadata": {},
   "source": [
    "### Локальные методы\n",
    "Задача: определить класс данного токена $x_i$ или данной группы или $n$-грамы $x_{i:j}$ (или данной пары токенов ( $(x_i, x_j) \\in R?$ )\n",
    "* Правила и словари\n",
    "* Любой алгоритм классификации (Random Forest, Naive Bayes, ConvNets)"
   ]
  },
  {
   "cell_type": "markdown",
   "id": "78330dde",
   "metadata": {},
   "source": [
    "### Глобальные методы\n",
    "Задача: определить лучшую последовательность меток: $\\arg \\max_{Y} P(Y|X)$\n",
    "* Правила и словари\n",
    "* Марковские модели максимальной энтропии [Maximum entropy Markov model, MEMM]\n",
    "* Условные случайные поля [Conditional random field, CRF]\n",
    "* Рекуррентные нейронные сети\n",
    "* Структурированный метод опорных векторов [SVM$^{struct}$]"
   ]
  },
  {
   "cell_type": "markdown",
   "id": "67b17c30",
   "metadata": {},
   "source": [
    "### Признаки для слов\n",
    "* Регистр слова, есть ли строчные, заглавные буквы, аббревиатуры\n",
    "* Префикс и суффикс слова\n",
    "* Входит ли слово в словарь (например, список городов, имен, фамилий и др.)\n",
    "* Часть речи слова, разбор слова\n",
    "* Лемма или псевдооснова (стем) слова\n",
    "* Синтаксические зависимости слова\n",
    "* Семантическая роль слова\n",
    "* Все тоже самое для левого и правого контекста "
   ]
  },
  {
   "cell_type": "markdown",
   "id": "1b9b4b14",
   "metadata": {},
   "source": [
    "### Признаки для групп или $n$-грам\n",
    "* Удовлетворяет ли группа или $n$-грама морфологическому шаблону\n",
    "* Есть ли в группе или $n$-граме специфическое слово?\n",
    "* Входит ли группа или $n$-грама в каком-нибудь словарь?"
   ]
  },
  {
   "cell_type": "markdown",
   "id": "ea5e97a6",
   "metadata": {},
   "source": [
    "### Оценки качества извлечения именованных сущностей\n",
    "* macro-, macro-, precision, recall, f1-measure, accuracy \n",
    "* оценка на уровне токенов / групп"
   ]
  },
  {
   "cell_type": "markdown",
   "id": "d2bea994",
   "metadata": {},
   "source": [
    "### Проблемы\n",
    "1. Многозначность: Пушкин (PER/LOC), Paris Hilton (PER PER / LOC ORG);\n",
    "2. Вложенность: [ректор [НИУ ВШЭ] [Я. И. Кузьминов]]\n",
    "3. Кореференция: Москва/LOC - столица России/LOC. Она/? стоит на берегу [р. Москвы]/LOC. "
   ]
  },
  {
   "cell_type": "markdown",
   "id": "93a07c06",
   "metadata": {},
   "source": [
    "### Данные\n",
    "* Английский: СoNLL 2003, OntosNotes 5.0, ACE, kaggle (GMB корпус)\n",
    "* Русский: FactRuEval (очень странный корпус)"
   ]
  },
  {
   "cell_type": "code",
   "execution_count": 1,
   "id": "ece89443",
   "metadata": {},
   "outputs": [],
   "source": [
    "%matplotlib inline\n",
    "import matplotlib.pyplot as plt\n",
    "plt.style.use('ggplot')"
   ]
  },
  {
   "cell_type": "code",
   "execution_count": 2,
   "id": "d3e3140f",
   "metadata": {},
   "outputs": [],
   "source": [
    "from itertools import chain\n",
    "\n",
    "\n",
    "import pandas as pd\n",
    "import numpy as np\n",
    "\n",
    "import nltk\n",
    "import sklearn\n",
    "import scipy.stats\n",
    "from sklearn.metrics import make_scorer, classification_report\n",
    "from sklearn.model_selection import cross_val_predict, cross_val_score\n",
    "from sklearn.model_selection import train_test_split\n",
    "from sklearn.model_selection import RandomizedSearchCV\n",
    "\n",
    "\n",
    "\n",
    "from sklearn.preprocessing import LabelEncoder\n",
    "from sklearn.ensemble import RandomForestClassifier\n",
    "from sklearn.pipeline import Pipeline\n",
    "from sklearn.base import BaseEstimator, TransformerMixin\n",
    "\n",
    "\n",
    "import eli5\n",
    "\n",
    "import sklearn_crfsuite\n",
    "from sklearn_crfsuite import scorers\n",
    "from sklearn_crfsuite import metrics\n",
    "from sklearn_crfsuite.metrics import flat_classification_report\n",
    "\n",
    "\n",
    "from keras.preprocessing.sequence import pad_sequences\n",
    "from tensorflow.keras.utils import to_categorical\n",
    "from keras.models import Model, Input, Sequential\n",
    "from keras.layers import LSTM, Embedding, Dense, TimeDistributed, Dropout, Bidirectional, concatenate, SpatialDropout1D"
   ]
  },
  {
   "cell_type": "markdown",
   "id": "71dbeb18",
   "metadata": {},
   "source": [
    "# Эксперименты\n",
    "\n",
    "## Данные: kaggle (GMB корпус)"
   ]
  },
  {
   "cell_type": "code",
   "execution_count": 3,
   "id": "4743fef5",
   "metadata": {},
   "outputs": [],
   "source": [
    "data = pd.read_csv(\"C:/Users/adwiz/Documents/Courses/datascience_netology/datasets/nlp/ner_dataset.csv\", encoding=\"latin1\")\n",
    "data = data.fillna(method=\"ffill\")"
   ]
  },
  {
   "cell_type": "code",
   "execution_count": 4,
   "id": "5567e74e",
   "metadata": {},
   "outputs": [
    {
     "data": {
      "text/html": [
       "<div>\n",
       "<style scoped>\n",
       "    .dataframe tbody tr th:only-of-type {\n",
       "        vertical-align: middle;\n",
       "    }\n",
       "\n",
       "    .dataframe tbody tr th {\n",
       "        vertical-align: top;\n",
       "    }\n",
       "\n",
       "    .dataframe thead th {\n",
       "        text-align: right;\n",
       "    }\n",
       "</style>\n",
       "<table border=\"1\" class=\"dataframe\">\n",
       "  <thead>\n",
       "    <tr style=\"text-align: right;\">\n",
       "      <th></th>\n",
       "      <th>Sentence #</th>\n",
       "      <th>Word</th>\n",
       "      <th>POS</th>\n",
       "      <th>Tag</th>\n",
       "    </tr>\n",
       "  </thead>\n",
       "  <tbody>\n",
       "    <tr>\n",
       "      <th>0</th>\n",
       "      <td>Sentence: 1</td>\n",
       "      <td>Thousands</td>\n",
       "      <td>NNS</td>\n",
       "      <td>O</td>\n",
       "    </tr>\n",
       "    <tr>\n",
       "      <th>1</th>\n",
       "      <td>Sentence: 1</td>\n",
       "      <td>of</td>\n",
       "      <td>IN</td>\n",
       "      <td>O</td>\n",
       "    </tr>\n",
       "    <tr>\n",
       "      <th>2</th>\n",
       "      <td>Sentence: 1</td>\n",
       "      <td>demonstrators</td>\n",
       "      <td>NNS</td>\n",
       "      <td>O</td>\n",
       "    </tr>\n",
       "    <tr>\n",
       "      <th>3</th>\n",
       "      <td>Sentence: 1</td>\n",
       "      <td>have</td>\n",
       "      <td>VBP</td>\n",
       "      <td>O</td>\n",
       "    </tr>\n",
       "    <tr>\n",
       "      <th>4</th>\n",
       "      <td>Sentence: 1</td>\n",
       "      <td>marched</td>\n",
       "      <td>VBN</td>\n",
       "      <td>O</td>\n",
       "    </tr>\n",
       "    <tr>\n",
       "      <th>5</th>\n",
       "      <td>Sentence: 1</td>\n",
       "      <td>through</td>\n",
       "      <td>IN</td>\n",
       "      <td>O</td>\n",
       "    </tr>\n",
       "    <tr>\n",
       "      <th>6</th>\n",
       "      <td>Sentence: 1</td>\n",
       "      <td>London</td>\n",
       "      <td>NNP</td>\n",
       "      <td>B-geo</td>\n",
       "    </tr>\n",
       "    <tr>\n",
       "      <th>7</th>\n",
       "      <td>Sentence: 1</td>\n",
       "      <td>to</td>\n",
       "      <td>TO</td>\n",
       "      <td>O</td>\n",
       "    </tr>\n",
       "    <tr>\n",
       "      <th>8</th>\n",
       "      <td>Sentence: 1</td>\n",
       "      <td>protest</td>\n",
       "      <td>VB</td>\n",
       "      <td>O</td>\n",
       "    </tr>\n",
       "    <tr>\n",
       "      <th>9</th>\n",
       "      <td>Sentence: 1</td>\n",
       "      <td>the</td>\n",
       "      <td>DT</td>\n",
       "      <td>O</td>\n",
       "    </tr>\n",
       "  </tbody>\n",
       "</table>\n",
       "</div>"
      ],
      "text/plain": [
       "    Sentence #           Word  POS    Tag\n",
       "0  Sentence: 1      Thousands  NNS      O\n",
       "1  Sentence: 1             of   IN      O\n",
       "2  Sentence: 1  demonstrators  NNS      O\n",
       "3  Sentence: 1           have  VBP      O\n",
       "4  Sentence: 1        marched  VBN      O\n",
       "5  Sentence: 1        through   IN      O\n",
       "6  Sentence: 1         London  NNP  B-geo\n",
       "7  Sentence: 1             to   TO      O\n",
       "8  Sentence: 1        protest   VB      O\n",
       "9  Sentence: 1            the   DT      O"
      ]
     },
     "execution_count": 4,
     "metadata": {},
     "output_type": "execute_result"
    }
   ],
   "source": [
    "data.head(10)"
   ]
  },
  {
   "cell_type": "code",
   "execution_count": 5,
   "id": "b711ca48",
   "metadata": {},
   "outputs": [],
   "source": [
    "words = list(set(data[\"Word\"].values))"
   ]
  },
  {
   "cell_type": "code",
   "execution_count": 6,
   "id": "3d2a06d9",
   "metadata": {},
   "outputs": [
    {
     "data": {
      "text/plain": [
       "35178"
      ]
     },
     "execution_count": 6,
     "metadata": {},
     "output_type": "execute_result"
    }
   ],
   "source": [
    "n_words = len(words); n_words"
   ]
  },
  {
   "cell_type": "code",
   "execution_count": 7,
   "id": "eac870e3",
   "metadata": {},
   "outputs": [
    {
     "data": {
      "text/plain": [
       "O        887908\n",
       "B-geo     37644\n",
       "B-tim     20333\n",
       "B-org     20143\n",
       "I-per     17251\n",
       "B-per     16990\n",
       "I-org     16784\n",
       "B-gpe     15870\n",
       "I-geo      7414\n",
       "I-tim      6528\n",
       "B-art       402\n",
       "B-eve       308\n",
       "I-art       297\n",
       "I-eve       253\n",
       "B-nat       201\n",
       "I-gpe       198\n",
       "I-nat        51\n",
       "Name: Tag, dtype: int64"
      ]
     },
     "execution_count": 7,
     "metadata": {},
     "output_type": "execute_result"
    }
   ],
   "source": [
    "data['Tag'].value_counts()"
   ]
  },
  {
   "cell_type": "code",
   "execution_count": 8,
   "id": "bac5a8cf",
   "metadata": {},
   "outputs": [],
   "source": [
    "class SentenceGetter(object):\n",
    "    \n",
    "    def __init__(self, data):\n",
    "        self.n_sent = 1\n",
    "        self.data = data\n",
    "        self.empty = False\n",
    "        agg_func = lambda s: [(w, p, t) for w, p, t in zip(s[\"Word\"].values.tolist(),\n",
    "                                                           s[\"POS\"].values.tolist(),\n",
    "                                                           s[\"Tag\"].values.tolist())]\n",
    "        self.grouped = self.data.groupby(\"Sentence #\").apply(agg_func)\n",
    "        self.sentences = [s for s in self.grouped]\n",
    "        \n",
    "    def get_next(self):\n",
    "        try:\n",
    "            s = self.data[self.data[\"Sentence #\"] == \"Sentence: {}\".format(self.n_sent)]\n",
    "            self.n_sent += 1\n",
    "            return s[\"Word\"].values.tolist(), s[\"POS\"].values.tolist(), s[\"Tag\"].values.tolist()    \n",
    "        except:\n",
    "            self.empty = True\n",
    "            return None, None, None"
   ]
  },
  {
   "cell_type": "code",
   "execution_count": 9,
   "id": "688883dd",
   "metadata": {},
   "outputs": [
    {
     "name": "stdout",
     "output_type": "stream",
     "text": [
      "['Thousands', 'of', 'demonstrators', 'have', 'marched', 'through', 'London', 'to', 'protest', 'the', 'war', 'in', 'Iraq', 'and', 'demand', 'the', 'withdrawal', 'of', 'British', 'troops', 'from', 'that', 'country', '.'] ['NNS', 'IN', 'NNS', 'VBP', 'VBN', 'IN', 'NNP', 'TO', 'VB', 'DT', 'NN', 'IN', 'NNP', 'CC', 'VB', 'DT', 'NN', 'IN', 'JJ', 'NNS', 'IN', 'DT', 'NN', '.'] ['O', 'O', 'O', 'O', 'O', 'O', 'B-geo', 'O', 'O', 'O', 'O', 'O', 'B-geo', 'O', 'O', 'O', 'O', 'O', 'B-gpe', 'O', 'O', 'O', 'O', 'O']\n"
     ]
    }
   ],
   "source": [
    "getter = SentenceGetter(data)\n",
    "sent, pos, tag = getter.get_next()\n",
    "print(sent, pos, tag)"
   ]
  },
  {
   "cell_type": "code",
   "execution_count": 10,
   "id": "27a6f2d5",
   "metadata": {},
   "outputs": [
    {
     "data": {
      "image/png": "[encoded data removed]",
      "text/plain": [
       "<Figure size 432x288 with 1 Axes>"
      ]
     },
     "metadata": {},
     "output_type": "display_data"
    }
   ],
   "source": [
    "sentences = getter.sentences\n",
    "plt.hist([len(s) for s in sentences], bins=50)\n",
    "plt.show()"
   ]
  },
  {
   "cell_type": "code",
   "execution_count": 11,
   "id": "5aefe478",
   "metadata": {},
   "outputs": [],
   "source": [
    "class MemoryTagger(BaseEstimator, TransformerMixin):\n",
    "    \n",
    "    def fit(self, X, y):\n",
    "        '''\n",
    "        Expects a list of words as X and a list of tags as y.\n",
    "        '''\n",
    "        voc = {}\n",
    "        self.tags = []\n",
    "        for x, t in zip(X, y):\n",
    "            if t not in self.tags:\n",
    "                self.tags.append(t)\n",
    "            if x in voc:\n",
    "                if t in voc[x]:\n",
    "                    voc[x][t] += 1\n",
    "                else:\n",
    "                    voc[x][t] = 1\n",
    "            else:\n",
    "                voc[x] = {t: 1}\n",
    "        self.memory = {}\n",
    "        for k, d in voc.items():\n",
    "            self.memory[k] = max(d, key=d.get)\n",
    "    \n",
    "    def predict(self, X, y=None):\n",
    "        '''\n",
    "        Predict the the tag from memory. If word is unknown, predict 'O'.\n",
    "        '''\n",
    "        return [self.memory.get(x, 'O') for x in X]"
   ]
  },
  {
   "cell_type": "markdown",
   "id": "3e8e5038",
   "metadata": {},
   "source": [
    "#### Классификатор на правилах: MemoryTagger\n",
    "\n",
    "1. Запоминаем сколько раз и каким тегом было помечено слово\n",
    "2. Предсказываем самый частый тег\n",
    "3. Не работает для несловарных слов"
   ]
  },
  {
   "cell_type": "code",
   "execution_count": 12,
   "id": "ffa57219",
   "metadata": {},
   "outputs": [],
   "source": [
    "tagger = MemoryTagger()\n",
    "tagger.fit(sent, tag)"
   ]
  },
  {
   "cell_type": "code",
   "execution_count": 13,
   "id": "b5feb883",
   "metadata": {},
   "outputs": [
    {
     "name": "stdout",
     "output_type": "stream",
     "text": [
      "['Thousands', 'of', 'demonstrators', 'have', 'marched', 'through', 'London', 'to', 'protest', 'the', 'war', 'in', 'Iraq', 'and', 'demand', 'the', 'withdrawal', 'of', 'British', 'troops', 'from', 'that', 'country', '.']\n",
      "['O', 'O', 'O', 'O', 'O', 'O', 'B-geo', 'O', 'O', 'O', 'O', 'O', 'B-geo', 'O', 'O', 'O', 'O', 'O', 'B-gpe', 'O', 'O', 'O', 'O', 'O']\n"
     ]
    }
   ],
   "source": [
    "print(sent)\n",
    "print(tagger.predict(sent))"
   ]
  },
  {
   "cell_type": "code",
   "execution_count": 14,
   "id": "180afb7e",
   "metadata": {},
   "outputs": [],
   "source": [
    "words = data['Word'].values.tolist()\n",
    "tags = data['Tag'].values.tolist()\n",
    "pred = cross_val_predict(estimator=MemoryTagger(), X=words, y=tags, cv=5)"
   ]
  },
  {
   "cell_type": "code",
   "execution_count": 15,
   "id": "e6bee501",
   "metadata": {},
   "outputs": [
    {
     "name": "stdout",
     "output_type": "stream",
     "text": [
      "              precision    recall  f1-score   support\n",
      "\n",
      "       B-art       0.20      0.05      0.09       402\n",
      "       B-eve       0.54      0.25      0.34       308\n",
      "       B-geo       0.78      0.85      0.81     37644\n",
      "       B-gpe       0.94      0.93      0.94     15870\n",
      "       B-nat       0.42      0.28      0.33       201\n",
      "       B-org       0.67      0.49      0.56     20143\n",
      "       B-per       0.78      0.65      0.71     16990\n",
      "       B-tim       0.87      0.77      0.82     20333\n",
      "       I-art       0.04      0.01      0.01       297\n",
      "       I-eve       0.39      0.12      0.18       253\n",
      "       I-geo       0.73      0.58      0.65      7414\n",
      "       I-gpe       0.62      0.45      0.52       198\n",
      "       I-nat       0.00      0.00      0.00        51\n",
      "       I-org       0.69      0.53      0.60     16784\n",
      "       I-per       0.73      0.65      0.69     17251\n",
      "       I-tim       0.58      0.13      0.21      6528\n",
      "           O       0.97      0.99      0.98    887908\n",
      "\n",
      "    accuracy                           0.95   1048575\n",
      "   macro avg       0.59      0.45      0.50   1048575\n",
      "weighted avg       0.94      0.95      0.94   1048575\n",
      "\n"
     ]
    }
   ],
   "source": [
    "report = classification_report(y_pred=pred, y_true=tags)\n",
    "print(report)"
   ]
  },
  {
   "cell_type": "markdown",
   "id": "a4d3a823",
   "metadata": {},
   "source": [
    "#### Случайный лес\n",
    "Зададим признаковое пространство."
   ]
  },
  {
   "cell_type": "code",
   "execution_count": 16,
   "id": "ee01c79a",
   "metadata": {},
   "outputs": [
    {
     "data": {
      "text/plain": [
       "array([1, 0, 0, 5, 0, 1])"
      ]
     },
     "execution_count": 16,
     "metadata": {},
     "output_type": "execute_result"
    }
   ],
   "source": [
    "def feature_map(word):\n",
    "    '''Simple feature map.'''\n",
    "    return np.array([word.istitle(), word.islower(), word.isupper(), len(word),\n",
    "                    word.isdigit(), word.isalpha()])\n",
    "\n",
    "feature_map('Paris')"
   ]
  },
  {
   "cell_type": "code",
   "execution_count": 17,
   "id": "1637b8b3",
   "metadata": {},
   "outputs": [],
   "source": [
    "words = [feature_map(w) for w in data['Word'].values.tolist()]"
   ]
  },
  {
   "cell_type": "code",
   "execution_count": 18,
   "id": "85ba4e29",
   "metadata": {},
   "outputs": [],
   "source": [
    "pred = cross_val_predict(RandomForestClassifier(n_estimators=20),\n",
    "                        X=words, y=tags, cv=5)"
   ]
  },
  {
   "cell_type": "code",
   "execution_count": 19,
   "id": "ddef7071",
   "metadata": {},
   "outputs": [
    {
     "name": "stdout",
     "output_type": "stream",
     "text": [
      "              precision    recall  f1-score   support\n",
      "\n",
      "       B-art       0.00      0.00      0.00       402\n",
      "       B-eve       1.00      0.00      0.00       308\n",
      "       B-geo       0.26      0.80      0.40     37644\n",
      "       B-gpe       0.25      0.04      0.07     15870\n",
      "       B-nat       1.00      0.00      0.00       201\n",
      "       B-org       0.65      0.17      0.27     20143\n",
      "       B-per       0.97      0.20      0.33     16990\n",
      "       B-tim       0.29      0.32      0.30     20333\n",
      "       I-art       1.00      0.00      0.00       297\n",
      "       I-eve       1.00      0.00      0.00       253\n",
      "       I-geo       1.00      0.00      0.00      7414\n",
      "       I-gpe       1.00      0.00      0.00       198\n",
      "       I-nat       0.00      0.00      0.00        51\n",
      "       I-org       0.36      0.03      0.06     16784\n",
      "       I-per       0.46      0.02      0.04     17251\n",
      "       I-tim       0.50      0.06      0.11      6528\n",
      "           O       0.97      0.98      0.97    887908\n",
      "\n",
      "    accuracy                           0.87   1048575\n",
      "   macro avg       0.63      0.15      0.15   1048575\n",
      "weighted avg       0.89      0.87      0.86   1048575\n",
      "\n"
     ]
    }
   ],
   "source": [
    "report = classification_report(y_pred=pred, y_true=tags, zero_division=True)\n",
    "print(report)"
   ]
  },
  {
   "cell_type": "code",
   "execution_count": 20,
   "id": "09e134c9",
   "metadata": {},
   "outputs": [],
   "source": [
    "from sklearn.preprocessing import LabelEncoder\n",
    "from sklearn.ensemble import RandomForestClassifier\n",
    "from sklearn.pipeline import Pipeline\n",
    "\n",
    "\n",
    "class FeatureTransformer(BaseEstimator, TransformerMixin):\n",
    "    \n",
    "    def __init__(self):\n",
    "        self.memory_tagger = MemoryTagger()\n",
    "        self.tag_encoder = LabelEncoder()\n",
    "        self.pos_encoder = LabelEncoder()\n",
    "        \n",
    "    def fit(self, X, y):\n",
    "        words = X[\"Word\"].values.tolist()\n",
    "        self.pos = X[\"POS\"].values.tolist()\n",
    "        tags = X[\"Tag\"].values.tolist()\n",
    "        self.memory_tagger.fit(words, tags)\n",
    "        self.tag_encoder.fit(tags)\n",
    "        self.pos_encoder.fit(self.pos)\n",
    "        return self\n",
    "    \n",
    "    def transform(self, X, y=None):\n",
    "        def pos_default(p):\n",
    "            if p in self.pos:\n",
    "                return self.pos_encoder.transform([p])[0]\n",
    "            else:\n",
    "                return -1\n",
    "        \n",
    "        pos = X[\"POS\"].values.tolist()\n",
    "        words = X[\"Word\"].values.tolist()\n",
    "        out = []\n",
    "        for i in range(len(words)):\n",
    "            w = words[i]\n",
    "            p = pos[i]\n",
    "            if i < len(words) - 1:\n",
    "                wp = self.tag_encoder.transform(self.memory_tagger.predict([words[i+1]]))[0]\n",
    "                posp = pos_default(pos[i+1])\n",
    "            else:\n",
    "                wp = self.tag_encoder.transform(['O'])[0]\n",
    "                posp = pos_default(\".\")\n",
    "            if i > 0:\n",
    "                if words[i-1] != \".\":\n",
    "                    wm = self.tag_encoder.transform(self.memory_tagger.predict([words[i-1]]))[0]\n",
    "                    posm = pos_default(pos[i-1])\n",
    "                else:\n",
    "                    wm = self.tag_encoder.transform(['O'])[0]\n",
    "                    posm = pos_default(\".\")\n",
    "            else:\n",
    "                posm = pos_default(\".\")\n",
    "                wm = self.tag_encoder.transform(['O'])[0]\n",
    "            out.append(np.array([w.istitle(), w.islower(), w.isupper(), len(w), w.isdigit(), w.isalpha(),\n",
    "                                 self.tag_encoder.transform(self.memory_tagger.predict([w]))[0],\n",
    "                                 pos_default(p), wp, wm, posp, posm]))\n",
    "        return out"
   ]
  },
  {
   "cell_type": "markdown",
   "id": "a8c3566c",
   "metadata": {},
   "source": [
    "Признаковое пространство: FeatureTransformer\n",
    "  * w.istitle(), w.islower(), len(w), w.isdigit(), w.isalpha()\n",
    "  * самый частый тег этого слова: memory_tagger.predict([w])\n",
    "  * самый частый тег и часть речи левого слова\n",
    "  * самый частый тег и часть речи правого слова"
   ]
  },
  {
   "cell_type": "code",
   "execution_count": 21,
   "id": "dcbe6dba",
   "metadata": {},
   "outputs": [
    {
     "data": {
      "text/plain": [
       "[array([1, 0, 0, 9, 0, 1, 2, 7, 2, 2, 3, 0], dtype=int64),\n",
       " array([0, 1, 0, 2, 0, 1, 2, 3, 2, 2, 7, 7], dtype=int64),\n",
       " array([ 0,  1,  0, 13,  0,  1,  2,  7,  2,  2, 11,  3], dtype=int64),\n",
       " array([ 0,  1,  0,  4,  0,  1,  2, 11,  2,  2, 10,  7], dtype=int64),\n",
       " array([ 0,  1,  0,  7,  0,  1,  2, 10,  2,  2,  3, 11], dtype=int64),\n",
       " array([ 0,  1,  0,  7,  0,  1,  2,  3,  0,  2,  6, 10], dtype=int64),\n",
       " array([1, 0, 0, 6, 0, 1, 0, 6, 2, 2, 8, 3], dtype=int64),\n",
       " array([0, 1, 0, 2, 0, 1, 2, 8, 2, 0, 9, 6], dtype=int64),\n",
       " array([0, 1, 0, 7, 0, 1, 2, 9, 2, 2, 2, 8], dtype=int64),\n",
       " array([0, 1, 0, 3, 0, 1, 2, 2, 2, 2, 5, 9], dtype=int64),\n",
       " array([0, 1, 0, 3, 0, 1, 2, 5, 2, 2, 3, 2], dtype=int64),\n",
       " array([0, 1, 0, 2, 0, 1, 2, 3, 0, 2, 6, 5], dtype=int64),\n",
       " array([1, 0, 0, 4, 0, 1, 0, 6, 2, 2, 1, 3], dtype=int64),\n",
       " array([0, 1, 0, 3, 0, 1, 2, 1, 2, 0, 9, 6], dtype=int64),\n",
       " array([0, 1, 0, 6, 0, 1, 2, 9, 2, 2, 2, 1], dtype=int64),\n",
       " array([0, 1, 0, 3, 0, 1, 2, 2, 2, 2, 5, 9], dtype=int64),\n",
       " array([ 0,  1,  0, 10,  0,  1,  2,  5,  2,  2,  3,  2], dtype=int64),\n",
       " array([0, 1, 0, 2, 0, 1, 2, 3, 1, 2, 4, 5], dtype=int64),\n",
       " array([1, 0, 0, 7, 0, 1, 1, 4, 2, 2, 7, 3], dtype=int64),\n",
       " array([0, 1, 0, 6, 0, 1, 2, 7, 2, 1, 3, 4], dtype=int64),\n",
       " array([0, 1, 0, 4, 0, 1, 2, 3, 2, 2, 2, 7], dtype=int64),\n",
       " array([0, 1, 0, 4, 0, 1, 2, 2, 2, 2, 5, 3], dtype=int64),\n",
       " array([0, 1, 0, 7, 0, 1, 2, 5, 2, 2, 0, 2], dtype=int64),\n",
       " array([0, 0, 0, 1, 0, 0, 2, 0, 2, 2, 0, 5], dtype=int64)]"
      ]
     },
     "execution_count": 21,
     "metadata": {},
     "output_type": "execute_result"
    }
   ],
   "source": [
    "sentl = data[:24]\n",
    "ft = FeatureTransformer()\n",
    "ft.fit(sentl, None)\n",
    "ft.transform(sentl)"
   ]
  },
  {
   "cell_type": "code",
   "execution_count": 22,
   "id": "6763e620",
   "metadata": {},
   "outputs": [],
   "source": [
    "pred = cross_val_predict(Pipeline([('feature_map', FeatureTransformer()),\n",
    "                                  ('clf', RandomForestClassifier(n_estimators=20, n_jobs=3))]),\n",
    "                        X=data, y=tags, cv=5)"
   ]
  },
  {
   "cell_type": "code",
   "execution_count": 23,
   "id": "0caff509",
   "metadata": {},
   "outputs": [
    {
     "name": "stdout",
     "output_type": "stream",
     "text": [
      "              precision    recall  f1-score   support\n",
      "\n",
      "       B-art       0.16      0.08      0.10       402\n",
      "       B-eve       0.42      0.27      0.33       308\n",
      "       B-geo       0.83      0.86      0.84     37644\n",
      "       B-gpe       0.98      0.93      0.95     15870\n",
      "       B-nat       0.19      0.23      0.21       201\n",
      "       B-org       0.73      0.64      0.68     20143\n",
      "       B-per       0.82      0.75      0.78     16990\n",
      "       B-tim       0.89      0.80      0.84     20333\n",
      "       I-art       0.04      0.01      0.02       297\n",
      "       I-eve       0.25      0.13      0.17       253\n",
      "       I-geo       0.76      0.67      0.71      7414\n",
      "       I-gpe       0.71      0.44      0.54       198\n",
      "       I-nat       0.41      0.18      0.25        51\n",
      "       I-org       0.73      0.68      0.71     16784\n",
      "       I-per       0.85      0.75      0.80     17251\n",
      "       I-tim       0.82      0.53      0.64      6528\n",
      "           O       0.98      0.99      0.99    887908\n",
      "\n",
      "    accuracy                           0.96   1048575\n",
      "   macro avg       0.62      0.53      0.56   1048575\n",
      "weighted avg       0.96      0.96      0.96   1048575\n",
      "\n"
     ]
    }
   ],
   "source": [
    "report = classification_report(y_pred=pred, y_true=tags)\n",
    "print(report)"
   ]
  },
  {
   "cell_type": "markdown",
   "id": "58a9bcbc",
   "metadata": {},
   "source": [
    "#### Условные случайные поля\n",
    "\n",
    "\n",
    "Лучшая последовательность тегов:  $ \\hat{Y} =  \\arg \\max_Y P(Y|X) $\n",
    "\n",
    "<img src=\"img/ner_seq1.png\" width=\"400\">"
   ]
  },
  {
   "cell_type": "markdown",
   "id": "d257fb53",
   "metadata": {},
   "source": [
    "Лог-линейная модель:\n",
    "* $F(y,x)$ - оценка качества одного разбора\n",
    "* $\\lambda$ - веса\n",
    "* Глобальная нормализация:\n",
    "\n",
    "$p(y|x, \\lambda) =  \\frac{exp{\\sum_{i=1}^k \\lambda_i F_i(y,x) }}{\\sum_{y' \\in C^n} exp { \\sum_{i=1}^k \\lambda_i F_i(y',x) }} $\n",
    "\n",
    "\n",
    "* $F(y,x) = \\sum_i f(y_{i-1}, y_i, x, i)$ - (транзиторный) признак, $f \\in {0,1}$\n",
    "\n",
    "Пример:\n",
    "\n",
    "$f = 1 : y_{i-1} = $O, $y_i = $LOC, $x = $Пушкин\n",
    "\n",
    "\n",
    "$f = 0 : иначе"
   ]
  },
  {
   "cell_type": "markdown",
   "id": "4c59801b",
   "metadata": {},
   "source": [
    "#### Классификатор на основе CRF: crf_suite\n",
    "word2features задает признаковое пространство для текущего слова, его левого и правого\n",
    "контекста"
   ]
  },
  {
   "cell_type": "code",
   "execution_count": 24,
   "id": "7cf17738",
   "metadata": {},
   "outputs": [],
   "source": [
    "def word2features(sent, i):\n",
    "    word = sent[i][0]\n",
    "    postag = sent[i][1]\n",
    "    \n",
    "    features = {\n",
    "        'bias': 1.0,\n",
    "        'word.lower()': word.lower(),\n",
    "        'word[-3:]': word[-3:],\n",
    "        'word[-2:]': word[-2:],\n",
    "        'word.isupper()': word.isupper(), \n",
    "        'word.istitle()': word.istitle(),\n",
    "        'word.istitle()': word.isdigit(),\n",
    "        'postag': postag,\n",
    "        'postag[:2]': postag[:2],\n",
    "    }\n",
    "    if i > 0:\n",
    "        word1 = sent[i-1][0]\n",
    "        postag1 = sent[i-1][1]\n",
    "        features.update({\n",
    "            '-1:word.lower()': word1.lower(),\n",
    "            '-1:word.istitle()': word1.istitle(),\n",
    "            '-1:word.isupper()': word1.isupper(),\n",
    "            '-1:postag': postag1,\n",
    "            '-1:postag[:2]': postag1[:2],\n",
    "        })\n",
    "    else:\n",
    "        features['BOS'] = True\n",
    "\n",
    "    if i < len(sent)-1:\n",
    "        word1 = sent[i+1][0]\n",
    "        postag1 = sent[i+1][1]\n",
    "        features.update({\n",
    "            '+1:word.lower()': word1.lower(),\n",
    "            '+1:word.istitle()': word1.istitle(),\n",
    "            '+1:word.isupper()': word1.isupper(),\n",
    "            '+1:postag': postag1,\n",
    "            '+1:postag[:2]': postag1[:2],\n",
    "        })\n",
    "    else:\n",
    "        features['EOS'] = True\n",
    "\n",
    "    return features\n",
    "\n",
    "\n",
    "def sent2features(sent):\n",
    "    return [word2features(sent, i) for i in range(len(sent))]\n",
    "\n",
    "def sent2labels(sent):\n",
    "    return [label for token, postag, label in sent]\n",
    "\n",
    "def sent2tokens(sent):\n",
    "    return [token for token, postag, label in sent]"
   ]
  },
  {
   "cell_type": "code",
   "execution_count": 25,
   "id": "73abcf88",
   "metadata": {},
   "outputs": [
    {
     "data": {
      "text/plain": [
       "{'bias': 1.0,\n",
       " 'word.lower()': 'thousands',\n",
       " 'word[-3:]': 'nds',\n",
       " 'word[-2:]': 'ds',\n",
       " 'word.isupper()': False,\n",
       " 'word.istitle()': False,\n",
       " 'postag': 'NNS',\n",
       " 'postag[:2]': 'NN',\n",
       " 'BOS': True,\n",
       " '+1:word.lower()': 'of',\n",
       " '+1:word.istitle()': False,\n",
       " '+1:word.isupper()': False,\n",
       " '+1:postag': 'IN',\n",
       " '+1:postag[:2]': 'IN'}"
      ]
     },
     "execution_count": 25,
     "metadata": {},
     "output_type": "execute_result"
    }
   ],
   "source": [
    "X = [sent2features(s) for s in sentences]\n",
    "y = [sent2labels(s) for s in sentences]\n",
    "X[0][0]"
   ]
  },
  {
   "cell_type": "code",
   "execution_count": 26,
   "id": "4f787e2d",
   "metadata": {},
   "outputs": [],
   "source": [
    "from sklearn_crfsuite import CRF\n",
    "\n",
    "crf = CRF(algorithm='lbfgs',\n",
    "          c1=0.1,\n",
    "          c2=0.1,\n",
    "          max_iterations=100,\n",
    "          all_possible_transitions=False)"
   ]
  },
  {
   "cell_type": "code",
   "execution_count": null,
   "id": "a33e9a5c",
   "metadata": {},
   "outputs": [
    {
     "name": "stderr",
     "output_type": "stream",
     "text": [
      "C:\\Users\\adwiz\\anaconda3\\lib\\site-packages\\sklearn\\base.py:209: FutureWarning: From version 0.24, get_params will raise an AttributeError if a parameter cannot be retrieved as an instance attribute. Previously it would return None.\n",
      "  warnings.warn('From version 0.24, get_params will raise an '\n"
     ]
    }
   ],
   "source": [
    "pred = cross_val_predict(estimator=crf, X=X, y=y, cv=5)\n",
    "report = flat_classification_report(y_pred=pred, y_true=y)\n",
    "print(report)"
   ]
  },
  {
   "cell_type": "code",
   "execution_count": null,
   "id": "69b9a414",
   "metadata": {},
   "outputs": [],
   "source": [
    "crf.fit(X, y)"
   ]
  },
  {
   "cell_type": "code",
   "execution_count": null,
   "id": "d59d9eda",
   "metadata": {},
   "outputs": [],
   "source": [
    "eli5.show_weightsJ(crf, top=30)"
   ]
  },
  {
   "cell_type": "code",
   "execution_count": null,
   "id": "11a6f437",
   "metadata": {},
   "outputs": [],
   "source": [
    "crf = CRF(algoritm='lbfgs',\n",
    "         c1=10,\n",
    "         c2=.1,\n",
    "         max_iteration=100,\n",
    "         all_possible_transitions=False)"
   ]
  },
  {
   "cell_type": "code",
   "execution_count": null,
   "id": "38be840b",
   "metadata": {},
   "outputs": [],
   "source": [
    "pred = cross_val_predict(estimator=crf, X=X, y=y, cv=5)"
   ]
  },
  {
   "cell_type": "code",
   "execution_count": null,
   "id": "29e3b90f",
   "metadata": {},
   "outputs": [],
   "source": [
    "report = flat_classification_report(y_pred=pred, y_true=y)\n",
    "print(report)"
   ]
  },
  {
   "cell_type": "code",
   "execution_count": null,
   "id": "42c6ad77",
   "metadata": {},
   "outputs": [],
   "source": [
    "crf.fit(X, y)"
   ]
  },
  {
   "cell_type": "code",
   "execution_count": null,
   "id": "1e8c4205",
   "metadata": {},
   "outputs": [],
   "source": [
    "eli5.show_weights(crf, top=30)"
   ]
  },
  {
   "cell_type": "code",
   "execution_count": null,
   "id": "c6780178",
   "metadata": {},
   "outputs": [],
   "source": []
  }
 ],
 "metadata": {
  "kernelspec": {
   "display_name": "Python 3 (ipykernel)",
   "language": "python",
   "name": "python3"
  },
  "language_info": {
   "codemirror_mode": {
    "name": "ipython",
    "version": 3
   },
   "file_extension": ".py",
   "mimetype": "text/x-python",
   "name": "python",
   "nbconvert_exporter": "python",
   "pygments_lexer": "ipython3",
   "version": "3.8.8"
  },
  "toc": {
   "base_numbering": 1,
   "nav_menu": {},
   "number_sections": false,
   "sideBar": true,
   "skip_h1_title": false,
   "title_cell": "Table of Contents",
   "title_sidebar": "Contents",
   "toc_cell": false,
   "toc_position": {},
   "toc_section_display": true,
   "toc_window_display": false
  }
 },
 "nbformat": 4,
 "nbformat_minor": 5
}
