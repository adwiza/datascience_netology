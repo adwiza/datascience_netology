{
 "cells": [
  {
   "cell_type": "markdown",
   "id": "48a9772a",
   "metadata": {},
   "source": [
    "# АНСАМБЛИ МОДЕЛЕЙ"
   ]
  },
  {
   "cell_type": "code",
   "execution_count": 1,
   "id": "dd4a140c",
   "metadata": {},
   "outputs": [],
   "source": [
    "import matplotlib.pyplot as plt\n",
    "import pandas as pd\n",
    "import numpy as np\n",
    "import tqdm\n",
    "import seaborn as sns\n",
    "\n",
    "%matplotlib inline\n",
    "%config InlineBackend.figure_format = 'retina'\n",
    "\n",
    "#устраним ошибки со шрифтами\n",
    "from matplotlib import rcParams\n",
    "rcParams['font.family'] = 'sans-serif'\n",
    "rcParams['font.sans-serif'] = ['DejaVu Sans']"
   ]
  },
  {
   "cell_type": "markdown",
   "id": "dcc8dcda",
   "metadata": {},
   "source": [
    "# Часть 1. Бэггинг"
   ]
  },
  {
   "cell_type": "markdown",
   "id": "0aa865ae",
   "metadata": {},
   "source": [
    "## Описание задачи\n",
    "\n",
    "Используем данные страхового подразделения BNP Paribas из соревнования\n",
    "\n",
    "https://www.kaggle.com/c/bnp-paribas-cardif-claims-management\n",
    "\n",
    "Решается задача классификации страховых случаев:\n",
    "    1. Случаи, требующие дополнительных документов для подтвердения (0)\n",
    "    2. Случаи, которые можно подтверждать автоматически на основе имеющейся информации (1)"
   ]
  },
  {
   "cell_type": "markdown",
   "id": "0a0c317b",
   "metadata": {},
   "source": [
    "## Загрузка данных"
   ]
  },
  {
   "cell_type": "code",
   "execution_count": 2,
   "id": "c2b95bf5",
   "metadata": {},
   "outputs": [
    {
     "data": {
      "text/html": [
       "<div>\n",
       "<style scoped>\n",
       "    .dataframe tbody tr th:only-of-type {\n",
       "        vertical-align: middle;\n",
       "    }\n",
       "\n",
       "    .dataframe tbody tr th {\n",
       "        vertical-align: top;\n",
       "    }\n",
       "\n",
       "    .dataframe thead th {\n",
       "        text-align: right;\n",
       "    }\n",
       "</style>\n",
       "<table border=\"1\" class=\"dataframe\">\n",
       "  <thead>\n",
       "    <tr style=\"text-align: right;\">\n",
       "      <th></th>\n",
       "      <th>ID</th>\n",
       "      <th>target</th>\n",
       "      <th>v1</th>\n",
       "      <th>v2</th>\n",
       "      <th>v3</th>\n",
       "      <th>v4</th>\n",
       "      <th>v5</th>\n",
       "      <th>v6</th>\n",
       "      <th>v7</th>\n",
       "      <th>v8</th>\n",
       "      <th>...</th>\n",
       "      <th>v122</th>\n",
       "      <th>v123</th>\n",
       "      <th>v124</th>\n",
       "      <th>v125</th>\n",
       "      <th>v126</th>\n",
       "      <th>v127</th>\n",
       "      <th>v128</th>\n",
       "      <th>v129</th>\n",
       "      <th>v130</th>\n",
       "      <th>v131</th>\n",
       "    </tr>\n",
       "  </thead>\n",
       "  <tbody>\n",
       "    <tr>\n",
       "      <th>0</th>\n",
       "      <td>3</td>\n",
       "      <td>1</td>\n",
       "      <td>1.335739</td>\n",
       "      <td>8.727474</td>\n",
       "      <td>C</td>\n",
       "      <td>3.921026</td>\n",
       "      <td>7.915266</td>\n",
       "      <td>2.599278</td>\n",
       "      <td>3.176895</td>\n",
       "      <td>0.012941</td>\n",
       "      <td>...</td>\n",
       "      <td>8.000000</td>\n",
       "      <td>1.989780</td>\n",
       "      <td>0.035754</td>\n",
       "      <td>AU</td>\n",
       "      <td>1.804126</td>\n",
       "      <td>3.113719</td>\n",
       "      <td>2.024285</td>\n",
       "      <td>0</td>\n",
       "      <td>0.636365</td>\n",
       "      <td>2.857144</td>\n",
       "    </tr>\n",
       "    <tr>\n",
       "      <th>1</th>\n",
       "      <td>4</td>\n",
       "      <td>1</td>\n",
       "      <td>NaN</td>\n",
       "      <td>NaN</td>\n",
       "      <td>C</td>\n",
       "      <td>NaN</td>\n",
       "      <td>9.191265</td>\n",
       "      <td>NaN</td>\n",
       "      <td>NaN</td>\n",
       "      <td>2.301630</td>\n",
       "      <td>...</td>\n",
       "      <td>NaN</td>\n",
       "      <td>NaN</td>\n",
       "      <td>0.598896</td>\n",
       "      <td>AF</td>\n",
       "      <td>NaN</td>\n",
       "      <td>NaN</td>\n",
       "      <td>1.957825</td>\n",
       "      <td>0</td>\n",
       "      <td>NaN</td>\n",
       "      <td>NaN</td>\n",
       "    </tr>\n",
       "    <tr>\n",
       "      <th>2</th>\n",
       "      <td>5</td>\n",
       "      <td>1</td>\n",
       "      <td>0.943877</td>\n",
       "      <td>5.310079</td>\n",
       "      <td>C</td>\n",
       "      <td>4.410969</td>\n",
       "      <td>5.326159</td>\n",
       "      <td>3.979592</td>\n",
       "      <td>3.928571</td>\n",
       "      <td>0.019645</td>\n",
       "      <td>...</td>\n",
       "      <td>9.333333</td>\n",
       "      <td>2.477596</td>\n",
       "      <td>0.013452</td>\n",
       "      <td>AE</td>\n",
       "      <td>1.773709</td>\n",
       "      <td>3.922193</td>\n",
       "      <td>1.120468</td>\n",
       "      <td>2</td>\n",
       "      <td>0.883118</td>\n",
       "      <td>1.176472</td>\n",
       "    </tr>\n",
       "    <tr>\n",
       "      <th>3</th>\n",
       "      <td>6</td>\n",
       "      <td>1</td>\n",
       "      <td>0.797415</td>\n",
       "      <td>8.304757</td>\n",
       "      <td>C</td>\n",
       "      <td>4.225930</td>\n",
       "      <td>11.627438</td>\n",
       "      <td>2.097700</td>\n",
       "      <td>1.987549</td>\n",
       "      <td>0.171947</td>\n",
       "      <td>...</td>\n",
       "      <td>7.018256</td>\n",
       "      <td>1.812795</td>\n",
       "      <td>0.002267</td>\n",
       "      <td>CJ</td>\n",
       "      <td>1.415230</td>\n",
       "      <td>2.954381</td>\n",
       "      <td>1.990847</td>\n",
       "      <td>1</td>\n",
       "      <td>1.677108</td>\n",
       "      <td>1.034483</td>\n",
       "    </tr>\n",
       "    <tr>\n",
       "      <th>4</th>\n",
       "      <td>8</td>\n",
       "      <td>1</td>\n",
       "      <td>NaN</td>\n",
       "      <td>NaN</td>\n",
       "      <td>C</td>\n",
       "      <td>NaN</td>\n",
       "      <td>NaN</td>\n",
       "      <td>NaN</td>\n",
       "      <td>NaN</td>\n",
       "      <td>NaN</td>\n",
       "      <td>...</td>\n",
       "      <td>NaN</td>\n",
       "      <td>NaN</td>\n",
       "      <td>NaN</td>\n",
       "      <td>Z</td>\n",
       "      <td>NaN</td>\n",
       "      <td>NaN</td>\n",
       "      <td>NaN</td>\n",
       "      <td>0</td>\n",
       "      <td>NaN</td>\n",
       "      <td>NaN</td>\n",
       "    </tr>\n",
       "  </tbody>\n",
       "</table>\n",
       "<p>5 rows × 133 columns</p>\n",
       "</div>"
      ],
      "text/plain": [
       "   ID  target        v1        v2 v3        v4         v5        v6        v7  \\\n",
       "0   3       1  1.335739  8.727474  C  3.921026   7.915266  2.599278  3.176895   \n",
       "1   4       1       NaN       NaN  C       NaN   9.191265       NaN       NaN   \n",
       "2   5       1  0.943877  5.310079  C  4.410969   5.326159  3.979592  3.928571   \n",
       "3   6       1  0.797415  8.304757  C  4.225930  11.627438  2.097700  1.987549   \n",
       "4   8       1       NaN       NaN  C       NaN        NaN       NaN       NaN   \n",
       "\n",
       "         v8  ...      v122      v123      v124  v125      v126      v127  \\\n",
       "0  0.012941  ...  8.000000  1.989780  0.035754    AU  1.804126  3.113719   \n",
       "1  2.301630  ...       NaN       NaN  0.598896    AF       NaN       NaN   \n",
       "2  0.019645  ...  9.333333  2.477596  0.013452    AE  1.773709  3.922193   \n",
       "3  0.171947  ...  7.018256  1.812795  0.002267    CJ  1.415230  2.954381   \n",
       "4       NaN  ...       NaN       NaN       NaN     Z       NaN       NaN   \n",
       "\n",
       "       v128  v129      v130      v131  \n",
       "0  2.024285     0  0.636365  2.857144  \n",
       "1  1.957825     0       NaN       NaN  \n",
       "2  1.120468     2  0.883118  1.176472  \n",
       "3  1.990847     1  1.677108  1.034483  \n",
       "4       NaN     0       NaN       NaN  \n",
       "\n",
       "[5 rows x 133 columns]"
      ]
     },
     "execution_count": 2,
     "metadata": {},
     "output_type": "execute_result"
    }
   ],
   "source": [
    "data = pd.read_csv('datasets/ensembles/train.csv')\n",
    "\n",
    "data.head()"
   ]
  },
  {
   "cell_type": "markdown",
   "id": "8047c802",
   "metadata": {},
   "source": [
    "Уменьшим размер данных для ускорения обучения, возмем случайную подвыборку 20% данных со стратификацией"
   ]
  },
  {
   "cell_type": "code",
   "execution_count": 3,
   "id": "a53c5716",
   "metadata": {},
   "outputs": [],
   "source": [
    "from sklearn.model_selection import StratifiedShuffleSplit\n",
    "\n",
    "random_splitter = StratifiedShuffleSplit(n_splits=1, test_size=.2, random_state=777)\n",
    "\n",
    "for train_index, test_index in random_splitter.split(data, data.target):\n",
    "    data = data.iloc[test_index]"
   ]
  },
  {
   "cell_type": "markdown",
   "id": "72f420bf",
   "metadata": {},
   "source": [
    "Разбиение на обучение и hold-out тест 70/30. Данных досттаточно много, поэтому можно принебречь честной кросс-валидацией и оценивать модель\n",
    "на тесте"
   ]
  },
  {
   "cell_type": "code",
   "execution_count": 4,
   "id": "cd46c42d",
   "metadata": {},
   "outputs": [],
   "source": [
    "splitter = StratifiedShuffleSplit(n_splits=1, test_size=.3, random_state=777)\n",
    "\n",
    "for train_index, test_index in splitter.split(data, data.target):\n",
    "    d_train = data.iloc[train_index]\n",
    "    d_test = data.iloc[test_index]\n",
    "    \n",
    "    y_train = data['target'].iloc[train_index]\n",
    "    y_test = data['target'].iloc[test_index]"
   ]
  },
  {
   "cell_type": "markdown",
   "id": "04a0261c",
   "metadata": {},
   "source": [
    "## Первичный анализ"
   ]
  },
  {
   "cell_type": "markdown",
   "id": "69e7a3c8",
   "metadata": {},
   "source": [
    "Размер датасета"
   ]
  },
  {
   "cell_type": "code",
   "execution_count": 5,
   "id": "42891bb2",
   "metadata": {},
   "outputs": [
    {
     "data": {
      "text/plain": [
       "(22865, 133)"
      ]
     },
     "execution_count": 5,
     "metadata": {},
     "output_type": "execute_result"
    }
   ],
   "source": [
    "data.shape"
   ]
  },
  {
   "cell_type": "markdown",
   "id": "d6786008",
   "metadata": {},
   "source": [
    "Распределение значений таргета (event rate)"
   ]
  },
  {
   "cell_type": "code",
   "execution_count": 6,
   "id": "e6d69fe9",
   "metadata": {},
   "outputs": [
    {
     "data": {
      "text/plain": [
       "1    0.761207\n",
       "0    0.238793\n",
       "Name: target, dtype: float64"
      ]
     },
     "execution_count": 6,
     "metadata": {},
     "output_type": "execute_result"
    }
   ],
   "source": [
    "data.target.value_counts()/len(data)"
   ]
  },
  {
   "cell_type": "markdown",
   "id": "58a0be42",
   "metadata": {},
   "source": [
    "## Предобработка данных"
   ]
  },
  {
   "cell_type": "markdown",
   "id": "e3773561",
   "metadata": {},
   "source": [
    "Находим категориальные признаки\n",
    "\n",
    "Чтобы в разы не увеличивать число признаков при построении dummi, будем использовать категориальные\n",
    "признаки с < 30 уникальных значений"
   ]
  },
  {
   "cell_type": "code",
   "execution_count": 7,
   "id": "3099fd4c",
   "metadata": {},
   "outputs": [
    {
     "data": {
      "text/plain": [
       "ID          int64\n",
       "target      int64\n",
       "v1        float64\n",
       "v2        float64\n",
       "v3         object\n",
       "v4        float64\n",
       "v5        float64\n",
       "v6        float64\n",
       "v7        float64\n",
       "v8        float64\n",
       "v9        float64\n",
       "v10       float64\n",
       "v11       float64\n",
       "v12       float64\n",
       "v13       float64\n",
       "v14       float64\n",
       "v15       float64\n",
       "v16       float64\n",
       "v17       float64\n",
       "v18       float64\n",
       "v19       float64\n",
       "v20       float64\n",
       "v21       float64\n",
       "v22        object\n",
       "v23       float64\n",
       "v24        object\n",
       "v25       float64\n",
       "v26       float64\n",
       "v27       float64\n",
       "v28       float64\n",
       "v29       float64\n",
       "v30        object\n",
       "v31        object\n",
       "v32       float64\n",
       "v33       float64\n",
       "v34       float64\n",
       "v35       float64\n",
       "v36       float64\n",
       "v37       float64\n",
       "v38         int64\n",
       "v39       float64\n",
       "v40       float64\n",
       "v41       float64\n",
       "v42       float64\n",
       "v43       float64\n",
       "v44       float64\n",
       "v45       float64\n",
       "v46       float64\n",
       "v47        object\n",
       "v48       float64\n",
       "dtype: object"
      ]
     },
     "execution_count": 7,
     "metadata": {},
     "output_type": "execute_result"
    }
   ],
   "source": [
    "data.dtypes.head(50)"
   ]
  },
  {
   "cell_type": "code",
   "execution_count": 8,
   "id": "ad8c74a7",
   "metadata": {},
   "outputs": [
    {
     "name": "stdout",
     "output_type": "stream",
     "text": [
      "v3         3\n",
      "v22     6610\n",
      "v24        5\n",
      "v30        7\n",
      "v31        3\n",
      "v47        9\n",
      "v52       12\n",
      "v56       90\n",
      "v66        3\n",
      "v71        5\n",
      "v74        3\n",
      "v75        4\n",
      "v79       17\n",
      "v91        7\n",
      "v107       7\n",
      "v110       3\n",
      "v112      22\n",
      "v113      34\n",
      "v125      88\n",
      "dtype: int64\n"
     ]
    }
   ],
   "source": [
    "cat_feat = list(data.dtypes[data.dtypes == object].index)\n",
    "\n",
    "# закодируем пропущенные знаения строкой, факт пропущенного значения тоже может нести в себе информацию\n",
    "data[cat_feat] = data[cat_feat].fillna('nan')\n",
    "\n",
    "# отфильтруем непрерывные признаки\n",
    "num_feat = [f for f in data if f not in (cat_feat + ['ID', 'target'])]\n",
    "\n",
    "cat_nunique = d_train[cat_feat].nunique()\n",
    "print(cat_nunique)\n",
    "cat_feat = list(cat_nunique[cat_nunique < 30].index)"
   ]
  },
  {
   "cell_type": "code",
   "execution_count": 9,
   "id": "c359ce46",
   "metadata": {},
   "outputs": [],
   "source": [
    "from sklearn.metrics import auc, roc_curve\n",
    "from sklearn.linear_model import LogisticRegression"
   ]
  },
  {
   "cell_type": "markdown",
   "id": "3231088b",
   "metadata": {},
   "source": [
    "## Композиция моделей одного семейства"
   ]
  },
  {
   "cell_type": "markdown",
   "id": "68d73dd1",
   "metadata": {},
   "source": [
    "### Будем использовать решеющие деревья\n",
    "\n",
    "1. Неустойчивы к входным данным\n",
    "2. Склонны к переобучению\n",
    "3. Быстро обучаются\n",
    "\n",
    "=> отличный выбор для построения композиций\n",
    "\n",
    "**Создаем признаки для \"деревянных\" моделей**\n",
    "\n",
    "1. Заменяем пропуски на специальны значения -999, чтобы деревья могли их отличить\n",
    "2. Создаем дамми-переменный для категорий"
   ]
  },
  {
   "cell_type": "code",
   "execution_count": 10,
   "id": "0cc8a15e",
   "metadata": {},
   "outputs": [],
   "source": [
    "dummi_train = pd.get_dummies(d_train[cat_feat], columns=cat_feat)\n",
    "dummi_test = pd.get_dummies(d_test[cat_feat], columns=cat_feat)\n",
    "\n",
    "dummi_cols = list(set(dummi_train) & set(dummi_test))\n",
    "\n",
    "dummi_train = dummi_train[dummi_cols]\n",
    "dummi_test = dummi_test[dummi_cols]\n",
    "\n",
    "X_train = pd.concat([d_train[num_feat].fillna(-999), dummi_train], axis=1)\n",
    "\n",
    "X_test = pd.concat([d_test[num_feat].fillna(-999), dummi_test], axis=1)"
   ]
  },
  {
   "cell_type": "markdown",
   "id": "b26091b2",
   "metadata": {},
   "source": [
    "Обучаем решающее дерево\n",
    "\n",
    "Немного ограничим глубину и минимальное количество объектов в листе для уменьшения переобучения"
   ]
  },
  {
   "cell_type": "code",
   "execution_count": 11,
   "id": "49742806",
   "metadata": {},
   "outputs": [],
   "source": [
    "dummy_train = pd.get_dummies(d_train[cat_feat], columns=cat_feat)\n",
    "dummy_test = pd.get_dummies(d_test[cat_feat], columns=cat_feat)\n",
    "\n",
    "dummy_cols = list(set(dummy_train) & set(dummy_test))\n",
    "\n",
    "dummy_train = dummy_train[dummy_cols]\n",
    "dummy_test = dummy_test[dummy_cols]\n",
    "\n",
    "\n",
    "X_train = pd.concat([d_train[num_feat].fillna(-999),\n",
    "                     dummy_train], axis=1)\n",
    "\n",
    "X_test = pd.concat([d_test[num_feat].fillna(-999),\n",
    "                     dummy_test], axis=1)"
   ]
  },
  {
   "cell_type": "code",
   "execution_count": 12,
   "id": "489ece07",
   "metadata": {},
   "outputs": [
    {
     "data": {
      "text/plain": [
       "DecisionTreeClassifier(max_depth=15, min_samples_leaf=20)"
      ]
     },
     "execution_count": 12,
     "metadata": {},
     "output_type": "execute_result"
    }
   ],
   "source": [
    "from sklearn.tree import DecisionTreeClassifier\n",
    "\n",
    "clf_tree = DecisionTreeClassifier(max_depth=15, min_samples_leaf=20)\n",
    "clf_tree.fit(X_train, y_train)"
   ]
  },
  {
   "cell_type": "markdown",
   "id": "b5020085",
   "metadata": {},
   "source": [
    "#### Считаем ROS AUC"
   ]
  },
  {
   "cell_type": "code",
   "execution_count": 13,
   "id": "c30b32f6",
   "metadata": {},
   "outputs": [],
   "source": [
    "def calc_auc(y, y_pred, plot_label='', prin=True):\n",
    "    fpr, tpr, _ = roc_curve(y, y_pred)\n",
    "    auc_val = auc(fpr, tpr)\n",
    "    if prin:\n",
    "        print(f'ROC AUC: {auc_val:.4f}')\n",
    "    if plot_label:\n",
    "        plt.plot(fpr, tpr, label=plot_label)\n",
    "        plt.xlabel('FPR')\n",
    "        plt.ylabel('TPR')\n",
    "    return auc_val"
   ]
  },
  {
   "cell_type": "markdown",
   "id": "a29aff96",
   "metadata": {},
   "source": [
    "Предсказываем  вероятность класса 1 и считаем ROC AUC"
   ]
  },
  {
   "cell_type": "code",
   "execution_count": 14,
   "id": "d5094783",
   "metadata": {},
   "outputs": [
    {
     "name": "stdout",
     "output_type": "stream",
     "text": [
      "Train\n",
      "ROC AUC: 0.8591\n",
      "Test\n",
      "ROC AUC: 0.6458\n"
     ]
    },
    {
     "data": {
      "image/png": "[encoded data removed]",
      "text/plain": [
       "<Figure size 432x288 with 1 Axes>"
      ]
     },
     "metadata": {
      "image/png": {
       "height": 261,
       "width": 385
      },
      "needs_background": "light"
     },
     "output_type": "display_data"
    }
   ],
   "source": [
    "y_pred_test = clf_tree.predict_proba(X_test)[:, 1]\n",
    "y_pred_train = clf_tree.predict_proba(X_train)[:, 1]\n",
    "\n",
    "print('Train')\n",
    "calc_auc(y_train, y_pred_train, 'train')\n",
    "print('Test')\n",
    "calc_auc(y_test, y_pred_test, 'test')\n",
    "plt.legend();"
   ]
  },
  {
   "cell_type": "markdown",
   "id": "0f6dc9b3",
   "metadata": {},
   "source": [
    "### Бэггинг"
   ]
  },
  {
   "cell_type": "code",
   "execution_count": 15,
   "id": "d7405684",
   "metadata": {},
   "outputs": [],
   "source": [
    "import numpy as np"
   ]
  },
  {
   "cell_type": "code",
   "execution_count": 16,
   "id": "f1e5ae21",
   "metadata": {},
   "outputs": [
    {
     "data": {
      "text/plain": [
       "array([    0,     1,     2, ..., 16002, 16003, 16004])"
      ]
     },
     "execution_count": 16,
     "metadata": {},
     "output_type": "execute_result"
    }
   ],
   "source": [
    "np.arange(y_train.shape[0])"
   ]
  },
  {
   "cell_type": "code",
   "execution_count": 17,
   "id": "5a9f483b",
   "metadata": {},
   "outputs": [
    {
     "name": "stderr",
     "output_type": "stream",
     "text": [
      "100%|██████████████████████████████████████████████████████████████████████████████████| 20/20 [00:32<00:00,  1.61s/it]\n"
     ]
    }
   ],
   "source": [
    "BAGGING_ITERS = 20\n",
    "\n",
    "y_pred_test = np.zeros_like(y_pred_test)\n",
    "y_pred_train = np.zeros_like(y_pred_train)\n",
    "\n",
    "for i in tqdm.trange(BAGGING_ITERS):\n",
    "    new_index = np.random.choice(np.arange(y_train.shape[0]), size=y_train.shape[0], replace=True)\n",
    "    clf_tree.fit(X_train.iloc[new_index], y_train.iloc[new_index])\n",
    "    \n",
    "    y_pred_test += clf_tree.predict_proba(X_test)[:, 1]\n",
    "    y_pred_train += clf_tree.predict_proba(X_train)[:, 1]\n",
    "\n",
    "y_pred_test /= BAGGING_ITERS\n",
    "y_pred_train /= BAGGING_ITERS"
   ]
  },
  {
   "cell_type": "code",
   "execution_count": 18,
   "id": "2cd308fe",
   "metadata": {},
   "outputs": [
    {
     "name": "stdout",
     "output_type": "stream",
     "text": [
      "Train\n",
      "ROC AUC: 0.9174\n",
      "Test\n",
      "ROC AUC: 0.7203\n"
     ]
    },
    {
     "data": {
      "image/png": "[encoded data removed]",
      "text/plain": [
       "<Figure size 432x288 with 1 Axes>"
      ]
     },
     "metadata": {
      "image/png": {
       "height": 261,
       "width": 385
      },
      "needs_background": "light"
     },
     "output_type": "display_data"
    }
   ],
   "source": [
    "print('Train')\n",
    "calc_auc(y_train, y_pred_train, 'train')\n",
    "print('Test')\n",
    "calc_auc(y_test, y_pred_test, 'test')\n",
    "plt.legend();"
   ]
  },
  {
   "cell_type": "markdown",
   "id": "34f01abd",
   "metadata": {},
   "source": [
    "### Бэггинг"
   ]
  },
  {
   "cell_type": "markdown",
   "id": "82020e3f",
   "metadata": {},
   "source": [
    "Используем готовый алгоритм из sklearn"
   ]
  },
  {
   "cell_type": "code",
   "execution_count": 19,
   "id": "e9fe9aab",
   "metadata": {},
   "outputs": [
    {
     "name": "stdout",
     "output_type": "stream",
     "text": [
      "Wall time: 9.95 s\n"
     ]
    }
   ],
   "source": [
    "from sklearn.ensemble import BaggingClassifier\n",
    "\n",
    "bag_clf = BaggingClassifier(n_estimators=20, base_estimator=clf_tree, n_jobs=-1)\n",
    "\n",
    "%time bag_clf.fit(X_train, y_train)\n",
    "\n",
    "y_pred_test = bag_clf.predict_proba(X_test)[:, 1]\n",
    "y_pred_train = bag_clf.predict_proba(X_train)[:, 1]"
   ]
  },
  {
   "cell_type": "code",
   "execution_count": 20,
   "id": "cc04d61e",
   "metadata": {},
   "outputs": [
    {
     "name": "stdout",
     "output_type": "stream",
     "text": [
      "Train\n",
      "ROC AUC: 0.8904\n",
      "Test\n",
      "ROC AUC: 0.7187\n"
     ]
    },
    {
     "data": {
      "image/png": "[encoded data removed]",
      "text/plain": [
       "<Figure size 432x288 with 1 Axes>"
      ]
     },
     "metadata": {
      "image/png": {
       "height": 261,
       "width": 385
      },
      "needs_background": "light"
     },
     "output_type": "display_data"
    }
   ],
   "source": [
    "print('Train')\n",
    "calc_auc(y_train, y_pred_train, 'train')\n",
    "print('Test')\n",
    "calc_auc(y_test, y_pred_test, 'test')\n",
    "plt.legend();"
   ]
  },
  {
   "cell_type": "markdown",
   "id": "d8b8f487",
   "metadata": {},
   "source": [
    "# Часть 2. Случайный лес\n",
    "\n",
    "Бэггинг + случайные подпространства = случайный лес\n",
    "\n",
    "**Важные гиперпараметры алгоритма**\n",
    "\n",
    "а. Параметры деревьев\n",
    "    1. criterion - критерий построения дерева\n",
    "    2. max_dept - максимальная глубина дерева(обычно 10-20, больше глубина -> больше риск переобучения)\n",
    "    3. min_samples_leaf - минимальное число объектов в листе (обычно 20+, больше объектов -> меньше\n",
    "                                                             риск переобучения)\n",
    "b. Параметры леса\n",
    "    1. n_estimators - количество деревьев (чем больше, тем лучше)\n",
    "    2. max_features - число признаков случайного подпространства\n",
    "    3. bootstrap - использовать ли бэггинг\n",
    "    4. n_jobs - количество потоков для одновременного построения деревьев (большая прибавка к скорости на\n",
    "                                                                           многоядерных процессарах)"
   ]
  },
  {
   "cell_type": "code",
   "execution_count": 21,
   "id": "8672d3f2",
   "metadata": {},
   "outputs": [
    {
     "data": {
      "text/plain": [
       "'МИНИМАЛЬНОЕ ЧИСЛО ОБЪЕКТОВ В ЛИСТЕ'"
      ]
     },
     "execution_count": 21,
     "metadata": {},
     "output_type": "execute_result"
    }
   ],
   "source": [
    "'минимальное число объектов в листе'.upper()"
   ]
  },
  {
   "cell_type": "code",
   "execution_count": 22,
   "id": "c5d44cde",
   "metadata": {},
   "outputs": [
    {
     "name": "stdout",
     "output_type": "stream",
     "text": [
      "Wall time: 31.7 s\n"
     ]
    },
    {
     "data": {
      "text/plain": [
       "RandomForestClassifier(max_depth=15, max_features=0.8, min_samples_leaf=20,\n",
       "                       n_estimators=300, n_jobs=-1)"
      ]
     },
     "execution_count": 22,
     "metadata": {},
     "output_type": "execute_result"
    }
   ],
   "source": [
    "from sklearn.ensemble import RandomForestClassifier\n",
    "\n",
    "clf_rf = RandomForestClassifier(n_estimators=300, max_depth=15, min_samples_leaf=20, max_features=.8, n_jobs=-1)\n",
    "\n",
    "%time clf_rf.fit(X_train, y_train)"
   ]
  },
  {
   "cell_type": "code",
   "execution_count": 23,
   "id": "b82671ce",
   "metadata": {},
   "outputs": [
    {
     "name": "stdout",
     "output_type": "stream",
     "text": [
      "Train\n",
      "ROC AUC: 0.9005\n",
      "Test\n",
      "ROC AUC: 0.7265\n"
     ]
    },
    {
     "data": {
      "image/png": "[encoded data removed]",
      "text/plain": [
       "<Figure size 432x288 with 1 Axes>"
      ]
     },
     "metadata": {
      "image/png": {
       "height": 261,
       "width": 385
      },
      "needs_background": "light"
     },
     "output_type": "display_data"
    }
   ],
   "source": [
    "y_pred_rf_test = clf_rf.predict_proba(X_test)[:, 1]\n",
    "y_pred_rf_train = clf_rf.predict_proba(X_train)[:, 1]\n",
    "\n",
    "print('Train')\n",
    "calc_auc(y_train, y_pred_rf_train, 'train')\n",
    "print('Test')\n",
    "calc_auc(y_test, y_pred_rf_test, 'test')\n",
    "plt.legend();"
   ]
  },
  {
   "cell_type": "markdown",
   "id": "e295d19b",
   "metadata": {},
   "source": [
    "#### Важность признаков"
   ]
  },
  {
   "cell_type": "markdown",
   "id": "a1877af4",
   "metadata": {},
   "source": [
    "В sklearn - усредненное по всем деревьям в ансамбле колчество сплитов по признаку, взвешенное на прирост\n",
    "информации (information gain) и долю объектов в вершине, в которой производится этот сплит\n",
    "\n",
    "это не единственный вариант, см. здесь:\n",
    "\n",
    "https://medium.com/@ceshine/feature-importance-measures-for-tree-models-part-i-47f187c1a2c3\n",
    "\n",
    "Важность признаков случайного леса лежат в атрибуте **feature\\_importances\\_**"
   ]
  },
  {
   "cell_type": "code",
   "execution_count": 25,
   "id": "783b783d",
   "metadata": {},
   "outputs": [
    {
     "data": {
      "text/plain": [
       "v50       0.269583\n",
       "v66_C     0.040402\n",
       "v21       0.033791\n",
       "v110_A    0.031294\n",
       "v12       0.030330\n",
       "            ...   \n",
       "v47_B     0.000000\n",
       "v75_A     0.000000\n",
       "v47_A     0.000000\n",
       "v112_S    0.000000\n",
       "v30_B     0.000000\n",
       "Length: 219, dtype: float64"
      ]
     },
     "execution_count": 25,
     "metadata": {},
     "output_type": "execute_result"
    }
   ],
   "source": [
    "imp = pd.Series(clf_rf.feature_importances_, X_train.columns)\n",
    "imp.sort_values(ascending=False)"
   ]
  },
  {
   "cell_type": "code",
   "execution_count": 61,
   "id": "71352e95",
   "metadata": {},
   "outputs": [
    {
     "data": {
      "image/png": "[encoded data removed]",
      "text/plain": [
       "<Figure size 432x288 with 1 Axes>"
      ]
     },
     "metadata": {
      "image/png": {
       "height": 248,
       "width": 393
      },
      "needs_background": "light"
     },
     "output_type": "display_data"
    }
   ],
   "source": [
    "imp.sort_values(ascending=False).iloc[:20].plot(kind='barh');"
   ]
  },
  {
   "cell_type": "markdown",
   "id": "95905010",
   "metadata": {},
   "source": [
    "# Часть 3. Композиции моделей разных типов"
   ]
  },
  {
   "cell_type": "markdown",
   "id": "6b5bb342",
   "metadata": {},
   "source": [
    "### Линейная комбинация моделей разного типа\n",
    "\n",
    "Смешаем дерево и логистическую регрессию\n",
    "\n",
    "**Создадим признаки для логистической регрессии**\n",
    "\n",
    "1. Заменяем пропуски на медианы\n",
    "2. Создаем индикаторы пропущенных значений\n",
    "3. Создаём дамми-переменные для категорий"
   ]
  },
  {
   "cell_type": "code",
   "execution_count": null,
   "id": "9b951cf7",
   "metadata": {},
   "outputs": [],
   "source": []
  }
 ],
 "metadata": {
  "kernelspec": {
   "display_name": "Python 3",
   "language": "python",
   "name": "python3"
  },
  "language_info": {
   "codemirror_mode": {
    "name": "ipython",
    "version": 3
   },
   "file_extension": ".py",
   "mimetype": "text/x-python",
   "name": "python",
   "nbconvert_exporter": "python",
   "pygments_lexer": "ipython3",
   "version": "3.8.8"
  },
  "toc": {
   "base_numbering": 1,
   "nav_menu": {},
   "number_sections": true,
   "sideBar": true,
   "skip_h1_title": false,
   "title_cell": "Table of Contents",
   "title_sidebar": "Contents",
   "toc_cell": false,
   "toc_position": {},
   "toc_section_display": true,
   "toc_window_display": false
  }
 },
 "nbformat": 4,
 "nbformat_minor": 5
}
