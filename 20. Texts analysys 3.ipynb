{
 "cells": [
  {
   "cell_type": "code",
   "execution_count": 1,
   "id": "fe7f48af",
   "metadata": {},
   "outputs": [],
   "source": [
    "import pandas as pd\n",
    "import matplotlib.pyplot as plt"
   ]
  },
  {
   "cell_type": "code",
   "execution_count": 2,
   "id": "8354f884",
   "metadata": {},
   "outputs": [
    {
     "data": {
      "text/html": [
       "<div>\n",
       "<style scoped>\n",
       "    .dataframe tbody tr th:only-of-type {\n",
       "        vertical-align: middle;\n",
       "    }\n",
       "\n",
       "    .dataframe tbody tr th {\n",
       "        vertical-align: top;\n",
       "    }\n",
       "\n",
       "    .dataframe thead th {\n",
       "        text-align: right;\n",
       "    }\n",
       "</style>\n",
       "<table border=\"1\" class=\"dataframe\">\n",
       "  <thead>\n",
       "    <tr style=\"text-align: right;\">\n",
       "      <th></th>\n",
       "      <th>title</th>\n",
       "      <th>text</th>\n",
       "      <th>class</th>\n",
       "    </tr>\n",
       "  </thead>\n",
       "  <tbody>\n",
       "    <tr>\n",
       "      <th>0</th>\n",
       "      <td>Российскому спорту предрекли новый триллер пер...</td>\n",
       "      <td>Четырехкратный олимпийский чемпион и кандидат ...</td>\n",
       "      <td>Спорт</td>\n",
       "    </tr>\n",
       "    <tr>\n",
       "      <th>1</th>\n",
       "      <td>На Урале оперативники пошли под суд за раскрыт...</td>\n",
       "      <td>Трое курганских полицейских предстанут перед с...</td>\n",
       "      <td>Силовые структуры</td>\n",
       "    </tr>\n",
       "    <tr>\n",
       "      <th>2</th>\n",
       "      <td>Николя Гескьеру снова удалось сохранить работу</td>\n",
       "      <td>Дизайнер Николя Гескьер, креативный директор ж...</td>\n",
       "      <td>Ценности</td>\n",
       "    </tr>\n",
       "    <tr>\n",
       "      <th>3</th>\n",
       "      <td>Украинцы похвастались попаданием по танку из а...</td>\n",
       "      <td>Бойцы Вооруженных сил Украины во время испытан...</td>\n",
       "      <td>Бывший СССР</td>\n",
       "    </tr>\n",
       "    <tr>\n",
       "      <th>4</th>\n",
       "      <td>Бывшего мэра Ялты и члена ОПГ «Греки» Андрея Р...</td>\n",
       "      <td>Басманный суд Москвы арестовал до 21 июля бывш...</td>\n",
       "      <td>Силовые структуры</td>\n",
       "    </tr>\n",
       "  </tbody>\n",
       "</table>\n",
       "</div>"
      ],
      "text/plain": [
       "                                               title  \\\n",
       "0  Российскому спорту предрекли новый триллер пер...   \n",
       "1  На Урале оперативники пошли под суд за раскрыт...   \n",
       "2     Николя Гескьеру снова удалось сохранить работу   \n",
       "3  Украинцы похвастались попаданием по танку из а...   \n",
       "4  Бывшего мэра Ялты и члена ОПГ «Греки» Андрея Р...   \n",
       "\n",
       "                                                text              class  \n",
       "0  Четырехкратный олимпийский чемпион и кандидат ...              Спорт  \n",
       "1  Трое курганских полицейских предстанут перед с...  Силовые структуры  \n",
       "2  Дизайнер Николя Гескьер, креативный директор ж...           Ценности  \n",
       "3  Бойцы Вооруженных сил Украины во время испытан...        Бывший СССР  \n",
       "4  Басманный суд Москвы арестовал до 21 июля бывш...  Силовые структуры  "
      ]
     },
     "execution_count": 2,
     "metadata": {},
     "output_type": "execute_result"
    }
   ],
   "source": [
    "df = pd.read_csv('datasets/nlp/lenta.csv', usecols=['title', 'text', 'class'])\n",
    "df.head()"
   ]
  },
  {
   "cell_type": "code",
   "execution_count": 3,
   "id": "7926d80e",
   "metadata": {},
   "outputs": [
    {
     "data": {
      "text/plain": [
       "Россия               82\n",
       "Экономика            62\n",
       "Интернет и СМИ       54\n",
       "Мир                  53\n",
       "Спорт                52\n",
       "Из жизни             46\n",
       "Бывший СССР          38\n",
       "Наука и техника      38\n",
       "Силовые структуры    35\n",
       "Культура             35\n",
       "Ценности             24\n",
       "Путешествия          19\n",
       "Name: class, dtype: int64"
      ]
     },
     "execution_count": 3,
     "metadata": {},
     "output_type": "execute_result"
    }
   ],
   "source": [
    "df['class'].value_counts()"
   ]
  },
  {
   "cell_type": "code",
   "execution_count": 4,
   "id": "2cceaf59",
   "metadata": {},
   "outputs": [],
   "source": [
    "import re\n",
    "regex = re.compile('[А-яа-я]+')\n",
    "\n",
    "def words_only(text, regex=regex):\n",
    "    return ' '.join(regex.findall(text))\n",
    "\n",
    "df.text = df.text.str.lower()\n",
    "df.text = df.text.apply(words_only)"
   ]
  },
  {
   "cell_type": "markdown",
   "id": "8d83e8de",
   "metadata": {},
   "source": [
    "###### Результат"
   ]
  },
  {
   "cell_type": "code",
   "execution_count": 5,
   "id": "9401bba2",
   "metadata": {},
   "outputs": [
    {
     "data": {
      "text/plain": [
       "'четырехкратный олимпийский чемпион и кандидат в президенты олимпийского комитета россии окр александр попов опасается что российский спорт ожидают новые допинг разбирательства из за утечки базы данных московской антидопинговой лаборатории это начало третьей серии триллера заявил он'"
      ]
     },
     "execution_count": 5,
     "metadata": {},
     "output_type": "execute_result"
    }
   ],
   "source": [
    "df.text.iloc[0]"
   ]
  },
  {
   "cell_type": "markdown",
   "id": "9b52c66d",
   "metadata": {},
   "source": [
    "###### Удаление стоп-слов"
   ]
  },
  {
   "cell_type": "code",
   "execution_count": 6,
   "id": "1f0870f2",
   "metadata": {},
   "outputs": [
    {
     "data": {
      "text/plain": [
       "0      четырехкратный олимпийский чемпион кандидат пр...\n",
       "1      трое курганских полицейских предстанут судом р...\n",
       "2      дизайнер николя гескьер креативный директор же...\n",
       "3      бойцы вооруженных сил украины время испытаний ...\n",
       "4      басманный суд москвы арестовал июля бывшего мэ...\n",
       "                             ...                        \n",
       "533    татарстане летняя женщина погибла травм получе...\n",
       "534    председатель кндр ким чен ын время встречи гла...\n",
       "535    совет федерации одобрил законопроект который н...\n",
       "536    актер музыкант джонни депп приехавший россию р...\n",
       "537    пользователи сети обратили внимание фотографию...\n",
       "Name: text, Length: 538, dtype: object"
      ]
     },
     "execution_count": 6,
     "metadata": {},
     "output_type": "execute_result"
    }
   ],
   "source": [
    "from nltk.corpus import stopwords\n",
    "mystopwords = stopwords.words('russian') + ['это', 'наш' , 'тыс', 'млн', 'млрд', 'также',  'т', 'д']\n",
    "def remove_stopwords(text, mystopwords=mystopwords):\n",
    "    try:\n",
    "        return ' '.join([token for token in text.split() if not token in mystopwords])\n",
    "    except:\n",
    "        return ''\n",
    "\n",
    "df.text = df.text.apply(remove_stopwords)\n",
    "df.text"
   ]
  },
  {
   "cell_type": "markdown",
   "id": "350af083",
   "metadata": {},
   "source": [
    "###### Лемматизация - приведение слова к нормальной форме"
   ]
  },
  {
   "cell_type": "code",
   "execution_count": 7,
   "id": "28d00b41",
   "metadata": {},
   "outputs": [],
   "source": [
    "# from pymystem3 import Mystem\n",
    "# text = \"Красивая мама красиво мыла раму\"\n",
    "# m = Mystem()\n",
    "# lemmas = m.lemmatize(text.strip())\n",
    "# print(''.join(lemmas))"
   ]
  },
  {
   "cell_type": "code",
   "execution_count": 8,
   "id": "0369052d",
   "metadata": {},
   "outputs": [
    {
     "name": "stdout",
     "output_type": "stream",
     "text": [
      "CPU times: total: 46 s\n",
      "Wall time: 11min 58s\n"
     ]
    }
   ],
   "source": [
    "%%time\n",
    "# Unworked shit\n",
    "from pymystem3 import Mystem\n",
    "\n",
    "m = Mystem()\n",
    "def lemmatize(text, mystem=m):\n",
    "    try:\n",
    "        return ''.join(m.lemmatize(text)).strip()\n",
    "    except:\n",
    "        return ' '\n",
    "\n",
    "##### Alternative way\n",
    "\n",
    "# import nltk\n",
    "\n",
    "# w_tokenizer = nltk.tokenize.WhitespaceTokenizer()\n",
    "# lemmatizer = nltk.stem.WordNetLemmatizer()\n",
    "\n",
    "# def lemmatize(text):\n",
    "#     return [lemmatizer.lemmatize(w) for w in w_tokenizer.tokenize(text)]\n",
    "\n",
    "df.text = df.text.apply(lemmatize)"
   ]
  },
  {
   "cell_type": "code",
   "execution_count": 9,
   "id": "45f9836b",
   "metadata": {},
   "outputs": [
    {
     "data": {
      "text/plain": [
       "0      четырехкратный олимпийский чемпион кандидат пр...\n",
       "1      трое курганский полицейский представать суд ра...\n",
       "2      дизайнер николя гескьер креативный директор же...\n",
       "3      боец вооруженный сила украина время испытание ...\n",
       "4      басманный суд москва арестовывать июль бывший ...\n",
       "                             ...                        \n",
       "533    татарстан летний женщина погибать травма получ...\n",
       "534    председатель кндр ким чен ын время встреча гла...\n",
       "535    совет федерация одобрять законопроект который ...\n",
       "536    актер музыкант джонни депп приезжать россия ра...\n",
       "537    пользователь сеть обращать внимание фотография...\n",
       "Name: text, Length: 538, dtype: object"
      ]
     },
     "execution_count": 9,
     "metadata": {},
     "output_type": "execute_result"
    }
   ],
   "source": [
    "df.text"
   ]
  },
  {
   "cell_type": "markdown",
   "id": "dc451128",
   "metadata": {},
   "source": [
    "##### Удаление стоп-лемми"
   ]
  },
  {
   "cell_type": "code",
   "execution_count": 10,
   "id": "aecd3d50",
   "metadata": {},
   "outputs": [],
   "source": [
    "mystoplemmas = ['который','прошлый','сей', 'свой', 'наш', 'мочь', 'год']\n",
    "def remove_stoplemmas(text, mystoplemmas=mystoplemmas):\n",
    "    try:\n",
    "        return ' '.join([token for token in text.split() if not token in mystoplemmas])\n",
    "    except:\n",
    "        return ''"
   ]
  },
  {
   "cell_type": "code",
   "execution_count": 11,
   "id": "baa08299",
   "metadata": {},
   "outputs": [],
   "source": [
    "df.text = df.text.apply(remove_stoplemmas)"
   ]
  },
  {
   "cell_type": "code",
   "execution_count": 12,
   "id": "f7b60151",
   "metadata": {},
   "outputs": [
    {
     "data": {
      "text/plain": [
       "0      четырехкратный олимпийский чемпион кандидат пр...\n",
       "1      трое курганский полицейский представать суд ра...\n",
       "2      дизайнер николя гескьер креативный директор же...\n",
       "3      боец вооруженный сила украина время испытание ...\n",
       "4      басманный суд москва арестовывать июль бывший ...\n",
       "                             ...                        \n",
       "533    татарстан летний женщина погибать травма получ...\n",
       "534    председатель кндр ким чен ын время встреча гла...\n",
       "535    совет федерация одобрять законопроект наделять...\n",
       "536    актер музыкант джонни депп приезжать россия ра...\n",
       "537    пользователь сеть обращать внимание фотография...\n",
       "Name: text, Length: 538, dtype: object"
      ]
     },
     "execution_count": 12,
     "metadata": {},
     "output_type": "execute_result"
    }
   ],
   "source": [
    "df.text"
   ]
  },
  {
   "cell_type": "code",
   "execution_count": 13,
   "id": "c1481d7a",
   "metadata": {},
   "outputs": [
    {
     "name": "stdout",
     "output_type": "stream",
     "text": [
      "('россия', 129)\n",
      "('заявлять', 80)\n",
      "('президент', 70)\n",
      "('российский', 66)\n",
      "('новый', 61)\n",
      "('украина', 54)\n",
      "('становиться', 54)\n",
      "('страна', 53)\n",
      "('человек', 51)\n",
      "('рассказывать', 50)\n"
     ]
    }
   ],
   "source": [
    "from nltk import FreqDist\n",
    "\n",
    "lemmata = []\n",
    "for index, row in df.iterrows():\n",
    "    lemmata  += row['text'].split()\n",
    "fd = FreqDist(lemmata)\n",
    "for i in fd.most_common(10):\n",
    "    print(i)"
   ]
  },
  {
   "cell_type": "code",
   "execution_count": 14,
   "id": "29526a8c",
   "metadata": {},
   "outputs": [
    {
     "data": {
      "image/png": "[encoded data removed]",
      "text/plain": [
       "<Figure size 432x288 with 1 Axes>"
      ]
     },
     "metadata": {
      "needs_background": "light"
     },
     "output_type": "display_data"
    }
   ],
   "source": [
    "from wordcloud import *\n",
    "word_freq = [i for i in fd.most_common(100)]\n",
    "wd = WordCloud(background_color='white')\n",
    "wd.generate_from_frequencies(dict(word_freq))\n",
    "plt.figure()\n",
    "plt.imshow(wd, interpolation = 'bilinear')\n",
    "plt.axis('off')\n",
    "plt.show()"
   ]
  },
  {
   "cell_type": "code",
   "execution_count": 15,
   "id": "890e0660",
   "metadata": {},
   "outputs": [],
   "source": [
    "tokens_by_topic = []\n",
    "for topic in df['class'].unique():\n",
    "    tokens = []\n",
    "    sample = df[df['class'] == topic]\n",
    "    for i in range(len(sample)):\n",
    "        tokens += sample.text.iloc[i].split()\n",
    "    tokens_by_topic.append(tokens)"
   ]
  },
  {
   "cell_type": "code",
   "execution_count": 16,
   "id": "3ac04b72",
   "metadata": {},
   "outputs": [
    {
     "data": {
      "text/plain": [
       "array(['Спорт', 'Силовые структуры', 'Ценности', 'Бывший СССР', 'Россия',\n",
       "       'Экономика', 'Интернет и СМИ', 'Наука и техника', 'Культура',\n",
       "       'Из жизни', 'Мир', 'Путешествия'], dtype=object)"
      ]
     },
     "execution_count": 16,
     "metadata": {},
     "output_type": "execute_result"
    }
   ],
   "source": [
    "df['class'].unique()"
   ]
  },
  {
   "cell_type": "code",
   "execution_count": 17,
   "id": "b84793b3",
   "metadata": {},
   "outputs": [
    {
     "data": {
      "text/plain": [
       "'Интернет и СМИ'"
      ]
     },
     "execution_count": 17,
     "metadata": {},
     "output_type": "execute_result"
    }
   ],
   "source": [
    "event_id = 6\n",
    "df['class'].unique()[event_id]"
   ]
  },
  {
   "cell_type": "code",
   "execution_count": 18,
   "id": "508fdcb9",
   "metadata": {},
   "outputs": [
    {
     "name": "stdout",
     "output_type": "stream",
     "text": [
      "CPU times: total: 0 ns\n",
      "Wall time: 5 ms\n"
     ]
    }
   ],
   "source": [
    "%%time\n",
    "import nltk\n",
    "from nltk import *\n",
    "N_best = 100 # число извлекаемых биграмм\n",
    "\n",
    "bigram_mesures = nltk.collocations.BigramAssocMeasures() # класс для мер ассоциации биграмм\n",
    "finder = BigramCollocationFinder.from_words(tokens_by_topic[event_id]) # класс для хранения и извлечение биграм\n",
    "finder.apply_freq_filter(3) # избавимся от биграм, которые встречаются реже 3 раз\n",
    "raw_freq_ranking = [' '.join(i) for i in finder.nbest(bigram_mesures.raw_freq, N_best)] # выбираем топ 10 биграм по частоте\n",
    "tscore_ranking = [' '.join(i) for i in finder.nbest(bigram_mesures.student_t, N_best)] # выбираем топ 10 биграм по категориям\n",
    "pmi_ranking = [' '.join(i) for i in finder.nbest(bigram_mesures.pmi, N_best)]\n",
    "llr_ranking = [' '.join(i) for i in finder.nbest(bigram_mesures.likelihood_ratio, N_best)]\n",
    "chi2_ranking = [' '.join(i) for i in finder.nbest(bigram_mesures.chi_sq, N_best)]"
   ]
  },
  {
   "cell_type": "code",
   "execution_count": 19,
   "id": "b3bd1370",
   "metadata": {},
   "outputs": [
    {
     "data": {
      "text/html": [
       "<div>\n",
       "<style scoped>\n",
       "    .dataframe tbody tr th:only-of-type {\n",
       "        vertical-align: middle;\n",
       "    }\n",
       "\n",
       "    .dataframe tbody tr th {\n",
       "        vertical-align: top;\n",
       "    }\n",
       "\n",
       "    .dataframe thead th {\n",
       "        text-align: right;\n",
       "    }\n",
       "</style>\n",
       "<table border=\"1\" class=\"dataframe\">\n",
       "  <thead>\n",
       "    <tr style=\"text-align: right;\">\n",
       "      <th></th>\n",
       "      <th>raw</th>\n",
       "      <th>pmi</th>\n",
       "      <th>t-score</th>\n",
       "      <th>chi2</th>\n",
       "      <th>llr</th>\n",
       "    </tr>\n",
       "  </thead>\n",
       "  <tbody>\n",
       "    <tr>\n",
       "      <th>0</th>\n",
       "      <td>аркадий бабченко</td>\n",
       "      <td>риа новость</td>\n",
       "      <td>аркадий бабченко</td>\n",
       "      <td>организация покушение</td>\n",
       "      <td>аркадий бабченко</td>\n",
       "    </tr>\n",
       "    <tr>\n",
       "      <th>1</th>\n",
       "      <td>журналист аркадий</td>\n",
       "      <td>организация покушение</td>\n",
       "      <td>журналист аркадий</td>\n",
       "      <td>аркадий бабченко</td>\n",
       "      <td>организация покушение</td>\n",
       "    </tr>\n",
       "    <tr>\n",
       "      <th>2</th>\n",
       "      <td>пользователь сеть</td>\n",
       "      <td>подозреваемый организация</td>\n",
       "      <td>пользователь сеть</td>\n",
       "      <td>риа новость</td>\n",
       "      <td>журналист аркадий</td>\n",
       "    </tr>\n",
       "    <tr>\n",
       "      <th>3</th>\n",
       "      <td>организация покушение</td>\n",
       "      <td>аркадий бабченко</td>\n",
       "      <td>организация покушение</td>\n",
       "      <td>подозреваемый организация</td>\n",
       "      <td>риа новость</td>\n",
       "    </tr>\n",
       "    <tr>\n",
       "      <th>4</th>\n",
       "      <td>российский журналист</td>\n",
       "      <td>убийство российский</td>\n",
       "      <td>российский журналист</td>\n",
       "      <td>убийство российский</td>\n",
       "      <td>подозреваемый организация</td>\n",
       "    </tr>\n",
       "    <tr>\n",
       "      <th>5</th>\n",
       "      <td>борис герман</td>\n",
       "      <td>борис герман</td>\n",
       "      <td>риа новость</td>\n",
       "      <td>журналист аркадий</td>\n",
       "      <td>пользователь сеть</td>\n",
       "    </tr>\n",
       "    <tr>\n",
       "      <th>6</th>\n",
       "      <td>подозреваемый организация</td>\n",
       "      <td>российский журналист</td>\n",
       "      <td>подозреваемый организация</td>\n",
       "      <td>борис герман</td>\n",
       "      <td>российский журналист</td>\n",
       "    </tr>\n",
       "    <tr>\n",
       "      <th>7</th>\n",
       "      <td>риа новость</td>\n",
       "      <td>журналист аркадий</td>\n",
       "      <td>убийство российский</td>\n",
       "      <td>российский журналист</td>\n",
       "      <td>убийство российский</td>\n",
       "    </tr>\n",
       "    <tr>\n",
       "      <th>8</th>\n",
       "      <td>убийство российский</td>\n",
       "      <td>пользователь сеть</td>\n",
       "      <td>борис герман</td>\n",
       "      <td>пользователь сеть</td>\n",
       "      <td>борис герман</td>\n",
       "    </tr>\n",
       "  </tbody>\n",
       "</table>\n",
       "</div>"
      ],
      "text/plain": [
       "                         raw                        pmi  \\\n",
       "0           аркадий бабченко                риа новость   \n",
       "1          журналист аркадий      организация покушение   \n",
       "2          пользователь сеть  подозреваемый организация   \n",
       "3      организация покушение           аркадий бабченко   \n",
       "4       российский журналист        убийство российский   \n",
       "5               борис герман               борис герман   \n",
       "6  подозреваемый организация       российский журналист   \n",
       "7                риа новость          журналист аркадий   \n",
       "8        убийство российский          пользователь сеть   \n",
       "\n",
       "                     t-score                       chi2  \\\n",
       "0           аркадий бабченко      организация покушение   \n",
       "1          журналист аркадий           аркадий бабченко   \n",
       "2          пользователь сеть                риа новость   \n",
       "3      организация покушение  подозреваемый организация   \n",
       "4       российский журналист        убийство российский   \n",
       "5                риа новость          журналист аркадий   \n",
       "6  подозреваемый организация               борис герман   \n",
       "7        убийство российский       российский журналист   \n",
       "8               борис герман          пользователь сеть   \n",
       "\n",
       "                         llr  \n",
       "0           аркадий бабченко  \n",
       "1      организация покушение  \n",
       "2          журналист аркадий  \n",
       "3                риа новость  \n",
       "4  подозреваемый организация  \n",
       "5          пользователь сеть  \n",
       "6       российский журналист  \n",
       "7        убийство российский  \n",
       "8               борис герман  "
      ]
     },
     "execution_count": 19,
     "metadata": {},
     "output_type": "execute_result"
    }
   ],
   "source": [
    "rankings = pd.DataFrame({'chi2': chi2_ranking, 'llr': llr_ranking, 't-score': tscore_ranking, 'pmi': pmi_ranking, 'raw': raw_freq_ranking})\n",
    "rankings = rankings[['raw', 'pmi', 't-score', 'chi2', 'llr']]\n",
    "rankings.head(10)"
   ]
  },
  {
   "cell_type": "code",
   "execution_count": 20,
   "id": "9779e34d",
   "metadata": {},
   "outputs": [
    {
     "data": {
      "image/png": "[encoded data removed]",
      "text/plain": [
       "<Figure size 432x288 with 2 Axes>"
      ]
     },
     "metadata": {
      "needs_background": "light"
     },
     "output_type": "display_data"
    }
   ],
   "source": [
    "from scipy.stats import spearmanr\n",
    "import seaborn as sns\n",
    "%matplotlib inline\n",
    "\n",
    "corr = spearmanr(rankings).correlation\n",
    "sns.heatmap(corr, annot=True, xticklabels = list(rankings), yticklabels = list(rankings));"
   ]
  },
  {
   "cell_type": "markdown",
   "id": "2fdbee63",
   "metadata": {},
   "source": [
    "### TextRank"
   ]
  },
  {
   "cell_type": "code",
   "execution_count": 21,
   "id": "a9cf850f",
   "metadata": {},
   "outputs": [
    {
     "name": "stdout",
     "output_type": "stream",
     "text": [
      "CPU times: total: 2.27 s\n",
      "Wall time: 2.55 s\n"
     ]
    }
   ],
   "source": [
    "%%time\n",
    "import warnings\n",
    "warnings.filterwarnings('ignore')\n",
    "\n",
    "from gensim.summarization import keywords\n",
    "text = ' '.join(tokens_by_topic[event_id])\n",
    "kw = keywords(text)"
   ]
  },
  {
   "cell_type": "code",
   "execution_count": 22,
   "id": "fd70967d",
   "metadata": {},
   "outputs": [
    {
     "data": {
      "text/html": [
       "<div>\n",
       "<style scoped>\n",
       "    .dataframe tbody tr th:only-of-type {\n",
       "        vertical-align: middle;\n",
       "    }\n",
       "\n",
       "    .dataframe tbody tr th {\n",
       "        vertical-align: top;\n",
       "    }\n",
       "\n",
       "    .dataframe thead th {\n",
       "        text-align: right;\n",
       "    }\n",
       "</style>\n",
       "<table border=\"1\" class=\"dataframe\">\n",
       "  <thead>\n",
       "    <tr style=\"text-align: right;\">\n",
       "      <th></th>\n",
       "      <th>Text Rank</th>\n",
       "    </tr>\n",
       "  </thead>\n",
       "  <tbody>\n",
       "    <tr>\n",
       "      <th>0</th>\n",
       "      <td>пользователь</td>\n",
       "    </tr>\n",
       "    <tr>\n",
       "      <th>1</th>\n",
       "      <td>становиться</td>\n",
       "    </tr>\n",
       "    <tr>\n",
       "      <th>2</th>\n",
       "      <td>украина</td>\n",
       "    </tr>\n",
       "    <tr>\n",
       "      <th>3</th>\n",
       "      <td>журналист</td>\n",
       "    </tr>\n",
       "    <tr>\n",
       "      <th>4</th>\n",
       "      <td>молодои девушка</td>\n",
       "    </tr>\n",
       "    <tr>\n",
       "      <th>5</th>\n",
       "      <td>сеть принимать</td>\n",
       "    </tr>\n",
       "    <tr>\n",
       "      <th>6</th>\n",
       "      <td>каждыи человек</td>\n",
       "    </tr>\n",
       "    <tr>\n",
       "      <th>7</th>\n",
       "      <td>несколько</td>\n",
       "    </tr>\n",
       "    <tr>\n",
       "      <th>8</th>\n",
       "      <td>форма</td>\n",
       "    </tr>\n",
       "    <tr>\n",
       "      <th>9</th>\n",
       "      <td>заявлять</td>\n",
       "    </tr>\n",
       "  </tbody>\n",
       "</table>\n",
       "</div>"
      ],
      "text/plain": [
       "         Text Rank\n",
       "0     пользователь\n",
       "1      становиться\n",
       "2          украина\n",
       "3        журналист\n",
       "4  молодои девушка\n",
       "5   сеть принимать\n",
       "6   каждыи человек\n",
       "7        несколько\n",
       "8            форма\n",
       "9         заявлять"
      ]
     },
     "execution_count": 22,
     "metadata": {},
     "output_type": "execute_result"
    }
   ],
   "source": [
    "rankings = pd.DataFrame({'Text Rank': kw.split('\\n')})\n",
    "rankings.head(10)"
   ]
  },
  {
   "cell_type": "markdown",
   "id": "eb0e1520",
   "metadata": {},
   "source": [
    "### RAKE\n",
    "\n",
    "* Кандидаты-фразы - все слова между разделителями и стоп-словами и знаками пунктуации\n",
    "* Оценка кандидата-фразы $p:  \\frac{deg(p)}{freq(p)}$\n",
    "* Ограничение по частоте и количеству слов в кандидате-фразе <br>\n",
    "Для **RAKE** нужны сырые тексты со стоп-словами"
   ]
  },
  {
   "cell_type": "code",
   "execution_count": 23,
   "id": "55fae4c3",
   "metadata": {},
   "outputs": [],
   "source": [
    "raw_df  = pd.read_csv('datasets/nlp/lenta.csv', index_col=False)\n",
    "raw_df.text = raw_df.text.str.lower()\n",
    "raw_df.text = raw_df.text.apply(words_only)\n",
    "raw_df.text = raw_df.text.apply(lemmatize)"
   ]
  },
  {
   "cell_type": "code",
   "execution_count": 95,
   "id": "a04e1efe",
   "metadata": {},
   "outputs": [],
   "source": [
    "text = ' '.join(raw_df[raw_df['class'] == raw_df['class'].unique()[event_id]].text.tolist())"
   ]
  },
  {
   "cell_type": "code",
   "execution_count": 109,
   "id": "c74a1ac9",
   "metadata": {},
   "outputs": [
    {
     "data": {
      "text/html": [
       "<div>\n",
       "<style scoped>\n",
       "    .dataframe tbody tr th:only-of-type {\n",
       "        vertical-align: middle;\n",
       "    }\n",
       "\n",
       "    .dataframe tbody tr th {\n",
       "        vertical-align: top;\n",
       "    }\n",
       "\n",
       "    .dataframe thead th {\n",
       "        text-align: right;\n",
       "    }\n",
       "</style>\n",
       "<table border=\"1\" class=\"dataframe\">\n",
       "  <thead>\n",
       "    <tr style=\"text-align: right;\">\n",
       "      <th></th>\n",
       "      <th>RAKE</th>\n",
       "    </tr>\n",
       "  </thead>\n",
       "  <tbody>\n",
       "    <tr>\n",
       "      <th>0</th>\n",
       "      <td>390.889474</td>\n",
       "    </tr>\n",
       "    <tr>\n",
       "      <th>1</th>\n",
       "      <td>162.185578</td>\n",
       "    </tr>\n",
       "    <tr>\n",
       "      <th>2</th>\n",
       "      <td>153.333333</td>\n",
       "    </tr>\n",
       "    <tr>\n",
       "      <th>3</th>\n",
       "      <td>148.837886</td>\n",
       "    </tr>\n",
       "    <tr>\n",
       "      <th>4</th>\n",
       "      <td>135.266667</td>\n",
       "    </tr>\n",
       "    <tr>\n",
       "      <th>5</th>\n",
       "      <td>121.416667</td>\n",
       "    </tr>\n",
       "    <tr>\n",
       "      <th>6</th>\n",
       "      <td>113.516667</td>\n",
       "    </tr>\n",
       "    <tr>\n",
       "      <th>7</th>\n",
       "      <td>109.500000</td>\n",
       "    </tr>\n",
       "    <tr>\n",
       "      <th>8</th>\n",
       "      <td>104.466667</td>\n",
       "    </tr>\n",
       "    <tr>\n",
       "      <th>9</th>\n",
       "      <td>103.156140</td>\n",
       "    </tr>\n",
       "  </tbody>\n",
       "</table>\n",
       "</div>"
      ],
      "text/plain": [
       "         RAKE\n",
       "0  390.889474\n",
       "1  162.185578\n",
       "2  153.333333\n",
       "3  148.837886\n",
       "4  135.266667\n",
       "5  121.416667\n",
       "6  113.516667\n",
       "7  109.500000\n",
       "8  104.466667\n",
       "9  103.156140"
      ]
     },
     "execution_count": 109,
     "metadata": {},
     "output_type": "execute_result"
    }
   ],
   "source": [
    "from rake_nltk import Rake\n",
    "r = Rake(language='Russian')\n",
    "r.extract_keywords_from_text(text)\n",
    "r.get_ranked_phrases_with_scores()\n",
    "kp = [i[0] for i in r.get_ranked_phrases_with_scores()]\n",
    "rankings = pd.DataFrame({'RAKE': kp})\n",
    "rankings.head(10)"
   ]
  },
  {
   "cell_type": "code",
   "execution_count": 111,
   "id": "d1f19da2",
   "metadata": {},
   "outputs": [],
   "source": [
    "# r.stopwords"
   ]
  },
  {
   "cell_type": "markdown",
   "id": "5c3cfd5b",
   "metadata": {},
   "source": [
    "### Мера контрасности $tf-idf$\n",
    "\n",
    "Частота терма (**term frequency**) [Luhn, 1957]: Важность терма пропорциональна его частоте.\n",
    "\n",
    "Обратная документная частота (**inverted document frequency**) [Spaerck John, 1972]: Специфичность терма в тексте обратно пропорциональна числу текстов, \n",
    "в которых терм встерчается.\n",
    "\n",
    "$tf idf(term, text, collection) = tf(term, document)\\times idf(term, collection)$ \n",
    "\n",
    "Самая популярная комбинация весов $f_{t,d}\\times log\\frac {|D|} {n_1 + 1}$\n"
   ]
  },
  {
   "cell_type": "markdown",
   "id": "8e724b70",
   "metadata": {},
   "source": [
    "Извлекаем ключевые слова по $tf-idf:$"
   ]
  },
  {
   "cell_type": "code",
   "execution_count": 64,
   "id": "0e762361",
   "metadata": {},
   "outputs": [],
   "source": [
    "from sklearn.feature_extraction.text import TfidfVectorizer\n",
    "import numpy as np\n",
    "\n",
    "tfidf = TfidfVectorizer(analyzer='word', ngram_range=(1, 1), min_df=0)\n",
    "tfidf_matrix = tfidf.fit_transform([' '.join(tokens) for tokens in tokens_by_topic])\n",
    "feature_names = tfidf.get_feature_names()\n",
    "tfidf_ranking = []\n",
    "dense = tfidf_matrix.todense()\n",
    "\n",
    "text = dense[event_id].tolist()[0]\n",
    "phrase_scores = [pair for pair in zip(range(0, len(text)), text) if pair[1] > 0]\n",
    "sorted_phrase_scores = sorted(phrase_scores, key=lambda t: t[1] * -1)\n",
    "phrases = []\n",
    "for phrase, score in [(feature_names[word_id], score) for (word_id, score) in sorted_phrase_scores][:40]:\n",
    "    tfidf_ranking.append(phrase)"
   ]
  },
  {
   "cell_type": "markdown",
   "id": "0fb48dbf",
   "metadata": {},
   "source": [
    "Результаты:"
   ]
  },
  {
   "cell_type": "code",
   "execution_count": 112,
   "id": "1e3a93ee",
   "metadata": {},
   "outputs": [
    {
     "data": {
      "text/html": [
       "<div>\n",
       "<style scoped>\n",
       "    .dataframe tbody tr th:only-of-type {\n",
       "        vertical-align: middle;\n",
       "    }\n",
       "\n",
       "    .dataframe tbody tr th {\n",
       "        vertical-align: top;\n",
       "    }\n",
       "\n",
       "    .dataframe thead th {\n",
       "        text-align: right;\n",
       "    }\n",
       "</style>\n",
       "<table border=\"1\" class=\"dataframe\">\n",
       "  <thead>\n",
       "    <tr style=\"text-align: right;\">\n",
       "      <th></th>\n",
       "      <th>tf-idf</th>\n",
       "    </tr>\n",
       "  </thead>\n",
       "  <tbody>\n",
       "    <tr>\n",
       "      <th>0</th>\n",
       "      <td>пользователь</td>\n",
       "    </tr>\n",
       "    <tr>\n",
       "      <th>1</th>\n",
       "      <td>бабченко</td>\n",
       "    </tr>\n",
       "    <tr>\n",
       "      <th>2</th>\n",
       "      <td>девушка</td>\n",
       "    </tr>\n",
       "    <tr>\n",
       "      <th>3</th>\n",
       "      <td>журналист</td>\n",
       "    </tr>\n",
       "    <tr>\n",
       "      <th>4</th>\n",
       "      <td>украина</td>\n",
       "    </tr>\n",
       "    <tr>\n",
       "      <th>5</th>\n",
       "      <td>аркадий</td>\n",
       "    </tr>\n",
       "    <tr>\n",
       "      <th>6</th>\n",
       "      <td>герман</td>\n",
       "    </tr>\n",
       "    <tr>\n",
       "      <th>7</th>\n",
       "      <td>сеть</td>\n",
       "    </tr>\n",
       "    <tr>\n",
       "      <th>8</th>\n",
       "      <td>подписчик</td>\n",
       "    </tr>\n",
       "    <tr>\n",
       "      <th>9</th>\n",
       "      <td>человек</td>\n",
       "    </tr>\n",
       "  </tbody>\n",
       "</table>\n",
       "</div>"
      ],
      "text/plain": [
       "         tf-idf\n",
       "0  пользователь\n",
       "1      бабченко\n",
       "2       девушка\n",
       "3     журналист\n",
       "4       украина\n",
       "5       аркадий\n",
       "6        герман\n",
       "7          сеть\n",
       "8     подписчик\n",
       "9       человек"
      ]
     },
     "execution_count": 112,
     "metadata": {},
     "output_type": "execute_result"
    }
   ],
   "source": [
    "rankings = pd.DataFrame({'tf-idf': tfidf_ranking})\n",
    "rankings.head(10)"
   ]
  },
  {
   "cell_type": "markdown",
   "id": "d5b4dccd",
   "metadata": {},
   "source": [
    "### Natasha\n",
    "\n",
    "Natasha - Библиотека для поиска именованных сущностей (Named-entity recognition) из текстов на русском языке. На данный \n",
    "момент разюираются упоминания персон, даты и суммы денег."
   ]
  },
  {
   "cell_type": "code",
   "execution_count": 149,
   "id": "edaed928",
   "metadata": {},
   "outputs": [],
   "source": [
    "from natasha import (\n",
    "    Segmenter,\n",
    "    MorphVocab,\n",
    "    \n",
    "    NewsEmbedding,\n",
    "    NewsMorphTagger,\n",
    "    NewsSyntaxParser,\n",
    "    NewsNERTagger,\n",
    "    \n",
    "    PER,\n",
    "    NamesExtractor,\n",
    "\n",
    "    Doc\n",
    ")"
   ]
  },
  {
   "cell_type": "code",
   "execution_count": 154,
   "id": "6e3d221a",
   "metadata": {},
   "outputs": [],
   "source": [
    "text = 'По Нижнем Новгородом пепедали Нижнему Новгороду передали 100 евро'\n",
    "\n",
    "morph_vocab = MorphVocab()\n",
    "segmenter = Segmenter()\n",
    "emb = NewsEmbedding()\n",
    "morph_tagger = NewsMorphTagger(emb)\n",
    "syntax_parser = NewsSyntaxParser(emb)\n",
    "ner_tagger = NewsNERTagger(emb)\n",
    "names_extractor = NamesExtractor(morph_vocab)\n",
    "\n",
    "text = 'Посол Израиля на Украине Йоэль Лион признался, что пришел в шок, узнав о решении властей Львовской области объявить 2019 год годом лидера запрещенной в России Организации украинских националистов (ОУН) Степана Бандеры. Свое заявление он разместил в Twitter. «Я не могу понять, как прославление тех, кто непосредственно принимал участие в ужасных антисемитских преступлениях, помогает бороться с антисемитизмом и ксенофобией. Украина не должна забывать о преступлениях, совершенных против украинских евреев, и никоим образом не отмечать их через почитание их исполнителей», — написал дипломат. 11 декабря Львовский областной совет принял решение провозгласить 2019 год в регионе годом Степана Бандеры в связи с празднованием 110-летия со дня рождения лидера ОУН (Бандера родился 1 января 1909 года). В июле аналогичное решение принял Житомирский областной совет. В начале месяца с предложением к президенту страны Петру Порошенко вернуть Бандере звание Героя Украины обратились депутаты Верховной Рады. Парламентарии уверены, что признание Бандеры национальным героем поможет в борьбе с подрывной деятельностью против Украины в информационном поле, а также остановит «распространение мифов, созданных российской пропагандой». Степан Бандера (1909-1959) был одним из лидеров Организации украинских националистов, выступающей за создание независимого государства на территориях с украиноязычным населением. В 2010 году в период президентства Виктора Ющенко Бандера был посмертно признан Героем Украины, однако впоследствии это решение было отменено судом. '\n",
    "doc = Doc(text)\n"
   ]
  },
  {
   "cell_type": "markdown",
   "id": "59d4a91c",
   "metadata": {},
   "source": [
    "### Векторная модель\n",
    "\n",
    "Колсинусная мера близости в векторной модели [Salton et. al, 1975]: $cos(d_i,d_j) = \\frac{d_i\\times d_j}{||d_i|||d_j||} = \\frac{\\sum_k f_{ki}\\times f_{kj}}{\\sqrt{(\\sum_k{f_{ki}})^2}\\sqrt{(\\sum_k{f_{ki}})^2}}$\n",
    "\n",
    "Если вектора нормировать $||d_i||=||d_j||=1, cos(d_i,d_j)=d_i\\times d_j$"
   ]
  },
  {
   "cell_type": "code",
   "execution_count": null,
   "id": "b486d0a7",
   "metadata": {},
   "outputs": [],
   "source": []
  }
 ],
 "metadata": {
  "kernelspec": {
   "display_name": "Python 3 (ipykernel)",
   "language": "python",
   "name": "python3"
  },
  "language_info": {
   "codemirror_mode": {
    "name": "ipython",
    "version": 3
   },
   "file_extension": ".py",
   "mimetype": "text/x-python",
   "name": "python",
   "nbconvert_exporter": "python",
   "pygments_lexer": "ipython3",
   "version": "3.8.8"
  },
  "toc": {
   "base_numbering": 1,
   "nav_menu": {},
   "number_sections": false,
   "sideBar": true,
   "skip_h1_title": false,
   "title_cell": "Table of Contents",
   "title_sidebar": "Contents",
   "toc_cell": false,
   "toc_position": {},
   "toc_section_display": true,
   "toc_window_display": false
  }
 },
 "nbformat": 4,
 "nbformat_minor": 5
}
