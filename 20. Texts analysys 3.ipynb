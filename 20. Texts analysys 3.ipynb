{
 "cells": [
  {
   "cell_type": "code",
   "execution_count": 1,
   "id": "fe7f48af",
   "metadata": {},
   "outputs": [],
   "source": [
    "import pandas as pd\n",
    "import matplotlib.pyplot as plt"
   ]
  },
  {
   "cell_type": "code",
   "execution_count": 2,
   "id": "8354f884",
   "metadata": {},
   "outputs": [
    {
     "data": {
      "text/html": [
       "<div>\n",
       "<style scoped>\n",
       "    .dataframe tbody tr th:only-of-type {\n",
       "        vertical-align: middle;\n",
       "    }\n",
       "\n",
       "    .dataframe tbody tr th {\n",
       "        vertical-align: top;\n",
       "    }\n",
       "\n",
       "    .dataframe thead th {\n",
       "        text-align: right;\n",
       "    }\n",
       "</style>\n",
       "<table border=\"1\" class=\"dataframe\">\n",
       "  <thead>\n",
       "    <tr style=\"text-align: right;\">\n",
       "      <th></th>\n",
       "      <th>title</th>\n",
       "      <th>text</th>\n",
       "      <th>class</th>\n",
       "    </tr>\n",
       "  </thead>\n",
       "  <tbody>\n",
       "    <tr>\n",
       "      <th>0</th>\n",
       "      <td>Российскому спорту предрекли новый триллер пер...</td>\n",
       "      <td>Четырехкратный олимпийский чемпион и кандидат ...</td>\n",
       "      <td>Спорт</td>\n",
       "    </tr>\n",
       "    <tr>\n",
       "      <th>1</th>\n",
       "      <td>На Урале оперативники пошли под суд за раскрыт...</td>\n",
       "      <td>Трое курганских полицейских предстанут перед с...</td>\n",
       "      <td>Силовые структуры</td>\n",
       "    </tr>\n",
       "    <tr>\n",
       "      <th>2</th>\n",
       "      <td>Николя Гескьеру снова удалось сохранить работу</td>\n",
       "      <td>Дизайнер Николя Гескьер, креативный директор ж...</td>\n",
       "      <td>Ценности</td>\n",
       "    </tr>\n",
       "    <tr>\n",
       "      <th>3</th>\n",
       "      <td>Украинцы похвастались попаданием по танку из а...</td>\n",
       "      <td>Бойцы Вооруженных сил Украины во время испытан...</td>\n",
       "      <td>Бывший СССР</td>\n",
       "    </tr>\n",
       "    <tr>\n",
       "      <th>4</th>\n",
       "      <td>Бывшего мэра Ялты и члена ОПГ «Греки» Андрея Р...</td>\n",
       "      <td>Басманный суд Москвы арестовал до 21 июля бывш...</td>\n",
       "      <td>Силовые структуры</td>\n",
       "    </tr>\n",
       "  </tbody>\n",
       "</table>\n",
       "</div>"
      ],
      "text/plain": [
       "                                               title  \\\n",
       "0  Российскому спорту предрекли новый триллер пер...   \n",
       "1  На Урале оперативники пошли под суд за раскрыт...   \n",
       "2     Николя Гескьеру снова удалось сохранить работу   \n",
       "3  Украинцы похвастались попаданием по танку из а...   \n",
       "4  Бывшего мэра Ялты и члена ОПГ «Греки» Андрея Р...   \n",
       "\n",
       "                                                text              class  \n",
       "0  Четырехкратный олимпийский чемпион и кандидат ...              Спорт  \n",
       "1  Трое курганских полицейских предстанут перед с...  Силовые структуры  \n",
       "2  Дизайнер Николя Гескьер, креативный директор ж...           Ценности  \n",
       "3  Бойцы Вооруженных сил Украины во время испытан...        Бывший СССР  \n",
       "4  Басманный суд Москвы арестовал до 21 июля бывш...  Силовые структуры  "
      ]
     },
     "execution_count": 2,
     "metadata": {},
     "output_type": "execute_result"
    }
   ],
   "source": [
    "df = pd.read_csv('datasets/nlp/lenta.csv', usecols=['title', 'text', 'class'])\n",
    "df.head()"
   ]
  },
  {
   "cell_type": "code",
   "execution_count": 3,
   "id": "7926d80e",
   "metadata": {},
   "outputs": [
    {
     "data": {
      "text/plain": [
       "Россия               82\n",
       "Экономика            62\n",
       "Интернет и СМИ       54\n",
       "Мир                  53\n",
       "Спорт                52\n",
       "Из жизни             46\n",
       "Бывший СССР          38\n",
       "Наука и техника      38\n",
       "Силовые структуры    35\n",
       "Культура             35\n",
       "Ценности             24\n",
       "Путешествия          19\n",
       "Name: class, dtype: int64"
      ]
     },
     "execution_count": 3,
     "metadata": {},
     "output_type": "execute_result"
    }
   ],
   "source": [
    "df['class'].value_counts()"
   ]
  },
  {
   "cell_type": "code",
   "execution_count": 4,
   "id": "2cceaf59",
   "metadata": {},
   "outputs": [],
   "source": [
    "import re\n",
    "regex = re.compile('[А-яа-я]+')\n",
    "\n",
    "def words_only(text, regex=regex):\n",
    "    return ' '.join(regex.findall(text))\n",
    "\n",
    "df.text = df.text.str.lower()\n",
    "df.text = df.text.apply(words_only)"
   ]
  },
  {
   "cell_type": "markdown",
   "id": "8d83e8de",
   "metadata": {},
   "source": [
    "###### Результат"
   ]
  },
  {
   "cell_type": "code",
   "execution_count": 5,
   "id": "9401bba2",
   "metadata": {},
   "outputs": [
    {
     "data": {
      "text/plain": [
       "'четырехкратный олимпийский чемпион и кандидат в президенты олимпийского комитета россии окр александр попов опасается что российский спорт ожидают новые допинг разбирательства из за утечки базы данных московской антидопинговой лаборатории это начало третьей серии триллера заявил он'"
      ]
     },
     "execution_count": 5,
     "metadata": {},
     "output_type": "execute_result"
    }
   ],
   "source": [
    "df.text.iloc[0]"
   ]
  },
  {
   "cell_type": "markdown",
   "id": "9b52c66d",
   "metadata": {},
   "source": [
    "###### Удаление стоп-слов"
   ]
  },
  {
   "cell_type": "code",
   "execution_count": 6,
   "id": "1f0870f2",
   "metadata": {},
   "outputs": [
    {
     "data": {
      "text/plain": [
       "0      четырехкратный олимпийский чемпион кандидат пр...\n",
       "1      трое курганских полицейских предстанут судом р...\n",
       "2      дизайнер николя гескьер креативный директор же...\n",
       "3      бойцы вооруженных сил украины время испытаний ...\n",
       "4      басманный суд москвы арестовал июля бывшего мэ...\n",
       "                             ...                        \n",
       "533    татарстане летняя женщина погибла травм получе...\n",
       "534    председатель кндр ким чен ын время встречи гла...\n",
       "535    совет федерации одобрил законопроект который н...\n",
       "536    актер музыкант джонни депп приехавший россию р...\n",
       "537    пользователи сети обратили внимание фотографию...\n",
       "Name: text, Length: 538, dtype: object"
      ]
     },
     "execution_count": 6,
     "metadata": {},
     "output_type": "execute_result"
    }
   ],
   "source": [
    "from nltk.corpus import stopwords\n",
    "mystopwords = stopwords.words('russian') + ['это', 'наш' , 'тыс', 'млн', 'млрд', 'также',  'т', 'д']\n",
    "def remove_stopwords(text, mystopwords=mystopwords):\n",
    "    try:\n",
    "        return ' '.join([token for token in text.split() if not token in mystopwords])\n",
    "    except:\n",
    "        return ''\n",
    "\n",
    "df.text = df.text.apply(remove_stopwords)\n",
    "df.text"
   ]
  },
  {
   "cell_type": "markdown",
   "id": "350af083",
   "metadata": {},
   "source": [
    "###### Лемматизация - приведение слова к нормальной форме"
   ]
  },
  {
   "cell_type": "code",
   "execution_count": 7,
   "id": "28d00b41",
   "metadata": {},
   "outputs": [],
   "source": [
    "# from pymystem3 import Mystem\n",
    "# text = \"Красивая мама красиво мыла раму\"\n",
    "# m = Mystem()\n",
    "# lemmas = m.lemmatize(text.strip())\n",
    "# print(''.join(lemmas))"
   ]
  },
  {
   "cell_type": "code",
   "execution_count": 8,
   "id": "0369052d",
   "metadata": {},
   "outputs": [
    {
     "name": "stdout",
     "output_type": "stream",
     "text": [
      "CPU times: total: 45.3 s\n",
      "Wall time: 11min 54s\n"
     ]
    }
   ],
   "source": [
    "%%time\n",
    "# Unworked shit\n",
    "from pymystem3 import Mystem\n",
    "\n",
    "m = Mystem()\n",
    "def lemmatize(text, mystem=m):\n",
    "    try:\n",
    "        return ''.join(m.lemmatize(text)).strip()\n",
    "    except:\n",
    "        return ' '\n",
    "\n",
    "##### Alternative way\n",
    "\n",
    "# import nltk\n",
    "\n",
    "# w_tokenizer = nltk.tokenize.WhitespaceTokenizer()\n",
    "# lemmatizer = nltk.stem.WordNetLemmatizer()\n",
    "\n",
    "# def lemmatize(text):\n",
    "#     return [lemmatizer.lemmatize(w) for w in w_tokenizer.tokenize(text)]\n",
    "\n",
    "df.text = df.text.apply(lemmatize)"
   ]
  },
  {
   "cell_type": "code",
   "execution_count": 9,
   "id": "45f9836b",
   "metadata": {},
   "outputs": [
    {
     "data": {
      "text/plain": [
       "0      четырехкратный олимпийский чемпион кандидат пр...\n",
       "1      трое курганский полицейский представать суд ра...\n",
       "2      дизайнер николя гескьер креативный директор же...\n",
       "3      боец вооруженный сила украина время испытание ...\n",
       "4      басманный суд москва арестовывать июль бывший ...\n",
       "                             ...                        \n",
       "533    татарстан летний женщина погибать травма получ...\n",
       "534    председатель кндр ким чен ын время встреча гла...\n",
       "535    совет федерация одобрять законопроект который ...\n",
       "536    актер музыкант джонни депп приезжать россия ра...\n",
       "537    пользователь сеть обращать внимание фотография...\n",
       "Name: text, Length: 538, dtype: object"
      ]
     },
     "execution_count": 9,
     "metadata": {},
     "output_type": "execute_result"
    }
   ],
   "source": [
    "df.text"
   ]
  },
  {
   "cell_type": "markdown",
   "id": "dc451128",
   "metadata": {},
   "source": [
    "##### Удаление стоп-лемми"
   ]
  },
  {
   "cell_type": "code",
   "execution_count": 10,
   "id": "aecd3d50",
   "metadata": {},
   "outputs": [],
   "source": [
    "mystoplemmas = ['который','прошлый','сей', 'свой', 'наш', 'мочь', 'год']\n",
    "def remove_stoplemmas(text, mystoplemmas=mystoplemmas):\n",
    "    try:\n",
    "        return ' '.join([token for token in text.split() if not token in mystoplemmas])\n",
    "    except:\n",
    "        return ''"
   ]
  },
  {
   "cell_type": "code",
   "execution_count": 11,
   "id": "baa08299",
   "metadata": {},
   "outputs": [],
   "source": [
    "df.text = df.text.apply(remove_stoplemmas)"
   ]
  },
  {
   "cell_type": "code",
   "execution_count": 12,
   "id": "f7b60151",
   "metadata": {},
   "outputs": [
    {
     "data": {
      "text/plain": [
       "0      четырехкратный олимпийский чемпион кандидат пр...\n",
       "1      трое курганский полицейский представать суд ра...\n",
       "2      дизайнер николя гескьер креативный директор же...\n",
       "3      боец вооруженный сила украина время испытание ...\n",
       "4      басманный суд москва арестовывать июль бывший ...\n",
       "                             ...                        \n",
       "533    татарстан летний женщина погибать травма получ...\n",
       "534    председатель кндр ким чен ын время встреча гла...\n",
       "535    совет федерация одобрять законопроект наделять...\n",
       "536    актер музыкант джонни депп приезжать россия ра...\n",
       "537    пользователь сеть обращать внимание фотография...\n",
       "Name: text, Length: 538, dtype: object"
      ]
     },
     "execution_count": 12,
     "metadata": {},
     "output_type": "execute_result"
    }
   ],
   "source": [
    "df.text"
   ]
  },
  {
   "cell_type": "code",
   "execution_count": 13,
   "id": "c1481d7a",
   "metadata": {},
   "outputs": [
    {
     "name": "stdout",
     "output_type": "stream",
     "text": [
      "('россия', 129)\n",
      "('заявлять', 80)\n",
      "('президент', 70)\n",
      "('российский', 66)\n",
      "('новый', 61)\n",
      "('украина', 54)\n",
      "('становиться', 54)\n",
      "('страна', 53)\n",
      "('человек', 51)\n",
      "('рассказывать', 50)\n"
     ]
    }
   ],
   "source": [
    "from nltk import FreqDist\n",
    "\n",
    "lemmata = []\n",
    "for index, row in df.iterrows():\n",
    "    lemmata  += row['text'].split()\n",
    "fd = FreqDist(lemmata)\n",
    "for i in fd.most_common(10):\n",
    "    print(i)"
   ]
  },
  {
   "cell_type": "code",
   "execution_count": 14,
   "id": "29526a8c",
   "metadata": {},
   "outputs": [
    {
     "data": {
      "image/png": "[encoded data removed]",
      "text/plain": [
       "<Figure size 432x288 with 1 Axes>"
      ]
     },
     "metadata": {
      "needs_background": "light"
     },
     "output_type": "display_data"
    }
   ],
   "source": [
    "from wordcloud import *\n",
    "word_freq = [i for i in fd.most_common(100)]\n",
    "wd = WordCloud(background_color='white')\n",
    "wd.generate_from_frequencies(dict(word_freq))\n",
    "plt.figure()\n",
    "plt.imshow(wd, interpolation = 'bilinear')\n",
    "plt.axis('off')\n",
    "plt.show()"
   ]
  },
  {
   "cell_type": "code",
   "execution_count": 15,
   "id": "890e0660",
   "metadata": {},
   "outputs": [],
   "source": [
    "tokens_by_topic = []\n",
    "for topic in df['class'].unique():\n",
    "    tokens = []\n",
    "    sample = df[df['class'] == topic]\n",
    "    for i in range(len(sample)):\n",
    "        tokens += sample.text.iloc[i].split()\n",
    "    tokens_by_topic.append(tokens)"
   ]
  },
  {
   "cell_type": "code",
   "execution_count": 16,
   "id": "3ac04b72",
   "metadata": {},
   "outputs": [
    {
     "data": {
      "text/plain": [
       "array(['Спорт', 'Силовые структуры', 'Ценности', 'Бывший СССР', 'Россия',\n",
       "       'Экономика', 'Интернет и СМИ', 'Наука и техника', 'Культура',\n",
       "       'Из жизни', 'Мир', 'Путешествия'], dtype=object)"
      ]
     },
     "execution_count": 16,
     "metadata": {},
     "output_type": "execute_result"
    }
   ],
   "source": [
    "df['class'].unique()"
   ]
  },
  {
   "cell_type": "code",
   "execution_count": 17,
   "id": "b84793b3",
   "metadata": {},
   "outputs": [
    {
     "data": {
      "text/plain": [
       "'Интернет и СМИ'"
      ]
     },
     "execution_count": 17,
     "metadata": {},
     "output_type": "execute_result"
    }
   ],
   "source": [
    "event_id = 6\n",
    "df['class'].unique()[event_id]"
   ]
  },
  {
   "cell_type": "code",
   "execution_count": 18,
   "id": "508fdcb9",
   "metadata": {},
   "outputs": [
    {
     "name": "stdout",
     "output_type": "stream",
     "text": [
      "CPU times: total: 0 ns\n",
      "Wall time: 5 ms\n"
     ]
    }
   ],
   "source": [
    "%%time\n",
    "import nltk\n",
    "from nltk import *\n",
    "N_best = 100 # число извлекаемых биграмм\n",
    "\n",
    "bigram_mesures = nltk.collocations.BigramAssocMeasures() # класс для мер ассоциации биграмм\n",
    "finder = BigramCollocationFinder.from_words(tokens_by_topic[event_id]) # класс для хранения и извлечение биграм\n",
    "finder.apply_freq_filter(3) # избавимся от биграм, которые встречаются реже 3 раз\n",
    "raw_freq_ranking = [' '.join(i) for i in finder.nbest(bigram_mesures.raw_freq, N_best)] # выбираем топ 10 биграм по частоте\n",
    "tscore_ranking = [' '.join(i) for i in finder.nbest(bigram_mesures.student_t, N_best)] # выбираем топ 10 биграм по категориям\n",
    "pmi_ranking = [' '.join(i) for i in finder.nbest(bigram_mesures.pmi, N_best)]\n",
    "llr_ranking = [' '.join(i) for i in finder.nbest(bigram_mesures.likelihood_ratio, N_best)]\n",
    "chi2_ranking = [' '.join(i) for i in finder.nbest(bigram_mesures.chi_sq, N_best)]"
   ]
  },
  {
   "cell_type": "code",
   "execution_count": 19,
   "id": "b3bd1370",
   "metadata": {},
   "outputs": [
    {
     "data": {
      "text/html": [
       "<div>\n",
       "<style scoped>\n",
       "    .dataframe tbody tr th:only-of-type {\n",
       "        vertical-align: middle;\n",
       "    }\n",
       "\n",
       "    .dataframe tbody tr th {\n",
       "        vertical-align: top;\n",
       "    }\n",
       "\n",
       "    .dataframe thead th {\n",
       "        text-align: right;\n",
       "    }\n",
       "</style>\n",
       "<table border=\"1\" class=\"dataframe\">\n",
       "  <thead>\n",
       "    <tr style=\"text-align: right;\">\n",
       "      <th></th>\n",
       "      <th>raw</th>\n",
       "      <th>pmi</th>\n",
       "      <th>t-score</th>\n",
       "      <th>chi2</th>\n",
       "      <th>llr</th>\n",
       "    </tr>\n",
       "  </thead>\n",
       "  <tbody>\n",
       "    <tr>\n",
       "      <th>0</th>\n",
       "      <td>аркадий бабченко</td>\n",
       "      <td>риа новость</td>\n",
       "      <td>аркадий бабченко</td>\n",
       "      <td>организация покушение</td>\n",
       "      <td>аркадий бабченко</td>\n",
       "    </tr>\n",
       "    <tr>\n",
       "      <th>1</th>\n",
       "      <td>журналист аркадий</td>\n",
       "      <td>организация покушение</td>\n",
       "      <td>журналист аркадий</td>\n",
       "      <td>аркадий бабченко</td>\n",
       "      <td>организация покушение</td>\n",
       "    </tr>\n",
       "    <tr>\n",
       "      <th>2</th>\n",
       "      <td>пользователь сеть</td>\n",
       "      <td>подозреваемый организация</td>\n",
       "      <td>пользователь сеть</td>\n",
       "      <td>риа новость</td>\n",
       "      <td>журналист аркадий</td>\n",
       "    </tr>\n",
       "    <tr>\n",
       "      <th>3</th>\n",
       "      <td>организация покушение</td>\n",
       "      <td>аркадий бабченко</td>\n",
       "      <td>организация покушение</td>\n",
       "      <td>подозреваемый организация</td>\n",
       "      <td>риа новость</td>\n",
       "    </tr>\n",
       "    <tr>\n",
       "      <th>4</th>\n",
       "      <td>российский журналист</td>\n",
       "      <td>убийство российский</td>\n",
       "      <td>российский журналист</td>\n",
       "      <td>убийство российский</td>\n",
       "      <td>подозреваемый организация</td>\n",
       "    </tr>\n",
       "    <tr>\n",
       "      <th>5</th>\n",
       "      <td>борис герман</td>\n",
       "      <td>борис герман</td>\n",
       "      <td>риа новость</td>\n",
       "      <td>журналист аркадий</td>\n",
       "      <td>пользователь сеть</td>\n",
       "    </tr>\n",
       "    <tr>\n",
       "      <th>6</th>\n",
       "      <td>подозреваемый организация</td>\n",
       "      <td>российский журналист</td>\n",
       "      <td>подозреваемый организация</td>\n",
       "      <td>борис герман</td>\n",
       "      <td>российский журналист</td>\n",
       "    </tr>\n",
       "    <tr>\n",
       "      <th>7</th>\n",
       "      <td>риа новость</td>\n",
       "      <td>журналист аркадий</td>\n",
       "      <td>убийство российский</td>\n",
       "      <td>российский журналист</td>\n",
       "      <td>убийство российский</td>\n",
       "    </tr>\n",
       "    <tr>\n",
       "      <th>8</th>\n",
       "      <td>убийство российский</td>\n",
       "      <td>пользователь сеть</td>\n",
       "      <td>борис герман</td>\n",
       "      <td>пользователь сеть</td>\n",
       "      <td>борис герман</td>\n",
       "    </tr>\n",
       "  </tbody>\n",
       "</table>\n",
       "</div>"
      ],
      "text/plain": [
       "                         raw                        pmi  \\\n",
       "0           аркадий бабченко                риа новость   \n",
       "1          журналист аркадий      организация покушение   \n",
       "2          пользователь сеть  подозреваемый организация   \n",
       "3      организация покушение           аркадий бабченко   \n",
       "4       российский журналист        убийство российский   \n",
       "5               борис герман               борис герман   \n",
       "6  подозреваемый организация       российский журналист   \n",
       "7                риа новость          журналист аркадий   \n",
       "8        убийство российский          пользователь сеть   \n",
       "\n",
       "                     t-score                       chi2  \\\n",
       "0           аркадий бабченко      организация покушение   \n",
       "1          журналист аркадий           аркадий бабченко   \n",
       "2          пользователь сеть                риа новость   \n",
       "3      организация покушение  подозреваемый организация   \n",
       "4       российский журналист        убийство российский   \n",
       "5                риа новость          журналист аркадий   \n",
       "6  подозреваемый организация               борис герман   \n",
       "7        убийство российский       российский журналист   \n",
       "8               борис герман          пользователь сеть   \n",
       "\n",
       "                         llr  \n",
       "0           аркадий бабченко  \n",
       "1      организация покушение  \n",
       "2          журналист аркадий  \n",
       "3                риа новость  \n",
       "4  подозреваемый организация  \n",
       "5          пользователь сеть  \n",
       "6       российский журналист  \n",
       "7        убийство российский  \n",
       "8               борис герман  "
      ]
     },
     "execution_count": 19,
     "metadata": {},
     "output_type": "execute_result"
    }
   ],
   "source": [
    "rankings = pd.DataFrame({'chi2': chi2_ranking, 'llr': llr_ranking, 't-score': tscore_ranking, 'pmi': pmi_ranking, 'raw': raw_freq_ranking})\n",
    "rankings = rankings[['raw', 'pmi', 't-score', 'chi2', 'llr']]\n",
    "rankings.head(10)"
   ]
  },
  {
   "cell_type": "code",
   "execution_count": 22,
   "id": "9779e34d",
   "metadata": {},
   "outputs": [
    {
     "data": {
      "image/png": "[encoded data removed]",
      "text/plain": [
       "<Figure size 432x288 with 2 Axes>"
      ]
     },
     "metadata": {
      "needs_background": "light"
     },
     "output_type": "display_data"
    }
   ],
   "source": [
    "from scipy.stats import spearmanr\n",
    "import seaborn as sns\n",
    "%matplotlib inline\n",
    "\n",
    "corr = spearmanr(rankings).correlation\n",
    "sns.heatmap(corr, annot=True, xticklabels = list(rankings), yticklabels = list(rankings));"
   ]
  },
  {
   "cell_type": "markdown",
   "id": "2fdbee63",
   "metadata": {},
   "source": [
    "### TextRank"
   ]
  },
  {
   "cell_type": "code",
   "execution_count": 23,
   "id": "a9cf850f",
   "metadata": {},
   "outputs": [
    {
     "name": "stdout",
     "output_type": "stream",
     "text": [
      "CPU times: total: 1.78 s\n",
      "Wall time: 1.78 s\n"
     ]
    }
   ],
   "source": [
    "%%time\n",
    "import warnings\n",
    "warnings.filterwarnings('ignore')\n",
    "\n",
    "from gensim.summarization import keywords\n",
    "text = ' '.join(tokens_by_topic[event_id])\n",
    "kw = keywords(text)"
   ]
  },
  {
   "cell_type": "code",
   "execution_count": 24,
   "id": "fd70967d",
   "metadata": {},
   "outputs": [
    {
     "data": {
      "text/html": [
       "<div>\n",
       "<style scoped>\n",
       "    .dataframe tbody tr th:only-of-type {\n",
       "        vertical-align: middle;\n",
       "    }\n",
       "\n",
       "    .dataframe tbody tr th {\n",
       "        vertical-align: top;\n",
       "    }\n",
       "\n",
       "    .dataframe thead th {\n",
       "        text-align: right;\n",
       "    }\n",
       "</style>\n",
       "<table border=\"1\" class=\"dataframe\">\n",
       "  <thead>\n",
       "    <tr style=\"text-align: right;\">\n",
       "      <th></th>\n",
       "      <th>Text Rank</th>\n",
       "    </tr>\n",
       "  </thead>\n",
       "  <tbody>\n",
       "    <tr>\n",
       "      <th>0</th>\n",
       "      <td>пользователь</td>\n",
       "    </tr>\n",
       "    <tr>\n",
       "      <th>1</th>\n",
       "      <td>становиться</td>\n",
       "    </tr>\n",
       "    <tr>\n",
       "      <th>2</th>\n",
       "      <td>украина</td>\n",
       "    </tr>\n",
       "    <tr>\n",
       "      <th>3</th>\n",
       "      <td>журналист</td>\n",
       "    </tr>\n",
       "    <tr>\n",
       "      <th>4</th>\n",
       "      <td>молодои девушка</td>\n",
       "    </tr>\n",
       "    <tr>\n",
       "      <th>5</th>\n",
       "      <td>сеть принимать</td>\n",
       "    </tr>\n",
       "    <tr>\n",
       "      <th>6</th>\n",
       "      <td>каждыи человек</td>\n",
       "    </tr>\n",
       "    <tr>\n",
       "      <th>7</th>\n",
       "      <td>несколько</td>\n",
       "    </tr>\n",
       "    <tr>\n",
       "      <th>8</th>\n",
       "      <td>форма</td>\n",
       "    </tr>\n",
       "    <tr>\n",
       "      <th>9</th>\n",
       "      <td>заявлять</td>\n",
       "    </tr>\n",
       "  </tbody>\n",
       "</table>\n",
       "</div>"
      ],
      "text/plain": [
       "         Text Rank\n",
       "0     пользователь\n",
       "1      становиться\n",
       "2          украина\n",
       "3        журналист\n",
       "4  молодои девушка\n",
       "5   сеть принимать\n",
       "6   каждыи человек\n",
       "7        несколько\n",
       "8            форма\n",
       "9         заявлять"
      ]
     },
     "execution_count": 24,
     "metadata": {},
     "output_type": "execute_result"
    }
   ],
   "source": [
    "rankings = pd.DataFrame({'Text Rank': kw.split('\\n')})\n",
    "rankings.head(10)"
   ]
  },
  {
   "cell_type": "markdown",
   "id": "eb0e1520",
   "metadata": {},
   "source": [
    "### RAKE\n",
    "\n",
    "* Кандидаты-фразы - все слова между разделителями и стоп-словами и знаками пунктуации\n",
    "* Оценка кандидата-фразы $p:  \\frac{deg(p)}{freq(p)}$\n",
    "* Ограничение по частоте и количеству слов в кандидате-фразе <br>\n",
    "Для **RAKE** нужны сырые тексты со стоп-словами"
   ]
  },
  {
   "cell_type": "code",
   "execution_count": 37,
   "id": "55fae4c3",
   "metadata": {},
   "outputs": [],
   "source": [
    "raw_df  = pd.read_csv('datasets/nlp/lenta.csv', index_col=False)\n",
    "raw_df.text = raw_df.text.str.lower()\n",
    "raw_df.text = raw_df.text.apply(words_only)\n",
    "raw_df.text = raw_df.text.apply(lemmatize)"
   ]
  },
  {
   "cell_type": "code",
   "execution_count": 38,
   "id": "a04e1efe",
   "metadata": {},
   "outputs": [],
   "source": [
    "text = ' '.join(raw_df[raw_df['class'] == raw_df['class'].unique()[event_id]].text.tolist())"
   ]
  },
  {
   "cell_type": "code",
   "execution_count": 39,
   "id": "f0b9278b",
   "metadata": {},
   "outputs": [
    {
     "data": {
      "text/plain": [
       "'во время прогулка по саксонский птичий заповедник молодой девушка опускаться на голова крупный черный какаду который в сеть принимать за герой произведение эдгар алан по и нарекать предвестник смерть птица называть ангел смерть и посоветовать девушка смиряться со свой судьба житель курган предъявлять обвинение в экстремизм за переписка в мессенджер писать летний мужчина инкриминироваться несколько преступление в частность призыв к экстремизм и возбуждение ненависть или вражда обвиняемый заключать под стража он грозить до год лишение свобода популярный блогер запускать новый флешмоб называть подписчик тоннель тоблерон чтобы продемонстрировать достоинство свой фигура девушка публиковать свой снимок в бикини где видно расстояние между бедро флешмоб получать имя в честь известный бренд шоколад продукция который иметь треугольный форма спортивный корреспондент телеканал хейль мур суметь останавливать нестись вокруг ипподром лошадь несмотря на то что сам попадать под ее копыто удар на скорость около миля в час приходиться на лицо журналистка девушка удаваться быстро вставать на нога и обуздывать животное телезритель утренний шоу добрый утро британия посмеяться над приглашать ведущий бен фогл который якобы приходить на эфир без штаны мужчина посещать студия чтобы рассказывать о недавний покорение эверест однако он надевать очень короткий шорты который слишком сильно оголять его нога пользователь обсуждать что следовать успевать каждый человек к летний возраст по мнение большинство по достижение средний возраст человек накапливать множество ненужный вещь и становиться скучный повод для шутка становиться материал издание где автор рекомендовать откладывать деньги зритель реалити шоу золотой молодежь челси приходить в недоумение после сцена в душа где у участник сэм томпсон и софи хэбб якобы случаться секс они упрекать создатель в демонстрация порнография отмечать что без этот эпизод вполне можно быть обходиться шотландский писательница элизабет мэй запускать в сеть тред где девушка мочь поделиться история о назойливый и пугающий приставание мужчина флешмоб собирать несколько тысяча печальный рассказ часто все девушка делиться история о то как мужчина принимать их дружелюбие за романтический интерес специалист по кибербезопасность обнаруживать в свой электронный ящик фишинговый письмо в один из его раздел содержаться список имя с который адресат не следовать контактировать они называть мошенник перечень из несколько имя приводить в качество доказательство чистота намерение преступник интернет омбудсмен дмитрий мариничев предлагать проверять действие роскомнадзор при массовый блокировка контролер ущерб от ограничение доступ должный выступать генпрокуратура инициатива вносить в доклад книга жалоба и предложение российский бизнес бизнес омбудсмен борис титов суд в великобритания рассматривать коллективный иск к в который миллион пользователь обвинять компания в шпионаж и сбор личный информация адвокат ричард ллойд утверждать что обходить настройка безопасность браузер от и требовать выплата миллиард фунт стерлинг в сочи временно приостанавливать трансляция телеканал и радиостанция период отключение продлиться десять день с до май в этот день житель сочи не смочь посмотреть телевизор или послушать радио с девять утро до шесть час вечер в этот время специалист быть устанавливать на местный телебашня светодиод недавно перенести роды женщина решать доказывать в что послеродовой состояние тело это естественно цель профиль опровергать идея о то что женщина необходимо немедленно приходить в идеальный физический форма после роды девушка учить другой роженица принимать изменяться тело такой какой оно быть ведущая испанский комедийный шоу пилар рубио вернуться в телеэфир через шесть неделя после роды и становиться жертва травля в социальный сеть комментатор решать что она поступать недостойно некоторые решать что ее выбор оскорблять право мать иметь возможность как можно много время провожать с ребенок житель краснодар спровоцировать пробка у парк где ведущий тревел шоу орел и решка спрятать бутылка со доллар видео с место массовый поисковый операция появляться в группа во вконтакте на кадр видный пробка из машина скопиться у парк где ведущий оставлять деньги а в самый сад столпотворение глава роскомнадзор александр жаров заявлять что отток реклама и человек из составлять процент с начало блокировка в ход петербургский международный экономический форум жаров отмечать что благодаря усилие ведомство запрещать мессенджер работать с перебой у процент пользователь в сутки власть украина ограничивать доступ на территория страна к сайт информационный агентство риа новость и риа новость украина блокировка происходить в рамка санкция заблокировать также оказываться проект вгтрк первый канал нтв рен тв и отр актив перечислять компания быть замораживать полиция при содействие эксперт по кибербезопасность задерживать опасный хакер из волгоградский область по данные исследователь безопасность летний россиянин обвиняться в кража деньги у клиент банк при помощь троян для смартфон под управление сайт мессенджер пропадать из поисковый выдача сразу в несколько российский поисковик в рамка исполнение требование закон по фильтрация ресурс исключать из выдача сервис и спутник при это в поисковик яндекс и ссылка на мессенджер павел дурова до сей пора можно обнаруживать британка под ник поделиться трюк благодаря который она удаваться скрывать любовь к покупка в интернет от родитель ее парень по слово девушка она жить вместе с молодой человек и его родственник она не хотеть чтобы близкие знать о ее вредный привычка тратить деньги на безделушка пользователь сеть насмешить ребенок который давать задание нарисовать и подписывать геометрический фигура мальчик выполнять задание перевести в текст название который он до это только слышать основываться на созвучие он трактовать слово треугольник как а круг как американка под ник прославляться в сеть после то как похвастаться необычный питомец главный герой изображение становиться бородатый ящерица по кличка петя под ее лапа лежать ложка а рядом стоять упаковка тесто для печение создаваться ощущение что пресмыкающееся собираться испробовать десерт президент сша не вправе блокировать свой подписчик в к такой решение приходить федеральный суд манхеттен судья наоми бухвальд приходить к вывод что аккаунт дональд трамп являться общественный форум и пользователь защищать первый поправка к конституция сша гарантировать свобода слово автор глянцев издание и из флорида марси робин во время покупка машина в дилерский центр заставлять подтверждать что она не робот с помощь капча распознавать капча она попросить на финальный этап сделка девушка удивляться но тест проходить основатель компания и илона маск задумываться о создание сервис для оценка правдивость журналистский статья собираться создавать сайт на который посетитель смочь оценивать истинность любой статья и отслеживать изменение уровень доверие для каждый журналист подумывать называть он сообщать он пользователь сеть возненавидеть депутат европейский парламент сесилия викстрем после то как тот сделать селфи в обнимка с основатель марк цукерберг фото быть сделать сразу после выступление цукерберг в брюссель по дело о скандал с утекать данные пользователь американский компания предупреждать пользователь об активный распространение вредоносный программный обеспечение вирус заражать уже тысяча компьютер как минимум в страна в тот число ключевой инфраструктура украина сбу считать что это связывать с финал лига чемпион социальный сеть тестировать алгоритм который защищать жертва порномести от злоумышленник новый упреждающий инструмент разрабатывать для тот кто опасаться распространение свой интимный фотография пользователь мочь связываться с любой из партнер и получать одноразовый электронный форма для загрузка автор канал опубликовывать на свой страница на видеохостинг юмористический озвучка брачный церемония принц гарий и меган марклый абсурдный бракосочетание за сутки увидеть много миллион человек странный изречение полностью повторять движение губа участник мероприятие пользователь по весь мир сообщать о проблема с доступ к сервис часто все затруднение испытывать юзер из европа по данные сайт фиксировать сообщение о сбой первый жалоба от владелец аккаунт появляться в полночь май и их количество расти специалист продемонстрировать атака который уничтожать жесткий диск с помощь звуковой волна слышать и ультрачастотный воздействие способный физически повреждать носитель и файл особенность проводить эксперимент в то что звук можно запускать как вблизи компьютер там и из встроенный динамика пользователь сеть обвинять редакция газета в сексизм и мизогиния в передовица издание посвящать встреча президент сша дональд трамп с ким кардашьян трижды в шуточный форма упоминаться ягодица икона стиль пользователь платформа микроблог возмущаться подобный отношение к женщина руководитель издание риа новость украина кирилл вышинский обращаться в владимир путин с просьба обеспечивать он защита в послание к президент рф вышинский попросить принимать весь необходимый мера для его скорый освобождение а также предоставлять он правовой защита с этот просьба мужчина выступать на суд часть пользователь заявлять что не видеть отправитель сообщение когда получать уведомление согласно жалоба юзер на экран смартфон высвечиваться лишь надпись сообщение однако невозможно сразу определять от кто оно приходить а также его содержимое они приходиться открывать и смотреть послание независимый разработчик в область финансовый технология обвинять павел дуров в плагиат неназванный компания подавать иск в замоскворецкий суд москва на основатель в документ отмечаться что бизнесмен присваивать чужой разработка который он показывать на приватный встреча в февраль год британский режиссер пэрис зарсило случайно обнаруживать под свой кровать чужой кошка который недавно рожать четверо котенок ошеломлять мужчина начинать фотографировать приютиться у оно питомец а заодно писать в соцсеть о свой впечатление в скорый время за страница мужчина становиться наблюдать тысяча человек девушка по имя паула выкладывать в свой аккаунт селфи в ванный и оказываться заваливать совет по ремонт ванный комната внимание подписчик привлекать не ее сексуальный поза а странный деталь интерьер подписчик поражать что туалетный бумага в ванный комната находиться в несколько метр от унитаз полиция китай выпускать обучать ролик посвящать защита от ножевой атака стража правопорядок смоделировать ситуация в который злоумышленник подходить к человек и махать холодный оружие полицейский становиться жертва показывать хороший способ самооборона быстро развертываться и убегать борис герман подозреваемый в организация покушение на аркадий бабченко и заявлять о работа на контрразведка украина не сотрудничать с ведомство и не являться сотрудник сбу об это в киев заявлять прокурор руслан кравченко уточнять что проверять заявление арестованный на два месяц герман в приложение для устройство находить необычный баг позволять прочитывать последний сообщение владелец смартфон заявлять что каждый раз при ввод в поисковый строка запрос в результат он видеть последний текстовый сообщение на его смартфон шведский звезда симона герц прославляться необычный изобретение прооперировать врач еще в конец апрель девушка сообщать подписчик о недуг оказываться что у она в мозг обнаруживать доброкачественный опухоль размер с мяч для гольф блогер даже давать она имя называть новообразование брайан борис герман подозреваемый в организация покушение на аркадий бабченко рассказывать в суд что участвовать в секретный операция контрразведка он осознавать что исполнитель быть сотрудничать со служба безопасность украина а убийство российский журналист быть инсценировать после то как якобы убивать аркадий бабченко появляться на украинский пресс конференция весь крупный британский газета и таблоид опубликовывать он фото на первый полоса сам бабченко крайне негативно отреагировать на материал сми он обматерить журналист и попросить у они британский паспорт украинский активист алексей цымбалюк написать в что должный быть быть исполнитель убийство российский журналист аркадий бабченко по его слово он не намеривать скрываться поскольку обнародоваться запись получение он аванс за убийство человек без изменение голос российский журналист аркадий бабченко принимать решение принимать гражданство украина разговор о то чтобы помогать получать гражданство быть я не становиться отказываться сказать честно заявлять журналист на конференция он также уточнять что предложение поступать от представитель администрация президент украина компания по заказ такси анонсировать запуск новый функция в приложение который помогать пассажир избегать нападение или сексуальный домогательство нажатие на тревожный кнопка автоматически соединять клиент с экстренный служба такой же кнопка быть разрабатывать и для водитель такси киевский адвокат евгений солодко представлять интерес борис герман который служба безопасность украина обвинять в организация покушение на журналист аркадий бабченко рассказывать о свой подзащитный герман директор украинский немецкий сп шмайсер по производство оружие для инсценировка убийство российский журналист аркадий бабченко использоваться свиной кровь также в операция участвовать гример об это рассказывать сам бабченко по слово журналист после инсценировка убийство его на машина скорый помощь увезти в морг где он переодеваться и начинать смотреть новость в шевченковский районный суд киев поступать ходатайство об арест подозреваемый в организация покушение на журналист аркадий бабченко они оказываться человек по имя борис львович герман его имя ранее не фигурировать в пресса герман подозревать в организация приготовление к террористический акт пользователь сеть приниматься обсуждать кот с необычный телосложение который напоминать бодибилдер человек приниматься вырезать его тело и вставлять в стопа кадр из различный культовый кинофильм например шутник помещать питомец в декорация картина парк юрский период и охотник за привидение петербургский журналист проверять бутылка вода святой источник выпускать к чемпионат мир по футбол оказываться что выбирать производитель форма в вид футбольный мяч наиболее огнеопасный так как она представлять себя линза что в случай оставление бутылка на солнце мочь приводить к пожар министр оборона великобритания гэвин уильямсон выводить из себя ведущий британский утренний шоу журналист ричард мэдли несколько раз настойчиво задавать вопрос министр по повод его совет для россия отходить и затыкаться уильямсон беседовать со студия по видеосвязь владелец павел дуров рассказывать о то что препятствовать работа сервис пост с разъяснение он опубликовывать в личный канал бизнесмен сообщать что некоторый функция работать некорректный в новый прошивка несмотря на усилие по устранение проблема пользователь сеть обращать внимание на фотография терапевтический собака по кличка мисс пинат который администрация один из американский школа помещать в выпускной фотоальбом питомец становиться настоящий сенсация в соцсеть всего за сутки его снимок в фотоальбом набирать более тысяча ретвитов и тысяча лайков'"
      ]
     },
     "execution_count": 39,
     "metadata": {},
     "output_type": "execute_result"
    }
   ],
   "source": [
    "text"
   ]
  },
  {
   "cell_type": "code",
   "execution_count": 41,
   "id": "c74a1ac9",
   "metadata": {},
   "outputs": [
    {
     "name": "stdout",
     "output_type": "stream",
     "text": [
      "None\n"
     ]
    },
    {
     "data": {
      "text/html": [
       "<div>\n",
       "<style scoped>\n",
       "    .dataframe tbody tr th:only-of-type {\n",
       "        vertical-align: middle;\n",
       "    }\n",
       "\n",
       "    .dataframe tbody tr th {\n",
       "        vertical-align: top;\n",
       "    }\n",
       "\n",
       "    .dataframe thead th {\n",
       "        text-align: right;\n",
       "    }\n",
       "</style>\n",
       "<table border=\"1\" class=\"dataframe\">\n",
       "  <thead>\n",
       "    <tr style=\"text-align: right;\">\n",
       "      <th></th>\n",
       "      <th>RAKE</th>\n",
       "    </tr>\n",
       "  </thead>\n",
       "  <tbody>\n",
       "    <tr>\n",
       "      <th>0</th>\n",
       "      <td>(4313929.0, во время прогулка по саксонский пт...</td>\n",
       "    </tr>\n",
       "  </tbody>\n",
       "</table>\n",
       "</div>"
      ],
      "text/plain": [
       "                                                RAKE\n",
       "0  (4313929.0, во время прогулка по саксонский пт..."
      ]
     },
     "execution_count": 41,
     "metadata": {},
     "output_type": "execute_result"
    }
   ],
   "source": [
    "from rake_nltk import Rake\n",
    "\n",
    "r = Rake('datasets/nlp/stopwords.txt')\n",
    "r.extract_keywords_from_text(text)\n",
    "r.get_ranked_phrases()\n",
    "print(phrases)\n",
    "kp = [i [0] for i r.get_ranked_phrases_with_scores()]\n",
    "rankings = pd.DataFrame({'RAKE': kp})\n",
    "rankings.head()"
   ]
  },
  {
   "cell_type": "code",
   "execution_count": null,
   "id": "5a4c1fe2",
   "metadata": {},
   "outputs": [],
   "source": []
  }
 ],
 "metadata": {
  "kernelspec": {
   "display_name": "Python 3 (ipykernel)",
   "language": "python",
   "name": "python3"
  },
  "language_info": {
   "codemirror_mode": {
    "name": "ipython",
    "version": 3
   },
   "file_extension": ".py",
   "mimetype": "text/x-python",
   "name": "python",
   "nbconvert_exporter": "python",
   "pygments_lexer": "ipython3",
   "version": "3.8.8"
  },
  "toc": {
   "base_numbering": 1,
   "nav_menu": {},
   "number_sections": false,
   "sideBar": true,
   "skip_h1_title": false,
   "title_cell": "Table of Contents",
   "title_sidebar": "Contents",
   "toc_cell": false,
   "toc_position": {},
   "toc_section_display": true,
   "toc_window_display": false
  }
 },
 "nbformat": 4,
 "nbformat_minor": 5
}
