{
 "cells": [
  {
   "cell_type": "code",
   "execution_count": 1,
   "id": "fe7f48af",
   "metadata": {},
   "outputs": [],
   "source": [
    "import pandas as pd\n",
    "import matplotlib.pyplot as plt"
   ]
  },
  {
   "cell_type": "code",
   "execution_count": 2,
   "id": "8354f884",
   "metadata": {},
   "outputs": [
    {
     "data": {
      "text/html": [
       "<div>\n",
       "<style scoped>\n",
       "    .dataframe tbody tr th:only-of-type {\n",
       "        vertical-align: middle;\n",
       "    }\n",
       "\n",
       "    .dataframe tbody tr th {\n",
       "        vertical-align: top;\n",
       "    }\n",
       "\n",
       "    .dataframe thead th {\n",
       "        text-align: right;\n",
       "    }\n",
       "</style>\n",
       "<table border=\"1\" class=\"dataframe\">\n",
       "  <thead>\n",
       "    <tr style=\"text-align: right;\">\n",
       "      <th></th>\n",
       "      <th>title</th>\n",
       "      <th>text</th>\n",
       "      <th>class</th>\n",
       "    </tr>\n",
       "  </thead>\n",
       "  <tbody>\n",
       "    <tr>\n",
       "      <th>0</th>\n",
       "      <td>Российскому спорту предрекли новый триллер пер...</td>\n",
       "      <td>Четырехкратный олимпийский чемпион и кандидат ...</td>\n",
       "      <td>Спорт</td>\n",
       "    </tr>\n",
       "    <tr>\n",
       "      <th>1</th>\n",
       "      <td>На Урале оперативники пошли под суд за раскрыт...</td>\n",
       "      <td>Трое курганских полицейских предстанут перед с...</td>\n",
       "      <td>Силовые структуры</td>\n",
       "    </tr>\n",
       "    <tr>\n",
       "      <th>2</th>\n",
       "      <td>Николя Гескьеру снова удалось сохранить работу</td>\n",
       "      <td>Дизайнер Николя Гескьер, креативный директор ж...</td>\n",
       "      <td>Ценности</td>\n",
       "    </tr>\n",
       "    <tr>\n",
       "      <th>3</th>\n",
       "      <td>Украинцы похвастались попаданием по танку из а...</td>\n",
       "      <td>Бойцы Вооруженных сил Украины во время испытан...</td>\n",
       "      <td>Бывший СССР</td>\n",
       "    </tr>\n",
       "    <tr>\n",
       "      <th>4</th>\n",
       "      <td>Бывшего мэра Ялты и члена ОПГ «Греки» Андрея Р...</td>\n",
       "      <td>Басманный суд Москвы арестовал до 21 июля бывш...</td>\n",
       "      <td>Силовые структуры</td>\n",
       "    </tr>\n",
       "  </tbody>\n",
       "</table>\n",
       "</div>"
      ],
      "text/plain": [
       "                                               title  \\\n",
       "0  Российскому спорту предрекли новый триллер пер...   \n",
       "1  На Урале оперативники пошли под суд за раскрыт...   \n",
       "2     Николя Гескьеру снова удалось сохранить работу   \n",
       "3  Украинцы похвастались попаданием по танку из а...   \n",
       "4  Бывшего мэра Ялты и члена ОПГ «Греки» Андрея Р...   \n",
       "\n",
       "                                                text              class  \n",
       "0  Четырехкратный олимпийский чемпион и кандидат ...              Спорт  \n",
       "1  Трое курганских полицейских предстанут перед с...  Силовые структуры  \n",
       "2  Дизайнер Николя Гескьер, креативный директор ж...           Ценности  \n",
       "3  Бойцы Вооруженных сил Украины во время испытан...        Бывший СССР  \n",
       "4  Басманный суд Москвы арестовал до 21 июля бывш...  Силовые структуры  "
      ]
     },
     "execution_count": 2,
     "metadata": {},
     "output_type": "execute_result"
    }
   ],
   "source": [
    "df = pd.read_csv('datasets/nlp/lenta.csv', usecols=['title', 'text', 'class'])\n",
    "df.head()"
   ]
  },
  {
   "cell_type": "code",
   "execution_count": 3,
   "id": "7926d80e",
   "metadata": {},
   "outputs": [
    {
     "data": {
      "text/plain": [
       "Россия               82\n",
       "Экономика            62\n",
       "Интернет и СМИ       54\n",
       "Мир                  53\n",
       "Спорт                52\n",
       "Из жизни             46\n",
       "Бывший СССР          38\n",
       "Наука и техника      38\n",
       "Силовые структуры    35\n",
       "Культура             35\n",
       "Ценности             24\n",
       "Путешествия          19\n",
       "Name: class, dtype: int64"
      ]
     },
     "execution_count": 3,
     "metadata": {},
     "output_type": "execute_result"
    }
   ],
   "source": [
    "df['class'].value_counts()"
   ]
  },
  {
   "cell_type": "code",
   "execution_count": 4,
   "id": "2cceaf59",
   "metadata": {},
   "outputs": [],
   "source": [
    "import re\n",
    "regex = re.compile('[А-яа-я]+')\n",
    "\n",
    "def words_only(text, regex=regex):\n",
    "    return ' '.join(regex.findall(text))\n",
    "\n",
    "df.text = df.text.str.lower()\n",
    "df.text = df.text.apply(words_only)"
   ]
  },
  {
   "cell_type": "markdown",
   "id": "8d83e8de",
   "metadata": {},
   "source": [
    "###### Результат"
   ]
  },
  {
   "cell_type": "code",
   "execution_count": 5,
   "id": "9401bba2",
   "metadata": {},
   "outputs": [
    {
     "data": {
      "text/plain": [
       "'четырехкратный олимпийский чемпион и кандидат в президенты олимпийского комитета россии окр александр попов опасается что российский спорт ожидают новые допинг разбирательства из за утечки базы данных московской антидопинговой лаборатории это начало третьей серии триллера заявил он'"
      ]
     },
     "execution_count": 5,
     "metadata": {},
     "output_type": "execute_result"
    }
   ],
   "source": [
    "df.text.iloc[0]"
   ]
  },
  {
   "cell_type": "markdown",
   "id": "9b52c66d",
   "metadata": {},
   "source": [
    "###### Удаление стоп-слов"
   ]
  },
  {
   "cell_type": "code",
   "execution_count": 6,
   "id": "1f0870f2",
   "metadata": {},
   "outputs": [
    {
     "data": {
      "text/plain": [
       "0      четырехкратный олимпийский чемпион кандидат пр...\n",
       "1      трое курганских полицейских предстанут судом р...\n",
       "2      дизайнер николя гескьер креативный директор же...\n",
       "3      бойцы вооруженных сил украины время испытаний ...\n",
       "4      басманный суд москвы арестовал июля бывшего мэ...\n",
       "                             ...                        \n",
       "533    татарстане летняя женщина погибла травм получе...\n",
       "534    председатель кндр ким чен ын время встречи гла...\n",
       "535    совет федерации одобрил законопроект который н...\n",
       "536    актер музыкант джонни депп приехавший россию р...\n",
       "537    пользователи сети обратили внимание фотографию...\n",
       "Name: text, Length: 538, dtype: object"
      ]
     },
     "execution_count": 6,
     "metadata": {},
     "output_type": "execute_result"
    }
   ],
   "source": [
    "from nltk.corpus import stopwords\n",
    "mystopwords = stopwords.words('russian') + ['это', 'наш' , 'тыс', 'млн', 'млрд', 'также',  'т', 'д']\n",
    "def remove_stopwords(text, mystopwords=mystopwords):\n",
    "    try:\n",
    "        return ' '.join([token for token in text.split() if not token in mystopwords])\n",
    "    except:\n",
    "        return ''\n",
    "\n",
    "df.text = df.text.apply(remove_stopwords)\n",
    "df.text"
   ]
  },
  {
   "cell_type": "markdown",
   "id": "350af083",
   "metadata": {},
   "source": [
    "###### Лемматизация - приведение слова к нормальной форме"
   ]
  },
  {
   "cell_type": "code",
   "execution_count": 7,
   "id": "28d00b41",
   "metadata": {},
   "outputs": [],
   "source": [
    "# from pymystem3 import Mystem\n",
    "# text = \"Красивая мама красиво мыла раму\"\n",
    "# m = Mystem()\n",
    "# lemmas = str(m.lemmatize(df.text[0])).strip()\n",
    "# print(''.join(lemmas))"
   ]
  },
  {
   "cell_type": "code",
   "execution_count": null,
   "id": "0369052d",
   "metadata": {},
   "outputs": [],
   "source": [
    "from pymystem3 import Mystem\n",
    "\n",
    "m = Mystem()\n",
    "def lemmatize(text, mystem=m):\n",
    "    try:\n",
    "        return ' '.join(str(m.lemmatize(text))).strip()\n",
    "    except:\n",
    "        return ''\n",
    "\n",
    "df.text = df.text.apply(lemmatize)"
   ]
  },
  {
   "cell_type": "code",
   "execution_count": null,
   "id": "45f9836b",
   "metadata": {},
   "outputs": [],
   "source": [
    "df.text"
   ]
  },
  {
   "cell_type": "markdown",
   "id": "dc451128",
   "metadata": {},
   "source": [
    "##### Удаление стоп-лемми"
   ]
  },
  {
   "cell_type": "code",
   "execution_count": null,
   "id": "aecd3d50",
   "metadata": {},
   "outputs": [],
   "source": [
    "mystoplemmas = ['который','прошлый','сей', 'свой', 'наш', 'мочь']\n",
    "def remove_stoplemmas(text, mystoplemmas=mystoplemmas):\n",
    "    try:\n",
    "        return ' '.join([token for token in text.split() if not token in mystoplemmas])\n",
    "    except:\n",
    "        return ''"
   ]
  },
  {
   "cell_type": "code",
   "execution_count": null,
   "id": "baa08299",
   "metadata": {},
   "outputs": [],
   "source": [
    "df.text = df.text.apply(remove_stoplemmas)"
   ]
  },
  {
   "cell_type": "code",
   "execution_count": null,
   "id": "f7b60151",
   "metadata": {},
   "outputs": [],
   "source": [
    "df.text"
   ]
  },
  {
   "cell_type": "code",
   "execution_count": null,
   "id": "c1481d7a",
   "metadata": {},
   "outputs": [],
   "source": [
    "from nltk import FreqDist\n",
    "\n",
    "lemmata = []\n",
    "for index, row in df.iterrows():\n",
    "    lemmata  += row['text'].split()\n",
    "fd = FreqDist(lemmata)\n",
    "for i in fd.most_common(10):\n",
    "    print(i)"
   ]
  },
  {
   "cell_type": "code",
   "execution_count": null,
   "id": "29526a8c",
   "metadata": {},
   "outputs": [],
   "source": [
    "from wordcloud import *\n",
    "word_freq = [i for i in fd.most_common(100)]\n",
    "wd = WordCloud(background_color='white')\n",
    "wd.generate_from_frequencies(dict(word_freq))\n",
    "plt.figure()\n",
    "plt.imshow(wd, interpolation = 'bilinear')\n",
    "plt.axis('off')\n",
    "plt.show()"
   ]
  },
  {
   "cell_type": "code",
   "execution_count": null,
   "id": "86b5880d",
   "metadata": {},
   "outputs": [],
   "source": []
  },
  {
   "cell_type": "code",
   "execution_count": null,
   "id": "b144d00c",
   "metadata": {},
   "outputs": [],
   "source": []
  }
 ],
 "metadata": {
  "kernelspec": {
   "display_name": "Python 3 (ipykernel)",
   "language": "python",
   "name": "python3"
  },
  "language_info": {
   "codemirror_mode": {
    "name": "ipython",
    "version": 3
   },
   "file_extension": ".py",
   "mimetype": "text/x-python",
   "name": "python",
   "nbconvert_exporter": "python",
   "pygments_lexer": "ipython3",
   "version": "3.8.8"
  },
  "toc": {
   "base_numbering": 1,
   "nav_menu": {},
   "number_sections": false,
   "sideBar": true,
   "skip_h1_title": false,
   "title_cell": "Table of Contents",
   "title_sidebar": "Contents",
   "toc_cell": false,
   "toc_position": {},
   "toc_section_display": true,
   "toc_window_display": false
  }
 },
 "nbformat": 4,
 "nbformat_minor": 5
}
