{
 "cells": [
  {
   "cell_type": "code",
   "execution_count": 1,
   "id": "606760f7",
   "metadata": {},
   "outputs": [],
   "source": [
    "%matplotlib inline\n",
    "import matplotlib.pyplot as plt\n",
    "import seaborn as sns\n",
    "import pandas as pd"
   ]
  },
  {
   "cell_type": "code",
   "execution_count": 2,
   "id": "cd68e2d5",
   "metadata": {},
   "outputs": [],
   "source": [
    "DATA_DIR = 'datasets/ml-data/'"
   ]
  },
  {
   "cell_type": "code",
   "execution_count": 3,
   "id": "06e6dc25",
   "metadata": {},
   "outputs": [],
   "source": [
    "df = pd.read_csv(DATA_DIR + 'ratings.csv')"
   ]
  },
  {
   "cell_type": "code",
   "execution_count": 4,
   "id": "8b24e655",
   "metadata": {},
   "outputs": [
    {
     "data": {
      "text/html": [
       "<div>\n",
       "<style scoped>\n",
       "    .dataframe tbody tr th:only-of-type {\n",
       "        vertical-align: middle;\n",
       "    }\n",
       "\n",
       "    .dataframe tbody tr th {\n",
       "        vertical-align: top;\n",
       "    }\n",
       "\n",
       "    .dataframe thead th {\n",
       "        text-align: right;\n",
       "    }\n",
       "</style>\n",
       "<table border=\"1\" class=\"dataframe\">\n",
       "  <thead>\n",
       "    <tr style=\"text-align: right;\">\n",
       "      <th></th>\n",
       "      <th>userId</th>\n",
       "      <th>movieId</th>\n",
       "      <th>rating</th>\n",
       "      <th>timestamp</th>\n",
       "    </tr>\n",
       "  </thead>\n",
       "  <tbody>\n",
       "    <tr>\n",
       "      <th>0</th>\n",
       "      <td>1</td>\n",
       "      <td>307</td>\n",
       "      <td>3.5</td>\n",
       "      <td>1256677221</td>\n",
       "    </tr>\n",
       "    <tr>\n",
       "      <th>1</th>\n",
       "      <td>1</td>\n",
       "      <td>481</td>\n",
       "      <td>3.5</td>\n",
       "      <td>1256677456</td>\n",
       "    </tr>\n",
       "    <tr>\n",
       "      <th>2</th>\n",
       "      <td>1</td>\n",
       "      <td>1091</td>\n",
       "      <td>1.5</td>\n",
       "      <td>1256677471</td>\n",
       "    </tr>\n",
       "    <tr>\n",
       "      <th>3</th>\n",
       "      <td>1</td>\n",
       "      <td>1257</td>\n",
       "      <td>4.5</td>\n",
       "      <td>1256677460</td>\n",
       "    </tr>\n",
       "    <tr>\n",
       "      <th>4</th>\n",
       "      <td>1</td>\n",
       "      <td>1449</td>\n",
       "      <td>4.5</td>\n",
       "      <td>1256677264</td>\n",
       "    </tr>\n",
       "  </tbody>\n",
       "</table>\n",
       "</div>"
      ],
      "text/plain": [
       "   userId  movieId  rating   timestamp\n",
       "0       1      307     3.5  1256677221\n",
       "1       1      481     3.5  1256677456\n",
       "2       1     1091     1.5  1256677471\n",
       "3       1     1257     4.5  1256677460\n",
       "4       1     1449     4.5  1256677264"
      ]
     },
     "execution_count": 4,
     "metadata": {},
     "output_type": "execute_result"
    }
   ],
   "source": [
    "df.head()"
   ]
  },
  {
   "cell_type": "code",
   "execution_count": 5,
   "id": "4129626b",
   "metadata": {},
   "outputs": [],
   "source": [
    "from pyspark.sql import SparkSession\n",
    "\n",
    "spark = (\n",
    "    SparkSession\n",
    "    .builder\n",
    "    .config('spark.driver.memory', '8G')\n",
    "    .master(\"local[*]\")\n",
    "    .getOrCreate()\n",
    ")"
   ]
  },
  {
   "cell_type": "code",
   "execution_count": 6,
   "id": "176297ea",
   "metadata": {},
   "outputs": [],
   "source": [
    "# считываем данные из CSV\n",
    "# и преобразуем времяпроставления оценки из целого числа в дату мл временем\n",
    "import os\n",
    "import pyspark.sql.functions as sql_func\n",
    "\n",
    "ratings = (\n",
    "    spark\n",
    "    .read\n",
    "    .csv(\n",
    "        os.path.join(DATA_DIR, 'ratings.csv'),\n",
    "        header=True,\n",
    "        inferSchema=True\n",
    "    )\n",
    "    # если используется меньше памяти,\n",
    "    # то здесь можно взять не все данные, а небольшую выборку\n",
    "    # даже при fraction=.01 качественная картина не меняеся\n",
    "    .sample(withReplacement=False, fraction=1.0, seed=0)\n",
    "    .withColumn('rating_datetime', sql_func.from_unixtime('timestamp'))\n",
    "    .drop('timestamp')\n",
    "    .cache()\n",
    ")"
   ]
  },
  {
   "cell_type": "code",
   "execution_count": 7,
   "id": "4d1a93bb",
   "metadata": {},
   "outputs": [
    {
     "name": "stdout",
     "output_type": "stream",
     "text": [
      "+------+-------+------+-------------------+\n",
      "|userId|movieId|rating|    rating_datetime|\n",
      "+------+-------+------+-------------------+\n",
      "|     1|    307|   3.5|2009-10-28 00:00:21|\n",
      "|     1|    481|   3.5|2009-10-28 00:04:16|\n",
      "|     1|   1091|   1.5|2009-10-28 00:04:31|\n",
      "|     1|   1257|   4.5|2009-10-28 00:04:20|\n",
      "|     1|   1449|   4.5|2009-10-28 00:01:04|\n",
      "|     1|   1590|   2.5|2009-10-28 00:00:36|\n",
      "|     1|   1591|   1.5|2009-10-28 00:04:35|\n",
      "|     1|   2134|   4.5|2009-10-28 00:04:24|\n",
      "|     1|   2478|   4.0|2009-10-28 00:00:39|\n",
      "|     1|   2840|   3.0|2009-10-28 00:05:00|\n",
      "|     1|   2986|   2.5|2009-10-28 00:04:56|\n",
      "|     1|   3020|   4.0|2009-10-28 00:01:00|\n",
      "|     1|   3424|   4.5|2009-10-28 00:04:04|\n",
      "|     1|   3698|   3.5|2009-10-28 00:00:43|\n",
      "|     1|   3826|   2.0|2009-10-28 00:00:10|\n",
      "|     1|   3893|   3.5|2009-10-28 00:04:46|\n",
      "|     2|    170|   3.5|2007-10-21 00:53:01|\n",
      "|     2|    849|   3.5|2007-10-21 00:52:17|\n",
      "|     2|   1186|   3.5|2007-10-21 00:53:31|\n",
      "|     2|   1235|   3.0|2007-10-21 00:53:05|\n",
      "+------+-------+------+-------------------+\n",
      "only showing top 20 rows\n",
      "\n"
     ]
    }
   ],
   "source": [
    "ratings.show()"
   ]
  },
  {
   "cell_type": "code",
   "execution_count": 8,
   "id": "08e743b0",
   "metadata": {},
   "outputs": [
    {
     "name": "stdout",
     "output_type": "stream",
     "text": [
      "всего пользователей 283228\n",
      "всего фильмов 53889\n",
      "всего оценок 27753444\n"
     ]
    }
   ],
   "source": [
    "# оцениваем размеры данных\n",
    "print('всего пользователей', ratings.select('userId').distinct().count())\n",
    "print('всего фильмов', ratings.select('movieId').distinct().count())\n",
    "print('всего оценок', ratings.count())"
   ]
  },
  {
   "cell_type": "code",
   "execution_count": 10,
   "id": "92145be8",
   "metadata": {},
   "outputs": [
    {
     "name": "stdout",
     "output_type": "stream",
     "text": [
      "Средняя оценка: 3.5304452124932677\n"
     ]
    }
   ],
   "source": [
    "# достаточно хорошим baseline является пердсказать среднюю оценку\n",
    "mean_rating = ratings.agg(sql_func.avg('rating')).first()[0]\n",
    "print('Средняя оценка:', mean_rating)"
   ]
  },
  {
   "cell_type": "code",
   "execution_count": 12,
   "id": "86daa031",
   "metadata": {},
   "outputs": [],
   "source": [
    "# Функция, с помощью которой мы будем вычислять RMSE на обучающей выборке\n",
    "from pyspark.sql import DataFrame\n",
    "import numpy as np\n",
    "\n",
    "def simple_evaluate(predictions_df: DataFrame) -> float:\n",
    "    return np.sqrt(\n",
    "        ratings\n",
    "        .join(\n",
    "            predictions_df,\n",
    "            ['movieId', 'userId']\n",
    "        ).select(\n",
    "            sql_func.pow(\n",
    "                ratings.rating - predictions_df.prediction,\n",
    "                2\n",
    "            ).alias('squared_error')\n",
    "        )\n",
    "        .agg(sql_func.avg('squared_error'))\n",
    "        .first()[0]\n",
    "    )"
   ]
  },
  {
   "cell_type": "code",
   "execution_count": 13,
   "id": "439587bd",
   "metadata": {},
   "outputs": [
    {
     "name": "stdout",
     "output_type": "stream",
     "text": [
      "Ошибка предсказания: 1.0663527310206389\n"
     ]
    }
   ],
   "source": [
    "# рекомендуем любому пользователю любой фильм случайно\n",
    "mean_predictions = ratings.withColumn('prediction', sql_func.lit(mean_rating))\n",
    "print('Ошибка предсказания:', simple_evaluate(mean_predictions))"
   ]
  },
  {
   "cell_type": "code",
   "execution_count": 14,
   "id": "265fb8ba",
   "metadata": {},
   "outputs": [],
   "source": [
    "# посмотрим на распределение срудних оценок фильмов\n",
    "movie_ratings = (\n",
    "    ratings\n",
    "    .groupBy('movieId')\n",
    "    .agg(sql_func.avg('rating').alias('avg_movie_rating'))\n",
    "    .cache()\n",
    ")"
   ]
  },
  {
   "cell_type": "code",
   "execution_count": 17,
   "id": "ba527483",
   "metadata": {},
   "outputs": [
    {
     "data": {
      "image/png": "[encoded data removed]",
      "text/plain": [
       "<Figure size 432x288 with 1 Axes>"
      ]
     },
     "metadata": {},
     "output_type": "display_data"
    }
   ],
   "source": [
    "# фильм бывает более или менее популярным - выбросы есть в обе стороны,\n",
    "# но \"средних\" фильмов все-таки большинство\n",
    "histogram = (\n",
    "    movie_ratings\n",
    "    .select((.5 * sql_func.ceil(2 * sql_func.col('avg_movie_rating')))\n",
    "            .alias('avg_movie_rating'))\n",
    "    .groupBy('avg_movie_rating')\n",
    "    .agg(sql_func.count('avg_movie_rating').alias('cnt'))\n",
    "    .orderBy('avg_movie_rating')\n",
    "    .toPandas()\n",
    ")\n",
    "sns.set()\n",
    "histogram.plot(x='avg_movie_rating', y='cnt')\n",
    "plt.show()"
   ]
  },
  {
   "cell_type": "code",
   "execution_count": null,
   "id": "d1413374",
   "metadata": {},
   "outputs": [],
   "source": []
  }
 ],
 "metadata": {
  "kernelspec": {
   "display_name": "Python 3",
   "language": "python",
   "name": "python3"
  },
  "language_info": {
   "codemirror_mode": {
    "name": "ipython",
    "version": 3
   },
   "file_extension": ".py",
   "mimetype": "text/x-python",
   "name": "python",
   "nbconvert_exporter": "python",
   "pygments_lexer": "ipython3",
   "version": "3.8.8"
  },
  "toc": {
   "base_numbering": 1,
   "nav_menu": {},
   "number_sections": true,
   "sideBar": true,
   "skip_h1_title": false,
   "title_cell": "Table of Contents",
   "title_sidebar": "Contents",
   "toc_cell": false,
   "toc_position": {},
   "toc_section_display": true,
   "toc_window_display": false
  }
 },
 "nbformat": 4,
 "nbformat_minor": 5
}
