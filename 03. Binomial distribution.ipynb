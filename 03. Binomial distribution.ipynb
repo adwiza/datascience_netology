{
 "cells": [
  {
   "cell_type": "markdown",
   "id": "81cd75cc",
   "metadata": {},
   "source": [
    "# Пример биномиального распределения\n",
    "\n",
    "В эксперементе подбрасываем монетку определенное количество раз. Хотим построить распределение вероятности выпадения орла"
   ]
  },
  {
   "cell_type": "code",
   "execution_count": 6,
   "id": "087c40ff",
   "metadata": {},
   "outputs": [],
   "source": [
    "import numpy as np\n",
    "import pandas as pd\n",
    "import matplotlib.pyplot as plt\n",
    "\n",
    "%matplotlib inline"
   ]
  },
  {
   "cell_type": "code",
   "execution_count": 7,
   "id": "43bf62a0",
   "metadata": {},
   "outputs": [],
   "source": [
    "# сколько раз бросаем монетку\n",
    "\n",
    "attemps_number = 20\n",
    "\n",
    "#вероятность успеха вы\n",
    "p = .5"
   ]
  },
  {
   "cell_type": "code",
   "execution_count": null,
   "id": "ca1793dc",
   "metadata": {},
   "outputs": [],
   "source": []
  }
 ],
 "metadata": {
  "kernelspec": {
   "display_name": "Python 3",
   "language": "python",
   "name": "python3"
  },
  "language_info": {
   "codemirror_mode": {
    "name": "ipython",
    "version": 3
   },
   "file_extension": ".py",
   "mimetype": "text/x-python",
   "name": "python",
   "nbconvert_exporter": "python",
   "pygments_lexer": "ipython3",
   "version": "3.8.8"
  }
 },
 "nbformat": 4,
 "nbformat_minor": 5
}
