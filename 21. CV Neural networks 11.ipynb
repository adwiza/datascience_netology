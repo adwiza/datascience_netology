{
 "cells": [
  {
   "cell_type": "markdown",
   "id": "a3decbf0",
   "metadata": {},
   "source": [
    "# Логическая операция AND"
   ]
  },
  {
   "cell_type": "code",
   "execution_count": 13,
   "id": "a9e8bc62",
   "metadata": {},
   "outputs": [],
   "source": [
    "import pandas as pd"
   ]
  },
  {
   "cell_type": "code",
   "execution_count": 22,
   "id": "f62c57ef",
   "metadata": {},
   "outputs": [
    {
     "name": "stdout",
     "output_type": "stream",
     "text": [
      " Input 1  Input 2  Linear Combination  Activation Output Is Correct\n",
      "       0        0                -2.0                  0        Yes\n",
      "       0        1                -1.0                  0        Yes\n",
      "       1        0                -1.0                  0        Yes\n",
      "       1        1                 0.0                  1        Yes\n"
     ]
    }
   ],
   "source": [
    "# TODO  подберите weight1, weight2, and bias\n",
    "# так, чтобы выполнилась операция AND\n",
    "# для входных данных [ (0, 0), (0, 1), (1, 0), (1, 1) ]\n",
    "weight1 = 1\n",
    "weight2 = 1\n",
    "bias = -2.0\n",
    "\n",
    "# f = x1 * weight + x2 * weight2 + b\n",
    "\n",
    "# уравление гиперплоскости\n",
    "# y(x) = - x * weight1 / weight2 - bias / weight2\n",
    "\n",
    "# y * weight2 + x * weight1 + = 0\n",
    "\n",
    "# входные данные и разметка\n",
    "test_inputs = [ (0, 0), (0, 1), (1, 0), (1, 1) ]\n",
    "correct_outputs = [False, False, False, True]\n",
    "outputs = []\n",
    "# Вычисляем предсказания\n",
    "for test_input, correct_output in zip(test_inputs, correct_outputs):\n",
    "    linear_combination = weight1 * test_input[0] + \\\n",
    "                         weight2 * test_input[1] + bias\n",
    "    # результат линейной комбинации сравниваем с 0\n",
    "    output = int(linear_combination >= 0)\n",
    "    is_correct_string = 'Yes' if output == correct_output else 'No'\n",
    "    outputs.append([test_input[0],\n",
    "                    test_input[1],\n",
    "                    linear_combination,\n",
    "                    output,\n",
    "                    is_correct_string])\n",
    "# выводим результат\n",
    "output_frame = pd.DataFrame(outputs, columns=['Input 1',\n",
    "                                              'Input 2',\n",
    "                                              'Linear Combination',\n",
    "                                              'Activation Output',\n",
    "                                              'Is Correct',\n",
    "                                             ])\n",
    "print(output_frame.to_string(index = False))\n"
   ]
  },
  {
   "cell_type": "code",
   "execution_count": 23,
   "id": "e1093518",
   "metadata": {},
   "outputs": [
    {
     "name": "stdout",
     "output_type": "stream",
     "text": [
      "[-2.00000000e+00 -1.90000000e+00 -1.80000000e+00 -1.70000000e+00\n",
      " -1.60000000e+00 -1.50000000e+00 -1.40000000e+00 -1.30000000e+00\n",
      " -1.20000000e+00 -1.10000000e+00 -1.00000000e+00 -9.00000000e-01\n",
      " -8.00000000e-01 -7.00000000e-01 -6.00000000e-01 -5.00000000e-01\n",
      " -4.00000000e-01 -3.00000000e-01 -2.00000000e-01 -1.00000000e-01\n",
      "  1.77635684e-15  1.00000000e-01  2.00000000e-01  3.00000000e-01\n",
      "  4.00000000e-01  5.00000000e-01  6.00000000e-01  7.00000000e-01\n",
      "  8.00000000e-01  9.00000000e-01  1.00000000e+00  1.10000000e+00\n",
      "  1.20000000e+00  1.30000000e+00  1.40000000e+00  1.50000000e+00\n",
      "  1.60000000e+00  1.70000000e+00  1.80000000e+00  1.90000000e+00] [4.0, 3.9, 3.8, 3.6999999999999997, 3.5999999999999996, 3.4999999999999996, 3.3999999999999995, 3.2999999999999994, 3.1999999999999993, 3.099999999999999, 2.999999999999999, 2.899999999999999, 2.799999999999999, 2.699999999999999, 2.5999999999999988, 2.4999999999999987, 2.3999999999999986, 2.2999999999999985, 2.1999999999999984, 2.0999999999999983, 1.9999999999999982, 1.8999999999999981, 1.799999999999998, 1.699999999999998, 1.5999999999999979, 1.4999999999999978, 1.3999999999999977, 1.2999999999999976, 1.1999999999999975, 1.0999999999999974, 0.9999999999999973, 0.8999999999999972, 0.7999999999999972, 0.6999999999999971, 0.599999999999997, 0.4999999999999969, 0.3999999999999968, 0.2999999999999967, 0.19999999999999662, 0.09999999999999654]\n"
     ]
    },
    {
     "data": {
      "image/png": "[encoded data removed]",
      "text/plain": [
       "<Figure size 432x288 with 1 Axes>"
      ]
     },
     "metadata": {
      "needs_background": "light"
     },
     "output_type": "display_data"
    }
   ],
   "source": [
    "%matplotlib inline\n",
    "\n",
    "import numpy as np\n",
    "from matplotlib import pyplot as plt\n",
    "\n",
    "x = np.arange(-2, 2, 0.1)\n",
    "y = [-v * weight1 / weight2 - bias / weight2 for v in x]\n",
    "\n",
    "plt.plot(x, y, '-', [0, 0, 1, 1], [0, 1, 0, 1], 'o')\n",
    "plt.xlim(0, 2)\n",
    "plt.ylim(0, 2);\n",
    "\n",
    "print(x, y)"
   ]
  },
  {
   "cell_type": "code",
   "execution_count": null,
   "id": "c0b3f162",
   "metadata": {},
   "outputs": [],
   "source": []
  }
 ],
 "metadata": {
  "kernelspec": {
   "display_name": "Python 3 (ipykernel)",
   "language": "python",
   "name": "python3"
  },
  "language_info": {
   "codemirror_mode": {
    "name": "ipython",
    "version": 3
   },
   "file_extension": ".py",
   "mimetype": "text/x-python",
   "name": "python",
   "nbconvert_exporter": "python",
   "pygments_lexer": "ipython3",
   "version": "3.9.12"
  },
  "toc": {
   "base_numbering": 1,
   "nav_menu": {},
   "number_sections": true,
   "sideBar": true,
   "skip_h1_title": false,
   "title_cell": "Table of Contents",
   "title_sidebar": "Contents",
   "toc_cell": false,
   "toc_position": {},
   "toc_section_display": true,
   "toc_window_display": false
  }
 },
 "nbformat": 4,
 "nbformat_minor": 5
}
