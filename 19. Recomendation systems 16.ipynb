{
 "cells": [
  {
   "cell_type": "code",
   "execution_count": 1,
   "id": "7b827996",
   "metadata": {},
   "outputs": [],
   "source": [
    "from implicit.nearest_neighbours import CosineRecommender\n",
    "from implicit.als import AlternatingLeastSquares\n",
    "import pandas as pd\n",
    "import os"
   ]
  },
  {
   "cell_type": "code",
   "execution_count": 2,
   "id": "d328da3e",
   "metadata": {},
   "outputs": [],
   "source": [
    "ratings = pd.read_csv('C:/Users/adwiz/Documents/Courses\\datascience_netology/datasets/ml-data/ratings.csv')"
   ]
  },
  {
   "cell_type": "code",
   "execution_count": 3,
   "id": "b68b960b",
   "metadata": {},
   "outputs": [],
   "source": [
    "from scipy.sparse import coo_matrix\n",
    "import numpy as np\n",
    "\n",
    "user_item_matrix = coo_matrix((\n",
    "    (ratings['rating'] >= 4).astype(np.float32),\n",
    "    (ratings['userId'], ratings['movieId'])\n",
    "))\n",
    "user_item_matrix.eliminate_zeros()"
   ]
  },
  {
   "cell_type": "code",
   "execution_count": 4,
   "id": "963d6b10",
   "metadata": {},
   "outputs": [],
   "source": [
    "# делим разреженную матрицу на обучающую и тестовую\n",
    "total_len = user_item_matrix.data.size\n",
    "train_len = int(total_len * .8)\n",
    "all_indices = np.arange(total_len)\n",
    "np.random.seed(42)\n",
    "train_indices = np.random.choice(all_indices, train_len, replace=False)\n",
    "train_mask = np.in1d(all_indices, train_indices)"
   ]
  },
  {
   "cell_type": "code",
   "execution_count": 5,
   "id": "118eb724",
   "metadata": {},
   "outputs": [],
   "source": [
    "def get_masked(arr, mask):\n",
    "    return coo_matrix(\n",
    "        (\n",
    "            [np.float32(item) for item in arr.data[mask]],\n",
    "            (arr.row[mask], arr.col[mask])\n",
    "        ),\n",
    "        arr.shape\n",
    "    )"
   ]
  },
  {
   "cell_type": "code",
   "execution_count": 6,
   "id": "a666938c",
   "metadata": {},
   "outputs": [],
   "source": [
    "train_csr = get_masked(user_item_matrix, train_mask).tocsr()\n",
    "train = train_csr.T\n",
    "test_coo = get_masked(user_item_matrix, ~train_mask)\n",
    "test_csr = test_coo.tocsr()"
   ]
  },
  {
   "cell_type": "code",
   "execution_count": 7,
   "id": "9656c15e",
   "metadata": {},
   "outputs": [
    {
     "name": "stderr",
     "output_type": "stream",
     "text": [
      "C:\\Users\\adwiz\\anaconda3\\lib\\site-packages\\implicit\\utils.py:31: UserWarning: Intel MKL BLAS detected. Its highly recommend to set the environment variable 'export MKL_NUM_THREADS=1' to disable its internal multithreading\n",
      "  warnings.warn(\n"
     ]
    }
   ],
   "source": [
    "cosine = CosineRecommender()\n",
    "os.environ['OPENBLAS_NUM_THREADS'] = '1'\n",
    "os.environ['MKL_NUM_THREADS'] = '-1' #UserWarning: Intel MKL BLAS detected. Its highly recommend to set the environment variable 'export MKL_NUM_THREADS=1' to disable its internal multithreading\n",
    "als = AlternatingLeastSquares(factors=10, iterations=10)"
   ]
  },
  {
   "cell_type": "code",
   "execution_count": null,
   "id": "d9d1a9c6",
   "metadata": {},
   "outputs": [
    {
     "data": {
      "application/vnd.jupyter.widget-view+json": {
       "model_id": "b25b2a3107cd40d899ca196fc50f48f9",
       "version_major": 2,
       "version_minor": 0
      },
      "text/plain": [
       "  0%|          | 0/283229 [00:00<?, ?it/s]"
      ]
     },
     "metadata": {},
     "output_type": "display_data"
    }
   ],
   "source": [
    "%%time\n",
    "cosine.fit(train)"
   ]
  },
  {
   "cell_type": "code",
   "execution_count": null,
   "id": "59a3c23b",
   "metadata": {},
   "outputs": [],
   "source": [
    "als.fit(train)"
   ]
  },
  {
   "cell_type": "code",
   "execution_count": null,
   "id": "7ca4bd3e",
   "metadata": {},
   "outputs": [],
   "source": [
    "users = list(set(test_coo.row))\n",
    "small_users = users[:10000]\n",
    "\n",
    "def get_recs(users, model):\n",
    "    return {\n",
    "        user: model.recommend(userid=user, user_items=train_csr, N=50)\n",
    "        for user in small_users\n",
    "    }"
   ]
  },
  {
   "cell_type": "code",
   "execution_count": null,
   "id": "c44f7a25",
   "metadata": {},
   "outputs": [],
   "source": [
    "def hitrate(k, recs, users):\n",
    "    hits = 0\n",
    "    for user in users:\n",
    "        if recs[user]:\n",
    "            rec_items, _ = zip(*recs[user])\n",
    "            hits += len(set(rec_items[:k]).intersections(set(test_csr[user].indices))) > 0\n",
    "    return hits / len(users)"
   ]
  },
  {
   "cell_type": "code",
   "execution_count": null,
   "id": "f3d50e81",
   "metadata": {},
   "outputs": [],
   "source": [
    "%%time\n",
    "als = get_recs(small_users, als)"
   ]
  },
  {
   "cell_type": "code",
   "execution_count": null,
   "id": "a9095685",
   "metadata": {},
   "outputs": [],
   "source": [
    "%%time\n",
    "print(hitrate(50, als_recs, small_users))"
   ]
  },
  {
   "cell_type": "code",
   "execution_count": null,
   "id": "54948754",
   "metadata": {},
   "outputs": [],
   "source": [
    "%%time\n",
    "cosine_recs = get_recs(small_users, cosine)"
   ]
  },
  {
   "cell_type": "code",
   "execution_count": null,
   "id": "07433d0f",
   "metadata": {},
   "outputs": [],
   "source": [
    "%%time\n",
    "print(hitrate(50, cosine_recs, small_users))"
   ]
  },
  {
   "cell_type": "code",
   "execution_count": null,
   "id": "edec572b",
   "metadata": {},
   "outputs": [],
   "source": [
    "from itertools import groupby\n",
    "\n",
    "new_recs = dict()\n",
    "for user in users:\n",
    "    new_rec = cosine_rec[user] + als_recs[user]\n",
    "    new_rec = [\n",
    "        (\n",
    "            pair[0],\n",
    "            sum([values[1] for values in pairp[1]]) / (len(list(pair(1)) if list(pair[1])) else 1)\n",
    "        )\n",
    "        for pair in groupby(new_rec, lambda pair[0])\n",
    "    ]\n",
    "    new_recs[user] = sorted(new_rec, key=lambda pair: -pair[1])[:50]"
   ]
  },
  {
   "cell_type": "code",
   "execution_count": null,
   "id": "0c0d7ed6",
   "metadata": {},
   "outputs": [],
   "source": [
    "%%time\n",
    "from pickle import dump\n",
    "\n",
    "with open(r'C:\\Users\\adwiz\\Documents\\Courses\\datascience_netology\\models\\als_recs.pkl', 'wb') as f:\n",
    "    dump(als_recs, f)\n",
    "    \n",
    "with open(r'C:\\Users\\adwiz\\Documents\\Courses\\datascience_netology\\models\\cosine_recs.pkl', 'wb') as f:\n",
    "    dump(cosine_recs, f)\n",
    "\n",
    "with open(r'C:\\Users\\adwiz\\Documents\\Courses\\datascience_netology\\models\\test_csr.pkl', 'wb') as f:\n",
    "    dump(test_csr, f)\n"
   ]
  }
 ],
 "metadata": {
  "kernelspec": {
   "display_name": "Python 3 (ipykernel)",
   "language": "python",
   "name": "python3"
  },
  "language_info": {
   "codemirror_mode": {
    "name": "ipython",
    "version": 3
   },
   "file_extension": ".py",
   "mimetype": "text/x-python",
   "name": "python",
   "nbconvert_exporter": "python",
   "pygments_lexer": "ipython3",
   "version": "3.8.8"
  },
  "toc": {
   "base_numbering": 1,
   "nav_menu": {},
   "number_sections": true,
   "sideBar": true,
   "skip_h1_title": false,
   "title_cell": "Table of Contents",
   "title_sidebar": "Contents",
   "toc_cell": false,
   "toc_position": {},
   "toc_section_display": true,
   "toc_window_display": false
  }
 },
 "nbformat": 4,
 "nbformat_minor": 5
}
