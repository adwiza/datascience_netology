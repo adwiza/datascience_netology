{
 "cells": [
  {
   "cell_type": "code",
   "execution_count": 1,
   "id": "7b827996",
   "metadata": {},
   "outputs": [],
   "source": [
    "from implicit.nearest_neighbours import CosineRecommender\n",
    "# from implicit.als import  AlternatingLeastSquares\n",
    "from implicit.approximate_als import AnnoyAlternatingLeastSquares\n",
    "import pandas as pd\n",
    "import os"
   ]
  },
  {
   "cell_type": "code",
   "execution_count": 2,
   "id": "d328da3e",
   "metadata": {},
   "outputs": [],
   "source": [
    "# ratings = pd.read_csv('C:/Users/adwiz/Documents/Courses/datascience_netology/datasets/ml-data/ratings.csv')\n",
    "ratings = pd.read_csv('D:/Datasets/ml-latest-small/ratings.csv')"
   ]
  },
  {
   "cell_type": "code",
   "execution_count": 3,
   "id": "b68b960b",
   "metadata": {},
   "outputs": [],
   "source": [
    "from scipy.sparse import coo_matrix\n",
    "import numpy as np\n",
    "\n",
    "user_item_matrix = coo_matrix((\n",
    "    (ratings['rating'] >= 4).astype(np.float32),\n",
    "    (ratings['userId'], ratings['movieId'])\n",
    "))\n",
    "user_item_matrix.eliminate_zeros()"
   ]
  },
  {
   "cell_type": "code",
   "execution_count": 4,
   "id": "963d6b10",
   "metadata": {},
   "outputs": [],
   "source": [
    "# делим разреженную матрицу на обучающую и тестовую\n",
    "total_len = user_item_matrix.data.size\n",
    "train_len = int(total_len * .8)\n",
    "all_indices = np.arange(total_len)\n",
    "np.random.seed(42)\n",
    "train_indices = np.random.choice(all_indices, train_len, replace=False)\n",
    "train_mask = np.in1d(all_indices, train_indices)"
   ]
  },
  {
   "cell_type": "code",
   "execution_count": 5,
   "id": "118eb724",
   "metadata": {},
   "outputs": [],
   "source": [
    "def get_masked(arr, mask):\n",
    "    return coo_matrix(\n",
    "        (\n",
    "            [np.float32(item) for item in arr.data[mask]],\n",
    "            (arr.row[mask], arr.col[mask])\n",
    "        ),\n",
    "        arr.shape\n",
    "    )"
   ]
  },
  {
   "cell_type": "code",
   "execution_count": 6,
   "id": "a666938c",
   "metadata": {},
   "outputs": [],
   "source": [
    "train_csr = get_masked(user_item_matrix, train_mask).tocsr()\n",
    "train = train_csr.T\n",
    "test_coo = get_masked(user_item_matrix, ~train_mask)\n",
    "test_csr = test_coo.tocsr()"
   ]
  },
  {
   "cell_type": "code",
   "execution_count": 7,
   "id": "9656c15e",
   "metadata": {},
   "outputs": [],
   "source": [
    "cosine = CosineRecommender()\n",
    "os.environ['OPENBLAS_NUM_THREADS'] = '1'\n",
    "os.environ['MKL_NUM_THREADS'] = '1' #UserWarning: Intel MKL BLAS detected. Its highly recommend to set the environment variable 'export MKL_NUM_THREADS=1' to disable its internal multithreading\n",
    "# als = AlternatingLeastSquares(factors=10, iterations=10)\n",
    "als = AnnoyAlternatingLeastSquares()"
   ]
  },
  {
   "cell_type": "code",
   "execution_count": 8,
   "id": "d9d1a9c6",
   "metadata": {},
   "outputs": [
    {
     "data": {
      "application/vnd.jupyter.widget-view+json": {
       "model_id": "1d49b898b41c4bea8e6c3eb757432b74",
       "version_major": 2,
       "version_minor": 0
      },
      "text/plain": [
       "  0%|          | 0/611 [00:00<?, ?it/s]"
      ]
     },
     "metadata": {},
     "output_type": "display_data"
    },
    {
     "name": "stdout",
     "output_type": "stream",
     "text": [
      "CPU times: total: 219 ms\n",
      "Wall time: 52 ms\n"
     ]
    }
   ],
   "source": [
    "%%time\n",
    "cosine.fit(train)"
   ]
  },
  {
   "cell_type": "code",
   "execution_count": 9,
   "id": "59a3c23b",
   "metadata": {},
   "outputs": [
    {
     "data": {
      "application/vnd.jupyter.widget-view+json": {
       "model_id": "a65b8e047d3b4010aa04423589b826c6",
       "version_major": 2,
       "version_minor": 0
      },
      "text/plain": [
       "  0%|          | 0/15 [00:00<?, ?it/s]"
      ]
     },
     "metadata": {},
     "output_type": "display_data"
    }
   ],
   "source": [
    "als.fit(train)"
   ]
  },
  {
   "cell_type": "code",
   "execution_count": 10,
   "id": "7ca4bd3e",
   "metadata": {},
   "outputs": [],
   "source": [
    "users = list(set(test_coo.row))\n",
    "small_users = users[:10000]\n",
    "\n",
    "def get_recs(users, model):\n",
    "    return {\n",
    "        user: model.recommend(userid=user, user_items=train_csr, N=50)\n",
    "        for user in small_users\n",
    "    }"
   ]
  },
  {
   "cell_type": "code",
   "execution_count": 11,
   "id": "c44f7a25",
   "metadata": {},
   "outputs": [],
   "source": [
    "def hitrate(k, recs, users):\n",
    "    hits = 0\n",
    "    for user in users:\n",
    "        if recs[user]:\n",
    "            rec_items, _ = zip(*recs[user])\n",
    "            hits += len(set(rec_items[:k]).intersection(set(test_csr[user].indices))) > 0\n",
    "    return hits / len(users)"
   ]
  },
  {
   "cell_type": "code",
   "execution_count": 12,
   "id": "f3d50e81",
   "metadata": {},
   "outputs": [
    {
     "name": "stdout",
     "output_type": "stream",
     "text": [
      "CPU times: total: 297 ms\n",
      "Wall time: 293 ms\n"
     ]
    }
   ],
   "source": [
    "%%time\n",
    "als_recs = get_recs(small_users, als)"
   ]
  },
  {
   "cell_type": "code",
   "execution_count": 13,
   "id": "a9095685",
   "metadata": {},
   "outputs": [
    {
     "ename": "ValueError",
     "evalue": "too many values to unpack (expected 2)",
     "output_type": "error",
     "traceback": [
      "\u001b[1;31m---------------------------------------------------------------------------\u001b[0m",
      "\u001b[1;31mValueError\u001b[0m                                Traceback (most recent call last)",
      "File \u001b[1;32m<timed eval>:1\u001b[0m, in \u001b[0;36m<module>\u001b[1;34m\u001b[0m\n",
      "Input \u001b[1;32mIn [11]\u001b[0m, in \u001b[0;36mhitrate\u001b[1;34m(k, recs, users)\u001b[0m\n\u001b[0;32m      3\u001b[0m \u001b[38;5;28;01mfor\u001b[39;00m user \u001b[38;5;129;01min\u001b[39;00m users:\n\u001b[0;32m      4\u001b[0m     \u001b[38;5;28;01mif\u001b[39;00m recs[user]:\n\u001b[1;32m----> 5\u001b[0m         rec_items, _ \u001b[38;5;241m=\u001b[39m \u001b[38;5;28mzip\u001b[39m(\u001b[38;5;241m*\u001b[39mrecs[user])\n\u001b[0;32m      6\u001b[0m         hits \u001b[38;5;241m+\u001b[39m\u001b[38;5;241m=\u001b[39m \u001b[38;5;28mlen\u001b[39m(\u001b[38;5;28mset\u001b[39m(rec_items[:k])\u001b[38;5;241m.\u001b[39mintersection(\u001b[38;5;28mset\u001b[39m(test_csr[user]\u001b[38;5;241m.\u001b[39mindices))) \u001b[38;5;241m>\u001b[39m \u001b[38;5;241m0\u001b[39m\n\u001b[0;32m      7\u001b[0m \u001b[38;5;28;01mreturn\u001b[39;00m hits \u001b[38;5;241m/\u001b[39m \u001b[38;5;28mlen\u001b[39m(users)\n",
      "\u001b[1;31mValueError\u001b[0m: too many values to unpack (expected 2)"
     ]
    }
   ],
   "source": [
    "%%time\n",
    "print(hitrate(50, als_recs, small_users))"
   ]
  },
  {
   "cell_type": "code",
   "execution_count": 14,
   "id": "54948754",
   "metadata": {},
   "outputs": [
    {
     "name": "stdout",
     "output_type": "stream",
     "text": [
      "CPU times: total: 31.2 ms\n",
      "Wall time: 11 ms\n"
     ]
    }
   ],
   "source": [
    "%%time\n",
    "cosine_recs = get_recs(small_users, cosine)"
   ]
  },
  {
   "cell_type": "code",
   "execution_count": 15,
   "id": "07433d0f",
   "metadata": {},
   "outputs": [
    {
     "ename": "ValueError",
     "evalue": "not enough values to unpack (expected 2, got 0)",
     "output_type": "error",
     "traceback": [
      "\u001b[1;31m---------------------------------------------------------------------------\u001b[0m",
      "\u001b[1;31mValueError\u001b[0m                                Traceback (most recent call last)",
      "File \u001b[1;32m<timed eval>:1\u001b[0m, in \u001b[0;36m<module>\u001b[1;34m\u001b[0m\n",
      "Input \u001b[1;32mIn [11]\u001b[0m, in \u001b[0;36mhitrate\u001b[1;34m(k, recs, users)\u001b[0m\n\u001b[0;32m      3\u001b[0m \u001b[38;5;28;01mfor\u001b[39;00m user \u001b[38;5;129;01min\u001b[39;00m users:\n\u001b[0;32m      4\u001b[0m     \u001b[38;5;28;01mif\u001b[39;00m recs[user]:\n\u001b[1;32m----> 5\u001b[0m         rec_items, _ \u001b[38;5;241m=\u001b[39m \u001b[38;5;28mzip\u001b[39m(\u001b[38;5;241m*\u001b[39mrecs[user])\n\u001b[0;32m      6\u001b[0m         hits \u001b[38;5;241m+\u001b[39m\u001b[38;5;241m=\u001b[39m \u001b[38;5;28mlen\u001b[39m(\u001b[38;5;28mset\u001b[39m(rec_items[:k])\u001b[38;5;241m.\u001b[39mintersection(\u001b[38;5;28mset\u001b[39m(test_csr[user]\u001b[38;5;241m.\u001b[39mindices))) \u001b[38;5;241m>\u001b[39m \u001b[38;5;241m0\u001b[39m\n\u001b[0;32m      7\u001b[0m \u001b[38;5;28;01mreturn\u001b[39;00m hits \u001b[38;5;241m/\u001b[39m \u001b[38;5;28mlen\u001b[39m(users)\n",
      "\u001b[1;31mValueError\u001b[0m: not enough values to unpack (expected 2, got 0)"
     ]
    }
   ],
   "source": [
    "%%time\n",
    "print(hitrate(50, cosine_recs, small_users))"
   ]
  },
  {
   "cell_type": "code",
   "execution_count": 16,
   "id": "6bbf592e",
   "metadata": {},
   "outputs": [
    {
     "ename": "SyntaxError",
     "evalue": "invalid syntax (3856770254.py, line 9)",
     "output_type": "error",
     "traceback": [
      "\u001b[1;36m  Input \u001b[1;32mIn [16]\u001b[1;36m\u001b[0m\n\u001b[1;33m    sum([values[1] for values in pairp[1]]) / (len(list(pair(1)) if list(pair[1])) else 1)\u001b[0m\n\u001b[1;37m                                                                                 ^\u001b[0m\n\u001b[1;31mSyntaxError\u001b[0m\u001b[1;31m:\u001b[0m invalid syntax\n"
     ]
    }
   ],
   "source": [
    "from itertools import groupby\n",
    "\n",
    "new_recs = dict()\n",
    "for user in users:\n",
    "    new_rec = cosine_rec[user] + als_recs[user]\n",
    "    new_rec = [\n",
    "        (\n",
    "            pair[0],\n",
    "            sum([values[1] for values in pairp[1]]) / (len(list(pair(1)) if list(pair[1])) else 1)\n",
    "        )\n",
    "        for pair in groupby(new_rec, lambda pair[0])\n",
    "    ]\n",
    "    new_recs[user] = sorted(new_rec, key=lambda pair: -pair[1])[:50]"
   ]
  },
  {
   "cell_type": "code",
   "execution_count": null,
   "id": "0c0d7ed6",
   "metadata": {},
   "outputs": [],
   "source": [
    "%%time\n",
    "from pickle import dump\n",
    "\n",
    "with open(r'C:\\Users\\adwiz\\Documents\\Courses\\datascience_netology\\models\\als_recs.pkl', 'wb') as f:\n",
    "    dump(als_recs, f)\n",
    "    \n",
    "with open(r'C:\\Users\\adwiz\\Documents\\Courses\\datascience_netology\\models\\cosine_recs.pkl', 'wb') as f:\n",
    "    dump(cosine_recs, f)\n",
    "\n",
    "with open(r'C:\\Users\\adwiz\\Documents\\Courses\\datascience_netology\\models\\test_csr.pkl', 'wb') as f:\n",
    "    dump(test_csr, f)\n"
   ]
  }
 ],
 "metadata": {
  "kernelspec": {
   "display_name": "Python 3 (ipykernel)",
   "language": "python",
   "name": "python3"
  },
  "language_info": {
   "codemirror_mode": {
    "name": "ipython",
    "version": 3
   },
   "file_extension": ".py",
   "mimetype": "text/x-python",
   "name": "python",
   "nbconvert_exporter": "python",
   "pygments_lexer": "ipython3",
   "version": "3.8.8"
  },
  "toc": {
   "base_numbering": 1,
   "nav_menu": {},
   "number_sections": true,
   "sideBar": true,
   "skip_h1_title": false,
   "title_cell": "Table of Contents",
   "title_sidebar": "Contents",
   "toc_cell": false,
   "toc_position": {},
   "toc_section_display": true,
   "toc_window_display": false
  }
 },
 "nbformat": 4,
 "nbformat_minor": 5
}
