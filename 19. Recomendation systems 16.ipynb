{
 "cells": [
  {
   "cell_type": "code",
   "execution_count": 29,
   "id": "1a375190",
   "metadata": {},
   "outputs": [],
   "source": [
    "from implicit.nearest_neighbours import CosineRecommender\n",
    "from implicit.als import AlternatingLeastSquares\n",
    "import pandas as pd\n",
    "import os"
   ]
  },
  {
   "cell_type": "code",
   "execution_count": 24,
   "id": "1be26871",
   "metadata": {},
   "outputs": [],
   "source": [
    "ratings = pd.read_csv('D:/Datasets/ml-latest/ratings.csv')"
   ]
  },
  {
   "cell_type": "code",
   "execution_count": 25,
   "id": "4f27c8de",
   "metadata": {},
   "outputs": [],
   "source": [
    "from scipy.sparse import coo_matrix\n",
    "import numpy as np\n",
    "\n",
    "user_item_matrix = coo_matrix((\n",
    "    (ratings['rating'] >= 4).astype(np.float32),\n",
    "    (ratings['userId'], ratings['movieId'])\n",
    "))\n",
    "user_item_matrix.eliminate_zeros()"
   ]
  },
  {
   "cell_type": "code",
   "execution_count": 26,
   "id": "0bc9b97e",
   "metadata": {},
   "outputs": [],
   "source": [
    "# делим разреженную матрицу на обучающую и тестовую\n",
    "total_len = user_item_matrix.data.size\n",
    "train_len = int(total_len * .8)\n",
    "all_indices = np.arange(total_len)\n",
    "np.random.seed(42)\n",
    "train_indices = np.random.choice(all_indices, train_len, replace=False)\n",
    "train_mask = np.in1d(all_indices, train_indices)"
   ]
  },
  {
   "cell_type": "code",
   "execution_count": 27,
   "id": "981220b5",
   "metadata": {},
   "outputs": [],
   "source": [
    "def get_masked(arr, mask):\n",
    "    return coo_matrix(\n",
    "        (\n",
    "            [np.float32(item) for item in arr.data[mask]],\n",
    "            (arr.row[mask], arr.col[mask])\n",
    "        ),\n",
    "        arr.shape\n",
    "    )"
   ]
  },
  {
   "cell_type": "code",
   "execution_count": 28,
   "id": "f45d58ec",
   "metadata": {},
   "outputs": [],
   "source": [
    "train_csr = get_masked(user_item_matrix, train_mask).tocsr()\n",
    "train = train_csr.T\n",
    "test_coo = get_masked(user_item_matrix, ~train_mask)\n",
    "test_csr = test_coo.tocsr()"
   ]
  },
  {
   "cell_type": "code",
   "execution_count": 30,
   "id": "71856588",
   "metadata": {},
   "outputs": [],
   "source": [
    "cosine = CosineRecommender()\n",
    "os.environ['OPENBLAS_NUM_THREADS'] = '1'\n",
    "als = AlternatingLeastSquares(factors=10, iterations=10)"
   ]
  },
  {
   "cell_type": "code",
   "execution_count": null,
   "id": "2ad40221",
   "metadata": {},
   "outputs": [
    {
     "data": {
      "application/vnd.jupyter.widget-view+json": {
       "model_id": "6ed47243d6694f0c94b0fcc47ee95ec8",
       "version_major": 2,
       "version_minor": 0
      },
      "text/plain": [
       "  0%|          | 0/283229 [00:00<?, ?it/s]"
      ]
     },
     "metadata": {},
     "output_type": "display_data"
    }
   ],
   "source": [
    "%%time\n",
    "cosine.fit(train)"
   ]
  },
  {
   "cell_type": "code",
   "execution_count": null,
   "id": "5b071a57",
   "metadata": {},
   "outputs": [],
   "source": [
    "als.fit(train)"
   ]
  },
  {
   "cell_type": "code",
   "execution_count": null,
   "id": "00714971",
   "metadata": {},
   "outputs": [],
   "source": [
    "users = list(set(test_coo.row))\n",
    "small_users = users[:10000]\n",
    "\n",
    "def get_recs(users, model):\n",
    "    return {\n",
    "        user: model.recomend(uyserid=user, user_items=train_csr, N=50)\n",
    "        for user in small_users\n",
    "    }"
   ]
  },
  {
   "cell_type": "code",
   "execution_count": null,
   "id": "fcba9d89",
   "metadata": {},
   "outputs": [],
   "source": [
    "def hitrate(k, recs, users):\n",
    "    hits = 0\n",
    "    for user in users:\n",
    "        if recs[user]:\n",
    "            rec_items, _ = zip(*recs[user])\n",
    "            hits += len(set(rec_items[:k]).intersections(set(test_csr[user].indices))) > 0\n",
    "    return hits / len(users)"
   ]
  },
  {
   "cell_type": "code",
   "execution_count": null,
   "id": "dd8a0f07",
   "metadata": {},
   "outputs": [],
   "source": []
  }
 ],
 "metadata": {
  "kernelspec": {
   "display_name": "Python 3",
   "language": "python",
   "name": "python3"
  },
  "language_info": {
   "codemirror_mode": {
    "name": "ipython",
    "version": 3
   },
   "file_extension": ".py",
   "mimetype": "text/x-python",
   "name": "python",
   "nbconvert_exporter": "python",
   "pygments_lexer": "ipython3",
   "version": "3.8.8"
  },
  "toc": {
   "base_numbering": 1,
   "nav_menu": {},
   "number_sections": true,
   "sideBar": true,
   "skip_h1_title": false,
   "title_cell": "Table of Contents",
   "title_sidebar": "Contents",
   "toc_cell": false,
   "toc_position": {},
   "toc_section_display": true,
   "toc_window_display": false
  }
 },
 "nbformat": 4,
 "nbformat_minor": 5
}
