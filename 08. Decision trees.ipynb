{
 "cells": [
  {
   "cell_type": "markdown",
   "id": "8419d974",
   "metadata": {},
   "source": [
    "## 1. Критерий информативности с нуля"
   ]
  },
  {
   "cell_type": "markdown",
   "id": "03b12cd2",
   "metadata": {},
   "source": [
    "как мы разобрали, построение дерева зависит от следующих факторов:\n",
    "* вид правила разбиения\n",
    "* критерий информативности\n",
    "* критерий останова\n",
    "* метод стрижки\n",
    "* проблема пропусков\n",
    "\n",
    "пройдёмся критериям информативности"
   ]
  },
  {
   "cell_type": "code",
   "execution_count": 2,
   "id": "dd3ccd41",
   "metadata": {},
   "outputs": [],
   "source": [
    "import numpy as np\n",
    "from collections import Counter"
   ]
  },
  {
   "cell_type": "markdown",
   "id": "3ba7d9d3",
   "metadata": {},
   "source": [
    "*Нам понадобятся две библиотеки: numpy вы знаете, а объект класса Counter в заданном списке просто подсчитывает количество вхождений каждого элемента и возвращает результат в виде словаря. Пример:*"
   ]
  },
  {
   "cell_type": "code",
   "execution_count": 5,
   "id": "f2f7e2d8",
   "metadata": {},
   "outputs": [
    {
     "data": {
      "text/plain": [
       "dict_values([3, 2])"
      ]
     },
     "execution_count": 5,
     "metadata": {},
     "output_type": "execute_result"
    }
   ],
   "source": [
    "t = Counter([9,9,9,7,7])\n",
    "t.values()"
   ]
  },
  {
   "cell_type": "markdown",
   "id": "ee615101",
   "metadata": {},
   "source": [
    "Ниже представлена функция для расчёта энтропийного критерия качества:\n",
    "\n",
    "$H(R) = -\\sum_{k=1}^{K}p_klogp_k$"
   ]
  },
  {
   "cell_type": "code",
   "execution_count": 12,
   "id": "352ef0b3",
   "metadata": {},
   "outputs": [
    {
     "data": {
      "text/plain": [
       "6"
      ]
     },
     "execution_count": 12,
     "metadata": {},
     "output_type": "execute_result"
    }
   ],
   "source": [
    "l = [1, 1, 2, 1, 2, 3]\n",
    "length = len(l)\n",
    "length"
   ]
  },
  {
   "cell_type": "code",
   "execution_count": 13,
   "id": "4568522b",
   "metadata": {},
   "outputs": [
    {
     "data": {
      "text/plain": [
       "dict_values([3, 2, 1])"
      ]
     },
     "execution_count": 13,
     "metadata": {},
     "output_type": "execute_result"
    }
   ],
   "source": [
    "cnt = Counter(l).values()\n",
    "cnt"
   ]
  },
  {
   "cell_type": "code",
   "execution_count": 16,
   "id": "92e72150",
   "metadata": {},
   "outputs": [
    {
     "data": {
      "text/plain": [
       "[0.5, 0.3333333333333333, 0.16666666666666666]"
      ]
     },
     "execution_count": 16,
     "metadata": {},
     "output_type": "execute_result"
    }
   ],
   "source": [
    "ps = [v / length for v in cnt]\n",
    "ps"
   ]
  },
  {
   "cell_type": "code",
   "execution_count": 19,
   "id": "303f682c",
   "metadata": {},
   "outputs": [
    {
     "data": {
      "text/plain": [
       "1.0114042647073516"
      ]
     },
     "execution_count": 19,
     "metadata": {},
     "output_type": "execute_result"
    }
   ],
   "source": [
    "HR = -sum([p * np.log(p) for p in ps])\n",
    "HR"
   ]
  },
  {
   "cell_type": "code",
   "execution_count": 42,
   "id": "4843ef0b",
   "metadata": {},
   "outputs": [],
   "source": [
    "del(l)\n",
    "l = [1, 2, 1, 2, 1, 1, 3, 3, 3]"
   ]
  },
  {
   "cell_type": "code",
   "execution_count": 43,
   "id": "29174f35",
   "metadata": {},
   "outputs": [],
   "source": [
    "def HEntropy(l):\n",
    "    lenght = len(l)\n",
    "    cnt = Counter(l).values()\n",
    "    ps = [v / length for v in cnt]\n",
    "    H = -sum([p * np.log(p) for p in ps])\n",
    "    return H"
   ]
  },
  {
   "cell_type": "code",
   "execution_count": 44,
   "id": "795b2047",
   "metadata": {},
   "outputs": [
    {
     "data": {
      "text/plain": [
       "0.9830877585747855"
      ]
     },
     "execution_count": 44,
     "metadata": {},
     "output_type": "execute_result"
    }
   ],
   "source": [
    "HEntropy(l)"
   ]
  },
  {
   "cell_type": "markdown",
   "id": "f77d3e73",
   "metadata": {},
   "source": [
    "**Задание.** По аналогии с *энтропийным критерием* заполните функции *критерия Джини*"
   ]
  },
  {
   "cell_type": "code",
   "execution_count": 45,
   "id": "262a30b8",
   "metadata": {},
   "outputs": [],
   "source": [
    "def HGini(l):\n",
    "    lenght = len(l)\n",
    "    cnt = Counter(l).values()\n",
    "    ps = [v / length for v in cnt]\n",
    "    H = sum([p * (1 - p) for p in ps])\n",
    "    return H"
   ]
  },
  {
   "cell_type": "code",
   "execution_count": 46,
   "id": "81ec8db5",
   "metadata": {},
   "outputs": [
    {
     "data": {
      "text/plain": [
       "0.6944444444444444"
      ]
     },
     "execution_count": 46,
     "metadata": {},
     "output_type": "execute_result"
    }
   ],
   "source": [
    "HGini(l)"
   ]
  },
  {
   "cell_type": "code",
   "execution_count": 49,
   "id": "038b2e28",
   "metadata": {},
   "outputs": [],
   "source": [
    "def IG(H, l, i):\n",
    "    length = len(l)\n",
    "    return H(l) - i / length * H(l[:i]) - (length - i) / length * H (l[i:])"
   ]
  },
  {
   "cell_type": "code",
   "execution_count": 51,
   "id": "57226413",
   "metadata": {},
   "outputs": [
    {
     "data": {
      "text/plain": [
       "0.25925925925925924"
      ]
     },
     "execution_count": 51,
     "metadata": {},
     "output_type": "execute_result"
    }
   ],
   "source": [
    "IG(HGini, l, 5)"
   ]
  },
  {
   "cell_type": "code",
   "execution_count": 52,
   "id": "093925b5",
   "metadata": {},
   "outputs": [],
   "source": [
    "def test_H(H, l):\n",
    "    print(\"{:5} {:3}   {:4} {:4} {:4}\".format(\"#\",\"l\",\"IG\",\"Hl\",\"Hr\"))\n",
    "    print(\"-\"*24)\n",
    "    for i in range(1,len(l)):\n",
    "        print(\"{:2}. {:3}   {:.2f} {:.2f} {:.2f}\".format(i, l[i], IG(H, l, i), H(l[:i]), H(l[i:])))"
   ]
  },
  {
   "cell_type": "code",
   "execution_count": 53,
   "id": "f54aaf58",
   "metadata": {},
   "outputs": [
    {
     "name": "stdout",
     "output_type": "stream",
     "text": [
      "[1, 1, 1, 1, 1, 2, 2, 2, 1, 1, 1, 1]\n"
     ]
    }
   ],
   "source": [
    "l = [1]*5 + [2]*3 + [1]*4\n",
    "print(l)"
   ]
  },
  {
   "cell_type": "code",
   "execution_count": 54,
   "id": "2fb3cfbf",
   "metadata": {},
   "outputs": [
    {
     "name": "stdout",
     "output_type": "stream",
     "text": [
      "#     l     IG   Hl   Hr  \n",
      "------------------------\n",
      " 1.   1   -0.25 0.30 -0.04\n",
      " 2.   1   -0.46 0.37 0.17\n",
      " 3.   1   -0.61 0.35 0.35\n",
      " 4.   1   -0.68 0.27 0.50\n",
      " 5.   2   -0.68 0.15 0.62\n",
      " 6.   2   -0.81 0.45 0.64\n",
      " 7.   2   -0.80 0.52 0.57\n",
      " 8.   1   -0.68 0.50 0.27\n",
      " 9.   1   -0.61 0.35 0.35\n",
      "10.   1   -0.46 0.17 0.37\n",
      "11.   1   -0.25 -0.04 0.30\n"
     ]
    }
   ],
   "source": [
    "test_H(HEntropy, l)"
   ]
  },
  {
   "cell_type": "code",
   "execution_count": 56,
   "id": "913a317f",
   "metadata": {},
   "outputs": [
    {
     "name": "stdout",
     "output_type": "stream",
     "text": [
      "#     l     IG   Hl   Hr  \n",
      "------------------------\n",
      " 1.   2   0.07 0.14 0.44\n",
      " 2.   2   0.15 0.22 0.36\n",
      " 3.   1   0.24 0.25 0.22\n",
      " 4.   1   0.14 0.39 0.25\n",
      " 5.   1   0.07 0.47 0.22\n",
      " 6.   1   0.02 0.50 0.14\n"
     ]
    }
   ],
   "source": [
    "test_H(HGini, l[5:])"
   ]
  },
  {
   "cell_type": "markdown",
   "id": "368f84a5",
   "metadata": {},
   "source": [
    "### 2. Визуализация принятия решений классификатором sklearn\n",
    "\n",
    "1. Используем данные о цветках ириса"
   ]
  },
  {
   "cell_type": "code",
   "execution_count": 57,
   "id": "bd178b2f",
   "metadata": {},
   "outputs": [],
   "source": [
    "from sklearn.datasets import load_iris\n",
    "import pandas as pd"
   ]
  },
  {
   "cell_type": "code",
   "execution_count": 59,
   "id": "60230ef3",
   "metadata": {},
   "outputs": [],
   "source": [
    "from matplotlib import pyplot as plt\n",
    "%matplotlib inline\n",
    "import seaborn as sns"
   ]
  },
  {
   "cell_type": "code",
   "execution_count": 61,
   "id": "c6dd6671",
   "metadata": {},
   "outputs": [],
   "source": [
    "iris = load_iris()"
   ]
  },
  {
   "cell_type": "code",
   "execution_count": null,
   "id": "7c68f856",
   "metadata": {},
   "outputs": [],
   "source": []
  }
 ],
 "metadata": {
  "kernelspec": {
   "display_name": "Python 3",
   "language": "python",
   "name": "python3"
  },
  "language_info": {
   "codemirror_mode": {
    "name": "ipython",
    "version": 3
   },
   "file_extension": ".py",
   "mimetype": "text/x-python",
   "name": "python",
   "nbconvert_exporter": "python",
   "pygments_lexer": "ipython3",
   "version": "3.8.8"
  }
 },
 "nbformat": 4,
 "nbformat_minor": 5
}
