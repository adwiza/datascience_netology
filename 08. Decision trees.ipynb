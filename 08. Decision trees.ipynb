{
 "cells": [
  {
   "cell_type": "markdown",
   "id": "8419d974",
   "metadata": {},
   "source": [
    "## 1. Критерий информативности с нуля"
   ]
  },
  {
   "cell_type": "markdown",
   "id": "03b12cd2",
   "metadata": {},
   "source": [
    "как мы разобрали, построение дерева зависит от следующих факторов:\n",
    "* вид правила разбиения\n",
    "* критерий информативности\n",
    "* критерий останова\n",
    "* метод стрижки\n",
    "* проблема пропусков\n",
    "\n",
    "пройдёмся критериям информативности"
   ]
  },
  {
   "cell_type": "code",
   "execution_count": 1,
   "id": "dd3ccd41",
   "metadata": {},
   "outputs": [],
   "source": [
    "import numpy as np\n",
    "from collections import Counter"
   ]
  },
  {
   "cell_type": "markdown",
   "id": "3ba7d9d3",
   "metadata": {},
   "source": [
    "*Нам понадобятся две библиотеки: numpy вы знаете, а объект класса Counter в заданном списке просто подсчитывает количество вхождений каждого элемента и возвращает результат в виде словаря. Пример:*"
   ]
  },
  {
   "cell_type": "code",
   "execution_count": 2,
   "id": "f2f7e2d8",
   "metadata": {},
   "outputs": [
    {
     "data": {
      "text/plain": [
       "Counter({9: 3, 7: 2})"
      ]
     },
     "execution_count": 2,
     "metadata": {},
     "output_type": "execute_result"
    }
   ],
   "source": [
    "Counter([9,9,9,7,7])"
   ]
  },
  {
   "cell_type": "code",
   "execution_count": null,
   "id": "594a1819",
   "metadata": {},
   "outputs": [],
   "source": []
  }
 ],
 "metadata": {
  "kernelspec": {
   "display_name": "Python 3",
   "language": "python",
   "name": "python3"
  },
  "language_info": {
   "codemirror_mode": {
    "name": "ipython",
    "version": 3
   },
   "file_extension": ".py",
   "mimetype": "text/x-python",
   "name": "python",
   "nbconvert_exporter": "python",
   "pygments_lexer": "ipython3",
   "version": "3.8.8"
  }
 },
 "nbformat": 4,
 "nbformat_minor": 5
}
