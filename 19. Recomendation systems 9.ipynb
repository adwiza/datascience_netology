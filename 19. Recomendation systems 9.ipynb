{
 "cells": [
  {
   "cell_type": "code",
   "execution_count": 1,
   "id": "204e97bd",
   "metadata": {},
   "outputs": [],
   "source": [
    "import os\n",
    "# Создаем spark сессию\n",
    "import findspark\n",
    "findspark.init()\n",
    "from pyspark.sql import SparkSession\n",
    "import pyspark.sql.functions as sql_func\n",
    "\n",
    "spark = (\n",
    "    SparkSession\n",
    "    .builder\n",
    "    .config('spark.driver.memory', '16G')\n",
    "    .config('spark.sql.analyzer.failAmbiguousSelfJoin', 'False')\n",
    "    .master(\"local[*]\")\n",
    "    .getOrCreate()\n",
    ")"
   ]
  },
  {
   "cell_type": "code",
   "execution_count": 11,
   "id": "27e02a3b",
   "metadata": {},
   "outputs": [],
   "source": [
    "DATA_DIR = 'D:/Datasets/ml-latest/'"
   ]
  },
  {
   "cell_type": "code",
   "execution_count": 12,
   "id": "462cc5cd",
   "metadata": {},
   "outputs": [],
   "source": [
    "# Сначала посмотрим на общее распределение тегов\n",
    "ratings = (\n",
    "    spark\n",
    "    .read\n",
    "    .csv(\n",
    "        os.path.join(DATA_DIR, 'ratings.csv'),\n",
    "        header=True,\n",
    "        inferSchema=True\n",
    "    )\n",
    "    .sample(withReplacement=False, fraction=1.0, seed=0)\n",
    "    .withColumn('rating_datetime', sql_func.from_unixtime('timestamp'))\n",
    "    .drop('timestamp')\n",
    "    .cache()\n",
    ")"
   ]
  },
  {
   "cell_type": "code",
   "execution_count": 16,
   "id": "eb7a3a1a",
   "metadata": {
    "code_folding": []
   },
   "outputs": [],
   "source": [
    "# Файл с фильмами не большой, так, что его можно считать полностью\n",
    "# двже, если памяти доступно немного\n",
    "movie_genres = (\n",
    "    spark\n",
    "    .read\n",
    "    .csv(\n",
    "        os.path.join(DATA_DIR, 'movies.csv'),\n",
    "        header=True,\n",
    "        inferSchema=True\n",
    "    )\n",
    "    # парсим информацию о жанрах,\n",
    "    .withColumn('genres_array', sql_func.split('genres', '\\|'))\n",
    "    .select('movieId', sql_func.explode('genres_array').alias('genre'))\n",
    "    .cache()\n",
    ")"
   ]
  },
  {
   "cell_type": "code",
   "execution_count": 18,
   "id": "81e083c4",
   "metadata": {},
   "outputs": [
    {
     "name": "stdout",
     "output_type": "stream",
     "text": [
      "фильмов с жанрами 58098\n",
      "фильмов с оценками 53889\n"
     ]
    }
   ],
   "source": [
    "# у нас есть фильмы без меток\n",
    "print('фильмов с жанрами', movie_genres.select('movieId').distinct().count())\n",
    "print('фильмов с оценками', ratings.select('movieId').distinct().count())"
   ]
  },
  {
   "cell_type": "code",
   "execution_count": 22,
   "id": "7318b5c5",
   "metadata": {},
   "outputs": [],
   "source": [
    "# создадим 'профиль пользваотеля' (жанровые предпоятения)\n",
    "# набор средних ценок одного жанра\n",
    "user_profiles = (\n",
    "    ratings\n",
    "    .join(movie_genres, 'movieId')\n",
    "    .groupBy('userId', 'genre')\n",
    "    .agg(sql_func.avg('rating').alias('genre_rating'))\n",
    "    .cache()\n",
    ")\n"
   ]
  },
  {
   "cell_type": "code",
   "execution_count": 24,
   "id": "98c04def",
   "metadata": {},
   "outputs": [
    {
     "name": "stdout",
     "output_type": "stream",
     "text": [
      "+------+---------+------------------+\n",
      "|userId|    genre|      genre_rating|\n",
      "+------+---------+------------------+\n",
      "|    23|Adventure|               5.0|\n",
      "|    23|  Romance| 4.166666666666667|\n",
      "|    23|      War|               4.0|\n",
      "|    23|   Horror|               4.0|\n",
      "|    23|  Musical|               4.0|\n",
      "|    23| Thriller|               4.0|\n",
      "|    23|   Comedy|               3.8|\n",
      "|    23|   Action|3.6666666666666665|\n",
      "|    23|    Drama|            3.5625|\n",
      "|    23|    Crime|              3.25|\n",
      "|    23|   Sci-Fi|               3.0|\n",
      "+------+---------+------------------+\n",
      "\n"
     ]
    }
   ],
   "source": [
    "# посмотрим, как может выглядеть профиль одного из пользователей\n",
    "(\n",
    "    user_profiles\n",
    "    .where('userId == 23')\n",
    "    .orderBy(sql_func.desc('genre_rating'))\n",
    "    .show()\n",
    ")"
   ]
  },
  {
   "cell_type": "code",
   "execution_count": 27,
   "id": "91a281f0",
   "metadata": {},
   "outputs": [],
   "source": [
    "import numpy as np\n",
    "\n",
    "# предсказываем оценку фильма как среднее по средним оценкам жанров данного пользователя\n",
    "predictions = (\n",
    "    ratings\n",
    "    .join(movie_genres, 'movieId', how='left')\n",
    "    .join(user_profile, ['userId', 'genre'], how='left')\n",
    "    .groupBy('userId', 'movieId', 'rating')\n",
    "    .agg(sql_func.avg('genre_rating').alias('prediction'))\n",
    ")\n",
    "RMSE = np.sqrt(\n",
    "    predictions\n",
    "    .select(\n",
    "        sql_func.pow(predictions.prediction - predictions.rating, 2)\n",
    "        .alias('sqared_error')\n",
    "    )\n",
    "    .agg(sql_func.avg('sqared_error'))\n",
    "    .first()[0]\n",
    ")"
   ]
  },
  {
   "cell_type": "code",
   "execution_count": 28,
   "id": "ad9b7795",
   "metadata": {},
   "outputs": [
    {
     "name": "stdout",
     "output_type": "stream",
     "text": [
      "точность 0.8867015874123608\n"
     ]
    }
   ],
   "source": [
    "# мы получили точность хуже, чем для линейной модели на средних весах\n",
    "# но лучше, чем просто на модели со средними весами\n",
    "print('точность', RMSE)"
   ]
  },
  {
   "cell_type": "code",
   "execution_count": null,
   "id": "cc72b728",
   "metadata": {},
   "outputs": [],
   "source": []
  }
 ],
 "metadata": {
  "kernelspec": {
   "display_name": "Python 3",
   "language": "python",
   "name": "python3"
  },
  "language_info": {
   "codemirror_mode": {
    "name": "ipython",
    "version": 3
   },
   "file_extension": ".py",
   "mimetype": "text/x-python",
   "name": "python",
   "nbconvert_exporter": "python",
   "pygments_lexer": "ipython3",
   "version": "3.8.8"
  },
  "toc": {
   "base_numbering": 1,
   "nav_menu": {},
   "number_sections": true,
   "sideBar": true,
   "skip_h1_title": false,
   "title_cell": "Table of Contents",
   "title_sidebar": "Contents",
   "toc_cell": false,
   "toc_position": {},
   "toc_section_display": true,
   "toc_window_display": false
  }
 },
 "nbformat": 4,
 "nbformat_minor": 5
}
